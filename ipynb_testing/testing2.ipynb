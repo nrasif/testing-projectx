{
 "cells": [
  {
   "cell_type": "code",
   "execution_count": 2,
   "metadata": {},
   "outputs": [],
   "source": [
    "import pandas as pd\n",
    "import numpy as np"
   ]
  },
  {
   "cell_type": "code",
   "execution_count": 5,
   "metadata": {},
   "outputs": [],
   "source": [
    "df = pd.read_excel('./dataset/PTR_Rilis_D.xlsx', skiprows=9, sheet_name='Prototype - Regresi PTR Tester')\n",
    "df.drop(columns='No', inplace=True)"
   ]
  },
  {
   "cell_type": "code",
   "execution_count": 6,
   "metadata": {},
   "outputs": [],
   "source": [
    "df.rename(columns={'Sub Fitur': 'Sub-features', 'Rekening Sumber\\n[Jika ada]' : 'Rekening Sumber', 'Data yang Digunakan\\n[Jika ada]' : 'Data yang digunakan',\n",
    "                   'FT\\n[Jika Ada]' : 'FT', 'Tanggal Eksekusi\\n[harus diisi]' : 'Tanggal Eksekusi', 'Tanggal Passed\\n[harus diisi]' : 'Tanggal Passed'}, inplace=True)"
   ]
  },
  {
   "cell_type": "code",
   "execution_count": 7,
   "metadata": {},
   "outputs": [],
   "source": [
    "df[['Features', 'Sub-features', 'Expected Condition']] = df[['Features', 'Sub-features', 'Expected Condition']].apply(lambda x: x.ffill())"
   ]
  },
  {
   "cell_type": "code",
   "execution_count": 8,
   "metadata": {},
   "outputs": [
    {
     "data": {
      "text/html": [
       "<div>\n",
       "<style scoped>\n",
       "    .dataframe tbody tr th:only-of-type {\n",
       "        vertical-align: middle;\n",
       "    }\n",
       "\n",
       "    .dataframe tbody tr th {\n",
       "        vertical-align: top;\n",
       "    }\n",
       "\n",
       "    .dataframe thead th {\n",
       "        text-align: right;\n",
       "    }\n",
       "</style>\n",
       "<table border=\"1\" class=\"dataframe\">\n",
       "  <thead>\n",
       "    <tr style=\"text-align: right;\">\n",
       "      <th></th>\n",
       "      <th>Features</th>\n",
       "      <th>Sub-features</th>\n",
       "      <th>Expected Condition</th>\n",
       "      <th>OS</th>\n",
       "      <th>OS Version</th>\n",
       "      <th>Tipe Device HP</th>\n",
       "      <th>Telko Provider HP</th>\n",
       "      <th>Rekening Sumber</th>\n",
       "      <th>Data yang digunakan</th>\n",
       "      <th>Tester</th>\n",
       "      <th>PO</th>\n",
       "      <th>FT</th>\n",
       "      <th>Status</th>\n",
       "      <th>Link Report Test</th>\n",
       "      <th>Description Issue dan Evidence</th>\n",
       "      <th>Tanggal Eksekusi</th>\n",
       "      <th>Tanggal Passed</th>\n",
       "      <th>Komentar</th>\n",
       "    </tr>\n",
       "  </thead>\n",
       "  <tbody>\n",
       "    <tr>\n",
       "      <th>0</th>\n",
       "      <td>Aktivasi Registrasi (With Debit Card)</td>\n",
       "      <td>Aktivasi Regresi</td>\n",
       "      <td>Berhasil Aktivasi dan masuk ke dashboard</td>\n",
       "      <td>Android</td>\n",
       "      <td>14</td>\n",
       "      <td>Pixel 8 Pro</td>\n",
       "      <td>NaN</td>\n",
       "      <td>NaN</td>\n",
       "      <td>NaN</td>\n",
       "      <td>Rezki</td>\n",
       "      <td>NaN</td>\n",
       "      <td>NaN</td>\n",
       "      <td>Passed</td>\n",
       "      <td>NaN</td>\n",
       "      <td>NaN</td>\n",
       "      <td>NaT</td>\n",
       "      <td>NaT</td>\n",
       "      <td>NaN</td>\n",
       "    </tr>\n",
       "    <tr>\n",
       "      <th>1</th>\n",
       "      <td>Aktivasi Registrasi (With Debit Card)</td>\n",
       "      <td>Aktivasi Regresi</td>\n",
       "      <td>Berhasil Aktivasi dan masuk ke dashboard</td>\n",
       "      <td>iOS</td>\n",
       "      <td>17.6.1</td>\n",
       "      <td>Iphone 12 Pro Max</td>\n",
       "      <td>NaN</td>\n",
       "      <td>NaN</td>\n",
       "      <td>NaN</td>\n",
       "      <td>Hansen</td>\n",
       "      <td>NaN</td>\n",
       "      <td>NaN</td>\n",
       "      <td>Passed</td>\n",
       "      <td>NaN</td>\n",
       "      <td>NaN</td>\n",
       "      <td>NaT</td>\n",
       "      <td>NaT</td>\n",
       "      <td>NaN</td>\n",
       "    </tr>\n",
       "    <tr>\n",
       "      <th>2</th>\n",
       "      <td>Login Other Device</td>\n",
       "      <td>Login Other Device Normal Flow</td>\n",
       "      <td>Berhasil Login Dengan Normal Flow</td>\n",
       "      <td>Android</td>\n",
       "      <td>14</td>\n",
       "      <td>POCO F6</td>\n",
       "      <td>NaN</td>\n",
       "      <td>NaN</td>\n",
       "      <td>NaN</td>\n",
       "      <td>Haekal</td>\n",
       "      <td>NaN</td>\n",
       "      <td>NaN</td>\n",
       "      <td>Passed</td>\n",
       "      <td>NaN</td>\n",
       "      <td>NaN</td>\n",
       "      <td>NaT</td>\n",
       "      <td>NaT</td>\n",
       "      <td>NaN</td>\n",
       "    </tr>\n",
       "    <tr>\n",
       "      <th>3</th>\n",
       "      <td>Login Other Device</td>\n",
       "      <td>Login Other Device Normal Flow</td>\n",
       "      <td>Berhasil Login Dengan Normal Flow</td>\n",
       "      <td>iOS</td>\n",
       "      <td>17.6.1</td>\n",
       "      <td>Iphone  14</td>\n",
       "      <td>NaN</td>\n",
       "      <td>NaN</td>\n",
       "      <td>NaN</td>\n",
       "      <td>Rizky</td>\n",
       "      <td>NaN</td>\n",
       "      <td>NaN</td>\n",
       "      <td>Passed</td>\n",
       "      <td>NaN</td>\n",
       "      <td>NaN</td>\n",
       "      <td>NaT</td>\n",
       "      <td>NaT</td>\n",
       "      <td>NaN</td>\n",
       "    </tr>\n",
       "    <tr>\n",
       "      <th>4</th>\n",
       "      <td>Login Other Device</td>\n",
       "      <td>Login Other Device Lupa Password</td>\n",
       "      <td>Berhasil Login dengan kondisi Lupa Password</td>\n",
       "      <td>Android</td>\n",
       "      <td>14</td>\n",
       "      <td>POCO F6</td>\n",
       "      <td>NaN</td>\n",
       "      <td>NaN</td>\n",
       "      <td>NaN</td>\n",
       "      <td>Haekal</td>\n",
       "      <td>NaN</td>\n",
       "      <td>NaN</td>\n",
       "      <td>Passed</td>\n",
       "      <td>NaN</td>\n",
       "      <td>NaN</td>\n",
       "      <td>NaT</td>\n",
       "      <td>NaT</td>\n",
       "      <td>NaN</td>\n",
       "    </tr>\n",
       "    <tr>\n",
       "      <th>...</th>\n",
       "      <td>...</td>\n",
       "      <td>...</td>\n",
       "      <td>...</td>\n",
       "      <td>...</td>\n",
       "      <td>...</td>\n",
       "      <td>...</td>\n",
       "      <td>...</td>\n",
       "      <td>...</td>\n",
       "      <td>...</td>\n",
       "      <td>...</td>\n",
       "      <td>...</td>\n",
       "      <td>...</td>\n",
       "      <td>...</td>\n",
       "      <td>...</td>\n",
       "      <td>...</td>\n",
       "      <td>...</td>\n",
       "      <td>...</td>\n",
       "      <td>...</td>\n",
       "    </tr>\n",
       "    <tr>\n",
       "      <th>129</th>\n",
       "      <td>PLN</td>\n",
       "      <td>Postpaid (Pascabayar)\\n\\n</td>\n",
       "      <td>Berhasil Melakukan Pembayaran PLN Postpaid\\n- ...</td>\n",
       "      <td>Android</td>\n",
       "      <td>14</td>\n",
       "      <td>Samsung Galaxy S22</td>\n",
       "      <td>NaN</td>\n",
       "      <td>7.203214e+09</td>\n",
       "      <td>515401131835\\n513140591817\\n513120565822</td>\n",
       "      <td>Nabhan</td>\n",
       "      <td>NaN</td>\n",
       "      <td>FT4311DC8BX</td>\n",
       "      <td>Passed</td>\n",
       "      <td>NaN</td>\n",
       "      <td>NaN</td>\n",
       "      <td>NaT</td>\n",
       "      <td>NaT</td>\n",
       "      <td>NaN</td>\n",
       "    </tr>\n",
       "    <tr>\n",
       "      <th>130</th>\n",
       "      <td>PLN</td>\n",
       "      <td>Postpaid (Pascabayar)\\n\\n</td>\n",
       "      <td>Berhasil Melakukan Pembayaran PLN Postpaid\\n- ...</td>\n",
       "      <td>iOS</td>\n",
       "      <td>17.5.1</td>\n",
       "      <td>Iphone 13</td>\n",
       "      <td>NaN</td>\n",
       "      <td>7.202088e+09</td>\n",
       "      <td>522601398196\\n514530958367\\n513140695457</td>\n",
       "      <td>Densu</td>\n",
       "      <td>NaN</td>\n",
       "      <td>NaN</td>\n",
       "      <td>Passed</td>\n",
       "      <td>NaN</td>\n",
       "      <td>NaN</td>\n",
       "      <td>NaT</td>\n",
       "      <td>NaT</td>\n",
       "      <td>NaN</td>\n",
       "    </tr>\n",
       "    <tr>\n",
       "      <th>131</th>\n",
       "      <td>Tarik Tunai tanpa kartu</td>\n",
       "      <td>Tarik Tunai Tanpa Kartu</td>\n",
       "      <td>Berhasil Melakukan Tarik Tunai Tanpa Kartu\\n- ...</td>\n",
       "      <td>Android</td>\n",
       "      <td>11</td>\n",
       "      <td>Redmi Note 12 Pro</td>\n",
       "      <td>Telkomsel</td>\n",
       "      <td>7.200546e+09</td>\n",
       "      <td>81293394417</td>\n",
       "      <td>Owan</td>\n",
       "      <td>NaN</td>\n",
       "      <td>NaN</td>\n",
       "      <td>Passed</td>\n",
       "      <td>NaN</td>\n",
       "      <td>NaN</td>\n",
       "      <td>NaT</td>\n",
       "      <td>NaT</td>\n",
       "      <td>NaN</td>\n",
       "    </tr>\n",
       "    <tr>\n",
       "      <th>132</th>\n",
       "      <td>Tarik Tunai tanpa kartu</td>\n",
       "      <td>Tarik Tunai Tanpa Kartu</td>\n",
       "      <td>Berhasil Melakukan Tarik Tunai Tanpa Kartu\\n- ...</td>\n",
       "      <td>Android</td>\n",
       "      <td>14</td>\n",
       "      <td>Poco F4</td>\n",
       "      <td>Telkomsel</td>\n",
       "      <td>7.200546e+09</td>\n",
       "      <td>81293394417</td>\n",
       "      <td>Owan</td>\n",
       "      <td>NaN</td>\n",
       "      <td>NaN</td>\n",
       "      <td>Passed</td>\n",
       "      <td>NaN</td>\n",
       "      <td>NaN</td>\n",
       "      <td>NaT</td>\n",
       "      <td>NaT</td>\n",
       "      <td>NaN</td>\n",
       "    </tr>\n",
       "    <tr>\n",
       "      <th>133</th>\n",
       "      <td>Tarik Tunai tanpa kartu</td>\n",
       "      <td>Tarik Tunai Tanpa Kartu</td>\n",
       "      <td>Berhasil Melakukan Tarik Tunai Tanpa Kartu\\n- ...</td>\n",
       "      <td>iOS</td>\n",
       "      <td>11</td>\n",
       "      <td>NaN</td>\n",
       "      <td>NaN</td>\n",
       "      <td>NaN</td>\n",
       "      <td>Alfamart</td>\n",
       "      <td>Andi</td>\n",
       "      <td>NaN</td>\n",
       "      <td>NaN</td>\n",
       "      <td>Passed</td>\n",
       "      <td>NaN</td>\n",
       "      <td>NaN</td>\n",
       "      <td>NaT</td>\n",
       "      <td>NaT</td>\n",
       "      <td>NaN</td>\n",
       "    </tr>\n",
       "  </tbody>\n",
       "</table>\n",
       "<p>134 rows × 18 columns</p>\n",
       "</div>"
      ],
      "text/plain": [
       "                                  Features                      Sub-features  \\\n",
       "0    Aktivasi Registrasi (With Debit Card)                  Aktivasi Regresi   \n",
       "1    Aktivasi Registrasi (With Debit Card)                  Aktivasi Regresi   \n",
       "2                       Login Other Device    Login Other Device Normal Flow   \n",
       "3                       Login Other Device    Login Other Device Normal Flow   \n",
       "4                       Login Other Device  Login Other Device Lupa Password   \n",
       "..                                     ...                               ...   \n",
       "129                                    PLN         Postpaid (Pascabayar)\\n\\n   \n",
       "130                                    PLN         Postpaid (Pascabayar)\\n\\n   \n",
       "131                Tarik Tunai tanpa kartu           Tarik Tunai Tanpa Kartu   \n",
       "132                Tarik Tunai tanpa kartu           Tarik Tunai Tanpa Kartu   \n",
       "133                Tarik Tunai tanpa kartu           Tarik Tunai Tanpa Kartu   \n",
       "\n",
       "                                    Expected Condition       OS OS Version  \\\n",
       "0             Berhasil Aktivasi dan masuk ke dashboard  Android         14   \n",
       "1             Berhasil Aktivasi dan masuk ke dashboard      iOS     17.6.1   \n",
       "2                    Berhasil Login Dengan Normal Flow  Android         14   \n",
       "3                    Berhasil Login Dengan Normal Flow      iOS     17.6.1   \n",
       "4          Berhasil Login dengan kondisi Lupa Password  Android         14   \n",
       "..                                                 ...      ...        ...   \n",
       "129  Berhasil Melakukan Pembayaran PLN Postpaid\\n- ...  Android         14   \n",
       "130  Berhasil Melakukan Pembayaran PLN Postpaid\\n- ...      iOS     17.5.1   \n",
       "131  Berhasil Melakukan Tarik Tunai Tanpa Kartu\\n- ...  Android         11   \n",
       "132  Berhasil Melakukan Tarik Tunai Tanpa Kartu\\n- ...  Android         14   \n",
       "133  Berhasil Melakukan Tarik Tunai Tanpa Kartu\\n- ...      iOS         11   \n",
       "\n",
       "         Tipe Device HP Telko Provider HP  Rekening Sumber  \\\n",
       "0           Pixel 8 Pro               NaN              NaN   \n",
       "1     Iphone 12 Pro Max               NaN              NaN   \n",
       "2               POCO F6               NaN              NaN   \n",
       "3            Iphone  14               NaN              NaN   \n",
       "4               POCO F6               NaN              NaN   \n",
       "..                  ...               ...              ...   \n",
       "129  Samsung Galaxy S22               NaN     7.203214e+09   \n",
       "130           Iphone 13               NaN     7.202088e+09   \n",
       "131   Redmi Note 12 Pro         Telkomsel     7.200546e+09   \n",
       "132             Poco F4         Telkomsel     7.200546e+09   \n",
       "133                 NaN               NaN              NaN   \n",
       "\n",
       "                          Data yang digunakan  Tester  PO           FT  \\\n",
       "0                                         NaN   Rezki NaN          NaN   \n",
       "1                                         NaN  Hansen NaN          NaN   \n",
       "2                                         NaN  Haekal NaN          NaN   \n",
       "3                                         NaN   Rizky NaN          NaN   \n",
       "4                                         NaN  Haekal NaN          NaN   \n",
       "..                                        ...     ...  ..          ...   \n",
       "129  515401131835\\n513140591817\\n513120565822  Nabhan NaN  FT4311DC8BX   \n",
       "130  522601398196\\n514530958367\\n513140695457   Densu NaN          NaN   \n",
       "131                               81293394417    Owan NaN          NaN   \n",
       "132                               81293394417    Owan NaN          NaN   \n",
       "133                                  Alfamart    Andi NaN          NaN   \n",
       "\n",
       "     Status Link Report Test Description Issue dan Evidence Tanggal Eksekusi  \\\n",
       "0    Passed              NaN                            NaN              NaT   \n",
       "1    Passed              NaN                            NaN              NaT   \n",
       "2    Passed              NaN                            NaN              NaT   \n",
       "3    Passed              NaN                            NaN              NaT   \n",
       "4    Passed              NaN                            NaN              NaT   \n",
       "..      ...              ...                            ...              ...   \n",
       "129  Passed              NaN                            NaN              NaT   \n",
       "130  Passed              NaN                            NaN              NaT   \n",
       "131  Passed              NaN                            NaN              NaT   \n",
       "132  Passed              NaN                            NaN              NaT   \n",
       "133  Passed              NaN                            NaN              NaT   \n",
       "\n",
       "    Tanggal Passed Komentar  \n",
       "0              NaT      NaN  \n",
       "1              NaT      NaN  \n",
       "2              NaT      NaN  \n",
       "3              NaT      NaN  \n",
       "4              NaT      NaN  \n",
       "..             ...      ...  \n",
       "129            NaT      NaN  \n",
       "130            NaT      NaN  \n",
       "131            NaT      NaN  \n",
       "132            NaT      NaN  \n",
       "133            NaT      NaN  \n",
       "\n",
       "[134 rows x 18 columns]"
      ]
     },
     "execution_count": 8,
     "metadata": {},
     "output_type": "execute_result"
    }
   ],
   "source": [
    "df"
   ]
  },
  {
   "cell_type": "markdown",
   "metadata": {},
   "source": [
    "### Nyoba Sankey Diagram"
   ]
  },
  {
   "cell_type": "code",
   "execution_count": 10,
   "metadata": {},
   "outputs": [
    {
     "data": {
      "application/vnd.plotly.v1+json": {
       "config": {
        "plotlyServerURL": "https://plot.ly"
       },
       "data": [
        {
         "link": {
          "color": "rgba(192, 192, 192, 0.4)",
          "source": [
           11,
           2,
           11,
           21,
           2,
           21,
           15,
           18,
           15,
           16,
           18,
           16,
           9,
           4,
           9,
           4,
           9,
           4,
           20,
           1,
           12,
           8,
           17,
           14,
           0,
           13,
           0,
           13,
           13,
           0
          ],
          "target": [
           15,
           18,
           15,
           16,
           18,
           16,
           9,
           4,
           9,
           4,
           9,
           4,
           20,
           1,
           12,
           8,
           17,
           14,
           0,
           13,
           0,
           13,
           13,
           0,
           10,
           6,
           7,
           3,
           5,
           19
          ],
          "value": [
           5,
           3,
           7,
           4,
           6,
           2,
           5,
           3,
           7,
           4,
           6,
           2,
           5,
           3,
           7,
           4,
           6,
           2,
           5,
           3,
           7,
           4,
           6,
           2,
           5,
           3,
           7,
           4,
           6,
           2
          ]
         },
         "node": {
          "color": [
           "rgba(148, 103, 189, 0.8)",
           "rgba(0, 191, 255, 0.8)",
           "rgba(252, 141, 98, 0.8)",
           "rgba(227, 119, 194, 0.8)",
           "rgba(255, 127, 14, 0.8)",
           "rgba(188, 189, 34, 0.8)",
           "rgba(214, 39, 40, 0.8)",
           "rgba(140, 86, 75, 0.8)",
           "rgba(70, 130, 180, 0.8)",
           "rgba(31, 119, 180, 0.8)",
           "rgba(44, 160, 44, 0.8)",
           "rgba(102, 194, 165, 0.8)",
           "rgba(124, 252, 0, 0.8)",
           "rgba(227, 119, 194, 0.8)",
           "rgba(0, 250, 154, 0.8)",
           "rgba(231, 138, 195, 0.8)",
           "rgba(255, 217, 47, 0.8)",
           "rgba(220, 20, 60, 0.8)",
           "rgba(166, 216, 84, 0.8)",
           "rgba(127, 127, 127, 0.8)",
           "rgba(255, 215, 0, 0.8)",
           "rgba(141, 160, 203, 0.8)"
          ],
          "label": [
           "Passed",
           "17.6.1",
           "Login",
           "Maria",
           "iOS",
           "John",
           "Hansen",
           "Alex",
           "16.3",
           "Android",
           "Rezki",
           "Activation",
           "13",
           "Failed",
           "15.2",
           "Registration",
           "Transactions",
           "12",
           "Authentication",
           "Sarah",
           "14",
           "Payment"
          ],
          "line": {
           "color": "black",
           "width": 0.5
          },
          "pad": 15,
          "thickness": 20
         },
         "type": "sankey"
        }
       ],
       "layout": {
        "font": {
         "size": 12
        },
        "template": {
         "data": {
          "bar": [
           {
            "error_x": {
             "color": "#2a3f5f"
            },
            "error_y": {
             "color": "#2a3f5f"
            },
            "marker": {
             "line": {
              "color": "#E5ECF6",
              "width": 0.5
             },
             "pattern": {
              "fillmode": "overlay",
              "size": 10,
              "solidity": 0.2
             }
            },
            "type": "bar"
           }
          ],
          "barpolar": [
           {
            "marker": {
             "line": {
              "color": "#E5ECF6",
              "width": 0.5
             },
             "pattern": {
              "fillmode": "overlay",
              "size": 10,
              "solidity": 0.2
             }
            },
            "type": "barpolar"
           }
          ],
          "carpet": [
           {
            "aaxis": {
             "endlinecolor": "#2a3f5f",
             "gridcolor": "white",
             "linecolor": "white",
             "minorgridcolor": "white",
             "startlinecolor": "#2a3f5f"
            },
            "baxis": {
             "endlinecolor": "#2a3f5f",
             "gridcolor": "white",
             "linecolor": "white",
             "minorgridcolor": "white",
             "startlinecolor": "#2a3f5f"
            },
            "type": "carpet"
           }
          ],
          "choropleth": [
           {
            "colorbar": {
             "outlinewidth": 0,
             "ticks": ""
            },
            "type": "choropleth"
           }
          ],
          "contour": [
           {
            "colorbar": {
             "outlinewidth": 0,
             "ticks": ""
            },
            "colorscale": [
             [
              0,
              "#0d0887"
             ],
             [
              0.1111111111111111,
              "#46039f"
             ],
             [
              0.2222222222222222,
              "#7201a8"
             ],
             [
              0.3333333333333333,
              "#9c179e"
             ],
             [
              0.4444444444444444,
              "#bd3786"
             ],
             [
              0.5555555555555556,
              "#d8576b"
             ],
             [
              0.6666666666666666,
              "#ed7953"
             ],
             [
              0.7777777777777778,
              "#fb9f3a"
             ],
             [
              0.8888888888888888,
              "#fdca26"
             ],
             [
              1,
              "#f0f921"
             ]
            ],
            "type": "contour"
           }
          ],
          "contourcarpet": [
           {
            "colorbar": {
             "outlinewidth": 0,
             "ticks": ""
            },
            "type": "contourcarpet"
           }
          ],
          "heatmap": [
           {
            "colorbar": {
             "outlinewidth": 0,
             "ticks": ""
            },
            "colorscale": [
             [
              0,
              "#0d0887"
             ],
             [
              0.1111111111111111,
              "#46039f"
             ],
             [
              0.2222222222222222,
              "#7201a8"
             ],
             [
              0.3333333333333333,
              "#9c179e"
             ],
             [
              0.4444444444444444,
              "#bd3786"
             ],
             [
              0.5555555555555556,
              "#d8576b"
             ],
             [
              0.6666666666666666,
              "#ed7953"
             ],
             [
              0.7777777777777778,
              "#fb9f3a"
             ],
             [
              0.8888888888888888,
              "#fdca26"
             ],
             [
              1,
              "#f0f921"
             ]
            ],
            "type": "heatmap"
           }
          ],
          "heatmapgl": [
           {
            "colorbar": {
             "outlinewidth": 0,
             "ticks": ""
            },
            "colorscale": [
             [
              0,
              "#0d0887"
             ],
             [
              0.1111111111111111,
              "#46039f"
             ],
             [
              0.2222222222222222,
              "#7201a8"
             ],
             [
              0.3333333333333333,
              "#9c179e"
             ],
             [
              0.4444444444444444,
              "#bd3786"
             ],
             [
              0.5555555555555556,
              "#d8576b"
             ],
             [
              0.6666666666666666,
              "#ed7953"
             ],
             [
              0.7777777777777778,
              "#fb9f3a"
             ],
             [
              0.8888888888888888,
              "#fdca26"
             ],
             [
              1,
              "#f0f921"
             ]
            ],
            "type": "heatmapgl"
           }
          ],
          "histogram": [
           {
            "marker": {
             "pattern": {
              "fillmode": "overlay",
              "size": 10,
              "solidity": 0.2
             }
            },
            "type": "histogram"
           }
          ],
          "histogram2d": [
           {
            "colorbar": {
             "outlinewidth": 0,
             "ticks": ""
            },
            "colorscale": [
             [
              0,
              "#0d0887"
             ],
             [
              0.1111111111111111,
              "#46039f"
             ],
             [
              0.2222222222222222,
              "#7201a8"
             ],
             [
              0.3333333333333333,
              "#9c179e"
             ],
             [
              0.4444444444444444,
              "#bd3786"
             ],
             [
              0.5555555555555556,
              "#d8576b"
             ],
             [
              0.6666666666666666,
              "#ed7953"
             ],
             [
              0.7777777777777778,
              "#fb9f3a"
             ],
             [
              0.8888888888888888,
              "#fdca26"
             ],
             [
              1,
              "#f0f921"
             ]
            ],
            "type": "histogram2d"
           }
          ],
          "histogram2dcontour": [
           {
            "colorbar": {
             "outlinewidth": 0,
             "ticks": ""
            },
            "colorscale": [
             [
              0,
              "#0d0887"
             ],
             [
              0.1111111111111111,
              "#46039f"
             ],
             [
              0.2222222222222222,
              "#7201a8"
             ],
             [
              0.3333333333333333,
              "#9c179e"
             ],
             [
              0.4444444444444444,
              "#bd3786"
             ],
             [
              0.5555555555555556,
              "#d8576b"
             ],
             [
              0.6666666666666666,
              "#ed7953"
             ],
             [
              0.7777777777777778,
              "#fb9f3a"
             ],
             [
              0.8888888888888888,
              "#fdca26"
             ],
             [
              1,
              "#f0f921"
             ]
            ],
            "type": "histogram2dcontour"
           }
          ],
          "mesh3d": [
           {
            "colorbar": {
             "outlinewidth": 0,
             "ticks": ""
            },
            "type": "mesh3d"
           }
          ],
          "parcoords": [
           {
            "line": {
             "colorbar": {
              "outlinewidth": 0,
              "ticks": ""
             }
            },
            "type": "parcoords"
           }
          ],
          "pie": [
           {
            "automargin": true,
            "type": "pie"
           }
          ],
          "scatter": [
           {
            "fillpattern": {
             "fillmode": "overlay",
             "size": 10,
             "solidity": 0.2
            },
            "type": "scatter"
           }
          ],
          "scatter3d": [
           {
            "line": {
             "colorbar": {
              "outlinewidth": 0,
              "ticks": ""
             }
            },
            "marker": {
             "colorbar": {
              "outlinewidth": 0,
              "ticks": ""
             }
            },
            "type": "scatter3d"
           }
          ],
          "scattercarpet": [
           {
            "marker": {
             "colorbar": {
              "outlinewidth": 0,
              "ticks": ""
             }
            },
            "type": "scattercarpet"
           }
          ],
          "scattergeo": [
           {
            "marker": {
             "colorbar": {
              "outlinewidth": 0,
              "ticks": ""
             }
            },
            "type": "scattergeo"
           }
          ],
          "scattergl": [
           {
            "marker": {
             "colorbar": {
              "outlinewidth": 0,
              "ticks": ""
             }
            },
            "type": "scattergl"
           }
          ],
          "scattermapbox": [
           {
            "marker": {
             "colorbar": {
              "outlinewidth": 0,
              "ticks": ""
             }
            },
            "type": "scattermapbox"
           }
          ],
          "scatterpolar": [
           {
            "marker": {
             "colorbar": {
              "outlinewidth": 0,
              "ticks": ""
             }
            },
            "type": "scatterpolar"
           }
          ],
          "scatterpolargl": [
           {
            "marker": {
             "colorbar": {
              "outlinewidth": 0,
              "ticks": ""
             }
            },
            "type": "scatterpolargl"
           }
          ],
          "scatterternary": [
           {
            "marker": {
             "colorbar": {
              "outlinewidth": 0,
              "ticks": ""
             }
            },
            "type": "scatterternary"
           }
          ],
          "surface": [
           {
            "colorbar": {
             "outlinewidth": 0,
             "ticks": ""
            },
            "colorscale": [
             [
              0,
              "#0d0887"
             ],
             [
              0.1111111111111111,
              "#46039f"
             ],
             [
              0.2222222222222222,
              "#7201a8"
             ],
             [
              0.3333333333333333,
              "#9c179e"
             ],
             [
              0.4444444444444444,
              "#bd3786"
             ],
             [
              0.5555555555555556,
              "#d8576b"
             ],
             [
              0.6666666666666666,
              "#ed7953"
             ],
             [
              0.7777777777777778,
              "#fb9f3a"
             ],
             [
              0.8888888888888888,
              "#fdca26"
             ],
             [
              1,
              "#f0f921"
             ]
            ],
            "type": "surface"
           }
          ],
          "table": [
           {
            "cells": {
             "fill": {
              "color": "#EBF0F8"
             },
             "line": {
              "color": "white"
             }
            },
            "header": {
             "fill": {
              "color": "#C8D4E3"
             },
             "line": {
              "color": "white"
             }
            },
            "type": "table"
           }
          ]
         },
         "layout": {
          "annotationdefaults": {
           "arrowcolor": "#2a3f5f",
           "arrowhead": 0,
           "arrowwidth": 1
          },
          "autotypenumbers": "strict",
          "coloraxis": {
           "colorbar": {
            "outlinewidth": 0,
            "ticks": ""
           }
          },
          "colorscale": {
           "diverging": [
            [
             0,
             "#8e0152"
            ],
            [
             0.1,
             "#c51b7d"
            ],
            [
             0.2,
             "#de77ae"
            ],
            [
             0.3,
             "#f1b6da"
            ],
            [
             0.4,
             "#fde0ef"
            ],
            [
             0.5,
             "#f7f7f7"
            ],
            [
             0.6,
             "#e6f5d0"
            ],
            [
             0.7,
             "#b8e186"
            ],
            [
             0.8,
             "#7fbc41"
            ],
            [
             0.9,
             "#4d9221"
            ],
            [
             1,
             "#276419"
            ]
           ],
           "sequential": [
            [
             0,
             "#0d0887"
            ],
            [
             0.1111111111111111,
             "#46039f"
            ],
            [
             0.2222222222222222,
             "#7201a8"
            ],
            [
             0.3333333333333333,
             "#9c179e"
            ],
            [
             0.4444444444444444,
             "#bd3786"
            ],
            [
             0.5555555555555556,
             "#d8576b"
            ],
            [
             0.6666666666666666,
             "#ed7953"
            ],
            [
             0.7777777777777778,
             "#fb9f3a"
            ],
            [
             0.8888888888888888,
             "#fdca26"
            ],
            [
             1,
             "#f0f921"
            ]
           ],
           "sequentialminus": [
            [
             0,
             "#0d0887"
            ],
            [
             0.1111111111111111,
             "#46039f"
            ],
            [
             0.2222222222222222,
             "#7201a8"
            ],
            [
             0.3333333333333333,
             "#9c179e"
            ],
            [
             0.4444444444444444,
             "#bd3786"
            ],
            [
             0.5555555555555556,
             "#d8576b"
            ],
            [
             0.6666666666666666,
             "#ed7953"
            ],
            [
             0.7777777777777778,
             "#fb9f3a"
            ],
            [
             0.8888888888888888,
             "#fdca26"
            ],
            [
             1,
             "#f0f921"
            ]
           ]
          },
          "colorway": [
           "#636efa",
           "#EF553B",
           "#00cc96",
           "#ab63fa",
           "#FFA15A",
           "#19d3f3",
           "#FF6692",
           "#B6E880",
           "#FF97FF",
           "#FECB52"
          ],
          "font": {
           "color": "#2a3f5f"
          },
          "geo": {
           "bgcolor": "white",
           "lakecolor": "white",
           "landcolor": "#E5ECF6",
           "showlakes": true,
           "showland": true,
           "subunitcolor": "white"
          },
          "hoverlabel": {
           "align": "left"
          },
          "hovermode": "closest",
          "mapbox": {
           "style": "light"
          },
          "paper_bgcolor": "white",
          "plot_bgcolor": "#E5ECF6",
          "polar": {
           "angularaxis": {
            "gridcolor": "white",
            "linecolor": "white",
            "ticks": ""
           },
           "bgcolor": "#E5ECF6",
           "radialaxis": {
            "gridcolor": "white",
            "linecolor": "white",
            "ticks": ""
           }
          },
          "scene": {
           "xaxis": {
            "backgroundcolor": "#E5ECF6",
            "gridcolor": "white",
            "gridwidth": 2,
            "linecolor": "white",
            "showbackground": true,
            "ticks": "",
            "zerolinecolor": "white"
           },
           "yaxis": {
            "backgroundcolor": "#E5ECF6",
            "gridcolor": "white",
            "gridwidth": 2,
            "linecolor": "white",
            "showbackground": true,
            "ticks": "",
            "zerolinecolor": "white"
           },
           "zaxis": {
            "backgroundcolor": "#E5ECF6",
            "gridcolor": "white",
            "gridwidth": 2,
            "linecolor": "white",
            "showbackground": true,
            "ticks": "",
            "zerolinecolor": "white"
           }
          },
          "shapedefaults": {
           "line": {
            "color": "#2a3f5f"
           }
          },
          "ternary": {
           "aaxis": {
            "gridcolor": "white",
            "linecolor": "white",
            "ticks": ""
           },
           "baxis": {
            "gridcolor": "white",
            "linecolor": "white",
            "ticks": ""
           },
           "bgcolor": "#E5ECF6",
           "caxis": {
            "gridcolor": "white",
            "linecolor": "white",
            "ticks": ""
           }
          },
          "title": {
           "x": 0.05
          },
          "xaxis": {
           "automargin": true,
           "gridcolor": "white",
           "linecolor": "white",
           "ticks": "",
           "title": {
            "standoff": 15
           },
           "zerolinecolor": "white",
           "zerolinewidth": 2
          },
          "yaxis": {
           "automargin": true,
           "gridcolor": "white",
           "linecolor": "white",
           "ticks": "",
           "title": {
            "standoff": 15
           },
           "zerolinecolor": "white",
           "zerolinewidth": 2
          }
         }
        },
        "title": {
         "text": "Sankey Diagram: Sub-Feature → Feature → OS → OS Version → Status → Tester"
        }
       }
      }
     },
     "metadata": {},
     "output_type": "display_data"
    }
   ],
   "source": [
    "import pandas as pd\n",
    "import plotly.graph_objects as go\n",
    "\n",
    "# Extended dummy dataset\n",
    "data = {\n",
    "    \"Sub-Feature\": [\"Activation\", \"Login\", \"Activation\", \"Payment\", \"Login\", \"Payment\"],\n",
    "    \"Feature\": [\"Registration\", \"Authentication\", \"Registration\", \"Transactions\", \"Authentication\", \"Transactions\"],\n",
    "    \"OS\": [\"Android\", \"iOS\", \"Android\", \"iOS\", \"Android\", \"iOS\"],\n",
    "    \"OS Version\": [\"14\", \"17.6.1\", \"13\", \"16.3\", \"12\", \"15.2\"],\n",
    "    \"Status\": [\"Passed\", \"Failed\", \"Passed\", \"Failed\", \"Failed\", \"Passed\"],\n",
    "    \"Tester\": [\"Rezki\", \"Hansen\", \"Alex\", \"Maria\", \"John\", \"Sarah\"],\n",
    "    \"Count\": [5, 3, 7, 4, 6, 2]  # Example count values\n",
    "}\n",
    "df = pd.DataFrame(data)\n",
    "\n",
    "# Create nodes and flows\n",
    "nodes = list(set(\n",
    "    df[\"Sub-Feature\"].tolist() +\n",
    "    df[\"Feature\"].tolist() +\n",
    "    df[\"OS\"].tolist() +\n",
    "    df[\"OS Version\"].tolist() +\n",
    "    df[\"Status\"].tolist() +\n",
    "    df[\"Tester\"].tolist()\n",
    "))\n",
    "node_indices = {node: i for i, node in enumerate(nodes)}\n",
    "\n",
    "# Create flows (source → target)\n",
    "sources = (\n",
    "    [node_indices[sub_feature] for sub_feature in df[\"Sub-Feature\"]] +  # Sub-Feature → Feature\n",
    "    [node_indices[feature] for feature in df[\"Feature\"]] +              # Feature → OS\n",
    "    [node_indices[os] for os in df[\"OS\"]] +                             # OS → OS Version\n",
    "    [node_indices[os_version] for os_version in df[\"OS Version\"]] +     # OS Version → Status\n",
    "    [node_indices[status] for status in df[\"Status\"]]                   # Status → Tester\n",
    ")\n",
    "targets = (\n",
    "    [node_indices[feature] for feature in df[\"Feature\"]] +              # Sub-Feature → Feature\n",
    "    [node_indices[os] for os in df[\"OS\"]] +                             # Feature → OS\n",
    "    [node_indices[os_version] for os_version in df[\"OS Version\"]] +     # OS → OS Version\n",
    "    [node_indices[status] for status in df[\"Status\"]] +                 # OS Version → Status\n",
    "    [node_indices[tester] for tester in df[\"Tester\"]]                   # Status → Tester\n",
    ")\n",
    "\n",
    "# Values for each flow\n",
    "values = df[\"Count\"].tolist() * 5  # Repeat counts for each layer of connection\n",
    "\n",
    "# Define colors for each node\n",
    "node_colors = {\n",
    "    \"Activation\": \"rgba(102, 194, 165, 0.8)\",\n",
    "    \"Login\": \"rgba(252, 141, 98, 0.8)\",\n",
    "    \"Payment\": \"rgba(141, 160, 203, 0.8)\",\n",
    "    \"Registration\": \"rgba(231, 138, 195, 0.8)\",\n",
    "    \"Authentication\": \"rgba(166, 216, 84, 0.8)\",\n",
    "    \"Transactions\": \"rgba(255, 217, 47, 0.8)\",\n",
    "    \"Android\": \"rgba(31, 119, 180, 0.8)\",\n",
    "    \"iOS\": \"rgba(255, 127, 14, 0.8)\",\n",
    "    \"Rezki\": \"rgba(44, 160, 44, 0.8)\",\n",
    "    \"Hansen\": \"rgba(214, 39, 40, 0.8)\",\n",
    "    \"Alex\": \"rgba(140, 86, 75, 0.8)\",\n",
    "    \"Maria\": \"rgba(227, 119, 194, 0.8)\",\n",
    "    \"John\": \"rgba(188, 189, 34, 0.8)\",\n",
    "    \"Sarah\": \"rgba(127, 127, 127, 0.8)\",\n",
    "    \"Passed\": \"rgba(148, 103, 189, 0.8)\",\n",
    "    \"Failed\": \"rgba(227, 119, 194, 0.8)\",\n",
    "    \"14\": \"rgba(255, 215, 0, 0.8)\",\n",
    "    \"17.6.1\": \"rgba(0, 191, 255, 0.8)\",\n",
    "    \"13\": \"rgba(124, 252, 0, 0.8)\",\n",
    "    \"16.3\": \"rgba(70, 130, 180, 0.8)\",\n",
    "    \"12\": \"rgba(220, 20, 60, 0.8)\",\n",
    "    \"15.2\": \"rgba(0, 250, 154, 0.8)\"\n",
    "}\n",
    "\n",
    "# Generate colors for nodes\n",
    "node_color_list = [node_colors[node] for node in nodes]\n",
    "\n",
    "# Sankey Diagram\n",
    "fig = go.Figure(data=[go.Sankey(\n",
    "    node=dict(\n",
    "        pad=15,\n",
    "        thickness=20,\n",
    "        line=dict(color=\"black\", width=0.5),\n",
    "        label=nodes,\n",
    "        color=node_color_list\n",
    "    ),\n",
    "    link=dict(\n",
    "        source=sources,\n",
    "        target=targets,\n",
    "        value=values,\n",
    "        color=\"rgba(192, 192, 192, 0.4)\"  # Optional: Adjust link color\n",
    "    )\n",
    ")])\n",
    "\n",
    "# Update layout and show\n",
    "fig.update_layout(\n",
    "    title_text=\"Sankey Diagram: Sub-Feature → Feature → OS → OS Version → Status → Tester\",\n",
    "    font_size=12\n",
    ")\n",
    "fig.show()\n"
   ]
  },
  {
   "cell_type": "markdown",
   "metadata": {},
   "source": [
    "### Implementasi"
   ]
  },
  {
   "cell_type": "code",
   "execution_count": 23,
   "metadata": {},
   "outputs": [
    {
     "data": {
      "text/plain": [
       "Index(['Features', 'Sub-features', 'Expected Condition', 'OS', 'OS Version',\n",
       "       'Tipe Device HP', 'Telko Provider HP', 'Rekening Sumber',\n",
       "       'Data yang digunakan', 'Tester', 'PO', 'FT', 'Status',\n",
       "       'Link Report Test', 'Description Issue dan Evidence',\n",
       "       'Tanggal Eksekusi', 'Tanggal Passed', 'Komentar'],\n",
       "      dtype='object')"
      ]
     },
     "execution_count": 23,
     "metadata": {},
     "output_type": "execute_result"
    }
   ],
   "source": [
    "df.columns"
   ]
  },
  {
   "cell_type": "code",
   "execution_count": null,
   "metadata": {},
   "outputs": [
    {
     "data": {
      "text/plain": [
       "['Login Other Device',\n",
       " 'Login Other Device Lupa Password',\n",
       " 11,\n",
       " 13,\n",
       " 14,\n",
       " 16.6,\n",
       " 17.5,\n",
       " 'Fira',\n",
       " 'Lupa Password Dari Prelogin',\n",
       " 'Lokasi ATM & Cabang',\n",
       " '17.6.1',\n",
       " 'Lokasi Masjid terdekat',\n",
       " 'MPM ON Us (Payment)',\n",
       " 'Owan',\n",
       " 'Asmaul Husna',\n",
       " 'Rekening Di Homescreen',\n",
       " 'Lupa PIN',\n",
       " 'Hansen',\n",
       " 'Natasya',\n",
       " 'QRIS',\n",
       " 'Sanggahan Transaksi',\n",
       " 'Tambah tabungan',\n",
       " 'Topup Gopay',\n",
       " 'Topup Ovo',\n",
       " 'Mutasi Rekening',\n",
       " 'Juzamma',\n",
       " 'Sesama BSI dari Favorit',\n",
       " 'Poco F4',\n",
       " 'Prita',\n",
       " 'QRIS CPM (Payment)',\n",
       " 'Aktivasi Regresi',\n",
       " 'POCO F6',\n",
       " 'Informasi Rekening',\n",
       " 'Kintan',\n",
       " 'Arah Kiblat',\n",
       " 'Layanan Islami',\n",
       " 'Tarik Tunai Tanpa Kartu',\n",
       " 'Profil',\n",
       " 'Login Other Device Lupa PIN',\n",
       " 'Login Other Device Normal Flow',\n",
       " 'Lupa Password dari menu profil Kemudian lupa PIN',\n",
       " 'Sanggahan dari halaman mutasi',\n",
       " 'Infaq After Transaksi',\n",
       " 'Hanifah',\n",
       " 'List & Icon Bayar Beli',\n",
       " 'Iphone 14 Pro Max',\n",
       " 'Sesama BSI dari History',\n",
       " 'Nabhan',\n",
       " 'Prelogin Card Waktu Sholat (Lokasi, Saat Adzan, Sebelum / setelah Adzan)',\n",
       " 'Prelogin saat salah password 3x',\n",
       " 'Lupa Password dari menu profil',\n",
       " 'Sanggahan dari pelaporan profil',\n",
       " 'Ubah Nama Tabungan',\n",
       " 'Android',\n",
       " 'Mega Menu',\n",
       " 'Online Syariah\\n- Android Maybank Syariah\\n- iOS Jago Syariah',\n",
       " '17.5.1',\n",
       " 'Rekening Di Portofolio',\n",
       " 'Topup',\n",
       " 'Online Konvensional\\n- Android BRI\\n- iOS Bank DKI',\n",
       " 'Haekal',\n",
       " 'Iphone 15 pro Max',\n",
       " 'Ubah Password',\n",
       " 'Berbagi',\n",
       " 'Vivo V30',\n",
       " 'List & Icon Megamenu',\n",
       " '16.6',\n",
       " 'Tarik Tunai tanpa kartu',\n",
       " 'Rizky',\n",
       " 'Tambah Tabungan\\nAndroid : Easy Wadiah\\niOS : Easy Mudharabah',\n",
       " 'E-Wallet',\n",
       " 'Passed',\n",
       " 'Iphone 13',\n",
       " 'Sesama BSI dari tambah baru',\n",
       " 'Ajul',\n",
       " 'Login Other Device Dengan Akun Terblokir',\n",
       " 'MPM OFF Us (Payment)',\n",
       " 'Sesama BSI rekening kedua milik sendiri',\n",
       " 'Cek Saldo',\n",
       " 'iOS',\n",
       " 'Ubah Email',\n",
       " 'Sanggahan dari pusat bantuan',\n",
       " 'Samsung Z Flip 4',\n",
       " 'Atur Tampilan Beranda (favorit Card Homescreen)',\n",
       " 'Rezki',\n",
       " 'Tiwi',\n",
       " 'Update Saldo',\n",
       " 'Arul',\n",
       " 'Bayar Infaq',\n",
       " 'Failed',\n",
       " '15.1.1',\n",
       " 'Aktivasi Registrasi (With Debit Card)',\n",
       " 'Ubah Foto Profil (Foto Capture & Upload dari device)',\n",
       " 'Andi',\n",
       " 'Prepaid (Token)',\n",
       " 'Aga',\n",
       " 'iPhone 13 Pro Max',\n",
       " 'Prelogin View (Pagi, Siang, Sore, Malam)',\n",
       " 'Transfer',\n",
       " 'Samsung Z Flip',\n",
       " 'Topup Shopeepay',\n",
       " 'Iphone  14',\n",
       " 'Xiaomi 11T',\n",
       " 'Test Notifikasi Adzan',\n",
       " 'Prelogin Routing Menu',\n",
       " 'E-Commerce',\n",
       " 'BIFAST\\n- Android BCA\\n- iOS Mandiri',\n",
       " 'CrossBorder (Payment)',\n",
       " 'Redmi Note 12 Pro',\n",
       " nan,\n",
       " 'E-Money',\n",
       " 'Tokopedia',\n",
       " 'Nabila',\n",
       " 'Shopee',\n",
       " 'Postpaid (Pascabayar)\\n\\n',\n",
       " '16.1.2',\n",
       " 'Bowo',\n",
       " 'Lupa Password & PIN',\n",
       " 'PLN',\n",
       " 'View Waktu Sholat',\n",
       " 'Bayar Beli',\n",
       " 'Xiaomi 14',\n",
       " 'Download E-Statement',\n",
       " 'Iphone 12 Pro Max',\n",
       " 'Xiaomi 11T Pro',\n",
       " 'Pixel 8 Pro',\n",
       " 'Ubah PIN',\n",
       " 'OPPO Find N3 Fold',\n",
       " 'Iphone 15 pro',\n",
       " 'Manage Biometrik',\n",
       " 'Lupa PIN Kemudian Lupa Password',\n",
       " 'Iphone 13 Pro Max',\n",
       " 'Fitri',\n",
       " 'Routing Menu pada megamenu',\n",
       " 'Densu',\n",
       " 'Bayar Zakat',\n",
       " 'Samsung Galaxy S22',\n",
       " 'Prelogin',\n",
       " 'Routing Menu pada Bayarbeli']"
      ]
     },
     "execution_count": 24,
     "metadata": {},
     "output_type": "execute_result"
    }
   ],
   "source": [
    "import pandas as pd\n",
    "import plotly.graph_objects as go\n",
    "\n",
    "nodes = list(set(df['Features'].tolist() +\n",
    "                 df['Sub-features'].tolist() +\n",
    "                 df['OS'].tolist() +\n",
    "                 df['OS Version'].tolist() +\n",
    "                 df['Tipe Device HP'].tolist() +\n",
    "                 df['Tester'].tolist() +\n",
    "                 df['Status'].tolist()\n",
    "                 ))\n",
    "\n"
   ]
  },
  {
   "cell_type": "code",
   "execution_count": null,
   "metadata": {},
   "outputs": [
    {
     "data": {
      "application/vnd.plotly.v1+json": {
       "config": {
        "plotlyServerURL": "https://plot.ly"
       },
       "data": [
        {
         "link": {
          "color": "rgba(192, 192, 192, 0.4)",
          "source": [
           91,
           91,
           0,
           0,
           0,
           0,
           0,
           0,
           0,
           0,
           117,
           117,
           117,
           117,
           117,
           117,
           117,
           117,
           117,
           117,
           137,
           137,
           137,
           137,
           137,
           137,
           137,
           137,
           37,
           37,
           37,
           37,
           37,
           37,
           37,
           37,
           37,
           37,
           37,
           37,
           20,
           20,
           20,
           20,
           20,
           20,
           35,
           35,
           35,
           35,
           35,
           35,
           35,
           35,
           35,
           35,
           35,
           35,
           54,
           54,
           54,
           54,
           120,
           120,
           120,
           120,
           98,
           98,
           98,
           98,
           98,
           98,
           98,
           98,
           98,
           98,
           98,
           98,
           98,
           98,
           32,
           32,
           32,
           32,
           32,
           32,
           32,
           32,
           32,
           32,
           32,
           32,
           21,
           21,
           19,
           19,
           19,
           19,
           19,
           19,
           19,
           19,
           70,
           70,
           70,
           70,
           70,
           70,
           70,
           70,
           70,
           110,
           110,
           110,
           110,
           110,
           110,
           63,
           63,
           63,
           63,
           63,
           63,
           105,
           105,
           105,
           105,
           118,
           118,
           118,
           118,
           67,
           67,
           67,
           71,
           71,
           71,
           71,
           71,
           71,
           71,
           71,
           71,
           71,
           71,
           71,
           71,
           71,
           71,
           71,
           71,
           71,
           71,
           71,
           71,
           71,
           71,
           71,
           71,
           71,
           71,
           71,
           71,
           71,
           71,
           71,
           71,
           71,
           71,
           71,
           71,
           71,
           71,
           71,
           71,
           71,
           71,
           71,
           71,
           71,
           71,
           71,
           71,
           71,
           71,
           71,
           71,
           71,
           71,
           71,
           71,
           71,
           71,
           71,
           71,
           71,
           71,
           71,
           71,
           71,
           71,
           71,
           71,
           71,
           71,
           71,
           71,
           71,
           71,
           71,
           71,
           71,
           71,
           71,
           71,
           71,
           71,
           71,
           71,
           71,
           71,
           71,
           71,
           71,
           71,
           71,
           89,
           89,
           71,
           71,
           71,
           71,
           71,
           71,
           71,
           71,
           89,
           89,
           89,
           71,
           71,
           71,
           71,
           71,
           71,
           71,
           71,
           71,
           71,
           71,
           71,
           71,
           71,
           71,
           71,
           71,
           89,
           71,
           71,
           71,
           71,
           71,
           71,
           71,
           71,
           71,
           71,
           71,
           53,
           79,
           53,
           79,
           53,
           79,
           53,
           79,
           53,
           79,
           53,
           79,
           53,
           79,
           53,
           79,
           53,
           79,
           53,
           79,
           53,
           79,
           53,
           79,
           53,
           79,
           53,
           79,
           53,
           79,
           53,
           79,
           53,
           79,
           53,
           79,
           53,
           79,
           53,
           79,
           53,
           79,
           53,
           79,
           53,
           79,
           53,
           79,
           53,
           79,
           53,
           79,
           53,
           79,
           53,
           79,
           53,
           79,
           53,
           79,
           53,
           79,
           53,
           79,
           53,
           79,
           53,
           79,
           53,
           79,
           53,
           79,
           53,
           79,
           53,
           79,
           53,
           79,
           53,
           79,
           53,
           79,
           53,
           79,
           53,
           79,
           53,
           79,
           53,
           79,
           53,
           79,
           53,
           79,
           53,
           79,
           53,
           79,
           53,
           79,
           53,
           79,
           53,
           53,
           79,
           53,
           53,
           79,
           53,
           109,
           79,
           53,
           79,
           53,
           79,
           53,
           79,
           53,
           79,
           53,
           79,
           53,
           79,
           53,
           79,
           53,
           79,
           53,
           79,
           53,
           79,
           53,
           53,
           79
          ],
          "target": [
           71,
           71,
           71,
           71,
           71,
           71,
           71,
           71,
           71,
           71,
           71,
           71,
           71,
           71,
           71,
           71,
           71,
           71,
           71,
           71,
           71,
           71,
           71,
           71,
           71,
           71,
           71,
           71,
           71,
           71,
           71,
           71,
           71,
           71,
           71,
           71,
           71,
           71,
           71,
           71,
           71,
           71,
           71,
           71,
           71,
           71,
           71,
           71,
           71,
           71,
           71,
           71,
           71,
           71,
           71,
           71,
           71,
           71,
           71,
           71,
           71,
           71,
           71,
           71,
           71,
           71,
           71,
           71,
           71,
           71,
           71,
           71,
           71,
           71,
           71,
           71,
           71,
           71,
           71,
           71,
           71,
           71,
           71,
           71,
           71,
           71,
           71,
           71,
           71,
           71,
           71,
           71,
           89,
           89,
           71,
           71,
           71,
           71,
           71,
           71,
           71,
           71,
           89,
           89,
           89,
           71,
           71,
           71,
           71,
           71,
           71,
           71,
           71,
           71,
           71,
           71,
           71,
           71,
           71,
           71,
           71,
           71,
           89,
           71,
           71,
           71,
           71,
           71,
           71,
           71,
           71,
           71,
           71,
           71,
           53,
           79,
           53,
           79,
           53,
           79,
           53,
           79,
           53,
           79,
           53,
           79,
           53,
           79,
           53,
           79,
           53,
           79,
           53,
           79,
           53,
           79,
           53,
           79,
           53,
           79,
           53,
           79,
           53,
           79,
           53,
           79,
           53,
           79,
           53,
           79,
           53,
           79,
           53,
           79,
           53,
           79,
           53,
           79,
           53,
           79,
           53,
           79,
           53,
           79,
           53,
           79,
           53,
           79,
           53,
           79,
           53,
           79,
           53,
           79,
           53,
           79,
           53,
           79,
           53,
           79,
           53,
           79,
           53,
           79,
           53,
           79,
           53,
           79,
           53,
           79,
           53,
           79,
           53,
           79,
           53,
           79,
           53,
           79,
           53,
           79,
           53,
           79,
           53,
           79,
           53,
           79,
           53,
           79,
           53,
           79,
           53,
           79,
           53,
           79,
           53,
           79,
           53,
           53,
           79,
           53,
           53,
           79,
           53,
           109,
           79,
           53,
           79,
           53,
           79,
           53,
           79,
           53,
           79,
           53,
           79,
           53,
           79,
           53,
           79,
           53,
           79,
           53,
           79,
           53,
           79,
           53,
           53,
           79
          ],
          "value": [
           1,
           1,
           1,
           1,
           1,
           1,
           1,
           1,
           1,
           1,
           1,
           1,
           1,
           1,
           1,
           1,
           1,
           1,
           1,
           1,
           1,
           1,
           1,
           1,
           1,
           1,
           1,
           1,
           1,
           1,
           1,
           1,
           1,
           1,
           1,
           1,
           1,
           1,
           1,
           1,
           1,
           1,
           1,
           1,
           1,
           1,
           1,
           1,
           1,
           1,
           1,
           1,
           1,
           1,
           1,
           1,
           1,
           1,
           1,
           1,
           1,
           1,
           1,
           1,
           1,
           1,
           1,
           1,
           1,
           1,
           1,
           1,
           1,
           1,
           1,
           1,
           1,
           1,
           1,
           1,
           1,
           1,
           1,
           1,
           1,
           1,
           1,
           1,
           1,
           1,
           1,
           1,
           1,
           1,
           1,
           1,
           1,
           1,
           1,
           1,
           1,
           1,
           1,
           1,
           1,
           1,
           1,
           1,
           1,
           1,
           1,
           1,
           1,
           1,
           1,
           1,
           1,
           1,
           1,
           1,
           1,
           1,
           1,
           1,
           1,
           1,
           1,
           1,
           1,
           1,
           1,
           1,
           1,
           1,
           1,
           1,
           1,
           1,
           1,
           1,
           1,
           1,
           1,
           1,
           1,
           1,
           1,
           1,
           1,
           1,
           1,
           1,
           1,
           1,
           1,
           1,
           1,
           1,
           1,
           1,
           1,
           1,
           1,
           1,
           1,
           1,
           1,
           1,
           1,
           1,
           1,
           1,
           1,
           1,
           1,
           1,
           1,
           1,
           1,
           1,
           1,
           1,
           1,
           1,
           1,
           1,
           1,
           1,
           1,
           1,
           1,
           1,
           1,
           1,
           1,
           1,
           1,
           1,
           1,
           1,
           1,
           1,
           1,
           1,
           1,
           1,
           1,
           1,
           1,
           1,
           1,
           1,
           1,
           1,
           1,
           1,
           1,
           1,
           1,
           1,
           1,
           1,
           1,
           1,
           1,
           1,
           1,
           1,
           1,
           1,
           1,
           1,
           1,
           1,
           1,
           1,
           1,
           1,
           1,
           1,
           1,
           1,
           1,
           1,
           1,
           1,
           1,
           1,
           1,
           1,
           1,
           1,
           1,
           1,
           1,
           1,
           1,
           1,
           1,
           1,
           1,
           1,
           1,
           1,
           1,
           1,
           1,
           1,
           1,
           1,
           1,
           1,
           1,
           1,
           1,
           1,
           1,
           1,
           1,
           1,
           1,
           1,
           1,
           1,
           1,
           1,
           1,
           1,
           1,
           1,
           1,
           1,
           1,
           1,
           1,
           1,
           1,
           1,
           1,
           1,
           1,
           1,
           1,
           1,
           1,
           1,
           1,
           1,
           1,
           1,
           1,
           1,
           1,
           1,
           1,
           1,
           1,
           1,
           1,
           1,
           1,
           1,
           1,
           1,
           1,
           1,
           1,
           1,
           1,
           1,
           1,
           1,
           1,
           1,
           1,
           1,
           1,
           1,
           1,
           1,
           1,
           1,
           1,
           1,
           1,
           1,
           1,
           1,
           1,
           1,
           1,
           1,
           1,
           1,
           1,
           1,
           1,
           1,
           1,
           1,
           1,
           1,
           1,
           1,
           1,
           1,
           1,
           1,
           1,
           1,
           1,
           1,
           1,
           1,
           1,
           1,
           1,
           1,
           1,
           1,
           1,
           1,
           1,
           1,
           1,
           1,
           1,
           1,
           1,
           1,
           1,
           1,
           1,
           1,
           1,
           1,
           1,
           1,
           1,
           1,
           1,
           1
          ]
         },
         "node": {
          "color": [
           "#00FE35",
           "rgba(200, 200, 200, 0.8)",
           "rgba(200, 200, 200, 0.8)",
           "rgba(200, 200, 200, 0.8)",
           "rgba(200, 200, 200, 0.8)",
           "rgba(200, 200, 200, 0.8)",
           "rgba(200, 200, 200, 0.8)",
           "rgba(200, 200, 200, 0.8)",
           "rgba(200, 200, 200, 0.8)",
           "rgba(200, 200, 200, 0.8)",
           "rgba(200, 200, 200, 0.8)",
           "rgba(200, 200, 200, 0.8)",
           "rgba(200, 200, 200, 0.8)",
           "rgba(200, 200, 200, 0.8)",
           "rgba(200, 200, 200, 0.8)",
           "rgba(200, 200, 200, 0.8)",
           "rgba(200, 200, 200, 0.8)",
           "rgba(200, 200, 200, 0.8)",
           "rgba(200, 200, 200, 0.8)",
           "#6E899C",
           "#0DF9FF",
           "#D626FF",
           "rgba(200, 200, 200, 0.8)",
           "rgba(200, 200, 200, 0.8)",
           "rgba(200, 200, 200, 0.8)",
           "rgba(200, 200, 200, 0.8)",
           "rgba(200, 200, 200, 0.8)",
           "rgba(200, 200, 200, 0.8)",
           "rgba(200, 200, 200, 0.8)",
           "rgba(200, 200, 200, 0.8)",
           "rgba(200, 200, 200, 0.8)",
           "rgba(200, 200, 200, 0.8)",
           "#DC587D",
           "rgba(200, 200, 200, 0.8)",
           "rgba(200, 200, 200, 0.8)",
           "#F6F926",
           "rgba(200, 200, 200, 0.8)",
           "#FE00CE",
           "rgba(200, 200, 200, 0.8)",
           "rgba(200, 200, 200, 0.8)",
           "rgba(200, 200, 200, 0.8)",
           "rgba(200, 200, 200, 0.8)",
           "rgba(200, 200, 200, 0.8)",
           "rgba(200, 200, 200, 0.8)",
           "rgba(200, 200, 200, 0.8)",
           "rgba(200, 200, 200, 0.8)",
           "rgba(200, 200, 200, 0.8)",
           "rgba(200, 200, 200, 0.8)",
           "rgba(200, 200, 200, 0.8)",
           "rgba(200, 200, 200, 0.8)",
           "rgba(200, 200, 200, 0.8)",
           "rgba(200, 200, 200, 0.8)",
           "rgba(200, 200, 200, 0.8)",
           "rgba(64, 224, 208, 0.8)",
           "#FF9616",
           "rgba(200, 200, 200, 0.8)",
           "rgba(200, 200, 200, 0.8)",
           "rgba(200, 200, 200, 0.8)",
           "rgba(200, 200, 200, 0.8)",
           "rgba(200, 200, 200, 0.8)",
           "rgba(200, 200, 200, 0.8)",
           "rgba(200, 200, 200, 0.8)",
           "rgba(200, 200, 200, 0.8)",
           "#C9FBE5",
           "rgba(200, 200, 200, 0.8)",
           "rgba(200, 200, 200, 0.8)",
           "rgba(200, 200, 200, 0.8)",
           "#E3EE9E",
           "rgba(200, 200, 200, 0.8)",
           "rgba(200, 200, 200, 0.8)",
           "#00B5F7",
           "rgba(144, 238, 144, 0.8)",
           "rgba(200, 200, 200, 0.8)",
           "rgba(200, 200, 200, 0.8)",
           "rgba(200, 200, 200, 0.8)",
           "rgba(200, 200, 200, 0.8)",
           "rgba(200, 200, 200, 0.8)",
           "rgba(200, 200, 200, 0.8)",
           "rgba(200, 200, 200, 0.8)",
           "rgba(70, 130, 180, 0.8)",
           "rgba(200, 200, 200, 0.8)",
           "rgba(200, 200, 200, 0.8)",
           "rgba(200, 200, 200, 0.8)",
           "rgba(200, 200, 200, 0.8)",
           "rgba(200, 200, 200, 0.8)",
           "rgba(200, 200, 200, 0.8)",
           "rgba(200, 200, 200, 0.8)",
           "rgba(200, 200, 200, 0.8)",
           "rgba(200, 200, 200, 0.8)",
           "rgba(205, 92, 92, 0.8)",
           "rgba(200, 200, 200, 0.8)",
           "#FD3216",
           "rgba(200, 200, 200, 0.8)",
           "rgba(200, 200, 200, 0.8)",
           "rgba(200, 200, 200, 0.8)",
           "rgba(200, 200, 200, 0.8)",
           "rgba(200, 200, 200, 0.8)",
           "rgba(200, 200, 200, 0.8)",
           "#EEA6FB",
           "rgba(200, 200, 200, 0.8)",
           "rgba(200, 200, 200, 0.8)",
           "rgba(200, 200, 200, 0.8)",
           "rgba(200, 200, 200, 0.8)",
           "rgba(200, 200, 200, 0.8)",
           "rgba(200, 200, 200, 0.8)",
           "#FF0092",
           "rgba(200, 200, 200, 0.8)",
           "rgba(200, 200, 200, 0.8)",
           "rgba(200, 200, 200, 0.8)",
           "rgba(200, 200, 200, 0.8)",
           "#B68E00",
           "rgba(200, 200, 200, 0.8)",
           "rgba(200, 200, 200, 0.8)",
           "rgba(200, 200, 200, 0.8)",
           "rgba(200, 200, 200, 0.8)",
           "rgba(200, 200, 200, 0.8)",
           "rgba(200, 200, 200, 0.8)",
           "#6A76FC",
           "#22FFA7",
           "rgba(200, 200, 200, 0.8)",
           "#479B55",
           "rgba(200, 200, 200, 0.8)",
           "rgba(200, 200, 200, 0.8)",
           "rgba(200, 200, 200, 0.8)",
           "rgba(200, 200, 200, 0.8)",
           "rgba(200, 200, 200, 0.8)",
           "rgba(200, 200, 200, 0.8)",
           "rgba(200, 200, 200, 0.8)",
           "rgba(200, 200, 200, 0.8)",
           "rgba(200, 200, 200, 0.8)",
           "rgba(200, 200, 200, 0.8)",
           "rgba(200, 200, 200, 0.8)",
           "rgba(200, 200, 200, 0.8)",
           "rgba(200, 200, 200, 0.8)",
           "rgba(200, 200, 200, 0.8)",
           "rgba(200, 200, 200, 0.8)",
           "rgba(200, 200, 200, 0.8)",
           "#FED4C4",
           "rgba(200, 200, 200, 0.8)"
          ],
          "label": [
           "Login Other Device",
           "Login Other Device Lupa Password",
           11,
           13,
           14,
           16.6,
           17.5,
           "Fira",
           "Lupa Password Dari Prelogin",
           "Lokasi ATM & Cabang",
           "17.6.1",
           "Lokasi Masjid terdekat",
           "MPM ON Us (Payment)",
           "Owan",
           "Asmaul Husna",
           "Rekening Di Homescreen",
           "Lupa PIN",
           "Hansen",
           "Natasya",
           "QRIS",
           "Sanggahan Transaksi",
           "Tambah tabungan",
           "Topup Gopay",
           "Topup Ovo",
           "Mutasi Rekening",
           "Juzamma",
           "Sesama BSI dari Favorit",
           "Poco F4",
           "Prita",
           "QRIS CPM (Payment)",
           "Aktivasi Regresi",
           "POCO F6",
           "Informasi Rekening",
           "Kintan",
           "Arah Kiblat",
           "Layanan Islami",
           "Tarik Tunai Tanpa Kartu",
           "Profil",
           "Login Other Device Lupa PIN",
           "Login Other Device Normal Flow",
           "Lupa Password dari menu profil Kemudian lupa PIN",
           "Sanggahan dari halaman mutasi",
           "Infaq After Transaksi",
           "Hanifah",
           "List & Icon Bayar Beli",
           "Iphone 14 Pro Max",
           "Sesama BSI dari History",
           "Nabhan",
           "Prelogin Card Waktu Sholat (Lokasi, Saat Adzan, Sebelum / setelah Adzan)",
           "Prelogin saat salah password 3x",
           "Lupa Password dari menu profil",
           "Sanggahan dari pelaporan profil",
           "Ubah Nama Tabungan",
           "Android",
           "Mega Menu",
           "Online Syariah\n- Android Maybank Syariah\n- iOS Jago Syariah",
           "17.5.1",
           "Rekening Di Portofolio",
           "Topup",
           "Online Konvensional\n- Android BRI\n- iOS Bank DKI",
           "Haekal",
           "Iphone 15 pro Max",
           "Ubah Password",
           "Berbagi",
           "Vivo V30",
           "List & Icon Megamenu",
           "16.6",
           "Tarik Tunai tanpa kartu",
           "Rizky",
           "Tambah Tabungan\nAndroid : Easy Wadiah\niOS : Easy Mudharabah",
           "E-Wallet",
           "Passed",
           "Iphone 13",
           "Sesama BSI dari tambah baru",
           "Ajul",
           "Login Other Device Dengan Akun Terblokir",
           "MPM OFF Us (Payment)",
           "Sesama BSI rekening kedua milik sendiri",
           "Cek Saldo",
           "iOS",
           "Ubah Email",
           "Sanggahan dari pusat bantuan",
           "Samsung Z Flip 4",
           "Atur Tampilan Beranda (favorit Card Homescreen)",
           "Rezki",
           "Tiwi",
           "Update Saldo",
           "Arul",
           "Bayar Infaq",
           "Failed",
           "15.1.1",
           "Aktivasi Registrasi (With Debit Card)",
           "Ubah Foto Profil (Foto Capture & Upload dari device)",
           "Andi",
           "Prepaid (Token)",
           "Aga",
           "iPhone 13 Pro Max",
           "Prelogin View (Pagi, Siang, Sore, Malam)",
           "Transfer",
           "Samsung Z Flip",
           "Topup Shopeepay",
           "Iphone  14",
           "Xiaomi 11T",
           "Test Notifikasi Adzan",
           "Prelogin Routing Menu",
           "E-Commerce",
           "BIFAST\n- Android BCA\n- iOS Mandiri",
           "CrossBorder (Payment)",
           "Redmi Note 12 Pro",
           null,
           "E-Money",
           "Tokopedia",
           "Nabila",
           "Shopee",
           "Postpaid (Pascabayar)\n\n",
           "16.1.2",
           "Bowo",
           "Lupa Password & PIN",
           "PLN",
           "View Waktu Sholat",
           "Bayar Beli",
           "Xiaomi 14",
           "Download E-Statement",
           "Iphone 12 Pro Max",
           "Xiaomi 11T Pro",
           "Pixel 8 Pro",
           "Ubah PIN",
           "OPPO Find N3 Fold",
           "Iphone 15 pro",
           "Manage Biometrik",
           "Lupa PIN Kemudian Lupa Password",
           "Iphone 13 Pro Max",
           "Fitri",
           "Routing Menu pada megamenu",
           "Densu",
           "Bayar Zakat",
           "Samsung Galaxy S22",
           "Prelogin",
           "Routing Menu pada Bayarbeli"
          ],
          "line": {
           "color": "black",
           "width": 0.5
          },
          "pad": 15,
          "thickness": 20
         },
         "type": "sankey"
        }
       ],
       "layout": {
        "font": {
         "color": "white",
         "size": 10
        },
        "height": 1500,
        "paper_bgcolor": "black",
        "plot_bgcolor": "black",
        "template": {
         "data": {
          "bar": [
           {
            "error_x": {
             "color": "#2a3f5f"
            },
            "error_y": {
             "color": "#2a3f5f"
            },
            "marker": {
             "line": {
              "color": "#E5ECF6",
              "width": 0.5
             },
             "pattern": {
              "fillmode": "overlay",
              "size": 10,
              "solidity": 0.2
             }
            },
            "type": "bar"
           }
          ],
          "barpolar": [
           {
            "marker": {
             "line": {
              "color": "#E5ECF6",
              "width": 0.5
             },
             "pattern": {
              "fillmode": "overlay",
              "size": 10,
              "solidity": 0.2
             }
            },
            "type": "barpolar"
           }
          ],
          "carpet": [
           {
            "aaxis": {
             "endlinecolor": "#2a3f5f",
             "gridcolor": "white",
             "linecolor": "white",
             "minorgridcolor": "white",
             "startlinecolor": "#2a3f5f"
            },
            "baxis": {
             "endlinecolor": "#2a3f5f",
             "gridcolor": "white",
             "linecolor": "white",
             "minorgridcolor": "white",
             "startlinecolor": "#2a3f5f"
            },
            "type": "carpet"
           }
          ],
          "choropleth": [
           {
            "colorbar": {
             "outlinewidth": 0,
             "ticks": ""
            },
            "type": "choropleth"
           }
          ],
          "contour": [
           {
            "colorbar": {
             "outlinewidth": 0,
             "ticks": ""
            },
            "colorscale": [
             [
              0,
              "#0d0887"
             ],
             [
              0.1111111111111111,
              "#46039f"
             ],
             [
              0.2222222222222222,
              "#7201a8"
             ],
             [
              0.3333333333333333,
              "#9c179e"
             ],
             [
              0.4444444444444444,
              "#bd3786"
             ],
             [
              0.5555555555555556,
              "#d8576b"
             ],
             [
              0.6666666666666666,
              "#ed7953"
             ],
             [
              0.7777777777777778,
              "#fb9f3a"
             ],
             [
              0.8888888888888888,
              "#fdca26"
             ],
             [
              1,
              "#f0f921"
             ]
            ],
            "type": "contour"
           }
          ],
          "contourcarpet": [
           {
            "colorbar": {
             "outlinewidth": 0,
             "ticks": ""
            },
            "type": "contourcarpet"
           }
          ],
          "heatmap": [
           {
            "colorbar": {
             "outlinewidth": 0,
             "ticks": ""
            },
            "colorscale": [
             [
              0,
              "#0d0887"
             ],
             [
              0.1111111111111111,
              "#46039f"
             ],
             [
              0.2222222222222222,
              "#7201a8"
             ],
             [
              0.3333333333333333,
              "#9c179e"
             ],
             [
              0.4444444444444444,
              "#bd3786"
             ],
             [
              0.5555555555555556,
              "#d8576b"
             ],
             [
              0.6666666666666666,
              "#ed7953"
             ],
             [
              0.7777777777777778,
              "#fb9f3a"
             ],
             [
              0.8888888888888888,
              "#fdca26"
             ],
             [
              1,
              "#f0f921"
             ]
            ],
            "type": "heatmap"
           }
          ],
          "heatmapgl": [
           {
            "colorbar": {
             "outlinewidth": 0,
             "ticks": ""
            },
            "colorscale": [
             [
              0,
              "#0d0887"
             ],
             [
              0.1111111111111111,
              "#46039f"
             ],
             [
              0.2222222222222222,
              "#7201a8"
             ],
             [
              0.3333333333333333,
              "#9c179e"
             ],
             [
              0.4444444444444444,
              "#bd3786"
             ],
             [
              0.5555555555555556,
              "#d8576b"
             ],
             [
              0.6666666666666666,
              "#ed7953"
             ],
             [
              0.7777777777777778,
              "#fb9f3a"
             ],
             [
              0.8888888888888888,
              "#fdca26"
             ],
             [
              1,
              "#f0f921"
             ]
            ],
            "type": "heatmapgl"
           }
          ],
          "histogram": [
           {
            "marker": {
             "pattern": {
              "fillmode": "overlay",
              "size": 10,
              "solidity": 0.2
             }
            },
            "type": "histogram"
           }
          ],
          "histogram2d": [
           {
            "colorbar": {
             "outlinewidth": 0,
             "ticks": ""
            },
            "colorscale": [
             [
              0,
              "#0d0887"
             ],
             [
              0.1111111111111111,
              "#46039f"
             ],
             [
              0.2222222222222222,
              "#7201a8"
             ],
             [
              0.3333333333333333,
              "#9c179e"
             ],
             [
              0.4444444444444444,
              "#bd3786"
             ],
             [
              0.5555555555555556,
              "#d8576b"
             ],
             [
              0.6666666666666666,
              "#ed7953"
             ],
             [
              0.7777777777777778,
              "#fb9f3a"
             ],
             [
              0.8888888888888888,
              "#fdca26"
             ],
             [
              1,
              "#f0f921"
             ]
            ],
            "type": "histogram2d"
           }
          ],
          "histogram2dcontour": [
           {
            "colorbar": {
             "outlinewidth": 0,
             "ticks": ""
            },
            "colorscale": [
             [
              0,
              "#0d0887"
             ],
             [
              0.1111111111111111,
              "#46039f"
             ],
             [
              0.2222222222222222,
              "#7201a8"
             ],
             [
              0.3333333333333333,
              "#9c179e"
             ],
             [
              0.4444444444444444,
              "#bd3786"
             ],
             [
              0.5555555555555556,
              "#d8576b"
             ],
             [
              0.6666666666666666,
              "#ed7953"
             ],
             [
              0.7777777777777778,
              "#fb9f3a"
             ],
             [
              0.8888888888888888,
              "#fdca26"
             ],
             [
              1,
              "#f0f921"
             ]
            ],
            "type": "histogram2dcontour"
           }
          ],
          "mesh3d": [
           {
            "colorbar": {
             "outlinewidth": 0,
             "ticks": ""
            },
            "type": "mesh3d"
           }
          ],
          "parcoords": [
           {
            "line": {
             "colorbar": {
              "outlinewidth": 0,
              "ticks": ""
             }
            },
            "type": "parcoords"
           }
          ],
          "pie": [
           {
            "automargin": true,
            "type": "pie"
           }
          ],
          "scatter": [
           {
            "fillpattern": {
             "fillmode": "overlay",
             "size": 10,
             "solidity": 0.2
            },
            "type": "scatter"
           }
          ],
          "scatter3d": [
           {
            "line": {
             "colorbar": {
              "outlinewidth": 0,
              "ticks": ""
             }
            },
            "marker": {
             "colorbar": {
              "outlinewidth": 0,
              "ticks": ""
             }
            },
            "type": "scatter3d"
           }
          ],
          "scattercarpet": [
           {
            "marker": {
             "colorbar": {
              "outlinewidth": 0,
              "ticks": ""
             }
            },
            "type": "scattercarpet"
           }
          ],
          "scattergeo": [
           {
            "marker": {
             "colorbar": {
              "outlinewidth": 0,
              "ticks": ""
             }
            },
            "type": "scattergeo"
           }
          ],
          "scattergl": [
           {
            "marker": {
             "colorbar": {
              "outlinewidth": 0,
              "ticks": ""
             }
            },
            "type": "scattergl"
           }
          ],
          "scattermapbox": [
           {
            "marker": {
             "colorbar": {
              "outlinewidth": 0,
              "ticks": ""
             }
            },
            "type": "scattermapbox"
           }
          ],
          "scatterpolar": [
           {
            "marker": {
             "colorbar": {
              "outlinewidth": 0,
              "ticks": ""
             }
            },
            "type": "scatterpolar"
           }
          ],
          "scatterpolargl": [
           {
            "marker": {
             "colorbar": {
              "outlinewidth": 0,
              "ticks": ""
             }
            },
            "type": "scatterpolargl"
           }
          ],
          "scatterternary": [
           {
            "marker": {
             "colorbar": {
              "outlinewidth": 0,
              "ticks": ""
             }
            },
            "type": "scatterternary"
           }
          ],
          "surface": [
           {
            "colorbar": {
             "outlinewidth": 0,
             "ticks": ""
            },
            "colorscale": [
             [
              0,
              "#0d0887"
             ],
             [
              0.1111111111111111,
              "#46039f"
             ],
             [
              0.2222222222222222,
              "#7201a8"
             ],
             [
              0.3333333333333333,
              "#9c179e"
             ],
             [
              0.4444444444444444,
              "#bd3786"
             ],
             [
              0.5555555555555556,
              "#d8576b"
             ],
             [
              0.6666666666666666,
              "#ed7953"
             ],
             [
              0.7777777777777778,
              "#fb9f3a"
             ],
             [
              0.8888888888888888,
              "#fdca26"
             ],
             [
              1,
              "#f0f921"
             ]
            ],
            "type": "surface"
           }
          ],
          "table": [
           {
            "cells": {
             "fill": {
              "color": "#EBF0F8"
             },
             "line": {
              "color": "white"
             }
            },
            "header": {
             "fill": {
              "color": "#C8D4E3"
             },
             "line": {
              "color": "white"
             }
            },
            "type": "table"
           }
          ]
         },
         "layout": {
          "annotationdefaults": {
           "arrowcolor": "#2a3f5f",
           "arrowhead": 0,
           "arrowwidth": 1
          },
          "autotypenumbers": "strict",
          "coloraxis": {
           "colorbar": {
            "outlinewidth": 0,
            "ticks": ""
           }
          },
          "colorscale": {
           "diverging": [
            [
             0,
             "#8e0152"
            ],
            [
             0.1,
             "#c51b7d"
            ],
            [
             0.2,
             "#de77ae"
            ],
            [
             0.3,
             "#f1b6da"
            ],
            [
             0.4,
             "#fde0ef"
            ],
            [
             0.5,
             "#f7f7f7"
            ],
            [
             0.6,
             "#e6f5d0"
            ],
            [
             0.7,
             "#b8e186"
            ],
            [
             0.8,
             "#7fbc41"
            ],
            [
             0.9,
             "#4d9221"
            ],
            [
             1,
             "#276419"
            ]
           ],
           "sequential": [
            [
             0,
             "#0d0887"
            ],
            [
             0.1111111111111111,
             "#46039f"
            ],
            [
             0.2222222222222222,
             "#7201a8"
            ],
            [
             0.3333333333333333,
             "#9c179e"
            ],
            [
             0.4444444444444444,
             "#bd3786"
            ],
            [
             0.5555555555555556,
             "#d8576b"
            ],
            [
             0.6666666666666666,
             "#ed7953"
            ],
            [
             0.7777777777777778,
             "#fb9f3a"
            ],
            [
             0.8888888888888888,
             "#fdca26"
            ],
            [
             1,
             "#f0f921"
            ]
           ],
           "sequentialminus": [
            [
             0,
             "#0d0887"
            ],
            [
             0.1111111111111111,
             "#46039f"
            ],
            [
             0.2222222222222222,
             "#7201a8"
            ],
            [
             0.3333333333333333,
             "#9c179e"
            ],
            [
             0.4444444444444444,
             "#bd3786"
            ],
            [
             0.5555555555555556,
             "#d8576b"
            ],
            [
             0.6666666666666666,
             "#ed7953"
            ],
            [
             0.7777777777777778,
             "#fb9f3a"
            ],
            [
             0.8888888888888888,
             "#fdca26"
            ],
            [
             1,
             "#f0f921"
            ]
           ]
          },
          "colorway": [
           "#636efa",
           "#EF553B",
           "#00cc96",
           "#ab63fa",
           "#FFA15A",
           "#19d3f3",
           "#FF6692",
           "#B6E880",
           "#FF97FF",
           "#FECB52"
          ],
          "font": {
           "color": "#2a3f5f"
          },
          "geo": {
           "bgcolor": "white",
           "lakecolor": "white",
           "landcolor": "#E5ECF6",
           "showlakes": true,
           "showland": true,
           "subunitcolor": "white"
          },
          "hoverlabel": {
           "align": "left"
          },
          "hovermode": "closest",
          "mapbox": {
           "style": "light"
          },
          "paper_bgcolor": "white",
          "plot_bgcolor": "#E5ECF6",
          "polar": {
           "angularaxis": {
            "gridcolor": "white",
            "linecolor": "white",
            "ticks": ""
           },
           "bgcolor": "#E5ECF6",
           "radialaxis": {
            "gridcolor": "white",
            "linecolor": "white",
            "ticks": ""
           }
          },
          "scene": {
           "xaxis": {
            "backgroundcolor": "#E5ECF6",
            "gridcolor": "white",
            "gridwidth": 2,
            "linecolor": "white",
            "showbackground": true,
            "ticks": "",
            "zerolinecolor": "white"
           },
           "yaxis": {
            "backgroundcolor": "#E5ECF6",
            "gridcolor": "white",
            "gridwidth": 2,
            "linecolor": "white",
            "showbackground": true,
            "ticks": "",
            "zerolinecolor": "white"
           },
           "zaxis": {
            "backgroundcolor": "#E5ECF6",
            "gridcolor": "white",
            "gridwidth": 2,
            "linecolor": "white",
            "showbackground": true,
            "ticks": "",
            "zerolinecolor": "white"
           }
          },
          "shapedefaults": {
           "line": {
            "color": "#2a3f5f"
           }
          },
          "ternary": {
           "aaxis": {
            "gridcolor": "white",
            "linecolor": "white",
            "ticks": ""
           },
           "baxis": {
            "gridcolor": "white",
            "linecolor": "white",
            "ticks": ""
           },
           "bgcolor": "#E5ECF6",
           "caxis": {
            "gridcolor": "white",
            "linecolor": "white",
            "ticks": ""
           }
          },
          "title": {
           "x": 0.05
          },
          "xaxis": {
           "automargin": true,
           "gridcolor": "white",
           "linecolor": "white",
           "ticks": "",
           "title": {
            "standoff": 15
           },
           "zerolinecolor": "white",
           "zerolinewidth": 2
          },
          "yaxis": {
           "automargin": true,
           "gridcolor": "white",
           "linecolor": "white",
           "ticks": "",
           "title": {
            "standoff": 15
           },
           "zerolinecolor": "white",
           "zerolinewidth": 2
          }
         }
        },
        "title": {
         "text": "Sankey Diagram: Features → Sub-features → Status → OS → OS Version"
        },
        "width": 1400
       }
      }
     },
     "metadata": {},
     "output_type": "display_data"
    }
   ],
   "source": [
    "import pandas as pd\n",
    "import plotly.graph_objects as go\n",
    "import plotly.express as px  # For color palettes\n",
    "\n",
    "# Example: Load your actual data into `df`\n",
    "# df = pd.read_csv(\"your_data.csv\")\n",
    "\n",
    "# Create nodes and flows\n",
    "nodes = list(set(\n",
    "    df['Features'].tolist() +\n",
    "    df['Sub-features'].tolist() +\n",
    "    df['OS'].tolist() +\n",
    "    df['OS Version'].tolist() +\n",
    "    df['Tipe Device HP'].tolist() +\n",
    "    df['Status'].tolist() +\n",
    "    df['Tester'].tolist()\n",
    "))\n",
    "node_indices = {node: i for i, node in enumerate(nodes)}\n",
    "\n",
    "# Create flows (source → target)\n",
    "sources = (\n",
    "    [node_indices[feature] for feature in df[\"Features\"]] +            # Features → Sub-features\n",
    "    # [node_indices[sub_feature] for sub_feature in df[\"Sub-features\"]] + # Sub-features → Status\n",
    "    [node_indices[status] for status in df[\"Status\"]] +                # Status → OS\n",
    "    [node_indices[os] for os in df[\"OS\"]]                              # OS → OS Version\n",
    ")\n",
    "targets = (\n",
    "    # [node_indices[sub_feature] for sub_feature in df[\"Sub-features\"]] + # Features → Sub-features\n",
    "    [node_indices[status] for status in df[\"Status\"]] +                # Sub-features → Status\n",
    "    [node_indices[os] for os in df[\"OS\"]]                              # Status → OS\n",
    ")\n",
    "\n",
    "# Assign a default value of 1 for each connection\n",
    "values = [1] * len(sources)\n",
    "\n",
    "# Use a qualitative color scale for high contrast (e.g., Plotly's 'Dark24')\n",
    "color_palette = px.colors.qualitative.Light24 # Replace with another palette if needed\n",
    "num_colors = len(color_palette)\n",
    "\n",
    "# Assign contrasting colors to features\n",
    "node_colors = {}\n",
    "for i, feature in enumerate(df[\"Features\"].unique()):\n",
    "    node_colors[feature] = color_palette[i % num_colors]  # Cycle through the color palette\n",
    "\n",
    "# Propagate feature colors to sub-features\n",
    "# for feature in df[\"Features\"].unique():\n",
    "#     feature_color = node_colors[feature]\n",
    "#     for sub_feature in df[df[\"Features\"] == feature][\"Sub-features\"].unique():\n",
    "#         node_colors[sub_feature] = feature_color\n",
    "\n",
    "# Overwrite colors for 'Passed' and 'Failed'\n",
    "node_colors[\"Passed\"] = \"rgba(144, 238, 144, 0.8)\"  # Soft green\n",
    "node_colors[\"Failed\"] = \"rgba(205, 92, 92, 0.8)\"    # Soft red brick\n",
    "\n",
    "node_colors[\"Android\"] = \"rgba(64, 224, 208, 0.8)\"  # Green turquoise\n",
    "node_colors[\"iOS\"] = \"rgba(70, 130, 180, 0.8)\"      # Steel blue\n",
    "\n",
    "# Set default color for unassigned nodes\n",
    "default_color = \"rgba(200, 200, 200, 0.8)\"\n",
    "node_color_list = [node_colors.get(node, default_color) for node in nodes]\n",
    "\n",
    "# Sankey Diagram\n",
    "fig = go.Figure(data=[go.Sankey(\n",
    "    node=dict(\n",
    "        pad=15,\n",
    "        thickness=20,\n",
    "        line=dict(color=\"black\", width=0.5),\n",
    "        label=nodes,\n",
    "        color=node_color_list\n",
    "    ),\n",
    "    link=dict(\n",
    "        source=sources,\n",
    "        target=targets,\n",
    "        value=values,  # Default value of 1 for each connection\n",
    "        color=\"rgba(192, 192, 192, 0.4)\"  # Optional: Adjust link color\n",
    "    )\n",
    ")])\n",
    "\n",
    "# Update layout and show\n",
    "fig.update_layout(\n",
    "    title_text=\"Sankey Diagram: Features → Sub-features → Status → OS → OS Version\",\n",
    "    font_size=12,\n",
    "    width=1400,  # Increase width for a wider graph\n",
    "    height=1500,   # Increase height for a taller graph\n",
    "    font=dict(size=10, color='white'),\n",
    "    plot_bgcolor='black',\n",
    "    paper_bgcolor='black'\n",
    ")\n",
    "fig.show()\n"
   ]
  },
  {
   "cell_type": "code",
   "execution_count": 76,
   "metadata": {},
   "outputs": [
    {
     "data": {
      "text/html": [
       "<div>\n",
       "<style scoped>\n",
       "    .dataframe tbody tr th:only-of-type {\n",
       "        vertical-align: middle;\n",
       "    }\n",
       "\n",
       "    .dataframe tbody tr th {\n",
       "        vertical-align: top;\n",
       "    }\n",
       "\n",
       "    .dataframe thead th {\n",
       "        text-align: right;\n",
       "    }\n",
       "</style>\n",
       "<table border=\"1\" class=\"dataframe\">\n",
       "  <thead>\n",
       "    <tr style=\"text-align: right;\">\n",
       "      <th></th>\n",
       "      <th>Features</th>\n",
       "      <th>Sub-features</th>\n",
       "      <th>Status</th>\n",
       "      <th>size</th>\n",
       "    </tr>\n",
       "  </thead>\n",
       "  <tbody>\n",
       "    <tr>\n",
       "      <th>0</th>\n",
       "      <td>Aktivasi Registrasi (With Debit Card)</td>\n",
       "      <td>Aktivasi Regresi</td>\n",
       "      <td>Passed</td>\n",
       "      <td>2</td>\n",
       "    </tr>\n",
       "    <tr>\n",
       "      <th>1</th>\n",
       "      <td>Bayar Beli</td>\n",
       "      <td>List &amp; Icon Bayar Beli</td>\n",
       "      <td>Passed</td>\n",
       "      <td>2</td>\n",
       "    </tr>\n",
       "    <tr>\n",
       "      <th>2</th>\n",
       "      <td>Bayar Beli</td>\n",
       "      <td>Routing Menu pada Bayarbeli</td>\n",
       "      <td>Passed</td>\n",
       "      <td>2</td>\n",
       "    </tr>\n",
       "    <tr>\n",
       "      <th>3</th>\n",
       "      <td>Berbagi</td>\n",
       "      <td>Bayar Infaq</td>\n",
       "      <td>Passed</td>\n",
       "      <td>2</td>\n",
       "    </tr>\n",
       "    <tr>\n",
       "      <th>4</th>\n",
       "      <td>Berbagi</td>\n",
       "      <td>Bayar Zakat</td>\n",
       "      <td>Passed</td>\n",
       "      <td>2</td>\n",
       "    </tr>\n",
       "    <tr>\n",
       "      <th>...</th>\n",
       "      <td>...</td>\n",
       "      <td>...</td>\n",
       "      <td>...</td>\n",
       "      <td>...</td>\n",
       "    </tr>\n",
       "    <tr>\n",
       "      <th>61</th>\n",
       "      <td>Transfer</td>\n",
       "      <td>Online Syariah\\n- Android Maybank Syariah\\n- i...</td>\n",
       "      <td>Passed</td>\n",
       "      <td>2</td>\n",
       "    </tr>\n",
       "    <tr>\n",
       "      <th>62</th>\n",
       "      <td>Transfer</td>\n",
       "      <td>Sesama BSI dari Favorit</td>\n",
       "      <td>Passed</td>\n",
       "      <td>2</td>\n",
       "    </tr>\n",
       "    <tr>\n",
       "      <th>63</th>\n",
       "      <td>Transfer</td>\n",
       "      <td>Sesama BSI dari History</td>\n",
       "      <td>Passed</td>\n",
       "      <td>2</td>\n",
       "    </tr>\n",
       "    <tr>\n",
       "      <th>64</th>\n",
       "      <td>Transfer</td>\n",
       "      <td>Sesama BSI dari tambah baru</td>\n",
       "      <td>Passed</td>\n",
       "      <td>2</td>\n",
       "    </tr>\n",
       "    <tr>\n",
       "      <th>65</th>\n",
       "      <td>Transfer</td>\n",
       "      <td>Sesama BSI rekening kedua milik sendiri</td>\n",
       "      <td>Passed</td>\n",
       "      <td>2</td>\n",
       "    </tr>\n",
       "  </tbody>\n",
       "</table>\n",
       "<p>66 rows × 4 columns</p>\n",
       "</div>"
      ],
      "text/plain": [
       "                                 Features  \\\n",
       "0   Aktivasi Registrasi (With Debit Card)   \n",
       "1                              Bayar Beli   \n",
       "2                              Bayar Beli   \n",
       "3                                 Berbagi   \n",
       "4                                 Berbagi   \n",
       "..                                    ...   \n",
       "61                               Transfer   \n",
       "62                               Transfer   \n",
       "63                               Transfer   \n",
       "64                               Transfer   \n",
       "65                               Transfer   \n",
       "\n",
       "                                         Sub-features  Status  size  \n",
       "0                                    Aktivasi Regresi  Passed     2  \n",
       "1                              List & Icon Bayar Beli  Passed     2  \n",
       "2                         Routing Menu pada Bayarbeli  Passed     2  \n",
       "3                                         Bayar Infaq  Passed     2  \n",
       "4                                         Bayar Zakat  Passed     2  \n",
       "..                                                ...     ...   ...  \n",
       "61  Online Syariah\\n- Android Maybank Syariah\\n- i...  Passed     2  \n",
       "62                            Sesama BSI dari Favorit  Passed     2  \n",
       "63                            Sesama BSI dari History  Passed     2  \n",
       "64                        Sesama BSI dari tambah baru  Passed     2  \n",
       "65            Sesama BSI rekening kedua milik sendiri  Passed     2  \n",
       "\n",
       "[66 rows x 4 columns]"
      ]
     },
     "execution_count": 76,
     "metadata": {},
     "output_type": "execute_result"
    }
   ],
   "source": [
    "df = df.groupby(['Features', 'Sub-features', 'Status'], as_index=False).size()\n",
    "df"
   ]
  },
  {
   "cell_type": "code",
   "execution_count": 37,
   "metadata": {},
   "outputs": [
    {
     "data": {
      "text/plain": [
       "['Login Other Device',\n",
       " 'Login Other Device Lupa Password',\n",
       " 11,\n",
       " 13,\n",
       " 14,\n",
       " 16.6,\n",
       " 17.5,\n",
       " 'Fira',\n",
       " 'Lupa Password Dari Prelogin',\n",
       " 'Lokasi ATM & Cabang',\n",
       " '17.6.1',\n",
       " 'Lokasi Masjid terdekat',\n",
       " 'MPM ON Us (Payment)',\n",
       " 'Owan',\n",
       " 'Asmaul Husna',\n",
       " 'Rekening Di Homescreen',\n",
       " 'Lupa PIN',\n",
       " 'Hansen',\n",
       " 'Natasya',\n",
       " 'QRIS',\n",
       " 'Sanggahan Transaksi',\n",
       " 'Tambah tabungan',\n",
       " 'Topup Gopay',\n",
       " 'Topup Ovo',\n",
       " 'Mutasi Rekening',\n",
       " 'Juzamma',\n",
       " 'Sesama BSI dari Favorit',\n",
       " 'Poco F4',\n",
       " 'Prita',\n",
       " 'QRIS CPM (Payment)',\n",
       " 'Aktivasi Regresi',\n",
       " 'POCO F6',\n",
       " 'Informasi Rekening',\n",
       " 'Kintan',\n",
       " 'Arah Kiblat',\n",
       " 'Layanan Islami',\n",
       " 'Tarik Tunai Tanpa Kartu',\n",
       " 'Profil',\n",
       " 'Login Other Device Lupa PIN',\n",
       " 'Login Other Device Normal Flow',\n",
       " 'Lupa Password dari menu profil Kemudian lupa PIN',\n",
       " 'Sanggahan dari halaman mutasi',\n",
       " 'Infaq After Transaksi',\n",
       " 'Hanifah',\n",
       " 'List & Icon Bayar Beli',\n",
       " 'Iphone 14 Pro Max',\n",
       " 'Sesama BSI dari History',\n",
       " 'Nabhan',\n",
       " 'Prelogin Card Waktu Sholat (Lokasi, Saat Adzan, Sebelum / setelah Adzan)',\n",
       " 'Prelogin saat salah password 3x',\n",
       " 'Lupa Password dari menu profil',\n",
       " 'Sanggahan dari pelaporan profil',\n",
       " 'Ubah Nama Tabungan',\n",
       " 'Android',\n",
       " 'Mega Menu',\n",
       " 'Online Syariah\\n- Android Maybank Syariah\\n- iOS Jago Syariah',\n",
       " '17.5.1',\n",
       " 'Rekening Di Portofolio',\n",
       " 'Topup',\n",
       " 'Online Konvensional\\n- Android BRI\\n- iOS Bank DKI',\n",
       " 'Haekal',\n",
       " 'Iphone 15 pro Max',\n",
       " 'Ubah Password',\n",
       " 'Berbagi',\n",
       " 'Vivo V30',\n",
       " 'List & Icon Megamenu',\n",
       " '16.6',\n",
       " 'Tarik Tunai tanpa kartu',\n",
       " 'Rizky',\n",
       " 'Tambah Tabungan\\nAndroid : Easy Wadiah\\niOS : Easy Mudharabah',\n",
       " 'E-Wallet',\n",
       " 'Passed',\n",
       " 'Iphone 13',\n",
       " 'Sesama BSI dari tambah baru',\n",
       " 'Ajul',\n",
       " 'Login Other Device Dengan Akun Terblokir',\n",
       " 'MPM OFF Us (Payment)',\n",
       " 'Sesama BSI rekening kedua milik sendiri',\n",
       " 'Cek Saldo',\n",
       " 'iOS',\n",
       " 'Ubah Email',\n",
       " 'Sanggahan dari pusat bantuan',\n",
       " 'Samsung Z Flip 4',\n",
       " 'Atur Tampilan Beranda (favorit Card Homescreen)',\n",
       " 'Rezki',\n",
       " 'Tiwi',\n",
       " 'Update Saldo',\n",
       " 'Arul',\n",
       " 'Bayar Infaq',\n",
       " 'Failed',\n",
       " '15.1.1',\n",
       " 'Aktivasi Registrasi (With Debit Card)',\n",
       " 'Ubah Foto Profil (Foto Capture & Upload dari device)',\n",
       " 'Andi',\n",
       " 'Prepaid (Token)',\n",
       " 'Aga',\n",
       " 'iPhone 13 Pro Max',\n",
       " 'Prelogin View (Pagi, Siang, Sore, Malam)',\n",
       " 'Transfer',\n",
       " 'Samsung Z Flip',\n",
       " 'Topup Shopeepay',\n",
       " 'Iphone  14',\n",
       " 'Xiaomi 11T',\n",
       " 'Test Notifikasi Adzan',\n",
       " 'Prelogin Routing Menu',\n",
       " 'E-Commerce',\n",
       " 'BIFAST\\n- Android BCA\\n- iOS Mandiri',\n",
       " 'CrossBorder (Payment)',\n",
       " 'Redmi Note 12 Pro',\n",
       " nan,\n",
       " 'E-Money',\n",
       " 'Tokopedia',\n",
       " 'Nabila',\n",
       " 'Shopee',\n",
       " 'Postpaid (Pascabayar)\\n\\n',\n",
       " '16.1.2',\n",
       " 'Bowo',\n",
       " 'Lupa Password & PIN',\n",
       " 'PLN',\n",
       " 'View Waktu Sholat',\n",
       " 'Bayar Beli',\n",
       " 'Xiaomi 14',\n",
       " 'Download E-Statement',\n",
       " 'Iphone 12 Pro Max',\n",
       " 'Xiaomi 11T Pro',\n",
       " 'Pixel 8 Pro',\n",
       " 'Ubah PIN',\n",
       " 'OPPO Find N3 Fold',\n",
       " 'Iphone 15 pro',\n",
       " 'Manage Biometrik',\n",
       " 'Lupa PIN Kemudian Lupa Password',\n",
       " 'Iphone 13 Pro Max',\n",
       " 'Fitri',\n",
       " 'Routing Menu pada megamenu',\n",
       " 'Densu',\n",
       " 'Bayar Zakat',\n",
       " 'Samsung Galaxy S22',\n",
       " 'Prelogin',\n",
       " 'Routing Menu pada Bayarbeli']"
      ]
     },
     "execution_count": 37,
     "metadata": {},
     "output_type": "execute_result"
    }
   ],
   "source": [
    "nodes"
   ]
  },
  {
   "cell_type": "code",
   "execution_count": 70,
   "metadata": {},
   "outputs": [
    {
     "data": {
      "text/html": [
       "<div>\n",
       "<style scoped>\n",
       "    .dataframe tbody tr th:only-of-type {\n",
       "        vertical-align: middle;\n",
       "    }\n",
       "\n",
       "    .dataframe tbody tr th {\n",
       "        vertical-align: top;\n",
       "    }\n",
       "\n",
       "    .dataframe thead th {\n",
       "        text-align: right;\n",
       "    }\n",
       "</style>\n",
       "<table border=\"1\" class=\"dataframe\">\n",
       "  <thead>\n",
       "    <tr style=\"text-align: right;\">\n",
       "      <th></th>\n",
       "      <th>Features</th>\n",
       "      <th>Sub Fitur</th>\n",
       "      <th>Expected Condition</th>\n",
       "      <th>OS</th>\n",
       "      <th>OS Version</th>\n",
       "      <th>Tipe Device HP</th>\n",
       "      <th>Telko Provider HP</th>\n",
       "      <th>Rekening Sumber\\n[Jika ada]</th>\n",
       "      <th>Data yang Digunakan\\n[Jika ada]</th>\n",
       "      <th>Tester</th>\n",
       "      <th>PO</th>\n",
       "      <th>FT\\n[Jika Ada]</th>\n",
       "      <th>Status</th>\n",
       "      <th>Link Report Test</th>\n",
       "      <th>Description Issue dan Evidence</th>\n",
       "      <th>Tanggal Eksekusi\\n[harus diisi]</th>\n",
       "      <th>Tanggal Passed\\n[harus diisi]</th>\n",
       "      <th>Komentar</th>\n",
       "    </tr>\n",
       "  </thead>\n",
       "  <tbody>\n",
       "    <tr>\n",
       "      <th>0</th>\n",
       "      <td>Aktivasi Registrasi (With Debit Card)</td>\n",
       "      <td>Aktivasi Regresi</td>\n",
       "      <td>Berhasil Aktivasi dan masuk ke dashboard</td>\n",
       "      <td>Android</td>\n",
       "      <td>14</td>\n",
       "      <td>Pixel 8 Pro</td>\n",
       "      <td>NaN</td>\n",
       "      <td>NaN</td>\n",
       "      <td>NaN</td>\n",
       "      <td>Rezki</td>\n",
       "      <td>NaN</td>\n",
       "      <td>NaN</td>\n",
       "      <td>Passed</td>\n",
       "      <td>NaN</td>\n",
       "      <td>NaN</td>\n",
       "      <td>NaN</td>\n",
       "      <td>NaN</td>\n",
       "      <td>NaN</td>\n",
       "    </tr>\n",
       "    <tr>\n",
       "      <th>1</th>\n",
       "      <td>NaN</td>\n",
       "      <td>NaN</td>\n",
       "      <td>NaN</td>\n",
       "      <td>iOS</td>\n",
       "      <td>17.6.1</td>\n",
       "      <td>Iphone 12 Pro Max</td>\n",
       "      <td>NaN</td>\n",
       "      <td>NaN</td>\n",
       "      <td>NaN</td>\n",
       "      <td>Hansen</td>\n",
       "      <td>NaN</td>\n",
       "      <td>NaN</td>\n",
       "      <td>Passed</td>\n",
       "      <td>NaN</td>\n",
       "      <td>NaN</td>\n",
       "      <td>NaN</td>\n",
       "      <td>NaN</td>\n",
       "      <td>NaN</td>\n",
       "    </tr>\n",
       "    <tr>\n",
       "      <th>2</th>\n",
       "      <td>Login Other Device</td>\n",
       "      <td>Login Other Device Normal Flow</td>\n",
       "      <td>Berhasil Login Dengan Normal Flow</td>\n",
       "      <td>Android</td>\n",
       "      <td>14</td>\n",
       "      <td>POCO F6</td>\n",
       "      <td>NaN</td>\n",
       "      <td>NaN</td>\n",
       "      <td>NaN</td>\n",
       "      <td>Haekal</td>\n",
       "      <td>NaN</td>\n",
       "      <td>NaN</td>\n",
       "      <td>Passed</td>\n",
       "      <td>NaN</td>\n",
       "      <td>NaN</td>\n",
       "      <td>NaN</td>\n",
       "      <td>NaN</td>\n",
       "      <td>NaN</td>\n",
       "    </tr>\n",
       "    <tr>\n",
       "      <th>3</th>\n",
       "      <td>NaN</td>\n",
       "      <td>NaN</td>\n",
       "      <td>NaN</td>\n",
       "      <td>iOS</td>\n",
       "      <td>17.6.1</td>\n",
       "      <td>Iphone  14</td>\n",
       "      <td>NaN</td>\n",
       "      <td>NaN</td>\n",
       "      <td>NaN</td>\n",
       "      <td>Rizky</td>\n",
       "      <td>NaN</td>\n",
       "      <td>NaN</td>\n",
       "      <td>Passed</td>\n",
       "      <td>NaN</td>\n",
       "      <td>NaN</td>\n",
       "      <td>NaN</td>\n",
       "      <td>NaN</td>\n",
       "      <td>NaN</td>\n",
       "    </tr>\n",
       "    <tr>\n",
       "      <th>4</th>\n",
       "      <td>NaN</td>\n",
       "      <td>Login Other Device Lupa Password</td>\n",
       "      <td>Berhasil Login dengan kondisi Lupa Password</td>\n",
       "      <td>Android</td>\n",
       "      <td>14</td>\n",
       "      <td>POCO F6</td>\n",
       "      <td>NaN</td>\n",
       "      <td>NaN</td>\n",
       "      <td>NaN</td>\n",
       "      <td>Haekal</td>\n",
       "      <td>NaN</td>\n",
       "      <td>NaN</td>\n",
       "      <td>Passed</td>\n",
       "      <td>NaN</td>\n",
       "      <td>NaN</td>\n",
       "      <td>NaN</td>\n",
       "      <td>NaN</td>\n",
       "      <td>NaN</td>\n",
       "    </tr>\n",
       "    <tr>\n",
       "      <th>...</th>\n",
       "      <td>...</td>\n",
       "      <td>...</td>\n",
       "      <td>...</td>\n",
       "      <td>...</td>\n",
       "      <td>...</td>\n",
       "      <td>...</td>\n",
       "      <td>...</td>\n",
       "      <td>...</td>\n",
       "      <td>...</td>\n",
       "      <td>...</td>\n",
       "      <td>...</td>\n",
       "      <td>...</td>\n",
       "      <td>...</td>\n",
       "      <td>...</td>\n",
       "      <td>...</td>\n",
       "      <td>...</td>\n",
       "      <td>...</td>\n",
       "      <td>...</td>\n",
       "    </tr>\n",
       "    <tr>\n",
       "      <th>129</th>\n",
       "      <td>NaN</td>\n",
       "      <td>Postpaid (Pascabayar)\\n\\n</td>\n",
       "      <td>Berhasil Melakukan Pembayaran PLN Postpaid\\n- ...</td>\n",
       "      <td>Android</td>\n",
       "      <td>14</td>\n",
       "      <td>Samsung Galaxy S22</td>\n",
       "      <td>NaN</td>\n",
       "      <td>7203213942</td>\n",
       "      <td>515401131835\\n513140591817\\n513120565822</td>\n",
       "      <td>Nabhan</td>\n",
       "      <td>NaN</td>\n",
       "      <td>FT4311DC8BX</td>\n",
       "      <td>Passed</td>\n",
       "      <td>NaN</td>\n",
       "      <td>NaN</td>\n",
       "      <td>NaN</td>\n",
       "      <td>NaN</td>\n",
       "      <td>NaN</td>\n",
       "    </tr>\n",
       "    <tr>\n",
       "      <th>130</th>\n",
       "      <td>NaN</td>\n",
       "      <td>NaN</td>\n",
       "      <td>NaN</td>\n",
       "      <td>iOS</td>\n",
       "      <td>17.5.1</td>\n",
       "      <td>Iphone 13</td>\n",
       "      <td>NaN</td>\n",
       "      <td>7202088017</td>\n",
       "      <td>522601398196\\n514530958367\\n513140695457</td>\n",
       "      <td>Densu</td>\n",
       "      <td>NaN</td>\n",
       "      <td>NaN</td>\n",
       "      <td>Passed</td>\n",
       "      <td>NaN</td>\n",
       "      <td>NaN</td>\n",
       "      <td>NaN</td>\n",
       "      <td>NaN</td>\n",
       "      <td>NaN</td>\n",
       "    </tr>\n",
       "    <tr>\n",
       "      <th>131</th>\n",
       "      <td>Tarik Tunai tanpa kartu</td>\n",
       "      <td>Tarik Tunai Tanpa Kartu</td>\n",
       "      <td>Berhasil Melakukan Tarik Tunai Tanpa Kartu\\n- ...</td>\n",
       "      <td>Android</td>\n",
       "      <td>11</td>\n",
       "      <td>Redmi Note 12 Pro</td>\n",
       "      <td>Telkomsel</td>\n",
       "      <td>7200545588</td>\n",
       "      <td>81293394417</td>\n",
       "      <td>Owan</td>\n",
       "      <td>NaN</td>\n",
       "      <td>NaN</td>\n",
       "      <td>Passed</td>\n",
       "      <td>NaN</td>\n",
       "      <td>NaN</td>\n",
       "      <td>NaN</td>\n",
       "      <td>NaN</td>\n",
       "      <td>NaN</td>\n",
       "    </tr>\n",
       "    <tr>\n",
       "      <th>132</th>\n",
       "      <td>NaN</td>\n",
       "      <td>NaN</td>\n",
       "      <td>NaN</td>\n",
       "      <td>Android</td>\n",
       "      <td>14</td>\n",
       "      <td>Poco F4</td>\n",
       "      <td>Telkomsel</td>\n",
       "      <td>7200545588</td>\n",
       "      <td>81293394417</td>\n",
       "      <td>Owan</td>\n",
       "      <td>NaN</td>\n",
       "      <td>NaN</td>\n",
       "      <td>Passed</td>\n",
       "      <td>NaN</td>\n",
       "      <td>NaN</td>\n",
       "      <td>NaN</td>\n",
       "      <td>NaN</td>\n",
       "      <td>NaN</td>\n",
       "    </tr>\n",
       "    <tr>\n",
       "      <th>133</th>\n",
       "      <td>NaN</td>\n",
       "      <td>NaN</td>\n",
       "      <td>NaN</td>\n",
       "      <td>iOS</td>\n",
       "      <td>11</td>\n",
       "      <td>NaN</td>\n",
       "      <td>NaN</td>\n",
       "      <td>NaN</td>\n",
       "      <td>Alfamart</td>\n",
       "      <td>Andi</td>\n",
       "      <td>NaN</td>\n",
       "      <td>NaN</td>\n",
       "      <td>Passed</td>\n",
       "      <td>NaN</td>\n",
       "      <td>NaN</td>\n",
       "      <td>NaN</td>\n",
       "      <td>NaN</td>\n",
       "      <td>NaN</td>\n",
       "    </tr>\n",
       "  </tbody>\n",
       "</table>\n",
       "<p>134 rows × 18 columns</p>\n",
       "</div>"
      ],
      "text/plain": [
       "                                  Features                         Sub Fitur  \\\n",
       "0    Aktivasi Registrasi (With Debit Card)                  Aktivasi Regresi   \n",
       "1                                      NaN                               NaN   \n",
       "2                       Login Other Device    Login Other Device Normal Flow   \n",
       "3                                      NaN                               NaN   \n",
       "4                                      NaN  Login Other Device Lupa Password   \n",
       "..                                     ...                               ...   \n",
       "129                                    NaN         Postpaid (Pascabayar)\\n\\n   \n",
       "130                                    NaN                               NaN   \n",
       "131                Tarik Tunai tanpa kartu           Tarik Tunai Tanpa Kartu   \n",
       "132                                    NaN                               NaN   \n",
       "133                                    NaN                               NaN   \n",
       "\n",
       "                                    Expected Condition       OS OS Version  \\\n",
       "0             Berhasil Aktivasi dan masuk ke dashboard  Android         14   \n",
       "1                                                  NaN      iOS     17.6.1   \n",
       "2                    Berhasil Login Dengan Normal Flow  Android         14   \n",
       "3                                                  NaN      iOS     17.6.1   \n",
       "4          Berhasil Login dengan kondisi Lupa Password  Android         14   \n",
       "..                                                 ...      ...        ...   \n",
       "129  Berhasil Melakukan Pembayaran PLN Postpaid\\n- ...  Android         14   \n",
       "130                                                NaN      iOS     17.5.1   \n",
       "131  Berhasil Melakukan Tarik Tunai Tanpa Kartu\\n- ...  Android         11   \n",
       "132                                                NaN  Android         14   \n",
       "133                                                NaN      iOS         11   \n",
       "\n",
       "         Tipe Device HP Telko Provider HP Rekening Sumber\\n[Jika ada]  \\\n",
       "0           Pixel 8 Pro               NaN                         NaN   \n",
       "1     Iphone 12 Pro Max               NaN                         NaN   \n",
       "2               POCO F6               NaN                         NaN   \n",
       "3            Iphone  14               NaN                         NaN   \n",
       "4               POCO F6               NaN                         NaN   \n",
       "..                  ...               ...                         ...   \n",
       "129  Samsung Galaxy S22               NaN                  7203213942   \n",
       "130           Iphone 13               NaN                  7202088017   \n",
       "131   Redmi Note 12 Pro         Telkomsel                  7200545588   \n",
       "132             Poco F4         Telkomsel                  7200545588   \n",
       "133                 NaN               NaN                         NaN   \n",
       "\n",
       "              Data yang Digunakan\\n[Jika ada]  Tester   PO FT\\n[Jika Ada]  \\\n",
       "0                                         NaN   Rezki  NaN            NaN   \n",
       "1                                         NaN  Hansen  NaN            NaN   \n",
       "2                                         NaN  Haekal  NaN            NaN   \n",
       "3                                         NaN   Rizky  NaN            NaN   \n",
       "4                                         NaN  Haekal  NaN            NaN   \n",
       "..                                        ...     ...  ...            ...   \n",
       "129  515401131835\\n513140591817\\n513120565822  Nabhan  NaN    FT4311DC8BX   \n",
       "130  522601398196\\n514530958367\\n513140695457   Densu  NaN            NaN   \n",
       "131                               81293394417    Owan  NaN            NaN   \n",
       "132                               81293394417    Owan  NaN            NaN   \n",
       "133                                  Alfamart    Andi  NaN            NaN   \n",
       "\n",
       "     Status Link Report Test Description Issue dan Evidence  \\\n",
       "0    Passed              NaN                            NaN   \n",
       "1    Passed              NaN                            NaN   \n",
       "2    Passed              NaN                            NaN   \n",
       "3    Passed              NaN                            NaN   \n",
       "4    Passed              NaN                            NaN   \n",
       "..      ...              ...                            ...   \n",
       "129  Passed              NaN                            NaN   \n",
       "130  Passed              NaN                            NaN   \n",
       "131  Passed              NaN                            NaN   \n",
       "132  Passed              NaN                            NaN   \n",
       "133  Passed              NaN                            NaN   \n",
       "\n",
       "    Tanggal Eksekusi\\n[harus diisi] Tanggal Passed\\n[harus diisi] Komentar  \n",
       "0                               NaN                           NaN      NaN  \n",
       "1                               NaN                           NaN      NaN  \n",
       "2                               NaN                           NaN      NaN  \n",
       "3                               NaN                           NaN      NaN  \n",
       "4                               NaN                           NaN      NaN  \n",
       "..                              ...                           ...      ...  \n",
       "129                             NaN                           NaN      NaN  \n",
       "130                             NaN                           NaN      NaN  \n",
       "131                             NaN                           NaN      NaN  \n",
       "132                             NaN                           NaN      NaN  \n",
       "133                             NaN                           NaN      NaN  \n",
       "\n",
       "[134 rows x 18 columns]"
      ]
     },
     "execution_count": 70,
     "metadata": {},
     "output_type": "execute_result"
    }
   ],
   "source": [
    "import pandas as pd\n",
    "\n",
    "# Load the Excel file\n",
    "df = pd.read_excel('./dataset/PTR_Rilis_D.xlsx', sheet_name='Prototype - Regresi PTR Tester')\n",
    "\n",
    "# Value to find and use as new header\n",
    "value_to_skip = 'Features'\n",
    "\n",
    "# Find the index of the row containing the value\n",
    "header_index = df.apply(lambda row: row.astype(str).str.contains(value_to_skip).any(), axis=1).idxmax()\n",
    "\n",
    "# Extract the header from the found row and create a new DataFrame\n",
    "new_header = df.iloc[header_index].values\n",
    "df = df.iloc[header_index+1:].copy()\n",
    "\n",
    "# Set the new header\n",
    "df.columns = new_header\n",
    "\n",
    "# Drop the first column dynamically\n",
    "df = df.iloc[:, 1:]\n",
    "\n",
    "# Reset the index without adding the old index as a column\n",
    "df.reset_index(drop=True, inplace=True)\n",
    "\n",
    "df\n"
   ]
  },
  {
   "cell_type": "code",
   "execution_count": 86,
   "metadata": {},
   "outputs": [
    {
     "name": "stdout",
     "output_type": "stream",
     "text": [
      "Found 'PTR Tester' in sheet: Prototype - Regresi PTR Tester\n",
      "    Unnamed: 0            Judul / Envi : Regresi / PTR BYOND  \\\n",
      "0          NaN                                       Version   \n",
      "1          NaN  PTR Ver Android 1.0.3 (272)\\niOS 1.0.3 (267)   \n",
      "2          NaN                                           NaN   \n",
      "3          NaN                                           NaN   \n",
      "4          NaN                                           NaN   \n",
      "..         ...                                           ...   \n",
      "138         64                                           NaN   \n",
      "139        NaN                                           NaN   \n",
      "140         65                       Tarik Tunai tanpa kartu   \n",
      "141        NaN                                           NaN   \n",
      "142        NaN                                           NaN   \n",
      "\n",
      "    Version : Android 1.0.2 (270) / iOS 1.0.2 (238)  \\\n",
      "0                                                OS   \n",
      "1                                           Android   \n",
      "2                                               iOS   \n",
      "3                                               NaN   \n",
      "4                                               NaN   \n",
      "..                                              ...   \n",
      "138                       Postpaid (Pascabayar)\\n\\n   \n",
      "139                                             NaN   \n",
      "140                         Tarik Tunai Tanpa Kartu   \n",
      "141                                             NaN   \n",
      "142                                             NaN   \n",
      "\n",
      "                     Periode Testing : 5 November 2024       Unnamed: 4  \\\n",
      "0                                          Total Fitur  Total Sub Fitur   \n",
      "1                                                   19               65   \n",
      "2                                                   19               65   \n",
      "3                                                  NaN              NaN   \n",
      "4                                                  NaN              NaN   \n",
      "..                                                 ...              ...   \n",
      "138  Berhasil Melakukan Pembayaran PLN Postpaid\\n- ...          Android   \n",
      "139                                                NaN              iOS   \n",
      "140  Berhasil Melakukan Tarik Tunai Tanpa Kartu\\n- ...          Android   \n",
      "141                                                NaN          Android   \n",
      "142                                                NaN              iOS   \n",
      "\n",
      "    Link Upload Capture          Unnamed: 6 Unnamed: 7  Unnamed: 8  \\\n",
      "0             Execution                 NaN     Passed         NaN   \n",
      "1                     0                   0          0           0   \n",
      "2                     0                   0          0           0   \n",
      "3                   NaN                 NaN        NaN         NaN   \n",
      "4                   NaN                 NaN        NaN         NaN   \n",
      "..                  ...                 ...        ...         ...   \n",
      "138                  14  Samsung Galaxy S22        NaN  7203213942   \n",
      "139              17.5.1           Iphone 13        NaN  7202088017   \n",
      "140                  11   Redmi Note 12 Pro  Telkomsel  7200545588   \n",
      "141                  14             Poco F4  Telkomsel  7200545588   \n",
      "142                  11                 NaN        NaN         NaN   \n",
      "\n",
      "                                   Unnamed: 9 Unnamed: 10 Unnamed: 11  \\\n",
      "0                                      Failed         NaN         NaN   \n",
      "1                                           0           0           0   \n",
      "2                                           0           0           0   \n",
      "3                                         NaN         NaN         NaN   \n",
      "4                                         NaN         NaN         NaN   \n",
      "..                                        ...         ...         ...   \n",
      "138  515401131835\\n513140591817\\n513120565822      Nabhan         NaN   \n",
      "139  522601398196\\n514530958367\\n513140695457       Densu         NaN   \n",
      "140                               81293394417        Owan         NaN   \n",
      "141                               81293394417        Owan         NaN   \n",
      "142                                  Alfamart        Andi         NaN   \n",
      "\n",
      "     Unnamed: 12  Unnamed: 13 Unnamed: 14 Unnamed: 15 Unnamed: 16 Unnamed: 17  \\\n",
      "0            NaN  In Progress         NaN         NaN         NaN         NaN   \n",
      "1              0            0           0         NaN         NaN         NaN   \n",
      "2              0            0           0         NaN         NaN         NaN   \n",
      "3            NaN          NaN         NaN         NaN         NaN         NaN   \n",
      "4            NaN          NaN         NaN           o         NaN         NaN   \n",
      "..           ...          ...         ...         ...         ...         ...   \n",
      "138  FT4311DC8BX       Passed         NaN         NaN         NaN         NaN   \n",
      "139          NaN       Passed         NaN         NaN         NaN         NaN   \n",
      "140          NaN       Passed         NaN         NaN         NaN         NaN   \n",
      "141          NaN       Passed         NaN         NaN         NaN         NaN   \n",
      "142          NaN       Passed         NaN         NaN         NaN         NaN   \n",
      "\n",
      "    Unnamed: 18  \n",
      "0           NaN  \n",
      "1           NaN  \n",
      "2           NaN  \n",
      "3           NaN  \n",
      "4           NaN  \n",
      "..          ...  \n",
      "138         NaN  \n",
      "139         NaN  \n",
      "140         NaN  \n",
      "141         NaN  \n",
      "142         NaN  \n",
      "\n",
      "[143 rows x 19 columns]\n"
     ]
    },
    {
     "data": {
      "text/html": [
       "<div>\n",
       "<style scoped>\n",
       "    .dataframe tbody tr th:only-of-type {\n",
       "        vertical-align: middle;\n",
       "    }\n",
       "\n",
       "    .dataframe tbody tr th {\n",
       "        vertical-align: top;\n",
       "    }\n",
       "\n",
       "    .dataframe thead th {\n",
       "        text-align: right;\n",
       "    }\n",
       "</style>\n",
       "<table border=\"1\" class=\"dataframe\">\n",
       "  <thead>\n",
       "    <tr style=\"text-align: right;\">\n",
       "      <th></th>\n",
       "      <th>Unnamed: 0</th>\n",
       "      <th>Judul / Envi : Regresi / PTR BYOND</th>\n",
       "      <th>Version : Android 1.0.2 (270) / iOS 1.0.2 (238)</th>\n",
       "      <th>Periode Testing : 5 November 2024</th>\n",
       "      <th>Unnamed: 4</th>\n",
       "      <th>Link Upload Capture</th>\n",
       "      <th>Unnamed: 6</th>\n",
       "      <th>Unnamed: 7</th>\n",
       "      <th>Unnamed: 8</th>\n",
       "      <th>Unnamed: 9</th>\n",
       "      <th>Unnamed: 10</th>\n",
       "      <th>Unnamed: 11</th>\n",
       "      <th>Unnamed: 12</th>\n",
       "      <th>Unnamed: 13</th>\n",
       "      <th>Unnamed: 14</th>\n",
       "      <th>Unnamed: 15</th>\n",
       "      <th>Unnamed: 16</th>\n",
       "      <th>Unnamed: 17</th>\n",
       "      <th>Unnamed: 18</th>\n",
       "    </tr>\n",
       "  </thead>\n",
       "  <tbody>\n",
       "    <tr>\n",
       "      <th>0</th>\n",
       "      <td>NaN</td>\n",
       "      <td>Version</td>\n",
       "      <td>OS</td>\n",
       "      <td>Total Fitur</td>\n",
       "      <td>Total Sub Fitur</td>\n",
       "      <td>Execution</td>\n",
       "      <td>NaN</td>\n",
       "      <td>Passed</td>\n",
       "      <td>NaN</td>\n",
       "      <td>Failed</td>\n",
       "      <td>NaN</td>\n",
       "      <td>NaN</td>\n",
       "      <td>NaN</td>\n",
       "      <td>In Progress</td>\n",
       "      <td>NaN</td>\n",
       "      <td>NaN</td>\n",
       "      <td>NaN</td>\n",
       "      <td>NaN</td>\n",
       "      <td>NaN</td>\n",
       "    </tr>\n",
       "    <tr>\n",
       "      <th>1</th>\n",
       "      <td>NaN</td>\n",
       "      <td>PTR Ver Android 1.0.3 (272)\\niOS 1.0.3 (267)</td>\n",
       "      <td>Android</td>\n",
       "      <td>19</td>\n",
       "      <td>65</td>\n",
       "      <td>0</td>\n",
       "      <td>0</td>\n",
       "      <td>0</td>\n",
       "      <td>0</td>\n",
       "      <td>0</td>\n",
       "      <td>0</td>\n",
       "      <td>0</td>\n",
       "      <td>0</td>\n",
       "      <td>0</td>\n",
       "      <td>0</td>\n",
       "      <td>NaN</td>\n",
       "      <td>NaN</td>\n",
       "      <td>NaN</td>\n",
       "      <td>NaN</td>\n",
       "    </tr>\n",
       "    <tr>\n",
       "      <th>2</th>\n",
       "      <td>NaN</td>\n",
       "      <td>NaN</td>\n",
       "      <td>iOS</td>\n",
       "      <td>19</td>\n",
       "      <td>65</td>\n",
       "      <td>0</td>\n",
       "      <td>0</td>\n",
       "      <td>0</td>\n",
       "      <td>0</td>\n",
       "      <td>0</td>\n",
       "      <td>0</td>\n",
       "      <td>0</td>\n",
       "      <td>0</td>\n",
       "      <td>0</td>\n",
       "      <td>0</td>\n",
       "      <td>NaN</td>\n",
       "      <td>NaN</td>\n",
       "      <td>NaN</td>\n",
       "      <td>NaN</td>\n",
       "    </tr>\n",
       "    <tr>\n",
       "      <th>3</th>\n",
       "      <td>NaN</td>\n",
       "      <td>NaN</td>\n",
       "      <td>NaN</td>\n",
       "      <td>NaN</td>\n",
       "      <td>NaN</td>\n",
       "      <td>NaN</td>\n",
       "      <td>NaN</td>\n",
       "      <td>NaN</td>\n",
       "      <td>NaN</td>\n",
       "      <td>NaN</td>\n",
       "      <td>NaN</td>\n",
       "      <td>NaN</td>\n",
       "      <td>NaN</td>\n",
       "      <td>NaN</td>\n",
       "      <td>NaN</td>\n",
       "      <td>NaN</td>\n",
       "      <td>NaN</td>\n",
       "      <td>NaN</td>\n",
       "      <td>NaN</td>\n",
       "    </tr>\n",
       "    <tr>\n",
       "      <th>4</th>\n",
       "      <td>NaN</td>\n",
       "      <td>NaN</td>\n",
       "      <td>NaN</td>\n",
       "      <td>NaN</td>\n",
       "      <td>NaN</td>\n",
       "      <td>NaN</td>\n",
       "      <td>NaN</td>\n",
       "      <td>NaN</td>\n",
       "      <td>NaN</td>\n",
       "      <td>NaN</td>\n",
       "      <td>NaN</td>\n",
       "      <td>NaN</td>\n",
       "      <td>NaN</td>\n",
       "      <td>NaN</td>\n",
       "      <td>NaN</td>\n",
       "      <td>o</td>\n",
       "      <td>NaN</td>\n",
       "      <td>NaN</td>\n",
       "      <td>NaN</td>\n",
       "    </tr>\n",
       "    <tr>\n",
       "      <th>...</th>\n",
       "      <td>...</td>\n",
       "      <td>...</td>\n",
       "      <td>...</td>\n",
       "      <td>...</td>\n",
       "      <td>...</td>\n",
       "      <td>...</td>\n",
       "      <td>...</td>\n",
       "      <td>...</td>\n",
       "      <td>...</td>\n",
       "      <td>...</td>\n",
       "      <td>...</td>\n",
       "      <td>...</td>\n",
       "      <td>...</td>\n",
       "      <td>...</td>\n",
       "      <td>...</td>\n",
       "      <td>...</td>\n",
       "      <td>...</td>\n",
       "      <td>...</td>\n",
       "      <td>...</td>\n",
       "    </tr>\n",
       "    <tr>\n",
       "      <th>138</th>\n",
       "      <td>64</td>\n",
       "      <td>NaN</td>\n",
       "      <td>Postpaid (Pascabayar)\\n\\n</td>\n",
       "      <td>Berhasil Melakukan Pembayaran PLN Postpaid\\n- ...</td>\n",
       "      <td>Android</td>\n",
       "      <td>14</td>\n",
       "      <td>Samsung Galaxy S22</td>\n",
       "      <td>NaN</td>\n",
       "      <td>7203213942</td>\n",
       "      <td>515401131835\\n513140591817\\n513120565822</td>\n",
       "      <td>Nabhan</td>\n",
       "      <td>NaN</td>\n",
       "      <td>FT4311DC8BX</td>\n",
       "      <td>Passed</td>\n",
       "      <td>NaN</td>\n",
       "      <td>NaN</td>\n",
       "      <td>NaN</td>\n",
       "      <td>NaN</td>\n",
       "      <td>NaN</td>\n",
       "    </tr>\n",
       "    <tr>\n",
       "      <th>139</th>\n",
       "      <td>NaN</td>\n",
       "      <td>NaN</td>\n",
       "      <td>NaN</td>\n",
       "      <td>NaN</td>\n",
       "      <td>iOS</td>\n",
       "      <td>17.5.1</td>\n",
       "      <td>Iphone 13</td>\n",
       "      <td>NaN</td>\n",
       "      <td>7202088017</td>\n",
       "      <td>522601398196\\n514530958367\\n513140695457</td>\n",
       "      <td>Densu</td>\n",
       "      <td>NaN</td>\n",
       "      <td>NaN</td>\n",
       "      <td>Passed</td>\n",
       "      <td>NaN</td>\n",
       "      <td>NaN</td>\n",
       "      <td>NaN</td>\n",
       "      <td>NaN</td>\n",
       "      <td>NaN</td>\n",
       "    </tr>\n",
       "    <tr>\n",
       "      <th>140</th>\n",
       "      <td>65</td>\n",
       "      <td>Tarik Tunai tanpa kartu</td>\n",
       "      <td>Tarik Tunai Tanpa Kartu</td>\n",
       "      <td>Berhasil Melakukan Tarik Tunai Tanpa Kartu\\n- ...</td>\n",
       "      <td>Android</td>\n",
       "      <td>11</td>\n",
       "      <td>Redmi Note 12 Pro</td>\n",
       "      <td>Telkomsel</td>\n",
       "      <td>7200545588</td>\n",
       "      <td>81293394417</td>\n",
       "      <td>Owan</td>\n",
       "      <td>NaN</td>\n",
       "      <td>NaN</td>\n",
       "      <td>Passed</td>\n",
       "      <td>NaN</td>\n",
       "      <td>NaN</td>\n",
       "      <td>NaN</td>\n",
       "      <td>NaN</td>\n",
       "      <td>NaN</td>\n",
       "    </tr>\n",
       "    <tr>\n",
       "      <th>141</th>\n",
       "      <td>NaN</td>\n",
       "      <td>NaN</td>\n",
       "      <td>NaN</td>\n",
       "      <td>NaN</td>\n",
       "      <td>Android</td>\n",
       "      <td>14</td>\n",
       "      <td>Poco F4</td>\n",
       "      <td>Telkomsel</td>\n",
       "      <td>7200545588</td>\n",
       "      <td>81293394417</td>\n",
       "      <td>Owan</td>\n",
       "      <td>NaN</td>\n",
       "      <td>NaN</td>\n",
       "      <td>Passed</td>\n",
       "      <td>NaN</td>\n",
       "      <td>NaN</td>\n",
       "      <td>NaN</td>\n",
       "      <td>NaN</td>\n",
       "      <td>NaN</td>\n",
       "    </tr>\n",
       "    <tr>\n",
       "      <th>142</th>\n",
       "      <td>NaN</td>\n",
       "      <td>NaN</td>\n",
       "      <td>NaN</td>\n",
       "      <td>NaN</td>\n",
       "      <td>iOS</td>\n",
       "      <td>11</td>\n",
       "      <td>NaN</td>\n",
       "      <td>NaN</td>\n",
       "      <td>NaN</td>\n",
       "      <td>Alfamart</td>\n",
       "      <td>Andi</td>\n",
       "      <td>NaN</td>\n",
       "      <td>NaN</td>\n",
       "      <td>Passed</td>\n",
       "      <td>NaN</td>\n",
       "      <td>NaN</td>\n",
       "      <td>NaN</td>\n",
       "      <td>NaN</td>\n",
       "      <td>NaN</td>\n",
       "    </tr>\n",
       "  </tbody>\n",
       "</table>\n",
       "<p>143 rows × 19 columns</p>\n",
       "</div>"
      ],
      "text/plain": [
       "    Unnamed: 0            Judul / Envi : Regresi / PTR BYOND  \\\n",
       "0          NaN                                       Version   \n",
       "1          NaN  PTR Ver Android 1.0.3 (272)\\niOS 1.0.3 (267)   \n",
       "2          NaN                                           NaN   \n",
       "3          NaN                                           NaN   \n",
       "4          NaN                                           NaN   \n",
       "..         ...                                           ...   \n",
       "138         64                                           NaN   \n",
       "139        NaN                                           NaN   \n",
       "140         65                       Tarik Tunai tanpa kartu   \n",
       "141        NaN                                           NaN   \n",
       "142        NaN                                           NaN   \n",
       "\n",
       "    Version : Android 1.0.2 (270) / iOS 1.0.2 (238)  \\\n",
       "0                                                OS   \n",
       "1                                           Android   \n",
       "2                                               iOS   \n",
       "3                                               NaN   \n",
       "4                                               NaN   \n",
       "..                                              ...   \n",
       "138                       Postpaid (Pascabayar)\\n\\n   \n",
       "139                                             NaN   \n",
       "140                         Tarik Tunai Tanpa Kartu   \n",
       "141                                             NaN   \n",
       "142                                             NaN   \n",
       "\n",
       "                     Periode Testing : 5 November 2024       Unnamed: 4  \\\n",
       "0                                          Total Fitur  Total Sub Fitur   \n",
       "1                                                   19               65   \n",
       "2                                                   19               65   \n",
       "3                                                  NaN              NaN   \n",
       "4                                                  NaN              NaN   \n",
       "..                                                 ...              ...   \n",
       "138  Berhasil Melakukan Pembayaran PLN Postpaid\\n- ...          Android   \n",
       "139                                                NaN              iOS   \n",
       "140  Berhasil Melakukan Tarik Tunai Tanpa Kartu\\n- ...          Android   \n",
       "141                                                NaN          Android   \n",
       "142                                                NaN              iOS   \n",
       "\n",
       "    Link Upload Capture          Unnamed: 6 Unnamed: 7  Unnamed: 8  \\\n",
       "0             Execution                 NaN     Passed         NaN   \n",
       "1                     0                   0          0           0   \n",
       "2                     0                   0          0           0   \n",
       "3                   NaN                 NaN        NaN         NaN   \n",
       "4                   NaN                 NaN        NaN         NaN   \n",
       "..                  ...                 ...        ...         ...   \n",
       "138                  14  Samsung Galaxy S22        NaN  7203213942   \n",
       "139              17.5.1           Iphone 13        NaN  7202088017   \n",
       "140                  11   Redmi Note 12 Pro  Telkomsel  7200545588   \n",
       "141                  14             Poco F4  Telkomsel  7200545588   \n",
       "142                  11                 NaN        NaN         NaN   \n",
       "\n",
       "                                   Unnamed: 9 Unnamed: 10 Unnamed: 11  \\\n",
       "0                                      Failed         NaN         NaN   \n",
       "1                                           0           0           0   \n",
       "2                                           0           0           0   \n",
       "3                                         NaN         NaN         NaN   \n",
       "4                                         NaN         NaN         NaN   \n",
       "..                                        ...         ...         ...   \n",
       "138  515401131835\\n513140591817\\n513120565822      Nabhan         NaN   \n",
       "139  522601398196\\n514530958367\\n513140695457       Densu         NaN   \n",
       "140                               81293394417        Owan         NaN   \n",
       "141                               81293394417        Owan         NaN   \n",
       "142                                  Alfamart        Andi         NaN   \n",
       "\n",
       "     Unnamed: 12  Unnamed: 13 Unnamed: 14 Unnamed: 15 Unnamed: 16 Unnamed: 17  \\\n",
       "0            NaN  In Progress         NaN         NaN         NaN         NaN   \n",
       "1              0            0           0         NaN         NaN         NaN   \n",
       "2              0            0           0         NaN         NaN         NaN   \n",
       "3            NaN          NaN         NaN         NaN         NaN         NaN   \n",
       "4            NaN          NaN         NaN           o         NaN         NaN   \n",
       "..           ...          ...         ...         ...         ...         ...   \n",
       "138  FT4311DC8BX       Passed         NaN         NaN         NaN         NaN   \n",
       "139          NaN       Passed         NaN         NaN         NaN         NaN   \n",
       "140          NaN       Passed         NaN         NaN         NaN         NaN   \n",
       "141          NaN       Passed         NaN         NaN         NaN         NaN   \n",
       "142          NaN       Passed         NaN         NaN         NaN         NaN   \n",
       "\n",
       "    Unnamed: 18  \n",
       "0           NaN  \n",
       "1           NaN  \n",
       "2           NaN  \n",
       "3           NaN  \n",
       "4           NaN  \n",
       "..          ...  \n",
       "138         NaN  \n",
       "139         NaN  \n",
       "140         NaN  \n",
       "141         NaN  \n",
       "142         NaN  \n",
       "\n",
       "[143 rows x 19 columns]"
      ]
     },
     "execution_count": 86,
     "metadata": {},
     "output_type": "execute_result"
    }
   ],
   "source": [
    "import pandas as pd\n",
    "\n",
    "# Load the Excel file\n",
    "file_path = './dataset/PTR_Rilis_D.xlsx'\n",
    "specific_value = 'PTR Tester'\n",
    "\n",
    "# Load Excel file and get sheet names\n",
    "xls = pd.ExcelFile(file_path)\n",
    "sheet_names = xls.sheet_names\n",
    "\n",
    "# Initialize variable to store the target sheet\n",
    "target_sheet = None\n",
    "\n",
    "# Iterate through the sheet names to find the specific value\n",
    "for sheet in sheet_names:\n",
    "    df = pd.read_excel(file_path, sheet_name=sheet)\n",
    "    if specific_value in sheet or df.apply(lambda row: row.astype(str).str.contains(specific_value, case=False, na=False)).any().any():\n",
    "        target_sheet = sheet\n",
    "        break\n",
    "\n",
    "# Check if the target sheet was found\n",
    "if target_sheet:\n",
    "    df = pd.read_excel(file_path, sheet_name=target_sheet)\n",
    "    print(f\"Found '{specific_value}' in sheet: {target_sheet}\")\n",
    "    print(df)  # Display the first few rows of the DataFrame\n",
    "else:\n",
    "    print(f\"Value '{specific_value}' not found in any sheet.\")\n",
    "\n",
    "# Display the target sheet DataFrame\n",
    "df\n"
   ]
  },
  {
   "cell_type": "code",
   "execution_count": null,
   "metadata": {},
   "outputs": [],
   "source": [
    "import streamlit as st\n",
    "import pandas as pd\n",
    "from st_aggrid import AgGrid, GridOptionsBuilder, JsCode\n",
    "\n",
    "def display_tester_page():\n",
    "    with st.container():\n",
    "        col1, col2 = st.columns([1, 1])\n",
    "        \n",
    "        with col1:\n",
    "            st.subheader('Dashboard')\n",
    "            skip_rows = st.number_input('Enter the number of rows to skip', min_value=0, value=0, step=1)\n",
    "            select_sheet = st.text_input(\"Enter the name of the sheet\")\n",
    "            data_uploaded = st.file_uploader('Choose an excel file', type='xlsx')\n",
    "            \n",
    "        with col2:\n",
    "            st.header(' ')\n",
    "    \n",
    "    if data_uploaded is not None and select_sheet:\n",
    "        try:\n",
    "            # Read Excel file\n",
    "            excel_ptr = pd.read_excel(data_uploaded, skiprows=skip_rows, sheet_name=select_sheet, dtype={'YourColumnName': str})\n",
    "            excel_ptr.drop(columns='No', inplace=True)\n",
    "            excel_ptr.rename(columns={\n",
    "                'Sub Fitur': 'Sub-features',\n",
    "                'Rekening Sumber\\n[Jika ada]': 'Rekening Sumber',\n",
    "                'Data yang Digunakan\\n[Jika ada]': 'Data yang digunakan',\n",
    "                'FT\\n[Jika Ada]': 'FT',\n",
    "                'Tanggal Eksekusi\\n[harus diisi]': 'Tanggal Eksekusi',\n",
    "                'Tanggal Passed\\n[harus diisi]': 'Tanggal Passed'\n",
    "            }, inplace=True)\n",
    "            excel_ptr[['Features', 'Sub-features', 'Expected Condition']] = excel_ptr[['Features', 'Sub-features', 'Expected Condition']].apply(lambda x: x.ffill())\n",
    "\n",
    "            # Set up the GridOptionsBuilder with enhancements\n",
    "            gb = GridOptionsBuilder.from_dataframe(excel_ptr)\n",
    "            gb.configure_default_column(resizable=True, filterable=True, sortable=True, editable=True, cellStyle={'padding': '10px', 'borderBottom': '1px solid #ddd', 'fontSize':'20px'})\n",
    "            gb.configure_column(\"Features\", rowGroup=True, hide=True)\n",
    "            gb.configure_column(\"Sub-features\", rowGroup=True, hide=True)\n",
    "            gb.configure_column(\"Expected Condition\", rowGroup=True, hide=True, tooltipField=\"Expected Condition\", headerTooltip=\"Expected Condition\")\n",
    "\n",
    "            # Conditional formatting for critical items in Sub-features\n",
    "            gb.configure_column(\"Sub-features\", cellStyle=JsCode(\"\"\"\n",
    "                function(params) {\n",
    "                    if (params.value && params.value.includes(\"Critical\")) {\n",
    "                        return { 'backgroundColor': '#FFDDC1', 'color': '#B22222', 'font-weight': 'bold' };\n",
    "                    }\n",
    "                    return {};\n",
    "                }\n",
    "            \"\"\"))\n",
    "\n",
    "            # Increase row height and set other grid options\n",
    "            gridOptions = gb.build()\n",
    "            gridOptions['rowHeight'] = 40  # Increase row height\n",
    "            gridOptions['groupDefaultExpanded'] = -1  # Expand all groups by default\n",
    "            gridOptions['suppressColumnVirtualisation'] = True\n",
    "            gridOptions['groupDisplayType'] = \"groupRows\"\n",
    "            gridOptions['autoGroupColumnDef'] = {\n",
    "                'minWidth': 150, \n",
    "                'pinned': \"left\", \n",
    "                'cellRendererParams': {'suppressCount': True}\n",
    "            }\n",
    "\n",
    "            # Display the dataframe with the \"balham\" theme\n",
    "            AgGrid(excel_ptr, gridOptions=gridOptions, height=600, theme=\"balham\", allow_unsafe_jscode=True)\n",
    "                    \n",
    "        except Exception as e:\n",
    "            st.error(f\"An error occurred: {e}\")\n",
    "\n",
    "if __name__ == \"__main__\":\n",
    "    display_tester_page()\n"
   ]
  },
  {
   "cell_type": "markdown",
   "metadata": {},
   "source": [
    "### Testing upload file di gdrive"
   ]
  },
  {
   "cell_type": "code",
   "execution_count": 9,
   "metadata": {},
   "outputs": [],
   "source": [
    "from googleapiclient.discovery import build\n",
    "from google.oauth2 import service_account\n",
    "\n",
    "SCOPES = ['https://www.googleapis.com/auth/drive']\n",
    "SERVICE_ACCOUNT_FILE = 'service_account.json'\n",
    "PARENT_FOLDER_ID = '1vIKk9xgUn1JGY2MFPdB6W3tEfU8oVptP'\n",
    "\n",
    "def authenticate():\n",
    "    creds = service_account.Credentials.from_service_account_file(SERVICE_ACCOUNT_FILE, scopes=SCOPES)\n",
    "    return creds\n",
    "\n",
    "def upload_file(file_path):\n",
    "    creds = authenticate()\n",
    "    service = build('drive', 'v3', credentials=creds)\n",
    "    \n",
    "    file_metadata = {\n",
    "        'name':'PTR_Rilis_D',\n",
    "        'parents':[PARENT_FOLDER_ID]\n",
    "    }\n",
    "    \n",
    "    file = service.files().create(\n",
    "        body=file_metadata,\n",
    "        media_body=file_path\n",
    "    ).execute()\n",
    "    \n",
    "upload_file('./dataset/PTR_Rilis_D.xlsx')"
   ]
  },
  {
   "cell_type": "code",
   "execution_count": null,
   "metadata": {},
   "outputs": [
    {
     "name": "stdout",
     "output_type": "stream",
     "text": [
      "User\n",
      "PTR\n"
     ]
    }
   ],
   "source": [
    "import pandas as pd\n",
    "from googleapiclient.discovery import build\n",
    "from google.oauth2 import service_account\n",
    "from io import BytesIO\n",
    "from googleapiclient.http import MediaIoBaseDownload\n",
    "\n",
    "SCOPES = ['https://www.googleapis.com/auth/drive']\n",
    "SERVICE_ACCOUNT_FILE = 'service_account.json'\n",
    "PARENT_FOLDER_ID = '1SjXetNj-_yrXgs1rfIMM_ISmWdECBbic'\n",
    "\n",
    "def authenticate():\n",
    "    '''\n",
    "    Fungsi untuk autentikasi google biar bisa akses gdrive\n",
    "    '''\n",
    "    creds = service_account.Credentials.from_service_account_file(SERVICE_ACCOUNT_FILE, scopes=SCOPES)\n",
    "    return creds\n",
    "\n",
    "def read_file_from_drive(file_id):\n",
    "    '''\n",
    "    Baca list file excel dari gdrive\n",
    "    '''\n",
    "    creds = authenticate()\n",
    "    service = build('drive', 'v3', credentials=creds)\n",
    "    \n",
    "    request = service.files().get_media(fileId=file_id)\n",
    "    file_data = BytesIO()\n",
    "    downloader = MediaIoBaseDownload(file_data, request)\n",
    "    done = False\n",
    "    while done is False:\n",
    "        _, done = downloader.next_chunk()\n",
    "    \n",
    "    file_data.seek(0)\n",
    "    df = pd.read_excel(file_data)\n",
    "    return df\n",
    "\n",
    "# List files in the folder\n",
    "def list_files():\n",
    "    creds = authenticate()\n",
    "    service = build('drive', 'v3', credentials=creds)\n",
    "    \n",
    "    results = service.files().list(\n",
    "        q=f\"'{PARENT_FOLDER_ID}' in parents\",\n",
    "        spaces='drive',\n",
    "        fields='nextPageToken, files(id, name)'\n",
    "    ).execute()\n",
    "    \n",
    "    items = results.get('files', [])\n",
    "    \n",
    "    if not items:\n",
    "        print('No files found.')\n",
    "    else:\n",
    "        for item in items:\n",
    "            print(f\"{item['name']}\")\n",
    "    return items\n",
    "\n",
    "files = list_files()"
   ]
  },
  {
   "cell_type": "markdown",
   "metadata": {},
   "source": [
    "## Testing chart that fits to problem"
   ]
  },
  {
   "cell_type": "code",
   "execution_count": 20,
   "metadata": {},
   "outputs": [
    {
     "data": {
      "text/plain": [
       "[('Android', 'Passed'),\n",
       " ('iOS', 'Passed'),\n",
       " ('Android', 'Passed'),\n",
       " ('iOS', 'Passed'),\n",
       " ('Android', 'Passed'),\n",
       " ('iOS', 'Passed'),\n",
       " ('Android', 'Passed'),\n",
       " ('iOS', 'Passed'),\n",
       " ('Android', 'Passed'),\n",
       " ('iOS', 'Passed'),\n",
       " ('Android', 'Passed'),\n",
       " ('iOS', 'Passed'),\n",
       " ('Android', 'Passed'),\n",
       " ('iOS', 'Passed'),\n",
       " ('Android', 'Passed'),\n",
       " ('iOS', 'Passed'),\n",
       " ('Android', 'Passed'),\n",
       " ('iOS', 'Passed'),\n",
       " ('Android', 'Passed'),\n",
       " ('iOS', 'Passed'),\n",
       " ('Android', 'Passed'),\n",
       " ('iOS', 'Passed'),\n",
       " ('Android', 'Passed'),\n",
       " ('iOS', 'Passed'),\n",
       " ('Android', 'Passed'),\n",
       " ('iOS', 'Passed'),\n",
       " ('Android', 'Passed'),\n",
       " ('iOS', 'Passed'),\n",
       " ('Android', 'Passed'),\n",
       " ('iOS', 'Passed'),\n",
       " ('Android', 'Passed'),\n",
       " ('iOS', 'Passed'),\n",
       " ('Android', 'Passed'),\n",
       " ('iOS', 'Passed'),\n",
       " ('Android', 'Passed'),\n",
       " ('iOS', 'Passed'),\n",
       " ('Android', 'Passed'),\n",
       " ('iOS', 'Passed'),\n",
       " ('Android', 'Passed'),\n",
       " ('iOS', 'Passed'),\n",
       " ('Android', 'Passed'),\n",
       " ('iOS', 'Passed'),\n",
       " ('Android', 'Passed'),\n",
       " ('iOS', 'Passed'),\n",
       " ('Android', 'Passed'),\n",
       " ('iOS', 'Passed'),\n",
       " ('Android', 'Passed'),\n",
       " ('iOS', 'Passed'),\n",
       " ('Android', 'Passed'),\n",
       " ('iOS', 'Passed'),\n",
       " ('Android', 'Passed'),\n",
       " ('iOS', 'Passed'),\n",
       " ('Android', 'Passed'),\n",
       " ('iOS', 'Passed'),\n",
       " ('Android', 'Passed'),\n",
       " ('iOS', 'Passed'),\n",
       " ('Android', 'Passed'),\n",
       " ('iOS', 'Passed'),\n",
       " ('Android', 'Passed'),\n",
       " ('iOS', 'Passed'),\n",
       " ('Android', 'Passed'),\n",
       " ('iOS', 'Passed'),\n",
       " ('Android', 'Passed'),\n",
       " ('iOS', 'Passed'),\n",
       " ('Android', 'Passed'),\n",
       " ('iOS', 'Passed'),\n",
       " ('Android', 'Passed'),\n",
       " ('iOS', 'Passed'),\n",
       " ('Android', 'Passed'),\n",
       " ('iOS', 'Passed'),\n",
       " ('Android', 'Passed'),\n",
       " ('iOS', 'Passed'),\n",
       " ('Android', 'Passed'),\n",
       " ('iOS', 'Passed'),\n",
       " ('Android', 'Passed'),\n",
       " ('iOS', 'Passed'),\n",
       " ('Android', 'Passed'),\n",
       " ('iOS', 'Passed'),\n",
       " ('Android', 'Passed'),\n",
       " ('iOS', 'Passed'),\n",
       " ('Android', 'Passed'),\n",
       " ('iOS', 'Passed'),\n",
       " ('Android', 'Passed'),\n",
       " ('iOS', 'Passed'),\n",
       " ('Android', 'Passed'),\n",
       " ('iOS', 'Passed'),\n",
       " ('Android', 'Passed'),\n",
       " ('iOS', 'Passed'),\n",
       " ('Android', 'Passed'),\n",
       " ('iOS', 'Passed'),\n",
       " ('Android', 'Passed'),\n",
       " ('iOS', 'Passed'),\n",
       " ('Android', 'Failed'),\n",
       " ('iOS', 'Failed'),\n",
       " ('Android', 'Passed'),\n",
       " ('iOS', 'Passed'),\n",
       " ('Android', 'Passed'),\n",
       " ('iOS', 'Passed'),\n",
       " ('Android', 'Passed'),\n",
       " ('iOS', 'Passed'),\n",
       " ('Android', 'Passed'),\n",
       " ('iOS', 'Passed'),\n",
       " ('Android', 'Failed'),\n",
       " ('Android', 'Failed'),\n",
       " ('iOS', 'Failed'),\n",
       " ('Android', 'Passed'),\n",
       " ('Android', 'Passed'),\n",
       " ('iOS', 'Passed'),\n",
       " ('Android', 'Passed'),\n",
       " (nan, 'Passed'),\n",
       " ('iOS', 'Passed'),\n",
       " ('Android', 'Passed'),\n",
       " ('iOS', 'Passed'),\n",
       " ('Android', 'Passed'),\n",
       " ('iOS', 'Passed'),\n",
       " ('Android', 'Passed'),\n",
       " ('iOS', 'Passed'),\n",
       " ('Android', 'Passed'),\n",
       " ('iOS', 'Passed'),\n",
       " ('Android', 'Passed'),\n",
       " ('iOS', 'Passed'),\n",
       " ('Android', 'Passed'),\n",
       " ('iOS', 'Failed'),\n",
       " ('Android', 'Passed'),\n",
       " ('iOS', 'Passed'),\n",
       " ('Android', 'Passed'),\n",
       " ('iOS', 'Passed'),\n",
       " ('Android', 'Passed'),\n",
       " ('iOS', 'Passed'),\n",
       " ('Android', 'Passed'),\n",
       " ('iOS', 'Passed'),\n",
       " ('Android', 'Passed'),\n",
       " ('Android', 'Passed'),\n",
       " ('iOS', 'Passed')]"
      ]
     },
     "execution_count": 20,
     "metadata": {},
     "output_type": "execute_result"
    }
   ],
   "source": [
    "# df[['OS', 'Status']]\n",
    "\n",
    "[(x, y) for x, y in zip(df['OS'].values, df['Status'].values)]"
   ]
  },
  {
   "cell_type": "code",
   "execution_count": 24,
   "metadata": {},
   "outputs": [
    {
     "data": {
      "text/plain": [
       "65"
      ]
     },
     "execution_count": 24,
     "metadata": {},
     "output_type": "execute_result"
    }
   ],
   "source": [
    "# hitung progress execution rate, passed, dll\n",
    "\n",
    "listof_status = [(x, y) for x, y in zip(df['OS'].values, df['Status'].values)]\n",
    "\n",
    "passed = sum(1 for i in listof_status if i == ('Android', 'Passed'))\n",
    "passed"
   ]
  },
  {
   "cell_type": "code",
   "execution_count": 3,
   "metadata": {},
   "outputs": [
    {
     "data": {
      "application/vnd.plotly.v1+json": {
       "config": {
        "plotlyServerURL": "https://plot.ly"
       },
       "data": [
        {
         "marker": {
          "color": [
           "green",
           "lightgray"
          ],
          "line": {
           "width": 1
          }
         },
         "orientation": "h",
         "type": "bar",
         "x": [
          75,
          25
         ],
         "y": [
          "Progress"
         ]
        }
       ],
       "layout": {
        "height": 200,
        "margin": {
         "b": 20,
         "l": 20,
         "r": 20,
         "t": 30
        },
        "showlegend": false,
        "template": {
         "data": {
          "candlestick": [
           {
            "decreasing": {
             "line": {
              "color": "#000033"
             }
            },
            "increasing": {
             "line": {
              "color": "#000032"
             }
            },
            "type": "candlestick"
           }
          ],
          "contour": [
           {
            "colorscale": [
             [
              0,
              "#000011"
             ],
             [
              0.1111111111111111,
              "#000012"
             ],
             [
              0.2222222222222222,
              "#000013"
             ],
             [
              0.3333333333333333,
              "#000014"
             ],
             [
              0.4444444444444444,
              "#000015"
             ],
             [
              0.5555555555555556,
              "#000016"
             ],
             [
              0.6666666666666666,
              "#000017"
             ],
             [
              0.7777777777777778,
              "#000018"
             ],
             [
              0.8888888888888888,
              "#000019"
             ],
             [
              1,
              "#000020"
             ]
            ],
            "type": "contour"
           }
          ],
          "contourcarpet": [
           {
            "colorscale": [
             [
              0,
              "#000011"
             ],
             [
              0.1111111111111111,
              "#000012"
             ],
             [
              0.2222222222222222,
              "#000013"
             ],
             [
              0.3333333333333333,
              "#000014"
             ],
             [
              0.4444444444444444,
              "#000015"
             ],
             [
              0.5555555555555556,
              "#000016"
             ],
             [
              0.6666666666666666,
              "#000017"
             ],
             [
              0.7777777777777778,
              "#000018"
             ],
             [
              0.8888888888888888,
              "#000019"
             ],
             [
              1,
              "#000020"
             ]
            ],
            "type": "contourcarpet"
           }
          ],
          "heatmap": [
           {
            "colorscale": [
             [
              0,
              "#000011"
             ],
             [
              0.1111111111111111,
              "#000012"
             ],
             [
              0.2222222222222222,
              "#000013"
             ],
             [
              0.3333333333333333,
              "#000014"
             ],
             [
              0.4444444444444444,
              "#000015"
             ],
             [
              0.5555555555555556,
              "#000016"
             ],
             [
              0.6666666666666666,
              "#000017"
             ],
             [
              0.7777777777777778,
              "#000018"
             ],
             [
              0.8888888888888888,
              "#000019"
             ],
             [
              1,
              "#000020"
             ]
            ],
            "type": "heatmap"
           }
          ],
          "histogram2d": [
           {
            "colorscale": [
             [
              0,
              "#000011"
             ],
             [
              0.1111111111111111,
              "#000012"
             ],
             [
              0.2222222222222222,
              "#000013"
             ],
             [
              0.3333333333333333,
              "#000014"
             ],
             [
              0.4444444444444444,
              "#000015"
             ],
             [
              0.5555555555555556,
              "#000016"
             ],
             [
              0.6666666666666666,
              "#000017"
             ],
             [
              0.7777777777777778,
              "#000018"
             ],
             [
              0.8888888888888888,
              "#000019"
             ],
             [
              1,
              "#000020"
             ]
            ],
            "type": "histogram2d"
           }
          ],
          "icicle": [
           {
            "textfont": {
             "color": "white"
            },
            "type": "icicle"
           }
          ],
          "sankey": [
           {
            "textfont": {
             "color": "#000036"
            },
            "type": "sankey"
           }
          ],
          "scatter": [
           {
            "marker": {
             "line": {
              "width": 0
             }
            },
            "type": "scatter"
           }
          ],
          "table": [
           {
            "cells": {
             "fill": {
              "color": "#000038"
             },
             "font": {
              "color": "#000037"
             },
             "line": {
              "color": "#000039"
             }
            },
            "header": {
             "fill": {
              "color": "#000040"
             },
             "font": {
              "color": "#000036"
             },
             "line": {
              "color": "#000039"
             }
            },
            "type": "table"
           }
          ],
          "waterfall": [
           {
            "connector": {
             "line": {
              "color": "#000036",
              "width": 2
             }
            },
            "decreasing": {
             "marker": {
              "color": "#000033"
             }
            },
            "increasing": {
             "marker": {
              "color": "#000032"
             }
            },
            "totals": {
             "marker": {
              "color": "#000034"
             }
            },
            "type": "waterfall"
           }
          ]
         },
         "layout": {
          "coloraxis": {
           "colorscale": [
            [
             0,
             "#000011"
            ],
            [
             0.1111111111111111,
             "#000012"
            ],
            [
             0.2222222222222222,
             "#000013"
            ],
            [
             0.3333333333333333,
             "#000014"
            ],
            [
             0.4444444444444444,
             "#000015"
            ],
            [
             0.5555555555555556,
             "#000016"
            ],
            [
             0.6666666666666666,
             "#000017"
            ],
            [
             0.7777777777777778,
             "#000018"
            ],
            [
             0.8888888888888888,
             "#000019"
            ],
            [
             1,
             "#000020"
            ]
           ]
          },
          "colorscale": {
           "diverging": [
            [
             0,
             "#000021"
            ],
            [
             0.1,
             "#000022"
            ],
            [
             0.2,
             "#000023"
            ],
            [
             0.3,
             "#000024"
            ],
            [
             0.4,
             "#000025"
            ],
            [
             0.5,
             "#000026"
            ],
            [
             0.6,
             "#000027"
            ],
            [
             0.7,
             "#000028"
            ],
            [
             0.8,
             "#000029"
            ],
            [
             0.9,
             "#000030"
            ],
            [
             1,
             "#000031"
            ]
           ],
           "sequential": [
            [
             0,
             "#000011"
            ],
            [
             0.1111111111111111,
             "#000012"
            ],
            [
             0.2222222222222222,
             "#000013"
            ],
            [
             0.3333333333333333,
             "#000014"
            ],
            [
             0.4444444444444444,
             "#000015"
            ],
            [
             0.5555555555555556,
             "#000016"
            ],
            [
             0.6666666666666666,
             "#000017"
            ],
            [
             0.7777777777777778,
             "#000018"
            ],
            [
             0.8888888888888888,
             "#000019"
            ],
            [
             1,
             "#000020"
            ]
           ],
           "sequentialminus": [
            [
             0,
             "#000011"
            ],
            [
             0.1111111111111111,
             "#000012"
            ],
            [
             0.2222222222222222,
             "#000013"
            ],
            [
             0.3333333333333333,
             "#000014"
            ],
            [
             0.4444444444444444,
             "#000015"
            ],
            [
             0.5555555555555556,
             "#000016"
            ],
            [
             0.6666666666666666,
             "#000017"
            ],
            [
             0.7777777777777778,
             "#000018"
            ],
            [
             0.8888888888888888,
             "#000019"
            ],
            [
             1,
             "#000020"
            ]
           ]
          },
          "colorway": [
           "#000001",
           "#000002",
           "#000003",
           "#000004",
           "#000005",
           "#000006",
           "#000007",
           "#000008",
           "#000009",
           "#000010"
          ]
         }
        },
        "title": {
         "text": "Progress to 100%"
        },
        "xaxis": {
         "range": [
          0,
          100
         ],
         "showticklabels": false
        },
        "yaxis": {
         "showticklabels": false
        }
       }
      }
     },
     "metadata": {},
     "output_type": "display_data"
    }
   ],
   "source": [
    "import plotly.graph_objects as go\n",
    "\n",
    "# Progress value (you can dynamically update this)\n",
    "progress = 75\n",
    "\n",
    "# Create a progress bar chart\n",
    "fig = go.Figure(go.Bar(\n",
    "    x=[progress, 100-progress],\n",
    "    y=[\"Progress\"],\n",
    "    orientation='h',\n",
    "    marker=dict(color=['green', 'lightgray'], line=dict(width=1))\n",
    "))\n",
    "\n",
    "# Customize layout\n",
    "fig.update_layout(\n",
    "    xaxis=dict(range=[0, 100], showticklabels=False),\n",
    "    yaxis=dict(showticklabels=False),\n",
    "    showlegend=False,\n",
    "    title=\"Progress to 100%\",\n",
    "    margin=dict(l=20, r=20, t=30, b=20),\n",
    "    height=200\n",
    ")\n",
    "\n",
    "# Display in Streamlit\n",
    "fig\n"
   ]
  },
  {
   "cell_type": "code",
   "execution_count": 1,
   "metadata": {},
   "outputs": [],
   "source": [
    "b=['a','b','c','d','e','f','g','h','i']\n",
    "def testing(a = b):\n",
    "    abc = print(a)\n",
    "    return abc"
   ]
  },
  {
   "cell_type": "code",
   "execution_count": 4,
   "metadata": {},
   "outputs": [
    {
     "name": "stdout",
     "output_type": "stream",
     "text": [
      "[1, 2, 3, 4]\n"
     ]
    }
   ],
   "source": [
    "testing(a = [1,2,3,4])"
   ]
  },
  {
   "cell_type": "code",
   "execution_count": 2,
   "metadata": {},
   "outputs": [
    {
     "name": "stdout",
     "output_type": "stream",
     "text": [
      "['a', 'b', 'c', 'd', 'e', 'f', 'g', 'h', 'i']\n"
     ]
    }
   ],
   "source": [
    "testing()"
   ]
  },
  {
   "cell_type": "markdown",
   "metadata": {},
   "source": [
    "## Testing to get list of features"
   ]
  },
  {
   "cell_type": "code",
   "execution_count": 77,
   "metadata": {},
   "outputs": [],
   "source": [
    "df = pd.read_excel('./dataset/PTR_Nov_2024.xlsx', sheet_name='Regresi PTR Tester (2)', header=None)"
   ]
  },
  {
   "cell_type": "code",
   "execution_count": 78,
   "metadata": {},
   "outputs": [],
   "source": [
    "temp_df = df.ffill()"
   ]
  },
  {
   "cell_type": "code",
   "execution_count": 79,
   "metadata": {},
   "outputs": [],
   "source": [
    "def get_ptr_versions(temp_df):\n",
    "    listof_ver = temp_df[temp_df[1].str.contains('PTR Ver')][1].unique().tolist()\n",
    "    if not listof_ver:  # Check if the list is empty\n",
    "        return None\n",
    "    return listof_ver"
   ]
  },
  {
   "cell_type": "code",
   "execution_count": 81,
   "metadata": {},
   "outputs": [
    {
     "data": {
      "text/html": [
       "<div>\n",
       "<style scoped>\n",
       "    .dataframe tbody tr th:only-of-type {\n",
       "        vertical-align: middle;\n",
       "    }\n",
       "\n",
       "    .dataframe tbody tr th {\n",
       "        vertical-align: top;\n",
       "    }\n",
       "\n",
       "    .dataframe thead th {\n",
       "        text-align: right;\n",
       "    }\n",
       "</style>\n",
       "<table border=\"1\" class=\"dataframe\">\n",
       "  <thead>\n",
       "    <tr style=\"text-align: right;\">\n",
       "      <th></th>\n",
       "      <th>0</th>\n",
       "      <th>1</th>\n",
       "      <th>2</th>\n",
       "      <th>3</th>\n",
       "      <th>4</th>\n",
       "      <th>5</th>\n",
       "      <th>6</th>\n",
       "      <th>7</th>\n",
       "      <th>8</th>\n",
       "      <th>9</th>\n",
       "      <th>...</th>\n",
       "      <th>13</th>\n",
       "      <th>14</th>\n",
       "      <th>15</th>\n",
       "      <th>16</th>\n",
       "      <th>17</th>\n",
       "      <th>18</th>\n",
       "      <th>19</th>\n",
       "      <th>20</th>\n",
       "      <th>21</th>\n",
       "      <th>22</th>\n",
       "    </tr>\n",
       "  </thead>\n",
       "  <tbody>\n",
       "    <tr>\n",
       "      <th>0</th>\n",
       "      <td>NaN</td>\n",
       "      <td>Judul / Envi : Regresi / PTR BYOND</td>\n",
       "      <td>Version : APK 1.0.3 (275) dan IPA 1.0.3 (282) ...</td>\n",
       "      <td>Periode Testing : 24 November 2024</td>\n",
       "      <td>NaN</td>\n",
       "      <td>Link Upload Capture</td>\n",
       "      <td>https://bsicenter-my.sharepoint.com/:f:/g/pers...</td>\n",
       "      <td>NaN</td>\n",
       "      <td>NaN</td>\n",
       "      <td>NaN</td>\n",
       "      <td>...</td>\n",
       "      <td>NaN</td>\n",
       "      <td>NaN</td>\n",
       "      <td>NaN</td>\n",
       "      <td>NaN</td>\n",
       "      <td>NaN</td>\n",
       "      <td>NaN</td>\n",
       "      <td>NaN</td>\n",
       "      <td>NaN</td>\n",
       "      <td>NaN</td>\n",
       "      <td>NaN</td>\n",
       "    </tr>\n",
       "    <tr>\n",
       "      <th>1</th>\n",
       "      <td>NaN</td>\n",
       "      <td>NaN</td>\n",
       "      <td>OS</td>\n",
       "      <td>Total Fitur</td>\n",
       "      <td>Total Sub Fitur</td>\n",
       "      <td>Execution</td>\n",
       "      <td>NaN</td>\n",
       "      <td>Passed</td>\n",
       "      <td>NaN</td>\n",
       "      <td>Failed</td>\n",
       "      <td>...</td>\n",
       "      <td>In Progress</td>\n",
       "      <td>NaN</td>\n",
       "      <td>NaN</td>\n",
       "      <td>NaN</td>\n",
       "      <td>NaN</td>\n",
       "      <td>NaN</td>\n",
       "      <td>NaN</td>\n",
       "      <td>NaN</td>\n",
       "      <td>NaN</td>\n",
       "      <td>NaN</td>\n",
       "    </tr>\n",
       "    <tr>\n",
       "      <th>2</th>\n",
       "      <td>PTR</td>\n",
       "      <td>PTR prev. version\\nAndroid 1.0.3 (275)\\niOS 1....</td>\n",
       "      <td>Android</td>\n",
       "      <td>19</td>\n",
       "      <td>64</td>\n",
       "      <td>64</td>\n",
       "      <td>1</td>\n",
       "      <td>64</td>\n",
       "      <td>1</td>\n",
       "      <td>0</td>\n",
       "      <td>...</td>\n",
       "      <td>0</td>\n",
       "      <td>0</td>\n",
       "      <td>NaN</td>\n",
       "      <td>NaN</td>\n",
       "      <td>NaN</td>\n",
       "      <td>NaN</td>\n",
       "      <td>NaN</td>\n",
       "      <td>NaN</td>\n",
       "      <td>NaN</td>\n",
       "      <td>NaN</td>\n",
       "    </tr>\n",
       "    <tr>\n",
       "      <th>3</th>\n",
       "      <td>NaN</td>\n",
       "      <td>NaN</td>\n",
       "      <td>iOS</td>\n",
       "      <td>19</td>\n",
       "      <td>64</td>\n",
       "      <td>63</td>\n",
       "      <td>0.984375</td>\n",
       "      <td>63</td>\n",
       "      <td>0.984375</td>\n",
       "      <td>0</td>\n",
       "      <td>...</td>\n",
       "      <td>0</td>\n",
       "      <td>0</td>\n",
       "      <td>NaN</td>\n",
       "      <td>NaN</td>\n",
       "      <td>NaN</td>\n",
       "      <td>NaN</td>\n",
       "      <td>NaN</td>\n",
       "      <td>NaN</td>\n",
       "      <td>NaN</td>\n",
       "      <td>NaN</td>\n",
       "    </tr>\n",
       "    <tr>\n",
       "      <th>4</th>\n",
       "      <td>No</td>\n",
       "      <td>Features</td>\n",
       "      <td>Sub Fitur</td>\n",
       "      <td>Expected Condition</td>\n",
       "      <td>OS</td>\n",
       "      <td>OS Version</td>\n",
       "      <td>Tipe Device HP</td>\n",
       "      <td>Telko Provider HP</td>\n",
       "      <td>Rekening Sumber\\n[Jika ada]</td>\n",
       "      <td>Data yang Digunakan\\n[Jika ada]</td>\n",
       "      <td>...</td>\n",
       "      <td>Status PTR\\nAPK 1.0.3 (275) \\nIPA 1.0.3 (282)</td>\n",
       "      <td>Link Report Test</td>\n",
       "      <td>Description Issue dan Evidence</td>\n",
       "      <td>Tanggal Eksekusi\\n[harus diisi]</td>\n",
       "      <td>Tanggal Passed\\n[harus diisi]</td>\n",
       "      <td>Tanggal Eksekusi\\n[harus diisi]</td>\n",
       "      <td>Tanggal Passed\\n[harus diisi]</td>\n",
       "      <td>Tanggal Eksekusi\\n[harus diisi]</td>\n",
       "      <td>Tanggal Passed\\n[harus diisi]</td>\n",
       "      <td>Komentar</td>\n",
       "    </tr>\n",
       "    <tr>\n",
       "      <th>...</th>\n",
       "      <td>...</td>\n",
       "      <td>...</td>\n",
       "      <td>...</td>\n",
       "      <td>...</td>\n",
       "      <td>...</td>\n",
       "      <td>...</td>\n",
       "      <td>...</td>\n",
       "      <td>...</td>\n",
       "      <td>...</td>\n",
       "      <td>...</td>\n",
       "      <td>...</td>\n",
       "      <td>...</td>\n",
       "      <td>...</td>\n",
       "      <td>...</td>\n",
       "      <td>...</td>\n",
       "      <td>...</td>\n",
       "      <td>...</td>\n",
       "      <td>...</td>\n",
       "      <td>...</td>\n",
       "      <td>...</td>\n",
       "      <td>...</td>\n",
       "    </tr>\n",
       "    <tr>\n",
       "      <th>128</th>\n",
       "      <td>NaN</td>\n",
       "      <td>NaN</td>\n",
       "      <td>NaN</td>\n",
       "      <td>NaN</td>\n",
       "      <td>iOS</td>\n",
       "      <td>18.1</td>\n",
       "      <td>Iphone 15 pro</td>\n",
       "      <td>NaN</td>\n",
       "      <td>7243447776</td>\n",
       "      <td>IDPEL 566602186874</td>\n",
       "      <td>...</td>\n",
       "      <td>Passed</td>\n",
       "      <td>NaN</td>\n",
       "      <td>NaN</td>\n",
       "      <td>2024-11-24 00:00:00</td>\n",
       "      <td>2024-11-24 00:00:00</td>\n",
       "      <td>NaN</td>\n",
       "      <td>NaN</td>\n",
       "      <td>2024-11-15 00:00:00</td>\n",
       "      <td>2024-11-15 00:00:00</td>\n",
       "      <td>NaN</td>\n",
       "    </tr>\n",
       "    <tr>\n",
       "      <th>129</th>\n",
       "      <td>64</td>\n",
       "      <td>NaN</td>\n",
       "      <td>Postpaid (Pascabayar)\\n\\n</td>\n",
       "      <td>Berhasil Melakukan Pembayaran PLN Postpaid\\n- ...</td>\n",
       "      <td>Android</td>\n",
       "      <td>14</td>\n",
       "      <td>Xiaomi 14</td>\n",
       "      <td>NaN</td>\n",
       "      <td>NaN</td>\n",
       "      <td>539112105280\\n521511299379\\n518040539319\\n5220...</td>\n",
       "      <td>...</td>\n",
       "      <td>Passed</td>\n",
       "      <td>NaN</td>\n",
       "      <td>NaN</td>\n",
       "      <td>2024-11-15 00:00:00</td>\n",
       "      <td>2024-11-15 00:00:00</td>\n",
       "      <td>NaN</td>\n",
       "      <td>NaN</td>\n",
       "      <td>NaN</td>\n",
       "      <td>NaN</td>\n",
       "      <td>NaN</td>\n",
       "    </tr>\n",
       "    <tr>\n",
       "      <th>130</th>\n",
       "      <td>NaN</td>\n",
       "      <td>NaN</td>\n",
       "      <td>NaN</td>\n",
       "      <td>NaN</td>\n",
       "      <td>iOS</td>\n",
       "      <td>17.5.1</td>\n",
       "      <td>Iphone 13</td>\n",
       "      <td>NaN</td>\n",
       "      <td>NaN</td>\n",
       "      <td>539112105280\\n521511299379\\n518040539319\\n5220...</td>\n",
       "      <td>...</td>\n",
       "      <td>Passed</td>\n",
       "      <td>NaN</td>\n",
       "      <td>NaN</td>\n",
       "      <td>2024-11-15 00:00:00</td>\n",
       "      <td>2024-11-15 00:00:00</td>\n",
       "      <td>NaN</td>\n",
       "      <td>NaN</td>\n",
       "      <td>NaN</td>\n",
       "      <td>NaN</td>\n",
       "      <td>NaN</td>\n",
       "    </tr>\n",
       "    <tr>\n",
       "      <th>131</th>\n",
       "      <td>65</td>\n",
       "      <td>Tarik Tunai tanpa kartu</td>\n",
       "      <td>Tarik Tunai Tanpa Kartu</td>\n",
       "      <td>Berhasil Melakukan Tarik Tunai Tanpa Kartu\\n- ...</td>\n",
       "      <td>Android</td>\n",
       "      <td>14</td>\n",
       "      <td>Poco F4</td>\n",
       "      <td>NaN</td>\n",
       "      <td>7200545588</td>\n",
       "      <td>NaN</td>\n",
       "      <td>...</td>\n",
       "      <td>Passed</td>\n",
       "      <td>NaN</td>\n",
       "      <td>NaN</td>\n",
       "      <td>2024-11-15 00:00:00</td>\n",
       "      <td>2024-11-15 00:00:00</td>\n",
       "      <td>NaN</td>\n",
       "      <td>NaN</td>\n",
       "      <td>2024-11-15 00:00:00</td>\n",
       "      <td>2024-11-15 00:00:00</td>\n",
       "      <td>NaN</td>\n",
       "    </tr>\n",
       "    <tr>\n",
       "      <th>132</th>\n",
       "      <td>NaN</td>\n",
       "      <td>NaN</td>\n",
       "      <td>NaN</td>\n",
       "      <td>NaN</td>\n",
       "      <td>iOS</td>\n",
       "      <td>16.2</td>\n",
       "      <td>Iphone 14 Pro Max</td>\n",
       "      <td>NaN</td>\n",
       "      <td>7193631554</td>\n",
       "      <td>NaN</td>\n",
       "      <td>...</td>\n",
       "      <td>Passed</td>\n",
       "      <td>NaN</td>\n",
       "      <td>NaN</td>\n",
       "      <td>2024-11-15 00:00:00</td>\n",
       "      <td>2024-11-15 00:00:00</td>\n",
       "      <td>NaN</td>\n",
       "      <td>NaN</td>\n",
       "      <td>2024-11-15 00:00:00</td>\n",
       "      <td>2024-11-15 00:00:00</td>\n",
       "      <td>NaN</td>\n",
       "    </tr>\n",
       "  </tbody>\n",
       "</table>\n",
       "<p>133 rows × 23 columns</p>\n",
       "</div>"
      ],
      "text/plain": [
       "       0                                                  1   \\\n",
       "0     NaN                 Judul / Envi : Regresi / PTR BYOND   \n",
       "1     NaN                                                NaN   \n",
       "2    PTR   PTR prev. version\\nAndroid 1.0.3 (275)\\niOS 1....   \n",
       "3     NaN                                                NaN   \n",
       "4      No                                           Features   \n",
       "..    ...                                                ...   \n",
       "128   NaN                                                NaN   \n",
       "129    64                                                NaN   \n",
       "130   NaN                                                NaN   \n",
       "131    65                            Tarik Tunai tanpa kartu   \n",
       "132   NaN                                                NaN   \n",
       "\n",
       "                                                    2   \\\n",
       "0    Version : APK 1.0.3 (275) dan IPA 1.0.3 (282) ...   \n",
       "1                                                   OS   \n",
       "2                                              Android   \n",
       "3                                                  iOS   \n",
       "4                                            Sub Fitur   \n",
       "..                                                 ...   \n",
       "128                                                NaN   \n",
       "129                          Postpaid (Pascabayar)\\n\\n   \n",
       "130                                                NaN   \n",
       "131                            Tarik Tunai Tanpa Kartu   \n",
       "132                                                NaN   \n",
       "\n",
       "                                                    3                4   \\\n",
       "0                   Periode Testing : 24 November 2024              NaN   \n",
       "1                                          Total Fitur  Total Sub Fitur   \n",
       "2                                                   19               64   \n",
       "3                                                   19               64   \n",
       "4                                   Expected Condition               OS   \n",
       "..                                                 ...              ...   \n",
       "128                                                NaN              iOS   \n",
       "129  Berhasil Melakukan Pembayaran PLN Postpaid\\n- ...          Android   \n",
       "130                                                NaN              iOS   \n",
       "131  Berhasil Melakukan Tarik Tunai Tanpa Kartu\\n- ...          Android   \n",
       "132                                                NaN              iOS   \n",
       "\n",
       "                      5                                                  6   \\\n",
       "0    Link Upload Capture  https://bsicenter-my.sharepoint.com/:f:/g/pers...   \n",
       "1              Execution                                                NaN   \n",
       "2                     64                                                  1   \n",
       "3                     63                                           0.984375   \n",
       "4             OS Version                                     Tipe Device HP   \n",
       "..                   ...                                                ...   \n",
       "128                 18.1                                      Iphone 15 pro   \n",
       "129                   14                                          Xiaomi 14   \n",
       "130               17.5.1                                          Iphone 13   \n",
       "131                   14                                            Poco F4   \n",
       "132                 16.2                                  Iphone 14 Pro Max   \n",
       "\n",
       "                    7                            8   \\\n",
       "0                  NaN                          NaN   \n",
       "1               Passed                          NaN   \n",
       "2                   64                            1   \n",
       "3                   63                     0.984375   \n",
       "4    Telko Provider HP  Rekening Sumber\\n[Jika ada]   \n",
       "..                 ...                          ...   \n",
       "128                NaN                   7243447776   \n",
       "129                NaN                          NaN   \n",
       "130                NaN                          NaN   \n",
       "131                NaN                   7200545588   \n",
       "132                NaN                   7193631554   \n",
       "\n",
       "                                                    9   ...  \\\n",
       "0                                                  NaN  ...   \n",
       "1                                               Failed  ...   \n",
       "2                                                    0  ...   \n",
       "3                                                    0  ...   \n",
       "4                      Data yang Digunakan\\n[Jika ada]  ...   \n",
       "..                                                 ...  ...   \n",
       "128                                 IDPEL 566602186874  ...   \n",
       "129  539112105280\\n521511299379\\n518040539319\\n5220...  ...   \n",
       "130  539112105280\\n521511299379\\n518040539319\\n5220...  ...   \n",
       "131                                                NaN  ...   \n",
       "132                                                NaN  ...   \n",
       "\n",
       "                                                13                14  \\\n",
       "0                                              NaN               NaN   \n",
       "1                                      In Progress               NaN   \n",
       "2                                                0                 0   \n",
       "3                                                0                 0   \n",
       "4    Status PTR\\nAPK 1.0.3 (275) \\nIPA 1.0.3 (282)  Link Report Test   \n",
       "..                                             ...               ...   \n",
       "128                                         Passed               NaN   \n",
       "129                                         Passed               NaN   \n",
       "130                                         Passed               NaN   \n",
       "131                                         Passed               NaN   \n",
       "132                                         Passed               NaN   \n",
       "\n",
       "                                 15                               16  \\\n",
       "0                               NaN                              NaN   \n",
       "1                               NaN                              NaN   \n",
       "2                               NaN                              NaN   \n",
       "3                               NaN                              NaN   \n",
       "4    Description Issue dan Evidence  Tanggal Eksekusi\\n[harus diisi]   \n",
       "..                              ...                              ...   \n",
       "128                             NaN              2024-11-24 00:00:00   \n",
       "129                             NaN              2024-11-15 00:00:00   \n",
       "130                             NaN              2024-11-15 00:00:00   \n",
       "131                             NaN              2024-11-15 00:00:00   \n",
       "132                             NaN              2024-11-15 00:00:00   \n",
       "\n",
       "                                17                               18  \\\n",
       "0                              NaN                              NaN   \n",
       "1                              NaN                              NaN   \n",
       "2                              NaN                              NaN   \n",
       "3                              NaN                              NaN   \n",
       "4    Tanggal Passed\\n[harus diisi]  Tanggal Eksekusi\\n[harus diisi]   \n",
       "..                             ...                              ...   \n",
       "128            2024-11-24 00:00:00                              NaN   \n",
       "129            2024-11-15 00:00:00                              NaN   \n",
       "130            2024-11-15 00:00:00                              NaN   \n",
       "131            2024-11-15 00:00:00                              NaN   \n",
       "132            2024-11-15 00:00:00                              NaN   \n",
       "\n",
       "                                19                               20  \\\n",
       "0                              NaN                              NaN   \n",
       "1                              NaN                              NaN   \n",
       "2                              NaN                              NaN   \n",
       "3                              NaN                              NaN   \n",
       "4    Tanggal Passed\\n[harus diisi]  Tanggal Eksekusi\\n[harus diisi]   \n",
       "..                             ...                              ...   \n",
       "128                            NaN              2024-11-15 00:00:00   \n",
       "129                            NaN                              NaN   \n",
       "130                            NaN                              NaN   \n",
       "131                            NaN              2024-11-15 00:00:00   \n",
       "132                            NaN              2024-11-15 00:00:00   \n",
       "\n",
       "                                21        22  \n",
       "0                              NaN       NaN  \n",
       "1                              NaN       NaN  \n",
       "2                              NaN       NaN  \n",
       "3                              NaN       NaN  \n",
       "4    Tanggal Passed\\n[harus diisi]  Komentar  \n",
       "..                             ...       ...  \n",
       "128            2024-11-15 00:00:00       NaN  \n",
       "129                            NaN       NaN  \n",
       "130                            NaN       NaN  \n",
       "131            2024-11-15 00:00:00       NaN  \n",
       "132            2024-11-15 00:00:00       NaN  \n",
       "\n",
       "[133 rows x 23 columns]"
      ]
     },
     "execution_count": 81,
     "metadata": {},
     "output_type": "execute_result"
    }
   ],
   "source": [
    "df"
   ]
  },
  {
   "cell_type": "code",
   "execution_count": null,
   "metadata": {},
   "outputs": [],
   "source": [
    "get_ptr_versions(temp_df)"
   ]
  },
  {
   "cell_type": "code",
   "execution_count": 77,
   "metadata": {},
   "outputs": [],
   "source": [
    "value_to_skip = 'Features'\n",
    "header_index = df.apply(lambda row: row.astype(str).str.contains(value_to_skip).any(), axis=1).idxmax()\n",
    "new_header = df.iloc[header_index].values\n",
    "df = df.iloc[header_index+1:].copy()\n",
    "\n",
    "df.columns = new_header\n",
    "df = df.iloc[:, 1:]\n",
    "df.reset_index(drop=True, inplace=True)"
   ]
  },
  {
   "cell_type": "code",
   "execution_count": 78,
   "metadata": {},
   "outputs": [
    {
     "data": {
      "text/html": [
       "<div>\n",
       "<style scoped>\n",
       "    .dataframe tbody tr th:only-of-type {\n",
       "        vertical-align: middle;\n",
       "    }\n",
       "\n",
       "    .dataframe tbody tr th {\n",
       "        vertical-align: top;\n",
       "    }\n",
       "\n",
       "    .dataframe thead th {\n",
       "        text-align: right;\n",
       "    }\n",
       "</style>\n",
       "<table border=\"1\" class=\"dataframe\">\n",
       "  <thead>\n",
       "    <tr style=\"text-align: right;\">\n",
       "      <th></th>\n",
       "      <th>Features</th>\n",
       "      <th>Sub Fitur</th>\n",
       "      <th>Expected Condition</th>\n",
       "      <th>OS</th>\n",
       "      <th>OS Ver</th>\n",
       "      <th>Tipe Device HP</th>\n",
       "      <th>Telko Provider HP</th>\n",
       "      <th>Rekening Sumber\\n[Jika ada]</th>\n",
       "      <th>Data yang Digunakan\\n[Jika ada]</th>\n",
       "      <th>PO</th>\n",
       "      <th>FT\\n[Jika Ada]</th>\n",
       "      <th>Status lama</th>\n",
       "      <th>Status baru PTR Ver Android 1.0.3 (272)\\niOS 1.0.3 (267)</th>\n",
       "      <th>Link Report Test</th>\n",
       "      <th>Description Issue dan Evidence</th>\n",
       "      <th>Tanggal Eksekusi\\n[harus diisi]</th>\n",
       "      <th>Tanggal Passed\\n[harus diisi]</th>\n",
       "      <th>Tanggal Eksekusi\\n[harus diisi]</th>\n",
       "      <th>Tanggal Passed\\n[harus diisi]</th>\n",
       "      <th>Komentar</th>\n",
       "    </tr>\n",
       "  </thead>\n",
       "  <tbody>\n",
       "    <tr>\n",
       "      <th>0</th>\n",
       "      <td>PS-495 : RELEASE A - IOS - Tidak bisa klik ban...</td>\n",
       "      <td>Donasi</td>\n",
       "      <td>Byond dapat menampilkan halaman list LAZ Donasi</td>\n",
       "      <td>iOS</td>\n",
       "      <td>16.3</td>\n",
       "      <td>iPhone XS</td>\n",
       "      <td>Telkomsel</td>\n",
       "      <td>Rekening Sumber\\n[Jika ada]</td>\n",
       "      <td>Data yang Digunakan\\n[Jika ada]</td>\n",
       "      <td>Iin, Dhimas</td>\n",
       "      <td>FT\\n[Jika Ada]</td>\n",
       "      <td>Passed</td>\n",
       "      <td>Not Started</td>\n",
       "      <td>Link Report Test</td>\n",
       "      <td>evidence :\\n\\nhttps://drive.google.com/drive/f...</td>\n",
       "      <td>2024-11-05 00:00:00</td>\n",
       "      <td>2024-11-05 00:00:00</td>\n",
       "      <td>Tanggal Eksekusi\\n[harus diisi]</td>\n",
       "      <td>Tanggal Passed\\n[harus diisi]</td>\n",
       "      <td>Scenario :\\n1. Login Byond dengan iOS\\n2. Klik...</td>\n",
       "    </tr>\n",
       "    <tr>\n",
       "      <th>1</th>\n",
       "      <td>PS-833 : IOS - TRF TERJADWAL SEKALI GAGAL</td>\n",
       "      <td>Donasi</td>\n",
       "      <td>Berhasil melakukan trf terjadwal dalam jangka ...</td>\n",
       "      <td>Android</td>\n",
       "      <td>13</td>\n",
       "      <td>Galaxy S20+</td>\n",
       "      <td>Telkomsel</td>\n",
       "      <td>Rekening Sumber\\n[Jika ada]</td>\n",
       "      <td>Data yang Digunakan\\n[Jika ada]</td>\n",
       "      <td>Iin, Dhimas</td>\n",
       "      <td>FT\\n[Jika Ada]</td>\n",
       "      <td>Passed</td>\n",
       "      <td>Not Started</td>\n",
       "      <td>https://bsicenter-my.sharepoint.com/:v:/g/pers...</td>\n",
       "      <td>evidence :\\n\\nhttps://drive.google.com/drive/f...</td>\n",
       "      <td>2024-11-05 00:00:00</td>\n",
       "      <td>2024-11-05 00:00:00</td>\n",
       "      <td>Tanggal Eksekusi\\n[harus diisi]</td>\n",
       "      <td>Tanggal Passed\\n[harus diisi]</td>\n",
       "      <td>Scenario :\\n1. Login Byond dengan iOS\\n2. Klik...</td>\n",
       "    </tr>\n",
       "    <tr>\n",
       "      <th>2</th>\n",
       "      <td>PS-833 : IOS - TRF TERJADWAL SEKALI GAGAL</td>\n",
       "      <td>Donasi</td>\n",
       "      <td>Berhasil melakukan trf terjadwal dalam jangka ...</td>\n",
       "      <td>iOS</td>\n",
       "      <td>17.6.1</td>\n",
       "      <td>iPhone 12</td>\n",
       "      <td>Telkomsel</td>\n",
       "      <td>Rekening Sumber\\n[Jika ada]</td>\n",
       "      <td>Data yang Digunakan\\n[Jika ada]</td>\n",
       "      <td>Iin, Dhimas</td>\n",
       "      <td>FT\\n[Jika Ada]</td>\n",
       "      <td>Passed</td>\n",
       "      <td>Not Started</td>\n",
       "      <td>https://bsicenter-my.sharepoint.com/:v:/g/pers...</td>\n",
       "      <td>evidence :\\n\\nhttps://drive.google.com/drive/f...</td>\n",
       "      <td>2024-11-05 00:00:00</td>\n",
       "      <td>2024-11-05 00:00:00</td>\n",
       "      <td>Tanggal Eksekusi\\n[harus diisi]</td>\n",
       "      <td>Tanggal Passed\\n[harus diisi]</td>\n",
       "      <td>Scenario :\\n1. Login Byond dengan iOS\\n2. Klik...</td>\n",
       "    </tr>\n",
       "    <tr>\n",
       "      <th>3</th>\n",
       "      <td>PS-817: RELEASE B- iOS &amp; Android - Push Notif ...</td>\n",
       "      <td>Donasi</td>\n",
       "      <td>Berhasil melakukan trf terjadwal dalam jangka ...</td>\n",
       "      <td>Android</td>\n",
       "      <td>13</td>\n",
       "      <td>Samsung A51</td>\n",
       "      <td>Telkomsel</td>\n",
       "      <td>Rekening Sumber\\n[Jika ada]</td>\n",
       "      <td>No HP: 6281297976944</td>\n",
       "      <td>Nauvalady, Ori, Inna</td>\n",
       "      <td>FT\\n[Jika Ada]</td>\n",
       "      <td>Failed</td>\n",
       "      <td>Not Started</td>\n",
       "      <td>https://bsicenter-my.sharepoint.com/:v:/g/pers...</td>\n",
       "      <td>Gagal direct ke halaman Promo</td>\n",
       "      <td>2024-11-05 00:00:00</td>\n",
       "      <td>2024-11-05 00:00:00</td>\n",
       "      <td>Tanggal Eksekusi\\n[harus diisi]</td>\n",
       "      <td>Tanggal Passed\\n[harus diisi]</td>\n",
       "      <td>Scenario :\\n1. Login Byond dengan iOS\\n2. Klik...</td>\n",
       "    </tr>\n",
       "  </tbody>\n",
       "</table>\n",
       "</div>"
      ],
      "text/plain": [
       "                                            Features Sub Fitur  \\\n",
       "0  PS-495 : RELEASE A - IOS - Tidak bisa klik ban...    Donasi   \n",
       "1         PS-833 : IOS - TRF TERJADWAL SEKALI GAGAL     Donasi   \n",
       "2         PS-833 : IOS - TRF TERJADWAL SEKALI GAGAL     Donasi   \n",
       "3  PS-817: RELEASE B- iOS & Android - Push Notif ...    Donasi   \n",
       "\n",
       "                                  Expected Condition       OS  OS Ver  \\\n",
       "0    Byond dapat menampilkan halaman list LAZ Donasi      iOS    16.3   \n",
       "1  Berhasil melakukan trf terjadwal dalam jangka ...  Android      13   \n",
       "2  Berhasil melakukan trf terjadwal dalam jangka ...      iOS  17.6.1   \n",
       "3  Berhasil melakukan trf terjadwal dalam jangka ...  Android      13   \n",
       "\n",
       "  Tipe Device HP Telko Provider HP  Rekening Sumber\\n[Jika ada]  \\\n",
       "0      iPhone XS         Telkomsel  Rekening Sumber\\n[Jika ada]   \n",
       "1    Galaxy S20+         Telkomsel  Rekening Sumber\\n[Jika ada]   \n",
       "2      iPhone 12         Telkomsel  Rekening Sumber\\n[Jika ada]   \n",
       "3    Samsung A51         Telkomsel  Rekening Sumber\\n[Jika ada]   \n",
       "\n",
       "   Data yang Digunakan\\n[Jika ada]                    PO  FT\\n[Jika Ada]  \\\n",
       "0  Data yang Digunakan\\n[Jika ada]           Iin, Dhimas  FT\\n[Jika Ada]   \n",
       "1  Data yang Digunakan\\n[Jika ada]           Iin, Dhimas  FT\\n[Jika Ada]   \n",
       "2  Data yang Digunakan\\n[Jika ada]           Iin, Dhimas  FT\\n[Jika Ada]   \n",
       "3             No HP: 6281297976944  Nauvalady, Ori, Inna  FT\\n[Jika Ada]   \n",
       "\n",
       "  Status lama Status baru PTR Ver Android 1.0.3 (272)\\niOS 1.0.3 (267)  \\\n",
       "0      Passed                                        Not Started         \n",
       "1      Passed                                        Not Started         \n",
       "2      Passed                                        Not Started         \n",
       "3      Failed                                        Not Started         \n",
       "\n",
       "                                    Link Report Test  \\\n",
       "0                                   Link Report Test   \n",
       "1  https://bsicenter-my.sharepoint.com/:v:/g/pers...   \n",
       "2  https://bsicenter-my.sharepoint.com/:v:/g/pers...   \n",
       "3  https://bsicenter-my.sharepoint.com/:v:/g/pers...   \n",
       "\n",
       "                      Description Issue dan Evidence  \\\n",
       "0  evidence :\\n\\nhttps://drive.google.com/drive/f...   \n",
       "1  evidence :\\n\\nhttps://drive.google.com/drive/f...   \n",
       "2  evidence :\\n\\nhttps://drive.google.com/drive/f...   \n",
       "3                      Gagal direct ke halaman Promo   \n",
       "\n",
       "  Tanggal Eksekusi\\n[harus diisi] Tanggal Passed\\n[harus diisi]  \\\n",
       "0             2024-11-05 00:00:00           2024-11-05 00:00:00   \n",
       "1             2024-11-05 00:00:00           2024-11-05 00:00:00   \n",
       "2             2024-11-05 00:00:00           2024-11-05 00:00:00   \n",
       "3             2024-11-05 00:00:00           2024-11-05 00:00:00   \n",
       "\n",
       "   Tanggal Eksekusi\\n[harus diisi]  Tanggal Passed\\n[harus diisi]  \\\n",
       "0  Tanggal Eksekusi\\n[harus diisi]  Tanggal Passed\\n[harus diisi]   \n",
       "1  Tanggal Eksekusi\\n[harus diisi]  Tanggal Passed\\n[harus diisi]   \n",
       "2  Tanggal Eksekusi\\n[harus diisi]  Tanggal Passed\\n[harus diisi]   \n",
       "3  Tanggal Eksekusi\\n[harus diisi]  Tanggal Passed\\n[harus diisi]   \n",
       "\n",
       "                                            Komentar  \n",
       "0  Scenario :\\n1. Login Byond dengan iOS\\n2. Klik...  \n",
       "1  Scenario :\\n1. Login Byond dengan iOS\\n2. Klik...  \n",
       "2  Scenario :\\n1. Login Byond dengan iOS\\n2. Klik...  \n",
       "3  Scenario :\\n1. Login Byond dengan iOS\\n2. Klik...  "
      ]
     },
     "execution_count": 78,
     "metadata": {},
     "output_type": "execute_result"
    }
   ],
   "source": [
    "df.head(4)"
   ]
  },
  {
   "cell_type": "code",
   "execution_count": 57,
   "metadata": {},
   "outputs": [
    {
     "data": {
      "text/plain": [
       "['PTR Ver Android 1.0.3 (272) \\n iOS 1.0.3 (266)',\n",
       " 'PTR Ver Android 1.0.3 (272)\\niOS 1.0.3 (267)']"
      ]
     },
     "execution_count": 57,
     "metadata": {},
     "output_type": "execute_result"
    }
   ],
   "source": [
    "listof_ver"
   ]
  },
  {
   "cell_type": "code",
   "execution_count": 1,
   "metadata": {},
   "outputs": [],
   "source": [
    "def processing_excel(file_data, sheet_name):\n",
    "    '''\n",
    "    Process Excel file to clean and prepare the data\n",
    "    '''\n",
    "    \n",
    "    excel_ptr = pd.read_excel(file_data, sheet_name, header=None)\n",
    "    test = excel_ptr.ffill()\n",
    "    listof_ver = test[test[1].str.contains('PTR Ver', na=False)][1].unique().tolist()\n",
    "\n",
    "    \n",
    "\n",
    "    value_to_skip = 'Features'\n",
    "    header_index = excel_ptr.apply(lambda row: row.astype(str).str.contains(value_to_skip).any(), axis=1).idxmax() # to find which index that contain 'Features'\n",
    "    new_header = excel_ptr.iloc[header_index].values\n",
    "    excel_ptr = excel_ptr.iloc[header_index+1:].copy()\n",
    "    \n",
    "    excel_ptr.columns = new_header\n",
    "    excel_ptr = excel_ptr.iloc[:, 1:]\n",
    "    excel_ptr.reset_index(drop=True, inplace=True)\n",
    "    \n",
    "    # # Convert column OS Version types\n",
    "    # if 'OS Version' not in excel_ptr.columns:\n",
    "    #     print('error')\n",
    "    # else:\n",
    "    #     excel_ptr['OS Version'] = excel_ptr['OS Version'].astype(str)\n",
    "    \n",
    "    # # drop column Number\n",
    "    # excel_ptr.drop(columns='No', inplace=True, errors='ignore')\n",
    "    \n",
    "    # #Rename the column\n",
    "    # excel_ptr.rename(columns={\n",
    "    #     'Sub Fitur': 'Sub-features',\n",
    "    #     'Rekening Sumber\\n[Jika ada]': 'Rekening Sumber',\n",
    "    #     'Data yang Digunakan\\n[Jika ada]': 'Data yang digunakan',\n",
    "    #     'FT\\n[Jika Ada]': 'FT',\n",
    "    #     'Tanggal Eksekusi\\n[harus diisi]': 'Tanggal Eksekusi',\n",
    "    #     'Tanggal Passed\\n[harus diisi]': 'Tanggal Passed'\n",
    "    # }, inplace=True)\n",
    "    \n",
    "    # # Because of merged and centered, need to use ffill to duplicate values before current rows\n",
    "    # excel_ptr[['Features', 'Sub-features', 'Expected Condition']] = excel_ptr[['Features', 'Sub-features', 'Expected Condition']].apply(lambda x: x.ffill())\n",
    "    \n",
    "    return excel_ptr, listof_ver"
   ]
  },
  {
   "cell_type": "code",
   "execution_count": 2,
   "metadata": {},
   "outputs": [],
   "source": [
    "path = './dataset/PTR_Rilis_D.xlsx'"
   ]
  },
  {
   "cell_type": "code",
   "execution_count": 3,
   "metadata": {},
   "outputs": [
    {
     "ename": "NameError",
     "evalue": "name 'pd' is not defined",
     "output_type": "error",
     "traceback": [
      "\u001b[1;31m---------------------------------------------------------------------------\u001b[0m",
      "\u001b[1;31mNameError\u001b[0m                                 Traceback (most recent call last)",
      "Cell \u001b[1;32mIn[3], line 1\u001b[0m\n\u001b[1;32m----> 1\u001b[0m new_df, listof_status\u001b[38;5;241m=\u001b[39m \u001b[43mprocessing_excel\u001b[49m\u001b[43m(\u001b[49m\u001b[43mpath\u001b[49m\u001b[43m,\u001b[49m\u001b[43m \u001b[49m\u001b[43msheet_name\u001b[49m\u001b[38;5;241;43m=\u001b[39;49m\u001b[38;5;124;43m'\u001b[39;49m\u001b[38;5;124;43mPrototype - Tiket Prod Issue PO\u001b[39;49m\u001b[38;5;124;43m'\u001b[39;49m\u001b[43m)\u001b[49m\n",
      "Cell \u001b[1;32mIn[1], line 6\u001b[0m, in \u001b[0;36mprocessing_excel\u001b[1;34m(file_data, sheet_name)\u001b[0m\n\u001b[0;32m      1\u001b[0m \u001b[38;5;28;01mdef\u001b[39;00m \u001b[38;5;21mprocessing_excel\u001b[39m(file_data, sheet_name):\n\u001b[0;32m      2\u001b[0m \u001b[38;5;250m    \u001b[39m\u001b[38;5;124;03m'''\u001b[39;00m\n\u001b[0;32m      3\u001b[0m \u001b[38;5;124;03m    Process Excel file to clean and prepare the data\u001b[39;00m\n\u001b[0;32m      4\u001b[0m \u001b[38;5;124;03m    '''\u001b[39;00m\n\u001b[1;32m----> 6\u001b[0m     excel_ptr \u001b[38;5;241m=\u001b[39m \u001b[43mpd\u001b[49m\u001b[38;5;241m.\u001b[39mread_excel(file_data, sheet_name, header\u001b[38;5;241m=\u001b[39m\u001b[38;5;28;01mNone\u001b[39;00m)\n\u001b[0;32m      7\u001b[0m     test \u001b[38;5;241m=\u001b[39m excel_ptr\u001b[38;5;241m.\u001b[39mffill()\n\u001b[0;32m      8\u001b[0m     listof_ver \u001b[38;5;241m=\u001b[39m test[test[\u001b[38;5;241m1\u001b[39m]\u001b[38;5;241m.\u001b[39mstr\u001b[38;5;241m.\u001b[39mcontains(\u001b[38;5;124m'\u001b[39m\u001b[38;5;124mPTR Ver\u001b[39m\u001b[38;5;124m'\u001b[39m, na\u001b[38;5;241m=\u001b[39m\u001b[38;5;28;01mFalse\u001b[39;00m)][\u001b[38;5;241m1\u001b[39m]\u001b[38;5;241m.\u001b[39munique()\u001b[38;5;241m.\u001b[39mtolist()\n",
      "\u001b[1;31mNameError\u001b[0m: name 'pd' is not defined"
     ]
    }
   ],
   "source": [
    "new_df, listof_status= processing_excel(path, sheet_name='Prototype - Tiket Prod Issue PO')"
   ]
  }
 ],
 "metadata": {
  "kernelspec": {
   "display_name": "data_science",
   "language": "python",
   "name": "python3"
  },
  "language_info": {
   "codemirror_mode": {
    "name": "ipython",
    "version": 3
   },
   "file_extension": ".py",
   "mimetype": "text/x-python",
   "name": "python",
   "nbconvert_exporter": "python",
   "pygments_lexer": "ipython3",
   "version": "3.11.9"
  }
 },
 "nbformat": 4,
 "nbformat_minor": 2
}
