{
 "cells": [
  {
   "cell_type": "code",
   "execution_count": 93,
   "metadata": {},
   "outputs": [],
   "source": [
    "import streamlit as st\n",
    "import pandas as pd\n",
    "\n",
    "from googleapiclient.discovery import build\n",
    "from google.oauth2 import service_account\n",
    "from io import BytesIO\n",
    "from googleapiclient.http import MediaIoBaseDownload\n",
    "\n",
    "from datetime import datetime\n",
    "import pytz\n",
    "\n",
    "import plotly.express as px\n",
    "\n",
    "SCOPES = ['https://www.googleapis.com/auth/drive']\n",
    "SERVICE_ACCOUNT_FILE = 'service_account.json'\n",
    "PARENT_FOLDER_ID = '1vIKk9xgUn1JGY2MFPdB6W3tEfU8oVptP'\n",
    "\n",
    "def authenticate():\n",
    "    '''\n",
    "    Autentikasi akun untuk akses ke gdrive\n",
    "    '''\n",
    "    creds = service_account.Credentials.from_service_account_file(SERVICE_ACCOUNT_FILE, scopes=SCOPES)\n",
    "    return creds\n",
    "\n",
    "def list_files():\n",
    "    creds = authenticate()\n",
    "    service = build('drive', 'v3', credentials=creds)\n",
    "    \n",
    "    results = service.files().list(\n",
    "        q=f\"'{PARENT_FOLDER_ID}' in parents\",\n",
    "        spaces='drive',\n",
    "        fields='nextPageToken, files(id, name, modifiedTime)',\n",
    "        pageSize=10\n",
    "    ).execute()\n",
    "    \n",
    "    items = results.get('files', [])\n",
    "    \n",
    "    file_list = []\n",
    "    if items:\n",
    "        file_list = [(item['name'], item['id'], item['modifiedTime']) for item in items]\n",
    "    return file_list\n",
    "\n",
    "def read_file_from_drive(file_id):\n",
    "    '''\n",
    "    Read Excel file from Google Drive\n",
    "    '''\n",
    "    creds = authenticate()\n",
    "    service = build('drive', 'v3', credentials=creds)\n",
    "    \n",
    "    # Stream the file content\n",
    "    request = service.files().get_media(fileId=file_id)\n",
    "    file_data = BytesIO()\n",
    "    downloader = MediaIoBaseDownload(file_data, request)\n",
    "    done = False\n",
    "    while not done:\n",
    "        _, done = downloader.next_chunk()\n",
    "    \n",
    "    file_data.seek(0)\n",
    "    return file_data  # Return the raw file data\n",
    "\n",
    "def read_file_from_drive(file_id):\n",
    "    '''\n",
    "    Read Excel file from Google Drive\n",
    "    '''\n",
    "    creds = authenticate()\n",
    "    service = build('drive', 'v3', credentials=creds)\n",
    "    \n",
    "    # Stream the file content\n",
    "    request = service.files().get_media(fileId=file_id)\n",
    "    file_data = BytesIO()\n",
    "    downloader = MediaIoBaseDownload(file_data, request)\n",
    "    done = False\n",
    "    while not done:\n",
    "        _, done = downloader.next_chunk()\n",
    "    \n",
    "    file_data.seek(0)\n",
    "    return file_data  # Return the raw file data\n",
    "\n",
    "def processing_excel(file_data, sheet_name):\n",
    "    '''\n",
    "    Process Excel file to clean and prepare the data\n",
    "    '''\n",
    "    \n",
    "    excel_ptr = pd.read_excel(file_data, sheet_name, header=None)\n",
    "    temp_df = excel_ptr.ffill()\n",
    "    \n",
    "    listof_ver = temp_df[temp_df[1].str.contains('PTR Ver', na=False)][1].unique().tolist()\n",
    "    \n",
    "    # Get the rows which will become header\n",
    "    value_to_skip = 'Features'\n",
    "    max_rows_to_scan = 10\n",
    "\n",
    "    header_index = excel_ptr.head(max_rows_to_scan).apply(lambda row: row.astype(str).str.contains(value_to_skip).any(), axis=1).idxmax()\n",
    "\n",
    "    if pd.isna(header_index):  # If 'Features' wasn't found in the scanned rows\n",
    "        print(\"Header 'Features' not found in the first\", max_rows_to_scan, \"rows.\")\n",
    "    else:\n",
    "        new_header = excel_ptr.iloc[header_index].values\n",
    "        excel_ptr = excel_ptr.iloc[header_index+1:].copy()\n",
    "        excel_ptr.columns = new_header\n",
    "        \n",
    "    excel_ptr = excel_ptr.iloc[:, 1:]\n",
    "    excel_ptr.reset_index(drop=True, inplace=True)\n",
    "    \n",
    "    # Convert column OS Version types\n",
    "    if 'OS Version' not in excel_ptr.columns:\n",
    "        st.warning(\"The selected sheet does not have an 'OS Version' column. Skipping this part of processing.\")\n",
    "    else:\n",
    "        excel_ptr['OS Version'] = excel_ptr['OS Version'].astype(str)\n",
    "    \n",
    "    # drop column Number\n",
    "    excel_ptr.drop(columns='No', inplace=True, errors='ignore')\n",
    "    \n",
    "    #Rename the column\n",
    "    excel_ptr.rename(columns={\n",
    "        'Sub Fitur': 'Sub-features',\n",
    "        'Rekening Sumber\\n[Jika ada]': 'Rekening Sumber',\n",
    "        'Data yang Digunakan\\n[Jika ada]': 'Data yang digunakan',\n",
    "        'FT\\n[Jika Ada]': 'FT',\n",
    "        'Tanggal Eksekusi\\n[harus diisi]': 'Tanggal Eksekusi',\n",
    "        'Tanggal Passed\\n[harus diisi]': 'Tanggal Passed'\n",
    "    }, inplace=True)\n",
    "    \n",
    "    # Because of merged and centered, need to use ffill to duplicate values before current rows\n",
    "    excel_ptr[['Features', 'Sub-features', 'Expected Condition']] = excel_ptr[['Features', 'Sub-features', 'Expected Condition']].apply(lambda x: x.ffill())\n",
    "    \n",
    "    return excel_ptr, listof_ver\n",
    "\n",
    "def status_progress(processed_excel, version):\n",
    "    \"\"\"\n",
    "    Calculate the progress based on the processed Excel data.\n",
    "    \"\"\"\n",
    "    statusBased_OS = [(x, y) for x, y in zip(processed_excel['OS'].values, processed_excel['Status '+ version].values)]\n",
    "    passed_prog = sum(1 for item in statusBased_OS if item == ('Android', 'Passed'))\n",
    "    failed_prog = sum(1 for item in statusBased_OS if item == ('Android', 'Failed'))\n",
    "    unknown_prog = sum(1 for item in statusBased_OS if item == ('Android', 'N/A'))\n",
    "    inprog_prog = sum(1 for item in statusBased_OS if item == ('Android', 'In Progress'))\n",
    "    \n",
    "    return passed_prog, failed_prog, unknown_prog, inprog_prog\n"
   ]
  },
  {
   "cell_type": "code",
   "execution_count": 94,
   "metadata": {},
   "outputs": [],
   "source": [
    "file_list = list_files()"
   ]
  },
  {
   "cell_type": "code",
   "execution_count": 95,
   "metadata": {},
   "outputs": [
    {
     "data": {
      "text/plain": [
       "'1JzRCBOTHgisl-ckN58w9TA_t4bUgMusv'"
      ]
     },
     "execution_count": 95,
     "metadata": {},
     "output_type": "execute_result"
    }
   ],
   "source": [
    "[(file_id, modified_time) for name, file_id, modified_time in file_list if name == 'PTR_Rilis_D.xlsx'][0][0]"
   ]
  },
  {
   "cell_type": "code",
   "execution_count": 96,
   "metadata": {},
   "outputs": [],
   "source": [
    "selected_file_data = [(file_id, modified_time) for name, file_id, modified_time in file_list if name == 'PTR_Rilis_D.xlsx'][0][0]\n",
    "selected_file_id = selected_file_data\n",
    "\n",
    "file_data = read_file_from_drive(selected_file_id)"
   ]
  },
  {
   "cell_type": "code",
   "execution_count": 97,
   "metadata": {},
   "outputs": [
    {
     "data": {
      "text/html": [
       "<div>\n",
       "<style scoped>\n",
       "    .dataframe tbody tr th:only-of-type {\n",
       "        vertical-align: middle;\n",
       "    }\n",
       "\n",
       "    .dataframe tbody tr th {\n",
       "        vertical-align: top;\n",
       "    }\n",
       "\n",
       "    .dataframe thead th {\n",
       "        text-align: right;\n",
       "    }\n",
       "</style>\n",
       "<table border=\"1\" class=\"dataframe\">\n",
       "  <thead>\n",
       "    <tr style=\"text-align: right;\">\n",
       "      <th></th>\n",
       "      <th>Features</th>\n",
       "      <th>Sub-features</th>\n",
       "      <th>Expected Condition</th>\n",
       "      <th>OS</th>\n",
       "      <th>OS Version</th>\n",
       "      <th>Tipe Device HP</th>\n",
       "      <th>Telko Provider HP</th>\n",
       "      <th>Rekening Sumber</th>\n",
       "      <th>Data yang digunakan</th>\n",
       "      <th>PO</th>\n",
       "      <th>FT</th>\n",
       "      <th>Status PTR Ver Android 1.0.3 (272) iOS 1.0.3 (266)</th>\n",
       "      <th>Status PTR Ver Android 1.0.3 (272) iOS 1.0.3 (267)</th>\n",
       "      <th>Link Report Test</th>\n",
       "      <th>Description Issue dan Evidence</th>\n",
       "      <th>Tanggal Eksekusi PTR Ver Android 1.0.3 (272) iOS 1.0.3 (266)</th>\n",
       "      <th>Tanggal Passed PTR Ver Android 1.0.3 (272) iOS 1.0.3 (266)</th>\n",
       "      <th>Tanggal Eksekusi PTR Ver Android 1.0.3 (272) iOS 1.0.3 (267)</th>\n",
       "      <th>Tanggal Passed PTR Ver Android 1.0.3 (272) iOS 1.0.3 (267)</th>\n",
       "      <th>Komentar</th>\n",
       "    </tr>\n",
       "  </thead>\n",
       "  <tbody>\n",
       "    <tr>\n",
       "      <th>0</th>\n",
       "      <td>PS-495 : RELEASE A - IOS - Tidak bisa klik ban...</td>\n",
       "      <td>Donasi</td>\n",
       "      <td>Byond dapat menampilkan halaman list LAZ Donasi</td>\n",
       "      <td>iOS</td>\n",
       "      <td>16.3</td>\n",
       "      <td>iPhone XS</td>\n",
       "      <td>Telkomsel</td>\n",
       "      <td>NaN</td>\n",
       "      <td>NaN</td>\n",
       "      <td>Iin, Dhimas</td>\n",
       "      <td>NaN</td>\n",
       "      <td>Passed</td>\n",
       "      <td>Not Started</td>\n",
       "      <td>NaN</td>\n",
       "      <td>evidence :\\n\\nhttps://drive.google.com/drive/f...</td>\n",
       "      <td>2024-11-05 00:00:00</td>\n",
       "      <td>2024-11-05 00:00:00</td>\n",
       "      <td>NaN</td>\n",
       "      <td>NaN</td>\n",
       "      <td>Scenario :\\n1. Login Byond dengan iOS\\n2. Klik...</td>\n",
       "    </tr>\n",
       "    <tr>\n",
       "      <th>1</th>\n",
       "      <td>PS-833 : IOS - TRF TERJADWAL SEKALI GAGAL</td>\n",
       "      <td>Donasi</td>\n",
       "      <td>Berhasil melakukan trf terjadwal dalam jangka ...</td>\n",
       "      <td>Android</td>\n",
       "      <td>13</td>\n",
       "      <td>Galaxy S20+</td>\n",
       "      <td>Telkomsel</td>\n",
       "      <td>NaN</td>\n",
       "      <td>NaN</td>\n",
       "      <td>NaN</td>\n",
       "      <td>NaN</td>\n",
       "      <td>Passed</td>\n",
       "      <td>Not Started</td>\n",
       "      <td>https://bsicenter-my.sharepoint.com/:v:/g/pers...</td>\n",
       "      <td>NaN</td>\n",
       "      <td>2024-11-05 00:00:00</td>\n",
       "      <td>2024-11-05 00:00:00</td>\n",
       "      <td>NaN</td>\n",
       "      <td>NaN</td>\n",
       "      <td>NaN</td>\n",
       "    </tr>\n",
       "    <tr>\n",
       "      <th>2</th>\n",
       "      <td>PS-833 : IOS - TRF TERJADWAL SEKALI GAGAL</td>\n",
       "      <td>Donasi</td>\n",
       "      <td>Berhasil melakukan trf terjadwal dalam jangka ...</td>\n",
       "      <td>iOS</td>\n",
       "      <td>17.6.1</td>\n",
       "      <td>iPhone 12</td>\n",
       "      <td>Telkomsel</td>\n",
       "      <td>NaN</td>\n",
       "      <td>NaN</td>\n",
       "      <td>NaN</td>\n",
       "      <td>NaN</td>\n",
       "      <td>Passed</td>\n",
       "      <td>Not Started</td>\n",
       "      <td>https://bsicenter-my.sharepoint.com/:v:/g/pers...</td>\n",
       "      <td>NaN</td>\n",
       "      <td>2024-11-05 00:00:00</td>\n",
       "      <td>2024-11-05 00:00:00</td>\n",
       "      <td>NaN</td>\n",
       "      <td>NaN</td>\n",
       "      <td>NaN</td>\n",
       "    </tr>\n",
       "  </tbody>\n",
       "</table>\n",
       "</div>"
      ],
      "text/plain": [
       "                                            Features Sub-features  \\\n",
       "0  PS-495 : RELEASE A - IOS - Tidak bisa klik ban...       Donasi   \n",
       "1         PS-833 : IOS - TRF TERJADWAL SEKALI GAGAL        Donasi   \n",
       "2         PS-833 : IOS - TRF TERJADWAL SEKALI GAGAL        Donasi   \n",
       "\n",
       "                                  Expected Condition       OS OS Version  \\\n",
       "0    Byond dapat menampilkan halaman list LAZ Donasi      iOS       16.3   \n",
       "1  Berhasil melakukan trf terjadwal dalam jangka ...  Android         13   \n",
       "2  Berhasil melakukan trf terjadwal dalam jangka ...      iOS     17.6.1   \n",
       "\n",
       "  Tipe Device HP Telko Provider HP Rekening Sumber Data yang digunakan  \\\n",
       "0      iPhone XS         Telkomsel             NaN                 NaN   \n",
       "1    Galaxy S20+         Telkomsel             NaN                 NaN   \n",
       "2      iPhone 12         Telkomsel             NaN                 NaN   \n",
       "\n",
       "            PO   FT Status PTR Ver Android 1.0.3 (272) iOS 1.0.3 (266)  \\\n",
       "0  Iin, Dhimas  NaN                                             Passed   \n",
       "1          NaN  NaN                                             Passed   \n",
       "2          NaN  NaN                                             Passed   \n",
       "\n",
       "  Status PTR Ver Android 1.0.3 (272) iOS 1.0.3 (267)  \\\n",
       "0                                        Not Started   \n",
       "1                                        Not Started   \n",
       "2                                        Not Started   \n",
       "\n",
       "                                    Link Report Test  \\\n",
       "0                                                NaN   \n",
       "1  https://bsicenter-my.sharepoint.com/:v:/g/pers...   \n",
       "2  https://bsicenter-my.sharepoint.com/:v:/g/pers...   \n",
       "\n",
       "                      Description Issue dan Evidence  \\\n",
       "0  evidence :\\n\\nhttps://drive.google.com/drive/f...   \n",
       "1                                                NaN   \n",
       "2                                                NaN   \n",
       "\n",
       "  Tanggal Eksekusi PTR Ver Android 1.0.3 (272) iOS 1.0.3 (266)  \\\n",
       "0                                2024-11-05 00:00:00             \n",
       "1                                2024-11-05 00:00:00             \n",
       "2                                2024-11-05 00:00:00             \n",
       "\n",
       "  Tanggal Passed PTR Ver Android 1.0.3 (272) iOS 1.0.3 (266)  \\\n",
       "0                                2024-11-05 00:00:00           \n",
       "1                                2024-11-05 00:00:00           \n",
       "2                                2024-11-05 00:00:00           \n",
       "\n",
       "  Tanggal Eksekusi PTR Ver Android 1.0.3 (272) iOS 1.0.3 (267)  \\\n",
       "0                                                NaN             \n",
       "1                                                NaN             \n",
       "2                                                NaN             \n",
       "\n",
       "  Tanggal Passed PTR Ver Android 1.0.3 (272) iOS 1.0.3 (267)  \\\n",
       "0                                                NaN           \n",
       "1                                                NaN           \n",
       "2                                                NaN           \n",
       "\n",
       "                                            Komentar  \n",
       "0  Scenario :\\n1. Login Byond dengan iOS\\n2. Klik...  \n",
       "1                                                NaN  \n",
       "2                                                NaN  "
      ]
     },
     "execution_count": 97,
     "metadata": {},
     "output_type": "execute_result"
    }
   ],
   "source": [
    "df, version = processing_excel(file_data, 'Prototype - Tiket Prod Issue PO')\n",
    "df.head(3)"
   ]
  },
  {
   "cell_type": "code",
   "execution_count": 99,
   "metadata": {},
   "outputs": [
    {
     "data": {
      "text/plain": [
       "'PS-495 : RELEASE A - IOS - Tidak bisa klik banner donasi - IIN'"
      ]
     },
     "execution_count": 99,
     "metadata": {},
     "output_type": "execute_result"
    }
   ],
   "source": [
    "df.Features[0]"
   ]
  },
  {
   "cell_type": "code",
   "execution_count": 82,
   "metadata": {},
   "outputs": [
    {
     "data": {
      "text/plain": [
       "'PTR Ver Android 1.0.3 (272) iOS 1.0.3 (266)'"
      ]
     },
     "execution_count": 82,
     "metadata": {},
     "output_type": "execute_result"
    }
   ],
   "source": [
    "version_chosen = version[0]\n",
    "version_chosen"
   ]
  },
  {
   "cell_type": "code",
   "execution_count": 83,
   "metadata": {},
   "outputs": [],
   "source": [
    "df = df.drop(columns=[col for col in df.columns if (col.startswith('Status ') or col.startswith('Tanggal Eksekusi ') or col.startswith('Tanggal Passed ')) \\\n",
    "    and col not in ['Status ' + version_chosen, 'Tanggal Eksekusi ' + version_chosen, 'Tanggal Passed ' + version_chosen]])"
   ]
  },
  {
   "cell_type": "code",
   "execution_count": 84,
   "metadata": {},
   "outputs": [
    {
     "data": {
      "text/html": [
       "<div>\n",
       "<style scoped>\n",
       "    .dataframe tbody tr th:only-of-type {\n",
       "        vertical-align: middle;\n",
       "    }\n",
       "\n",
       "    .dataframe tbody tr th {\n",
       "        vertical-align: top;\n",
       "    }\n",
       "\n",
       "    .dataframe thead th {\n",
       "        text-align: right;\n",
       "    }\n",
       "</style>\n",
       "<table border=\"1\" class=\"dataframe\">\n",
       "  <thead>\n",
       "    <tr style=\"text-align: right;\">\n",
       "      <th></th>\n",
       "      <th>Features</th>\n",
       "      <th>Sub-features</th>\n",
       "      <th>Expected Condition</th>\n",
       "      <th>OS</th>\n",
       "      <th>OS Version</th>\n",
       "      <th>Tipe Device HP</th>\n",
       "      <th>Telko Provider HP</th>\n",
       "      <th>Rekening Sumber</th>\n",
       "      <th>Data yang digunakan</th>\n",
       "      <th>PO</th>\n",
       "      <th>FT</th>\n",
       "      <th>Status PTR Ver Android 1.0.3 (272) iOS 1.0.3 (266)</th>\n",
       "      <th>Link Report Test</th>\n",
       "      <th>Description Issue dan Evidence</th>\n",
       "      <th>Tanggal Eksekusi PTR Ver Android 1.0.3 (272) iOS 1.0.3 (266)</th>\n",
       "      <th>Tanggal Passed PTR Ver Android 1.0.3 (272) iOS 1.0.3 (266)</th>\n",
       "      <th>Komentar</th>\n",
       "    </tr>\n",
       "  </thead>\n",
       "  <tbody>\n",
       "    <tr>\n",
       "      <th>0</th>\n",
       "      <td>PS-495 : RELEASE A - IOS - Tidak bisa klik ban...</td>\n",
       "      <td>Donasi</td>\n",
       "      <td>Byond dapat menampilkan halaman list LAZ Donasi</td>\n",
       "      <td>iOS</td>\n",
       "      <td>16.3</td>\n",
       "      <td>iPhone XS</td>\n",
       "      <td>Telkomsel</td>\n",
       "      <td>NaN</td>\n",
       "      <td>NaN</td>\n",
       "      <td>Iin, Dhimas</td>\n",
       "      <td>NaN</td>\n",
       "      <td>Passed</td>\n",
       "      <td>NaN</td>\n",
       "      <td>evidence :\\n\\nhttps://drive.google.com/drive/f...</td>\n",
       "      <td>2024-11-05 00:00:00</td>\n",
       "      <td>2024-11-05 00:00:00</td>\n",
       "      <td>Scenario :\\n1. Login Byond dengan iOS\\n2. Klik...</td>\n",
       "    </tr>\n",
       "    <tr>\n",
       "      <th>1</th>\n",
       "      <td>PS-833 : IOS - TRF TERJADWAL SEKALI GAGAL</td>\n",
       "      <td>Donasi</td>\n",
       "      <td>Berhasil melakukan trf terjadwal dalam jangka ...</td>\n",
       "      <td>Android</td>\n",
       "      <td>13</td>\n",
       "      <td>Galaxy S20+</td>\n",
       "      <td>Telkomsel</td>\n",
       "      <td>NaN</td>\n",
       "      <td>NaN</td>\n",
       "      <td>NaN</td>\n",
       "      <td>NaN</td>\n",
       "      <td>Passed</td>\n",
       "      <td>https://bsicenter-my.sharepoint.com/:v:/g/pers...</td>\n",
       "      <td>NaN</td>\n",
       "      <td>2024-11-05 00:00:00</td>\n",
       "      <td>2024-11-05 00:00:00</td>\n",
       "      <td>NaN</td>\n",
       "    </tr>\n",
       "    <tr>\n",
       "      <th>2</th>\n",
       "      <td>PS-833 : IOS - TRF TERJADWAL SEKALI GAGAL</td>\n",
       "      <td>Donasi</td>\n",
       "      <td>Berhasil melakukan trf terjadwal dalam jangka ...</td>\n",
       "      <td>iOS</td>\n",
       "      <td>17.6.1</td>\n",
       "      <td>iPhone 12</td>\n",
       "      <td>Telkomsel</td>\n",
       "      <td>NaN</td>\n",
       "      <td>NaN</td>\n",
       "      <td>NaN</td>\n",
       "      <td>NaN</td>\n",
       "      <td>Passed</td>\n",
       "      <td>https://bsicenter-my.sharepoint.com/:v:/g/pers...</td>\n",
       "      <td>NaN</td>\n",
       "      <td>2024-11-05 00:00:00</td>\n",
       "      <td>2024-11-05 00:00:00</td>\n",
       "      <td>NaN</td>\n",
       "    </tr>\n",
       "  </tbody>\n",
       "</table>\n",
       "</div>"
      ],
      "text/plain": [
       "                                            Features Sub-features  \\\n",
       "0  PS-495 : RELEASE A - IOS - Tidak bisa klik ban...       Donasi   \n",
       "1         PS-833 : IOS - TRF TERJADWAL SEKALI GAGAL        Donasi   \n",
       "2         PS-833 : IOS - TRF TERJADWAL SEKALI GAGAL        Donasi   \n",
       "\n",
       "                                  Expected Condition       OS OS Version  \\\n",
       "0    Byond dapat menampilkan halaman list LAZ Donasi      iOS       16.3   \n",
       "1  Berhasil melakukan trf terjadwal dalam jangka ...  Android         13   \n",
       "2  Berhasil melakukan trf terjadwal dalam jangka ...      iOS     17.6.1   \n",
       "\n",
       "  Tipe Device HP Telko Provider HP Rekening Sumber Data yang digunakan  \\\n",
       "0      iPhone XS         Telkomsel             NaN                 NaN   \n",
       "1    Galaxy S20+         Telkomsel             NaN                 NaN   \n",
       "2      iPhone 12         Telkomsel             NaN                 NaN   \n",
       "\n",
       "            PO   FT Status PTR Ver Android 1.0.3 (272) iOS 1.0.3 (266)  \\\n",
       "0  Iin, Dhimas  NaN                                             Passed   \n",
       "1          NaN  NaN                                             Passed   \n",
       "2          NaN  NaN                                             Passed   \n",
       "\n",
       "                                    Link Report Test  \\\n",
       "0                                                NaN   \n",
       "1  https://bsicenter-my.sharepoint.com/:v:/g/pers...   \n",
       "2  https://bsicenter-my.sharepoint.com/:v:/g/pers...   \n",
       "\n",
       "                      Description Issue dan Evidence  \\\n",
       "0  evidence :\\n\\nhttps://drive.google.com/drive/f...   \n",
       "1                                                NaN   \n",
       "2                                                NaN   \n",
       "\n",
       "  Tanggal Eksekusi PTR Ver Android 1.0.3 (272) iOS 1.0.3 (266)  \\\n",
       "0                                2024-11-05 00:00:00             \n",
       "1                                2024-11-05 00:00:00             \n",
       "2                                2024-11-05 00:00:00             \n",
       "\n",
       "  Tanggal Passed PTR Ver Android 1.0.3 (272) iOS 1.0.3 (266)  \\\n",
       "0                                2024-11-05 00:00:00           \n",
       "1                                2024-11-05 00:00:00           \n",
       "2                                2024-11-05 00:00:00           \n",
       "\n",
       "                                            Komentar  \n",
       "0  Scenario :\\n1. Login Byond dengan iOS\\n2. Klik...  \n",
       "1                                                NaN  \n",
       "2                                                NaN  "
      ]
     },
     "execution_count": 84,
     "metadata": {},
     "output_type": "execute_result"
    }
   ],
   "source": [
    "df.head(3)"
   ]
  },
  {
   "cell_type": "code",
   "execution_count": 85,
   "metadata": {},
   "outputs": [],
   "source": [
    "df_android = df[df['OS'] == 'Android']"
   ]
  },
  {
   "cell_type": "code",
   "execution_count": 86,
   "metadata": {},
   "outputs": [
    {
     "name": "stderr",
     "output_type": "stream",
     "text": [
      "C:\\Users\\nahar\\AppData\\Local\\Temp\\ipykernel_14960\\1312768736.py:2: SettingWithCopyWarning:\n",
      "\n",
      "\n",
      "A value is trying to be set on a copy of a slice from a DataFrame.\n",
      "Try using .loc[row_indexer,col_indexer] = value instead\n",
      "\n",
      "See the caveats in the documentation: https://pandas.pydata.org/pandas-docs/stable/user_guide/indexing.html#returning-a-view-versus-a-copy\n",
      "\n"
     ]
    }
   ],
   "source": [
    "import numpy as np\n",
    "df_android['Status '+ version_chosen] = df_android['Status ' + version_chosen].replace(np.nan, 'Not Started')"
   ]
  },
  {
   "cell_type": "code",
   "execution_count": 87,
   "metadata": {},
   "outputs": [
    {
     "data": {
      "text/plain": [
       "Status PTR Ver Android 1.0.3 (272) iOS 1.0.3 (266)\n",
       "Passed         38.888889\n",
       "Not Started    38.888889\n",
       "Failed         16.666667\n",
       "In Progress     5.555556\n",
       "Name: count, dtype: float64"
      ]
     },
     "execution_count": 87,
     "metadata": {},
     "output_type": "execute_result"
    }
   ],
   "source": [
    "df_android['Status ' + version_chosen].value_counts().apply(lambda x:x/len(df_android)*100)"
   ]
  },
  {
   "cell_type": "code",
   "execution_count": 88,
   "metadata": {},
   "outputs": [
    {
     "ename": "NameError",
     "evalue": "name 'progress_visual' is not defined",
     "output_type": "error",
     "traceback": [
      "\u001b[1;31m---------------------------------------------------------------------------\u001b[0m",
      "\u001b[1;31mNameError\u001b[0m                                 Traceback (most recent call last)",
      "Cell \u001b[1;32mIn[88], line 1\u001b[0m\n\u001b[1;32m----> 1\u001b[0m \u001b[43mprogress_visual\u001b[49m(df, version_chosen)\n",
      "\u001b[1;31mNameError\u001b[0m: name 'progress_visual' is not defined"
     ]
    }
   ],
   "source": [
    "progress_visual(df, version_chosen)"
   ]
  },
  {
   "cell_type": "code",
   "execution_count": 18,
   "metadata": {},
   "outputs": [],
   "source": [
    "def progress_status(df, version):\n",
    "    df_android = df[df['OS'] == 'Android'].copy()\n",
    "    df_ios = df[df['OS'] == 'iOS'].copy()\n",
    "\n",
    "    def process_data(data, version):\n",
    "        data['Status ' + version] = data['Status ' + version].replace(np.nan, 'N/A')\n",
    "        return data['Status ' + version].value_counts(normalize=True) * 100\n",
    "\n",
    "    android_result = process_data(df_android, version)\n",
    "    ios_result = process_data(df_ios, version)\n",
    "    \n",
    "    df_plot = pd.concat([android_result.rename(\"Android\"), ios_result.rename('iOS')], axis=1).reset_index()\n",
    "    df_plot.rename(columns={'Status '+version : 'Status'}, inplace=True)\n",
    "    \n",
    "    df_plot = df_plot.melt(id_vars='Status', var_name='Platform', value_name='Percentage')\n",
    "    df_plot['Percentage'] = df_plot['Percentage'].apply(lambda row: round(row, 2))\n",
    "\n",
    "    return df_plot\n",
    "\n",
    "def progress_plot(df_plot, version):\n",
    "    progress_bar = px.bar(\n",
    "        df_plot,\n",
    "        x=\"Status\",\n",
    "        y=\"Percentage\",\n",
    "        color=\"Platform\",\n",
    "        barmode=\"group\",\n",
    "        title=f\"Status Distribution by Platform (Version {version})\",\n",
    "        text=\"Percentage\",\n",
    "        color_discrete_map={\"Android\": \"#FFA500\", \"iOS\": \"#1E90FF\"}  # Custom colors\n",
    "    )\n",
    "\n",
    "    # Customize the traces for better readability\n",
    "    progress_bar.update_traces(\n",
    "        texttemplate='%{text:.2f}%',\n",
    "        textposition='outside',\n",
    "        marker=dict(line=dict(width=1.5, color=\"black\"))  # Add a border to bars\n",
    "    )\n",
    "\n",
    "    # Update layout for a cleaner and professional look\n",
    "    progress_bar.update_layout(\n",
    "        title=dict(\n",
    "            text=f\"<b>Status Distribution by Platform (Version {version})</b>\",\n",
    "            font=dict(size=20, family=\"Arial, sans-serif\"),\n",
    "            x=0.5  # Center the title\n",
    "        ),\n",
    "        xaxis=dict(\n",
    "            title=\"<b>Status</b>\",\n",
    "            tickangle=-45,  # Tilt x-axis labels for readability\n",
    "            tickfont=dict(size=12, family=\"Arial, sans-serif\"),\n",
    "        ),\n",
    "        yaxis=dict(\n",
    "            title=\"<b>Percentage (%)</b>\",\n",
    "            tickfont=dict(size=12, family=\"Arial, sans-serif\"),\n",
    "        ),\n",
    "        legend=dict(\n",
    "            title=\"<b>Platform</b>\",\n",
    "            font=dict(size=12, family=\"Arial, sans-serif\"),\n",
    "            bgcolor=\"#1E1E1E\",  # Light gray background for legend\n",
    "            bordercolor=\"black\",\n",
    "            borderwidth=1,\n",
    "        ),\n",
    "        margin=dict(l=50, r=50, t=80, b=50),  # Adjust margins for spacing\n",
    "        plot_bgcolor=\"#1E1E1E\",  # Light gray background\n",
    "        paper_bgcolor=\"#1E1E1E\",  # Light gray background\n",
    "        width=1000,\n",
    "        height=600\n",
    "    )\n",
    "    \n",
    "    return progress_bar"
   ]
  },
  {
   "cell_type": "code",
   "execution_count": 19,
   "metadata": {},
   "outputs": [
    {
     "data": {
      "text/html": [
       "<div>\n",
       "<style scoped>\n",
       "    .dataframe tbody tr th:only-of-type {\n",
       "        vertical-align: middle;\n",
       "    }\n",
       "\n",
       "    .dataframe tbody tr th {\n",
       "        vertical-align: top;\n",
       "    }\n",
       "\n",
       "    .dataframe thead th {\n",
       "        text-align: right;\n",
       "    }\n",
       "</style>\n",
       "<table border=\"1\" class=\"dataframe\">\n",
       "  <thead>\n",
       "    <tr style=\"text-align: right;\">\n",
       "      <th></th>\n",
       "      <th>Status</th>\n",
       "      <th>Platform</th>\n",
       "      <th>Percentage</th>\n",
       "    </tr>\n",
       "  </thead>\n",
       "  <tbody>\n",
       "    <tr>\n",
       "      <th>0</th>\n",
       "      <td>Passed</td>\n",
       "      <td>Android</td>\n",
       "      <td>38.89</td>\n",
       "    </tr>\n",
       "    <tr>\n",
       "      <th>1</th>\n",
       "      <td>N/A</td>\n",
       "      <td>Android</td>\n",
       "      <td>22.22</td>\n",
       "    </tr>\n",
       "    <tr>\n",
       "      <th>2</th>\n",
       "      <td>Failed</td>\n",
       "      <td>Android</td>\n",
       "      <td>16.67</td>\n",
       "    </tr>\n",
       "    <tr>\n",
       "      <th>3</th>\n",
       "      <td>Not Started</td>\n",
       "      <td>Android</td>\n",
       "      <td>16.67</td>\n",
       "    </tr>\n",
       "    <tr>\n",
       "      <th>4</th>\n",
       "      <td>In Progress</td>\n",
       "      <td>Android</td>\n",
       "      <td>5.56</td>\n",
       "    </tr>\n",
       "    <tr>\n",
       "      <th>5</th>\n",
       "      <td>Passed</td>\n",
       "      <td>iOS</td>\n",
       "      <td>52.63</td>\n",
       "    </tr>\n",
       "    <tr>\n",
       "      <th>6</th>\n",
       "      <td>N/A</td>\n",
       "      <td>iOS</td>\n",
       "      <td>5.26</td>\n",
       "    </tr>\n",
       "    <tr>\n",
       "      <th>7</th>\n",
       "      <td>Failed</td>\n",
       "      <td>iOS</td>\n",
       "      <td>15.79</td>\n",
       "    </tr>\n",
       "    <tr>\n",
       "      <th>8</th>\n",
       "      <td>Not Started</td>\n",
       "      <td>iOS</td>\n",
       "      <td>26.32</td>\n",
       "    </tr>\n",
       "    <tr>\n",
       "      <th>9</th>\n",
       "      <td>In Progress</td>\n",
       "      <td>iOS</td>\n",
       "      <td>NaN</td>\n",
       "    </tr>\n",
       "  </tbody>\n",
       "</table>\n",
       "</div>"
      ],
      "text/plain": [
       "        Status Platform  Percentage\n",
       "0       Passed  Android       38.89\n",
       "1          N/A  Android       22.22\n",
       "2       Failed  Android       16.67\n",
       "3  Not Started  Android       16.67\n",
       "4  In Progress  Android        5.56\n",
       "5       Passed      iOS       52.63\n",
       "6          N/A      iOS        5.26\n",
       "7       Failed      iOS       15.79\n",
       "8  Not Started      iOS       26.32\n",
       "9  In Progress      iOS         NaN"
      ]
     },
     "execution_count": 19,
     "metadata": {},
     "output_type": "execute_result"
    }
   ],
   "source": [
    "df_plot = progress_status(df=df, version=version_chosen)\n",
    "df_plot"
   ]
  },
  {
   "cell_type": "code",
   "execution_count": 20,
   "metadata": {},
   "outputs": [
    {
     "data": {
      "application/vnd.plotly.v1+json": {
       "config": {
        "plotlyServerURL": "https://plot.ly"
       },
       "data": [
        {
         "alignmentgroup": "True",
         "hovertemplate": "Platform=Android<br>Status=%{x}<br>Percentage=%{text}<extra></extra>",
         "legendgroup": "Android",
         "marker": {
          "color": "#FFA500",
          "line": {
           "color": "black",
           "width": 1.5
          },
          "pattern": {
           "shape": ""
          }
         },
         "name": "Android",
         "offsetgroup": "Android",
         "orientation": "v",
         "showlegend": true,
         "text": [
          38.89,
          22.22,
          16.67,
          16.67,
          5.56
         ],
         "textposition": "outside",
         "texttemplate": "%{text:.2f}%",
         "type": "bar",
         "x": [
          "Passed",
          "N/A",
          "Failed",
          "Not Started",
          "In Progress"
         ],
         "xaxis": "x",
         "y": [
          38.89,
          22.22,
          16.67,
          16.67,
          5.56
         ],
         "yaxis": "y"
        },
        {
         "alignmentgroup": "True",
         "hovertemplate": "Platform=iOS<br>Status=%{x}<br>Percentage=%{text}<extra></extra>",
         "legendgroup": "iOS",
         "marker": {
          "color": "#1E90FF",
          "line": {
           "color": "black",
           "width": 1.5
          },
          "pattern": {
           "shape": ""
          }
         },
         "name": "iOS",
         "offsetgroup": "iOS",
         "orientation": "v",
         "showlegend": true,
         "text": [
          52.63,
          5.26,
          15.79,
          26.32,
          null
         ],
         "textposition": "outside",
         "texttemplate": "%{text:.2f}%",
         "type": "bar",
         "x": [
          "Passed",
          "N/A",
          "Failed",
          "Not Started",
          "In Progress"
         ],
         "xaxis": "x",
         "y": [
          52.63,
          5.26,
          15.79,
          26.32,
          null
         ],
         "yaxis": "y"
        }
       ],
       "layout": {
        "barmode": "group",
        "height": 600,
        "legend": {
         "bgcolor": "#1E1E1E",
         "bordercolor": "black",
         "borderwidth": 1,
         "font": {
          "family": "Arial, sans-serif",
          "size": 12
         },
         "title": {
          "text": "<b>Platform</b>"
         },
         "tracegroupgap": 0
        },
        "margin": {
         "b": 50,
         "l": 50,
         "r": 50,
         "t": 80
        },
        "paper_bgcolor": "#1E1E1E",
        "plot_bgcolor": "#1E1E1E",
        "template": {
         "data": {
          "candlestick": [
           {
            "decreasing": {
             "line": {
              "color": "#000033"
             }
            },
            "increasing": {
             "line": {
              "color": "#000032"
             }
            },
            "type": "candlestick"
           }
          ],
          "contour": [
           {
            "colorscale": [
             [
              0,
              "#000011"
             ],
             [
              0.1111111111111111,
              "#000012"
             ],
             [
              0.2222222222222222,
              "#000013"
             ],
             [
              0.3333333333333333,
              "#000014"
             ],
             [
              0.4444444444444444,
              "#000015"
             ],
             [
              0.5555555555555556,
              "#000016"
             ],
             [
              0.6666666666666666,
              "#000017"
             ],
             [
              0.7777777777777778,
              "#000018"
             ],
             [
              0.8888888888888888,
              "#000019"
             ],
             [
              1,
              "#000020"
             ]
            ],
            "type": "contour"
           }
          ],
          "contourcarpet": [
           {
            "colorscale": [
             [
              0,
              "#000011"
             ],
             [
              0.1111111111111111,
              "#000012"
             ],
             [
              0.2222222222222222,
              "#000013"
             ],
             [
              0.3333333333333333,
              "#000014"
             ],
             [
              0.4444444444444444,
              "#000015"
             ],
             [
              0.5555555555555556,
              "#000016"
             ],
             [
              0.6666666666666666,
              "#000017"
             ],
             [
              0.7777777777777778,
              "#000018"
             ],
             [
              0.8888888888888888,
              "#000019"
             ],
             [
              1,
              "#000020"
             ]
            ],
            "type": "contourcarpet"
           }
          ],
          "heatmap": [
           {
            "colorscale": [
             [
              0,
              "#000011"
             ],
             [
              0.1111111111111111,
              "#000012"
             ],
             [
              0.2222222222222222,
              "#000013"
             ],
             [
              0.3333333333333333,
              "#000014"
             ],
             [
              0.4444444444444444,
              "#000015"
             ],
             [
              0.5555555555555556,
              "#000016"
             ],
             [
              0.6666666666666666,
              "#000017"
             ],
             [
              0.7777777777777778,
              "#000018"
             ],
             [
              0.8888888888888888,
              "#000019"
             ],
             [
              1,
              "#000020"
             ]
            ],
            "type": "heatmap"
           }
          ],
          "histogram2d": [
           {
            "colorscale": [
             [
              0,
              "#000011"
             ],
             [
              0.1111111111111111,
              "#000012"
             ],
             [
              0.2222222222222222,
              "#000013"
             ],
             [
              0.3333333333333333,
              "#000014"
             ],
             [
              0.4444444444444444,
              "#000015"
             ],
             [
              0.5555555555555556,
              "#000016"
             ],
             [
              0.6666666666666666,
              "#000017"
             ],
             [
              0.7777777777777778,
              "#000018"
             ],
             [
              0.8888888888888888,
              "#000019"
             ],
             [
              1,
              "#000020"
             ]
            ],
            "type": "histogram2d"
           }
          ],
          "icicle": [
           {
            "textfont": {
             "color": "white"
            },
            "type": "icicle"
           }
          ],
          "sankey": [
           {
            "textfont": {
             "color": "#000036"
            },
            "type": "sankey"
           }
          ],
          "scatter": [
           {
            "marker": {
             "line": {
              "width": 0
             }
            },
            "type": "scatter"
           }
          ],
          "table": [
           {
            "cells": {
             "fill": {
              "color": "#000038"
             },
             "font": {
              "color": "#000037"
             },
             "line": {
              "color": "#000039"
             }
            },
            "header": {
             "fill": {
              "color": "#000040"
             },
             "font": {
              "color": "#000036"
             },
             "line": {
              "color": "#000039"
             }
            },
            "type": "table"
           }
          ],
          "waterfall": [
           {
            "connector": {
             "line": {
              "color": "#000036",
              "width": 2
             }
            },
            "decreasing": {
             "marker": {
              "color": "#000033"
             }
            },
            "increasing": {
             "marker": {
              "color": "#000032"
             }
            },
            "totals": {
             "marker": {
              "color": "#000034"
             }
            },
            "type": "waterfall"
           }
          ]
         },
         "layout": {
          "coloraxis": {
           "colorscale": [
            [
             0,
             "#000011"
            ],
            [
             0.1111111111111111,
             "#000012"
            ],
            [
             0.2222222222222222,
             "#000013"
            ],
            [
             0.3333333333333333,
             "#000014"
            ],
            [
             0.4444444444444444,
             "#000015"
            ],
            [
             0.5555555555555556,
             "#000016"
            ],
            [
             0.6666666666666666,
             "#000017"
            ],
            [
             0.7777777777777778,
             "#000018"
            ],
            [
             0.8888888888888888,
             "#000019"
            ],
            [
             1,
             "#000020"
            ]
           ]
          },
          "colorscale": {
           "diverging": [
            [
             0,
             "#000021"
            ],
            [
             0.1,
             "#000022"
            ],
            [
             0.2,
             "#000023"
            ],
            [
             0.3,
             "#000024"
            ],
            [
             0.4,
             "#000025"
            ],
            [
             0.5,
             "#000026"
            ],
            [
             0.6,
             "#000027"
            ],
            [
             0.7,
             "#000028"
            ],
            [
             0.8,
             "#000029"
            ],
            [
             0.9,
             "#000030"
            ],
            [
             1,
             "#000031"
            ]
           ],
           "sequential": [
            [
             0,
             "#000011"
            ],
            [
             0.1111111111111111,
             "#000012"
            ],
            [
             0.2222222222222222,
             "#000013"
            ],
            [
             0.3333333333333333,
             "#000014"
            ],
            [
             0.4444444444444444,
             "#000015"
            ],
            [
             0.5555555555555556,
             "#000016"
            ],
            [
             0.6666666666666666,
             "#000017"
            ],
            [
             0.7777777777777778,
             "#000018"
            ],
            [
             0.8888888888888888,
             "#000019"
            ],
            [
             1,
             "#000020"
            ]
           ],
           "sequentialminus": [
            [
             0,
             "#000011"
            ],
            [
             0.1111111111111111,
             "#000012"
            ],
            [
             0.2222222222222222,
             "#000013"
            ],
            [
             0.3333333333333333,
             "#000014"
            ],
            [
             0.4444444444444444,
             "#000015"
            ],
            [
             0.5555555555555556,
             "#000016"
            ],
            [
             0.6666666666666666,
             "#000017"
            ],
            [
             0.7777777777777778,
             "#000018"
            ],
            [
             0.8888888888888888,
             "#000019"
            ],
            [
             1,
             "#000020"
            ]
           ]
          },
          "colorway": [
           "#000001",
           "#000002",
           "#000003",
           "#000004",
           "#000005",
           "#000006",
           "#000007",
           "#000008",
           "#000009",
           "#000010"
          ]
         }
        },
        "title": {
         "font": {
          "family": "Arial, sans-serif",
          "size": 20
         },
         "text": "<b>Status Distribution by Platform (Version PTR Ver Android 1.0.3 (272) iOS 1.0.3 (266))</b>",
         "x": 0.5
        },
        "width": 1000,
        "xaxis": {
         "anchor": "y",
         "domain": [
          0,
          1
         ],
         "tickangle": -45,
         "tickfont": {
          "family": "Arial, sans-serif",
          "size": 12
         },
         "title": {
          "text": "<b>Status</b>"
         }
        },
        "yaxis": {
         "anchor": "x",
         "domain": [
          0,
          1
         ],
         "tickfont": {
          "family": "Arial, sans-serif",
          "size": 12
         },
         "title": {
          "text": "<b>Percentage (%)</b>"
         }
        }
       }
      }
     },
     "metadata": {},
     "output_type": "display_data"
    }
   ],
   "source": [
    "progress_plot(df_plot=df_plot, version=version_chosen)"
   ]
  },
  {
   "cell_type": "code",
   "execution_count": 48,
   "metadata": {},
   "outputs": [],
   "source": [
    "def truncate_and_wrap(text, max_words=5):\n",
    "    words = text.split()\n",
    "    if len(words) > max_words:\n",
    "        first_line = \" \".join(words[:max_words])\n",
    "        second_line = \" \".join(words[max_words:max_words*2])\n",
    "        truncated_text = f\"{first_line}\\n{second_line}\"\n",
    "    else:\n",
    "        truncated_text = \" \".join(words)\n",
    "    return truncated_text\n",
    "\n",
    "def normalize_text(text):\n",
    "    if isinstance(text, str):\n",
    "        return text.strip().lower()\n",
    "    else:\n",
    "        return str(text).lower()  # Convert to string if it's not already, then normalize"
   ]
  },
  {
   "cell_type": "code",
   "execution_count": 53,
   "metadata": {},
   "outputs": [],
   "source": [
    "import textwrap\n",
    "\n",
    "def wrap_text(text, width=50):\n",
    "    return '\\n'.join(textwrap.wrap(text, width))"
   ]
  },
  {
   "cell_type": "code",
   "execution_count": null,
   "metadata": {},
   "outputs": [
    {
     "ename": "KeyError",
     "evalue": "2",
     "output_type": "error",
     "traceback": [
      "\u001b[1;31m---------------------------------------------------------------------------\u001b[0m",
      "\u001b[1;31mKeyError\u001b[0m                                  Traceback (most recent call last)",
      "Cell \u001b[1;32mIn[108], line 1\u001b[0m\n\u001b[1;32m----> 1\u001b[0m \u001b[43mnode_indices\u001b[49m\u001b[43m[\u001b[49m\u001b[38;5;241;43m2\u001b[39;49m\u001b[43m]\u001b[49m\n",
      "\u001b[1;31mKeyError\u001b[0m: 2"
     ]
    }
   ],
   "source": [
    "node_indices[]"
   ]
  },
  {
   "cell_type": "code",
   "execution_count": 133,
   "metadata": {},
   "outputs": [
    {
     "data": {
      "application/vnd.plotly.v1+json": {
       "config": {
        "plotlyServerURL": "https://plot.ly"
       },
       "data": [
        {
         "link": {
          "color": [
           "rgba(253, 50, 22, 0.3)",
           "rgba(144, 238, 144, 0.3)",
           "rgba(0, 254, 53, 0.3)",
           "rgba(144, 238, 144, 0.3)",
           "rgba(0, 254, 53, 0.3)",
           "rgba(144, 238, 144, 0.3)",
           "rgba(106, 118, 252, 0.3)",
           "rgba(214, 38, 255, 0.3)",
           "rgba(205, 92, 92, 0.3)",
           "rgba(106, 118, 252, 0.3)",
           "rgba(214, 38, 255, 0.3)",
           "rgba(205, 92, 92, 0.3)",
           "rgba(254, 212, 196, 0.3)",
           "rgba(144, 238, 144, 0.3)",
           "rgba(254, 212, 196, 0.3)",
           "rgba(144, 238, 144, 0.3)",
           "rgba(254, 0, 206, 0.3)",
           "rgba(254, 0, 206, 0.3)",
           "rgba(205, 92, 92, 0.3)",
           "rgba(254, 0, 206, 0.3)",
           "rgba(254, 0, 206, 0.3)",
           "rgba(205, 92, 92, 0.3)",
           "rgba(13, 249, 255, 0.3)",
           "rgba(144, 238, 144, 0.3)",
           "rgba(13, 249, 255, 0.3)",
           "rgba(144, 238, 144, 0.3)",
           "rgba(246, 249, 38, 0.3)",
           "rgba(255, 150, 22, 0.3)",
           "rgba(192, 192, 192, 0.3)",
           "rgba(255, 150, 22, 0.3)",
           "rgba(144, 238, 144, 0.3)",
           "rgba(71, 155, 85, 0.3)",
           "rgba(144, 238, 144, 0.3)",
           "rgba(71, 155, 85, 0.3)",
           "rgba(144, 238, 144, 0.3)",
           "rgba(238, 166, 251, 0.3)",
           "rgba(214, 38, 255, 0.3)",
           "rgba(205, 92, 92, 0.3)",
           "rgba(238, 166, 251, 0.3)",
           "rgba(214, 38, 255, 0.3)",
           "rgba(205, 92, 92, 0.3)",
           "rgba(220, 88, 125, 0.3)",
           "rgba(144, 238, 144, 0.3)",
           "rgba(214, 38, 255, 0.3)",
           "rgba(214, 38, 255, 0.3)",
           "rgba(192, 192, 192, 0.3)",
           "rgba(214, 38, 255, 0.3)",
           "rgba(214, 38, 255, 0.3)",
           "rgba(192, 192, 192, 0.3)",
           "rgba(110, 137, 156, 0.3)",
           "rgba(144, 238, 144, 0.3)",
           "rgba(110, 137, 156, 0.3)",
           "rgba(144, 238, 144, 0.3)",
           "rgba(0, 181, 247, 0.3)",
           "rgba(144, 238, 144, 0.3)",
           "rgba(0, 181, 247, 0.3)",
           "rgba(144, 238, 144, 0.3)",
           "rgba(182, 142, 0, 0.3)",
           "rgba(144, 238, 144, 0.3)",
           "rgba(182, 142, 0, 0.3)",
           "rgba(144, 238, 144, 0.3)",
           "rgba(201, 251, 229, 0.3)",
           "rgba(227, 238, 158, 0.3)",
           "rgba(192, 192, 192, 0.3)",
           "rgba(255, 0, 146, 0.3)",
           "rgba(227, 238, 158, 0.3)",
           "rgba(192, 192, 192, 0.3)",
           "rgba(34, 255, 167, 0.3)",
           "rgba(227, 238, 158, 0.3)",
           "rgba(192, 192, 192, 0.3)",
           "rgba(34, 255, 167, 0.3)",
           "rgba(227, 238, 158, 0.3)",
           "rgba(192, 192, 192, 0.3)",
           "rgba(227, 238, 158, 0.3)",
           "rgba(227, 238, 158, 0.3)",
           "rgba(192, 192, 192, 0.3)",
           "rgba(227, 238, 158, 0.3)",
           "rgba(227, 238, 158, 0.3)",
           "rgba(192, 192, 192, 0.3)"
          ],
          "source": [
           25,
           50,
           40,
           50,
           40,
           50,
           9,
           5,
           12,
           9,
           5,
           12,
           19,
           50,
           19,
           50,
           36,
           44,
           12,
           36,
           44,
           12,
           2,
           50,
           2,
           50,
           15,
           52,
           6,
           53,
           50,
           45,
           50,
           45,
           50,
           4,
           5,
           12,
           4,
           5,
           12,
           22,
           50,
           37,
           5,
           10,
           37,
           5,
           10,
           17,
           50,
           17,
           50,
           56,
           50,
           56,
           50,
           35,
           50,
           35,
           50,
           32,
           49,
           10,
           47,
           49,
           10,
           43,
           49,
           10,
           43,
           49,
           10,
           3,
           49,
           10,
           3,
           49,
           10
          ],
          "target": [
           50,
           41,
           50,
           24,
           50,
           41,
           5,
           12,
           24,
           5,
           12,
           41,
           50,
           24,
           50,
           41,
           44,
           12,
           24,
           44,
           12,
           41,
           50,
           24,
           50,
           41,
           52,
           6,
           24,
           50,
           41,
           50,
           24,
           50,
           41,
           5,
           12,
           24,
           5,
           12,
           41,
           50,
           41,
           5,
           10,
           24,
           5,
           10,
           41,
           50,
           24,
           50,
           41,
           50,
           24,
           50,
           41,
           50,
           24,
           50,
           41,
           49,
           10,
           41,
           49,
           10,
           41,
           49,
           10,
           24,
           49,
           10,
           41,
           49,
           10,
           24,
           49,
           10,
           41
          ],
          "value": [
           1,
           1,
           1,
           1,
           1,
           1,
           1,
           1,
           1,
           1,
           1,
           1,
           1,
           1,
           1,
           1,
           1,
           1,
           1,
           1,
           1,
           1,
           1,
           1,
           1,
           1,
           1,
           1,
           1,
           1,
           1,
           1,
           1,
           1,
           1,
           1,
           1,
           1,
           1,
           1,
           1,
           1,
           1,
           1,
           1,
           1,
           1,
           1,
           1,
           1,
           1,
           1,
           1,
           1,
           1,
           1,
           1,
           1,
           1,
           1,
           1,
           1,
           1,
           1,
           1,
           1,
           1,
           1,
           1,
           1,
           1,
           1,
           1,
           1,
           1,
           1,
           1,
           1,
           1
          ]
         },
         "node": {
          "color": [
           "rgba(200, 200, 200, 0.8)",
           "rgba(200, 200, 200, 0.8)",
           "rgba(13, 249, 255, 1)",
           "rgba(227, 238, 158, 1)",
           "rgba(238, 166, 251, 1)",
           "rgba(214, 38, 255, 1)",
           "rgba(200, 200, 200, 0.8)",
           "rgba(200, 200, 200, 0.8)",
           "rgba(200, 200, 200, 0.8)",
           "rgba(106, 118, 252, 1)",
           "rgba(200, 200, 200, 0.8)",
           "rgba(200, 200, 200, 0.8)",
           "rgba(205, 92, 92, 0.8)",
           "rgba(200, 200, 200, 0.8)",
           "rgba(200, 200, 200, 0.8)",
           "rgba(246, 249, 38, 1)",
           "rgba(200, 200, 200, 0.8)",
           "rgba(110, 137, 156, 1)",
           "rgba(200, 200, 200, 0.8)",
           "rgba(254, 212, 196, 1)",
           "rgba(200, 200, 200, 0.8)",
           "rgba(200, 200, 200, 0.8)",
           "rgba(220, 88, 125, 1)",
           "rgba(200, 200, 200, 0.8)",
           "rgba(64, 224, 208, 0.8)",
           "rgba(253, 50, 22, 1)",
           "rgba(200, 200, 200, 0.8)",
           "rgba(200, 200, 200, 0.8)",
           "rgba(200, 200, 200, 0.8)",
           "rgba(200, 200, 200, 0.8)",
           "rgba(200, 200, 200, 0.8)",
           "rgba(200, 200, 200, 0.8)",
           "rgba(201, 251, 229, 1)",
           "rgba(200, 200, 200, 0.8)",
           "rgba(200, 200, 200, 0.8)",
           "rgba(182, 142, 0, 1)",
           "rgba(254, 0, 206, 1)",
           "rgba(214, 38, 255, 1)",
           "rgba(200, 200, 200, 0.8)",
           "rgba(200, 200, 200, 0.8)",
           "rgba(0, 254, 53, 1)",
           "rgba(70, 130, 180, 0.8)",
           "rgba(200, 200, 200, 0.8)",
           "rgba(34, 255, 167, 1)",
           "rgba(254, 0, 206, 1)",
           "rgba(71, 155, 85, 1)",
           "rgba(200, 200, 200, 0.8)",
           "rgba(255, 0, 146, 1)",
           "rgba(200, 200, 200, 0.8)",
           "rgba(227, 238, 158, 1)",
           "rgba(144, 238, 144, 0.8)",
           "rgba(200, 200, 200, 0.8)",
           "rgba(255, 150, 22, 1)",
           "rgba(255, 150, 22, 1)",
           "rgba(200, 200, 200, 0.8)",
           "rgba(200, 200, 200, 0.8)",
           "rgba(0, 181, 247, 1)"
          ],
          "customdata": [
           "12 <br>Incoming: 0 <br>Outgoing: 0",
           "18.01 <br>Incoming: 0 <br>Outgoing: 0",
           "PS-837 : RELEASE-B-IOS-KONTEN DISCLOSURE TIDAK<br>SESUAI-FIDYA-ASSET <br>Incoming: 0 <br>Outgoing: 2",
           "PB-708 : Pengecekan transaksi Topup eWallet DANA<br>dengan spek SNAP, telah masuk pada sistem rekon<br>dengan partnerReferenceNo dan<br>transactionCode yang benar <br>Incoming: 0 <br>Outgoing: 2",
           "PS-832 : Release B - Android - List Banner BYOND<br>LYFE hanya bisa 10 banner - Engagement <br>Incoming: 0 <br>Outgoing: 2",
           "Donasi <br>Incoming: 6 <br>Outgoing: 6",
           "In Progress <br>Incoming: 1 <br>Outgoing: 1",
           "iPhone XS <br>Incoming: 0 <br>Outgoing: 0",
           "Galaxy A13 <br>Incoming: 0 <br>Outgoing: 0",
           "PS-817: RELEASE B- iOS & Android - Push Notif dari<br>Banner ketika di klik masuk ke halaman kosong atau<br>kendala <br>Incoming: 0 <br>Outgoing: 2",
           "Not Started <br>Incoming: 8 <br>Outgoing: 8",
           "Iphone 15 Pro max <br>Incoming: 0 <br>Outgoing: 0",
           "Failed <br>Incoming: 6 <br>Outgoing: 6",
           "Samsung A52 <br>Incoming: 0 <br>Outgoing: 0",
           "iPhone 15 Pro max <br>Incoming: 0 <br>Outgoing: 0",
           "PB-669 : Release B - Android - Push Notif Jadwal<br>Sholat tidak sesui - Engagement <br>Incoming: 0 <br>Outgoing: 1",
           "14 <br>Incoming: 0 <br>Outgoing: 0",
           "PS-844  : RELEASE-8-ANDROID-DETAIL FIELD PADA<br>PORTFOLIO BAHASA INGGRIS-FIDYA-ASSET <br>Incoming: 0 <br>Outgoing: 2",
           "nan <br>Incoming: 0 <br>Outgoing: 0",
           "PS-826 : RELEASE-B-IOS & ANDROID-BAR PORTFOLIO<br>CICIL EMAS TIDAK SESUAI-FIDYA-ASSET <br>Incoming: 0 <br>Outgoing: 2",
           "Iphone 15 Pro <br>Incoming: 0 <br>Outgoing: 0",
           "13 <br>Incoming: 0 <br>Outgoing: 0",
           "PS-839 : Manajemen Kartu Debit (nama pada cetak<br>kartu) IOS-INDAH <br>Incoming: 0 <br>Outgoing: 1",
           "Galaxy S20+ <br>Incoming: 0 <br>Outgoing: 0",
           "Android <br>Incoming: 14 <br>Outgoing: 0",
           "PS-495 : RELEASE A - IOS - Tidak bisa klik banner<br>donasi - IIN <br>Incoming: 0 <br>Outgoing: 1",
           "Realme 8 <br>Incoming: 0 <br>Outgoing: 0",
           "Samsung Galaxy S22 <br>Incoming: 0 <br>Outgoing: 0",
           "Samsung Note 10 <br>Incoming: 0 <br>Outgoing: 0",
           "iPhone 12 <br>Incoming: 0 <br>Outgoing: 0",
           "17.6.1 <br>Incoming: 0 <br>Outgoing: 0",
           "16.3 <br>Incoming: 0 <br>Outgoing: 0",
           "PB-682 : Prod 1.08(29) - Pilih Asuransi - Hansel -<br>DCX - IOS <br>Incoming: 0 <br>Outgoing: 1",
           "18.0.1 <br>Incoming: 0 <br>Outgoing: 0",
           "iPhone 14 <br>Incoming: 0 <br>Outgoing: 0",
           "PB-661 : Semoke test Andorid & iOS - Mitraguna<br>Force Closed ketika pilih object refinancing -<br>Rosalyn <br>Incoming: 0 <br>Outgoing: 2",
           "PS-836  : RELEASE B - Android & IOS - PEMBIAYAAN -<br>Issue Perpanjangan Gadai Emas (Perhitungan Biaya<br>Perpanjangan Gadai Emas Tanda Minus nya Tidak<br>Sesuai) - FIDYA - ASSET <br>Incoming: 0 <br>Outgoing: 2",
           "RS1-2650 : Perbaikan PartnerReferenceNo di Top Up<br>Direct OVO <br>Incoming: 0 <br>Outgoing: 2",
           "Ipad Mini 5 <br>Incoming: 0 <br>Outgoing: 0",
           "16.1 <br>Incoming: 0 <br>Outgoing: 0",
           "PS-833 : IOS - TRF TERJADWAL SEKALI GAGAL <br>Incoming: 0 <br>Outgoing: 2",
           "iOS <br>Incoming: 18 <br>Outgoing: 0",
           "nan <br>Incoming: 0 <br>Outgoing: 0",
           "PB-707 : Pengecekan transaksi MPN untuk biller<br>DJBC, DJP dan DJA, telah diterima sistem TFE untuk<br>keperluan reporting dan rekonsiliasi ke Kemenkeu <br>Incoming: 0 <br>Outgoing: 2",
           "Gadai Emas <br>Incoming: 2 <br>Outgoing: 2",
           "PS-834  : Android - Berbagi - double click banner <br>Incoming: 0 <br>Outgoing: 2",
           "17.7.1 <br>Incoming: 0 <br>Outgoing: 0",
           "PB-689 : Prod 1.08(29) - properti bayar beli <br>Incoming: 0 <br>Outgoing: 1",
           "Samsung A51 <br>Incoming: 0 <br>Outgoing: 0",
           "All feature <br>Incoming: 6 <br>Outgoing: 6",
           "Passed <br>Incoming: 17 <br>Outgoing: 17",
           "iPhone 15 <br>Incoming: 0 <br>Outgoing: 0",
           "Cicil Emas <br>Incoming: 1 <br>Outgoing: 1",
           "PB-670 : Manajemen kartu (muncul tabungan jajan<br>untuk IOS) <br>Incoming: 0 <br>Outgoing: 1",
           "iPhone 11 <br>Incoming: 0 <br>Outgoing: 0",
           "18.1 <br>Incoming: 0 <br>Outgoing: 0",
           "PB-666 : Gagal QRIS MPM DINAMIS - ver 1.0.8 (260) <br>Incoming: 0 <br>Outgoing: 2"
          ],
          "hovertemplate": "%{customdata}<extra></extra>",
          "label": [
           "12",
           "18.01",
           "PS-837 : RELEASE-B-I...",
           "PB-708 : Pengecekan ...",
           "PS-832 : Release B -...",
           "Donasi",
           "In Progress",
           "iPhone XS",
           "Galaxy A13",
           "PS-817: RELEASE B- i...",
           "Not Started",
           "Iphone 15 Pro max",
           "Failed",
           "Samsung A52",
           "iPhone 15 Pro max",
           "PB-669 : Release B -...",
           "14",
           "PS-844\t: RELEASE-8-A...",
           "nan",
           "PS-826 : RELEASE-B-I...",
           "Iphone 15 Pro",
           "13",
           "PS-839 : Manajemen K...",
           "Galaxy S20+",
           "Android",
           "PS-495 : RELEASE A -...",
           "Realme 8",
           "Samsung Galaxy S22",
           "Samsung Note 10",
           "iPhone 12",
           "17.6.1",
           "16.3",
           "PB-682 : Prod 1.08(2...",
           "18.0.1",
           "iPhone 14",
           "PB-661 : Semoke test...",
           "PS-836\t: RELEASE B -...",
           "RS1-2650 : Perbaikan...",
           "Ipad Mini 5",
           "16.1",
           "PS-833 : IOS - TRF T...",
           "iOS",
           "nan",
           "PB-707 : Pengecekan ...",
           "Gadai Emas",
           "PS-834\t: Android - B...",
           "17.7.1",
           "PB-689 : Prod 1.08(2...",
           "Samsung A51",
           "All feature",
           "Passed",
           "iPhone 15",
           "Cicil Emas",
           "PB-670 : Manajemen k...",
           "iPhone 11",
           "18.1",
           "PB-666 : Gagal QRIS ..."
          ],
          "line": {
           "color": "black",
           "width": 0.5
          },
          "pad": 15,
          "thickness": 20
         },
         "type": "sankey"
        }
       ],
       "layout": {
        "font": {
         "color": "white",
         "size": 14
        },
        "height": 700,
        "margin": {
         "b": 20,
         "l": 20,
         "r": 20,
         "t": 20
        },
        "paper_bgcolor": "#1E1E1E",
        "plot_bgcolor": "#1E1E1E",
        "template": {
         "data": {
          "candlestick": [
           {
            "decreasing": {
             "line": {
              "color": "#000033"
             }
            },
            "increasing": {
             "line": {
              "color": "#000032"
             }
            },
            "type": "candlestick"
           }
          ],
          "contour": [
           {
            "colorscale": [
             [
              0,
              "#000011"
             ],
             [
              0.1111111111111111,
              "#000012"
             ],
             [
              0.2222222222222222,
              "#000013"
             ],
             [
              0.3333333333333333,
              "#000014"
             ],
             [
              0.4444444444444444,
              "#000015"
             ],
             [
              0.5555555555555556,
              "#000016"
             ],
             [
              0.6666666666666666,
              "#000017"
             ],
             [
              0.7777777777777778,
              "#000018"
             ],
             [
              0.8888888888888888,
              "#000019"
             ],
             [
              1,
              "#000020"
             ]
            ],
            "type": "contour"
           }
          ],
          "contourcarpet": [
           {
            "colorscale": [
             [
              0,
              "#000011"
             ],
             [
              0.1111111111111111,
              "#000012"
             ],
             [
              0.2222222222222222,
              "#000013"
             ],
             [
              0.3333333333333333,
              "#000014"
             ],
             [
              0.4444444444444444,
              "#000015"
             ],
             [
              0.5555555555555556,
              "#000016"
             ],
             [
              0.6666666666666666,
              "#000017"
             ],
             [
              0.7777777777777778,
              "#000018"
             ],
             [
              0.8888888888888888,
              "#000019"
             ],
             [
              1,
              "#000020"
             ]
            ],
            "type": "contourcarpet"
           }
          ],
          "heatmap": [
           {
            "colorscale": [
             [
              0,
              "#000011"
             ],
             [
              0.1111111111111111,
              "#000012"
             ],
             [
              0.2222222222222222,
              "#000013"
             ],
             [
              0.3333333333333333,
              "#000014"
             ],
             [
              0.4444444444444444,
              "#000015"
             ],
             [
              0.5555555555555556,
              "#000016"
             ],
             [
              0.6666666666666666,
              "#000017"
             ],
             [
              0.7777777777777778,
              "#000018"
             ],
             [
              0.8888888888888888,
              "#000019"
             ],
             [
              1,
              "#000020"
             ]
            ],
            "type": "heatmap"
           }
          ],
          "histogram2d": [
           {
            "colorscale": [
             [
              0,
              "#000011"
             ],
             [
              0.1111111111111111,
              "#000012"
             ],
             [
              0.2222222222222222,
              "#000013"
             ],
             [
              0.3333333333333333,
              "#000014"
             ],
             [
              0.4444444444444444,
              "#000015"
             ],
             [
              0.5555555555555556,
              "#000016"
             ],
             [
              0.6666666666666666,
              "#000017"
             ],
             [
              0.7777777777777778,
              "#000018"
             ],
             [
              0.8888888888888888,
              "#000019"
             ],
             [
              1,
              "#000020"
             ]
            ],
            "type": "histogram2d"
           }
          ],
          "icicle": [
           {
            "textfont": {
             "color": "white"
            },
            "type": "icicle"
           }
          ],
          "sankey": [
           {
            "textfont": {
             "color": "#000036"
            },
            "type": "sankey"
           }
          ],
          "scatter": [
           {
            "marker": {
             "line": {
              "width": 0
             }
            },
            "type": "scatter"
           }
          ],
          "table": [
           {
            "cells": {
             "fill": {
              "color": "#000038"
             },
             "font": {
              "color": "#000037"
             },
             "line": {
              "color": "#000039"
             }
            },
            "header": {
             "fill": {
              "color": "#000040"
             },
             "font": {
              "color": "#000036"
             },
             "line": {
              "color": "#000039"
             }
            },
            "type": "table"
           }
          ],
          "waterfall": [
           {
            "connector": {
             "line": {
              "color": "#000036",
              "width": 2
             }
            },
            "decreasing": {
             "marker": {
              "color": "#000033"
             }
            },
            "increasing": {
             "marker": {
              "color": "#000032"
             }
            },
            "totals": {
             "marker": {
              "color": "#000034"
             }
            },
            "type": "waterfall"
           }
          ]
         },
         "layout": {
          "coloraxis": {
           "colorscale": [
            [
             0,
             "#000011"
            ],
            [
             0.1111111111111111,
             "#000012"
            ],
            [
             0.2222222222222222,
             "#000013"
            ],
            [
             0.3333333333333333,
             "#000014"
            ],
            [
             0.4444444444444444,
             "#000015"
            ],
            [
             0.5555555555555556,
             "#000016"
            ],
            [
             0.6666666666666666,
             "#000017"
            ],
            [
             0.7777777777777778,
             "#000018"
            ],
            [
             0.8888888888888888,
             "#000019"
            ],
            [
             1,
             "#000020"
            ]
           ]
          },
          "colorscale": {
           "diverging": [
            [
             0,
             "#000021"
            ],
            [
             0.1,
             "#000022"
            ],
            [
             0.2,
             "#000023"
            ],
            [
             0.3,
             "#000024"
            ],
            [
             0.4,
             "#000025"
            ],
            [
             0.5,
             "#000026"
            ],
            [
             0.6,
             "#000027"
            ],
            [
             0.7,
             "#000028"
            ],
            [
             0.8,
             "#000029"
            ],
            [
             0.9,
             "#000030"
            ],
            [
             1,
             "#000031"
            ]
           ],
           "sequential": [
            [
             0,
             "#000011"
            ],
            [
             0.1111111111111111,
             "#000012"
            ],
            [
             0.2222222222222222,
             "#000013"
            ],
            [
             0.3333333333333333,
             "#000014"
            ],
            [
             0.4444444444444444,
             "#000015"
            ],
            [
             0.5555555555555556,
             "#000016"
            ],
            [
             0.6666666666666666,
             "#000017"
            ],
            [
             0.7777777777777778,
             "#000018"
            ],
            [
             0.8888888888888888,
             "#000019"
            ],
            [
             1,
             "#000020"
            ]
           ],
           "sequentialminus": [
            [
             0,
             "#000011"
            ],
            [
             0.1111111111111111,
             "#000012"
            ],
            [
             0.2222222222222222,
             "#000013"
            ],
            [
             0.3333333333333333,
             "#000014"
            ],
            [
             0.4444444444444444,
             "#000015"
            ],
            [
             0.5555555555555556,
             "#000016"
            ],
            [
             0.6666666666666666,
             "#000017"
            ],
            [
             0.7777777777777778,
             "#000018"
            ],
            [
             0.8888888888888888,
             "#000019"
            ],
            [
             1,
             "#000020"
            ]
           ]
          },
          "colorway": [
           "#000001",
           "#000002",
           "#000003",
           "#000004",
           "#000005",
           "#000006",
           "#000007",
           "#000008",
           "#000009",
           "#000010"
          ]
         }
        },
        "width": 1000
       }
      }
     },
     "metadata": {},
     "output_type": "display_data"
    }
   ],
   "source": [
    "nodes = list(set(\n",
    "    df['Features'].tolist() +\n",
    "    df['Sub-features'].tolist() +\n",
    "    df['OS'].tolist() +\n",
    "    df['OS Version'].tolist() +\n",
    "    df['Tipe Device HP'].tolist() +\n",
    "    df[\"Status \"+ version_chosen].tolist()\n",
    "))\n",
    "\n",
    "def wrap_long_name(name, width=50):\n",
    "    return '<br>'.join(textwrap.wrap(str(name), width))\n",
    "\n",
    "# Create short labels for Sankey plot without modifying the original df\n",
    "node_indices = {\n",
    "    node: (str(node)[:20] + \"...\") if isinstance(node, str) and len(str(node)) > 20 else str(node)\n",
    "    for node in nodes\n",
    "}\n",
    "\n",
    "# Create a list of shortened node labels for the Sankey plot\n",
    "short_nodes = [node_indices[node] for node in nodes]\n",
    "\n",
    "long_nodes = [wrap_long_name(node) for node in nodes]\n",
    "\n",
    "# Create flows (source → target)\n",
    "sources = []\n",
    "targets = []\n",
    "values = []\n",
    "\n",
    "# Generate sources and targets for the Sankey diagram\n",
    "for _, row in df.iterrows():\n",
    "    feature = row[\"Features\"]\n",
    "    sub_feature = row[\"Sub-features\"]\n",
    "    status = row[\"Status \"+ version_chosen]\n",
    "    os_type = row[\"OS\"]\n",
    "\n",
    "    # Feature -> Status -> OS if Status is \"Passed\"\n",
    "    if status == \"Passed\":\n",
    "        sources.append(nodes.index(feature))  # Feature -> Status\n",
    "        targets.append(nodes.index(status))\n",
    "        values.append(1)\n",
    "\n",
    "        sources.append(nodes.index(status))  # Status -> OS\n",
    "        targets.append(nodes.index(os_type))\n",
    "        values.append(1)\n",
    "\n",
    "    # Feature -> Sub-feature -> Status -> OS if Status is \"Failed\"\n",
    "    elif status == \"Failed\" or status == \"N/A\" or status == \"In Progress\" or status == \"Not Started\":\n",
    "        sources.append(nodes.index(feature))  # Feature -> Sub-feature\n",
    "        targets.append(nodes.index(sub_feature))\n",
    "        values.append(1)\n",
    "\n",
    "        sources.append(nodes.index(sub_feature))  # Sub-feature -> Status\n",
    "        targets.append(nodes.index(status))\n",
    "        values.append(1)\n",
    "\n",
    "        sources.append(nodes.index(status))  # Status -> OS\n",
    "        targets.append(nodes.index(os_type))\n",
    "        values.append(1)\n",
    "        \n",
    "    # Calculate incoming and outgoing flows\n",
    "    incoming_flows = {node: 0 for node in nodes}\n",
    "    outgoing_flows = {node: 0 for node in nodes}\n",
    "\n",
    "    for source, target in zip(sources, targets):\n",
    "        outgoing_flows[nodes[source]] += 1  # Increase the outgoing flow count for the source node\n",
    "        incoming_flows[nodes[target]] += 1  # Increase the incoming flow count for the target node\n",
    "\n",
    "    # Prepare customdata with both incoming and outgoing flows\n",
    "    customdata = [\n",
    "        f\"{long_name} <br>Incoming: {incoming_flows[node]} <br>Outgoing: {outgoing_flows[node]}\"\n",
    "        for node, long_name in zip(nodes, long_nodes)\n",
    "    ]\n",
    "        \n",
    "    # Assign a default value of 1 for each connection\n",
    "    values = [1] * len(sources)\n",
    "\n",
    "    # Use a qualitative color scale for high contrast (e.g., Plotly's 'Dark24')\n",
    "    color_palette = px.colors.qualitative.Light24 # Replace with another palette if needed\n",
    "    num_colors = len(color_palette)\n",
    "\n",
    "    opacity = 1  # Example opacity value (0.0 - 1.0)\n",
    "    node_colors = {}\n",
    "    for i, feature in enumerate(df[\"Features\"].unique()):\n",
    "        hex_color = color_palette[i % num_colors]  # Get the hex color\n",
    "        rgba_color = to_rgba(hex_color, alpha=opacity)  # Convert to RGBA\n",
    "        node_colors[feature] = f\"rgba({int(rgba_color[0]*255)}, {int(rgba_color[1]*255)}, {int(rgba_color[2]*255)}, {rgba_color[3]})\"\n",
    "\n",
    "    # Propagate feature colors to sub-features\n",
    "    for feature in df[\"Features\"].unique():\n",
    "        feature_color = node_colors[feature]\n",
    "        for sub_feature in df[df[\"Features\"] == feature][\"Sub-features\"].unique():\n",
    "            node_colors[sub_feature] = feature_color\n",
    "\n",
    "    # Overwrite colors for 'Passed' and 'Failed'\n",
    "    node_colors[\"Passed\"] = \"rgba(144, 238, 144, 0.8)\"  # Soft green\n",
    "    node_colors[\"Failed\"] = \"rgba(205, 92, 92, 0.8)\"    # Soft red brick\n",
    "\n",
    "    node_colors[\"Android\"] = \"rgba(64, 224, 208, 0.8)\"  # Green turquoise\n",
    "    node_colors[\"iOS\"] = \"rgba(70, 130, 180, 0.8)\"      # Steel blue\n",
    "\n",
    "    # Set default color for unassigned nodes\n",
    "    default_color = \"rgba(200, 200, 200, 0.8)\"\n",
    "    node_color_list = [node_colors.get(node, default_color) for node in nodes]\n",
    "\n",
    "    # Assign link colors based on source node color with transparency\n",
    "    link_colors = []\n",
    "    for source, target in zip(sources, targets):\n",
    "        source_color = node_colors.get(nodes[source], \"rgba(192, 192, 192, 0.3)\")  # Default gray if missing\n",
    "        rgba_values = source_color.strip(\"rgba()\").split(\",\")\n",
    "        if len(rgba_values) == 4:\n",
    "            r, g, b, _ = map(float, rgba_values[:4])\n",
    "            link_colors.append(f\"rgba({int(r)}, {int(g)}, {int(b)}, 0.3)\")  # Reduce opacity for the links\n",
    "        else:\n",
    "            link_colors.append(\"rgba(192, 192, 192, 0.3)\")  # Default gray\n",
    "\n",
    "\n",
    "# Plot Sankey Diagram\n",
    "fig = go.Figure(data=[go.Sankey(\n",
    "    node=dict(\n",
    "        pad=15,\n",
    "        thickness=20,\n",
    "        line=dict(color=\"black\", width=0.5),\n",
    "        label=short_nodes,  # Use short labels here\n",
    "        color=node_color_list,  # Optionally set a default color\n",
    "        customdata=customdata,\n",
    "        hovertemplate=\"%{customdata}<extra></extra>\"\n",
    "    ),\n",
    "    link=dict(\n",
    "        source=sources,\n",
    "        target=targets,\n",
    "        value=values,\n",
    "        color=link_colors\n",
    "    )\n",
    ")])\n",
    "\n",
    "# Update layout and show\n",
    "fig.update_layout(\n",
    "    font_size=12,\n",
    "    width=1000,  # Increase width for a wider graph\n",
    "    height=700,   # Increase height for a taller graph\n",
    "    font=dict(size=14, color='white'),\n",
    "    plot_bgcolor='#1E1E1E',\n",
    "    paper_bgcolor='#1E1E1E',\n",
    "    margin=dict(l=20, r=20, t=20, b=20)\n",
    ")\n",
    "\n",
    "fig.show()\n"
   ]
  },
  {
   "cell_type": "code",
   "execution_count": 134,
   "metadata": {},
   "outputs": [
    {
     "data": {
      "text/plain": [
       "['rgba(253, 50, 22, 0.3)',\n",
       " 'rgba(144, 238, 144, 0.3)',\n",
       " 'rgba(0, 254, 53, 0.3)',\n",
       " 'rgba(144, 238, 144, 0.3)',\n",
       " 'rgba(0, 254, 53, 0.3)',\n",
       " 'rgba(144, 238, 144, 0.3)',\n",
       " 'rgba(106, 118, 252, 0.3)',\n",
       " 'rgba(214, 38, 255, 0.3)',\n",
       " 'rgba(205, 92, 92, 0.3)',\n",
       " 'rgba(106, 118, 252, 0.3)',\n",
       " 'rgba(214, 38, 255, 0.3)',\n",
       " 'rgba(205, 92, 92, 0.3)',\n",
       " 'rgba(254, 212, 196, 0.3)',\n",
       " 'rgba(144, 238, 144, 0.3)',\n",
       " 'rgba(254, 212, 196, 0.3)',\n",
       " 'rgba(144, 238, 144, 0.3)',\n",
       " 'rgba(254, 0, 206, 0.3)',\n",
       " 'rgba(254, 0, 206, 0.3)',\n",
       " 'rgba(205, 92, 92, 0.3)',\n",
       " 'rgba(254, 0, 206, 0.3)',\n",
       " 'rgba(254, 0, 206, 0.3)',\n",
       " 'rgba(205, 92, 92, 0.3)',\n",
       " 'rgba(13, 249, 255, 0.3)',\n",
       " 'rgba(144, 238, 144, 0.3)',\n",
       " 'rgba(13, 249, 255, 0.3)',\n",
       " 'rgba(144, 238, 144, 0.3)',\n",
       " 'rgba(246, 249, 38, 0.3)',\n",
       " 'rgba(255, 150, 22, 0.3)',\n",
       " 'rgba(192, 192, 192, 0.3)',\n",
       " 'rgba(255, 150, 22, 0.3)',\n",
       " 'rgba(144, 238, 144, 0.3)',\n",
       " 'rgba(71, 155, 85, 0.3)',\n",
       " 'rgba(144, 238, 144, 0.3)',\n",
       " 'rgba(71, 155, 85, 0.3)',\n",
       " 'rgba(144, 238, 144, 0.3)',\n",
       " 'rgba(238, 166, 251, 0.3)',\n",
       " 'rgba(214, 38, 255, 0.3)',\n",
       " 'rgba(205, 92, 92, 0.3)',\n",
       " 'rgba(238, 166, 251, 0.3)',\n",
       " 'rgba(214, 38, 255, 0.3)',\n",
       " 'rgba(205, 92, 92, 0.3)',\n",
       " 'rgba(220, 88, 125, 0.3)',\n",
       " 'rgba(144, 238, 144, 0.3)',\n",
       " 'rgba(214, 38, 255, 0.3)',\n",
       " 'rgba(214, 38, 255, 0.3)',\n",
       " 'rgba(192, 192, 192, 0.3)',\n",
       " 'rgba(214, 38, 255, 0.3)',\n",
       " 'rgba(214, 38, 255, 0.3)',\n",
       " 'rgba(192, 192, 192, 0.3)',\n",
       " 'rgba(110, 137, 156, 0.3)',\n",
       " 'rgba(144, 238, 144, 0.3)',\n",
       " 'rgba(110, 137, 156, 0.3)',\n",
       " 'rgba(144, 238, 144, 0.3)',\n",
       " 'rgba(0, 181, 247, 0.3)',\n",
       " 'rgba(144, 238, 144, 0.3)',\n",
       " 'rgba(0, 181, 247, 0.3)',\n",
       " 'rgba(144, 238, 144, 0.3)',\n",
       " 'rgba(182, 142, 0, 0.3)',\n",
       " 'rgba(144, 238, 144, 0.3)',\n",
       " 'rgba(182, 142, 0, 0.3)',\n",
       " 'rgba(144, 238, 144, 0.3)',\n",
       " 'rgba(201, 251, 229, 0.3)',\n",
       " 'rgba(227, 238, 158, 0.3)',\n",
       " 'rgba(192, 192, 192, 0.3)',\n",
       " 'rgba(255, 0, 146, 0.3)',\n",
       " 'rgba(227, 238, 158, 0.3)',\n",
       " 'rgba(192, 192, 192, 0.3)',\n",
       " 'rgba(34, 255, 167, 0.3)',\n",
       " 'rgba(227, 238, 158, 0.3)',\n",
       " 'rgba(192, 192, 192, 0.3)',\n",
       " 'rgba(34, 255, 167, 0.3)',\n",
       " 'rgba(227, 238, 158, 0.3)',\n",
       " 'rgba(192, 192, 192, 0.3)',\n",
       " 'rgba(227, 238, 158, 0.3)',\n",
       " 'rgba(227, 238, 158, 0.3)',\n",
       " 'rgba(192, 192, 192, 0.3)',\n",
       " 'rgba(227, 238, 158, 0.3)',\n",
       " 'rgba(227, 238, 158, 0.3)',\n",
       " 'rgba(192, 192, 192, 0.3)']"
      ]
     },
     "execution_count": 134,
     "metadata": {},
     "output_type": "execute_result"
    }
   ],
   "source": [
    "link_colors"
   ]
  },
  {
   "cell_type": "code",
   "execution_count": 125,
   "metadata": {},
   "outputs": [
    {
     "data": {
      "text/plain": [
       "'18.01'"
      ]
     },
     "execution_count": 125,
     "metadata": {},
     "output_type": "execute_result"
    }
   ],
   "source": [
    "long_nodes[1]"
   ]
  },
  {
   "cell_type": "code",
   "execution_count": 117,
   "metadata": {},
   "outputs": [
    {
     "data": {
      "text/plain": [
       "'PS-495 : RELEASE A - IOS - Tidak bisa klik banner donasi - IIN'"
      ]
     },
     "execution_count": 117,
     "metadata": {},
     "output_type": "execute_result"
    }
   ],
   "source": [
    "df.Features[0]"
   ]
  }
 ],
 "metadata": {
  "kernelspec": {
   "display_name": "data_science",
   "language": "python",
   "name": "python3"
  },
  "language_info": {
   "codemirror_mode": {
    "name": "ipython",
    "version": 3
   },
   "file_extension": ".py",
   "mimetype": "text/x-python",
   "name": "python",
   "nbconvert_exporter": "python",
   "pygments_lexer": "ipython3",
   "version": "3.11.9"
  }
 },
 "nbformat": 4,
 "nbformat_minor": 2
}
