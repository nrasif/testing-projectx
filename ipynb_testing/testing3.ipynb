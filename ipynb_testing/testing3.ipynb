{
 "cells": [
  {
   "cell_type": "code",
   "execution_count": 1,
   "metadata": {},
   "outputs": [],
   "source": [
    "import streamlit as st\n",
    "import pandas as pd\n",
    "\n",
    "from googleapiclient.discovery import build\n",
    "from google.oauth2 import service_account\n",
    "from io import BytesIO\n",
    "from googleapiclient.http import MediaIoBaseDownload\n",
    "\n",
    "from datetime import datetime\n",
    "import pytz\n",
    "\n",
    "import plotly.express as px\n",
    "\n",
    "SCOPES = ['https://www.googleapis.com/auth/drive']\n",
    "SERVICE_ACCOUNT_FILE = '../service_account.json'\n",
    "PARENT_FOLDER_ID = '1vIKk9xgUn1JGY2MFPdB6W3tEfU8oVptP'\n",
    "\n",
    "def authenticate():\n",
    "    '''\n",
    "    Autentikasi akun untuk akses ke gdrive\n",
    "    '''\n",
    "    creds = service_account.Credentials.from_service_account_file(SERVICE_ACCOUNT_FILE, scopes=SCOPES)\n",
    "    return creds\n",
    "\n",
    "def list_files():\n",
    "    creds = authenticate()\n",
    "    service = build('drive', 'v3', credentials=creds)\n",
    "    \n",
    "    results = service.files().list(\n",
    "        q=f\"'{PARENT_FOLDER_ID}' in parents\",\n",
    "        spaces='drive',\n",
    "        fields='nextPageToken, files(id, name, modifiedTime)',\n",
    "        pageSize=10\n",
    "    ).execute()\n",
    "    \n",
    "    items = results.get('files', [])\n",
    "    \n",
    "    file_list = []\n",
    "    if items:\n",
    "        file_list = [(item['name'], item['id'], item['modifiedTime']) for item in items]\n",
    "    return file_list\n",
    "\n",
    "def read_file_from_drive(file_id):\n",
    "    '''\n",
    "    Read Excel file from Google Drive\n",
    "    '''\n",
    "    creds = authenticate()\n",
    "    service = build('drive', 'v3', credentials=creds)\n",
    "    \n",
    "    # Stream the file content\n",
    "    request = service.files().get_media(fileId=file_id)\n",
    "    file_data = BytesIO()\n",
    "    downloader = MediaIoBaseDownload(file_data, request)\n",
    "    done = False\n",
    "    while not done:\n",
    "        _, done = downloader.next_chunk()\n",
    "    \n",
    "    file_data.seek(0)\n",
    "    return file_data  # Return the raw file data\n",
    "\n",
    "def read_file_from_drive(file_id):\n",
    "    '''\n",
    "    Read Excel file from Google Drive\n",
    "    '''\n",
    "    creds = authenticate()\n",
    "    service = build('drive', 'v3', credentials=creds)\n",
    "    \n",
    "    # Stream the file content\n",
    "    request = service.files().get_media(fileId=file_id)\n",
    "    file_data = BytesIO()\n",
    "    downloader = MediaIoBaseDownload(file_data, request)\n",
    "    done = False\n",
    "    while not done:\n",
    "        _, done = downloader.next_chunk()\n",
    "    \n",
    "    file_data.seek(0)\n",
    "    return file_data  # Return the raw file data\n",
    "\n",
    "def processing_excel(file_data, sheet_name):\n",
    "    '''\n",
    "    Process Excel file to clean and prepare the data\n",
    "    '''\n",
    "    \n",
    "    excel_ptr = pd.read_excel(file_data, sheet_name, header=None)\n",
    "    temp_df = excel_ptr.ffill()\n",
    "    \n",
    "    listof_ver = temp_df[temp_df[1].str.contains('PTR Ver', na=False)][1].unique().tolist()\n",
    "    \n",
    "    # Get the rows which will become header\n",
    "    value_to_skip = 'Features'\n",
    "    max_rows_to_scan = 10\n",
    "\n",
    "    header_index = excel_ptr.head(max_rows_to_scan).apply(lambda row: row.astype(str).str.contains(value_to_skip).any(), axis=1).idxmax()\n",
    "\n",
    "    if pd.isna(header_index):  # If 'Features' wasn't found in the scanned rows\n",
    "        print(\"Header 'Features' not found in the first\", max_rows_to_scan, \"rows.\")\n",
    "    else:\n",
    "        new_header = excel_ptr.iloc[header_index].values\n",
    "        excel_ptr = excel_ptr.iloc[header_index+1:].copy()\n",
    "        excel_ptr.columns = new_header\n",
    "        \n",
    "    excel_ptr = excel_ptr.iloc[:, 1:]\n",
    "    excel_ptr.reset_index(drop=True, inplace=True)\n",
    "    \n",
    "    # Convert column OS Version types\n",
    "    if 'OS Version' not in excel_ptr.columns:\n",
    "        st.warning(\"The selected sheet does not have an 'OS Version' column. Skipping this part of processing.\")\n",
    "    else:\n",
    "        excel_ptr['OS Version'] = excel_ptr['OS Version'].astype(str)\n",
    "    \n",
    "    # drop column Number\n",
    "    excel_ptr.drop(columns='No', inplace=True, errors='ignore')\n",
    "    \n",
    "    #Rename the column\n",
    "    excel_ptr.rename(columns={\n",
    "        'Sub Fitur': 'Sub-features',\n",
    "        'Rekening Sumber\\n[Jika ada]': 'Rekening Sumber',\n",
    "        'Data yang Digunakan\\n[Jika ada]': 'Data yang digunakan',\n",
    "        'FT\\n[Jika Ada]': 'FT',\n",
    "        'Tanggal Eksekusi\\n[harus diisi]': 'Tanggal Eksekusi',\n",
    "        'Tanggal Passed\\n[harus diisi]': 'Tanggal Passed'\n",
    "    }, inplace=True)\n",
    "    \n",
    "    # Define the columns to ffill\n",
    "    columns_to_ffill = ['Features', 'Sub-features', 'Expected Condition']\n",
    "\n",
    "    # Check if 'Link JIRA' exists in the dataframe\n",
    "    if 'Link JIRA' in excel_ptr.columns:\n",
    "        columns_to_ffill.append('Link JIRA')\n",
    "\n",
    "    # Apply ffill only on the selected columns\n",
    "    excel_ptr[columns_to_ffill] = excel_ptr[columns_to_ffill].apply(lambda x: x.ffill())\n",
    "\n",
    "    \n",
    "    return excel_ptr, listof_ver\n",
    "\n",
    "def status_progress(processed_excel, version):\n",
    "    \"\"\"\n",
    "    Calculate the progress based on the processed Excel data.\n",
    "    \"\"\"\n",
    "    statusBased_OS = [(x, y) for x, y in zip(processed_excel['OS'].values, processed_excel['Status '+ version].values)]\n",
    "    passed_prog = sum(1 for item in statusBased_OS if item == ('Android', 'Passed'))\n",
    "    failed_prog = sum(1 for item in statusBased_OS if item == ('Android', 'Failed'))\n",
    "    unknown_prog = sum(1 for item in statusBased_OS if item == ('Android', 'N/A'))\n",
    "    inprog_prog = sum(1 for item in statusBased_OS if item == ('Android', 'In Progress'))\n",
    "    \n",
    "    return passed_prog, failed_prog, unknown_prog, inprog_prog\n"
   ]
  },
  {
   "cell_type": "code",
   "execution_count": 2,
   "metadata": {},
   "outputs": [],
   "source": [
    "file_list = list_files()"
   ]
  },
  {
   "cell_type": "code",
   "execution_count": 3,
   "metadata": {},
   "outputs": [
    {
     "data": {
      "text/plain": [
       "[('PTR Sprint 12 - Fitri (1).xlsx',\n",
       "  '1Lss1vt8f7yWcvWOTpRebY7Vd1JoQ_A4O',\n",
       "  '2025-01-07T04:41:36.930Z'),\n",
       " ('PTR_Rilis_D.xlsx',\n",
       "  '1JzRCBOTHgisl-ckN58w9TA_t4bUgMusv',\n",
       "  '2025-01-05T18:34:10.572Z'),\n",
       " ('Testing PTR Rilis D_Hotfix_Prod Issue_(November2024).xlsx',\n",
       "  '1QIR-Of8MaZT1kd2ZxF1i3PR6b3dFkRU6',\n",
       "  '2024-12-24T04:54:23.446Z')]"
      ]
     },
     "execution_count": 3,
     "metadata": {},
     "output_type": "execute_result"
    }
   ],
   "source": [
    "file_list"
   ]
  },
  {
   "cell_type": "code",
   "execution_count": 4,
   "metadata": {},
   "outputs": [
    {
     "data": {
      "text/plain": [
       "'1Lss1vt8f7yWcvWOTpRebY7Vd1JoQ_A4O'"
      ]
     },
     "execution_count": 4,
     "metadata": {},
     "output_type": "execute_result"
    }
   ],
   "source": [
    "[(file_id, modified_time) for name, file_id, modified_time in file_list if name == 'PTR Sprint 12 - Fitri (1).xlsx'][0][0]"
   ]
  },
  {
   "cell_type": "code",
   "execution_count": 5,
   "metadata": {},
   "outputs": [],
   "source": [
    "selected_file_data = [(file_id, modified_time) for name, file_id, modified_time in file_list if name == 'PTR Sprint 12 - Fitri (1).xlsx'][0][0]\n",
    "selected_file_id = selected_file_data\n",
    "\n",
    "file_data = read_file_from_drive(selected_file_id)"
   ]
  },
  {
   "cell_type": "markdown",
   "metadata": {},
   "source": [
    "# Ngetest Manual buat liat mana yang error"
   ]
  },
  {
   "cell_type": "code",
   "execution_count": 6,
   "metadata": {},
   "outputs": [
    {
     "data": {
      "text/plain": [
       "<_io.BytesIO at 0x261a315bf60>"
      ]
     },
     "execution_count": 6,
     "metadata": {},
     "output_type": "execute_result"
    }
   ],
   "source": [
    "file_data"
   ]
  },
  {
   "cell_type": "code",
   "execution_count": 7,
   "metadata": {},
   "outputs": [
    {
     "data": {
      "text/plain": [
       "['Regresi App 6 Jan (1.0.3 Prod)',\n",
       " 'PTR Impactd Fitur-PO(1.0.3 PTR)',\n",
       " 'Test Apps 7 Jan-PO (1.0.3 PTR )',\n",
       " 'PTR fitur baru-PO (1.0.5 PTR)',\n",
       " 'PTR existing ftr-PO (1.0.5 PTR)',\n",
       " 'PTR Hotfix-PO (1.0.5 PTR)',\n",
       " 'Testing PTR-Tester (1.0.5 PTR)',\n",
       " 'PTR_PO_Payment',\n",
       " 'Tiket Hotfix PO',\n",
       " 'PTR PO-Surrounding deploy',\n",
       " 'Sheet1',\n",
       " 'PTR PO Payment - Surrounding dp',\n",
       " 'Sheet2',\n",
       " 'Testing PTR Backoffice-Tester',\n",
       " 'Tiket Ready PTR-Tester (1.0.5)',\n",
       " '-']"
      ]
     },
     "execution_count": 7,
     "metadata": {},
     "output_type": "execute_result"
    }
   ],
   "source": [
    "excel_file = pd.ExcelFile(file_data)\n",
    "excel_file.sheet_names  # Returns a list of sheet names"
   ]
  },
  {
   "cell_type": "code",
   "execution_count": 137,
   "metadata": {},
   "outputs": [],
   "source": [
    "excel_ptr = pd.read_excel(file_data, 'PTR Hotfix-PO (1.0.5 PTR)', header=None)\n",
    "temp_df = excel_ptr.ffill()\n",
    "\n",
    "listof_ver = temp_df[temp_df[1].str.contains('PTR Ver', na=False)][1].unique().tolist()\n",
    "\n",
    "# Get the rows which will become header\n",
    "value_to_skip = 'Features'\n",
    "max_rows_to_scan = 20\n",
    "\n",
    "header_index = excel_ptr.head(max_rows_to_scan).apply(lambda row: row.astype(str).str.contains(value_to_skip).any(), axis=1).idxmax()\n",
    "\n",
    "if pd.isna(header_index):  # If 'Features' wasn't found in the scanned rows\n",
    "    print(\"Header 'Features' not found in the first\", max_rows_to_scan, \"rows.\")\n",
    "else:\n",
    "    new_header = excel_ptr.iloc[header_index].values\n",
    "    excel_ptr = excel_ptr.iloc[header_index+1:].copy()\n",
    "    excel_ptr.columns = new_header\n",
    "    \n",
    "excel_ptr = excel_ptr.iloc[:, 1:]\n",
    "excel_ptr.reset_index(drop=True, inplace=True)"
   ]
  },
  {
   "cell_type": "code",
   "execution_count": 138,
   "metadata": {},
   "outputs": [
    {
     "data": {
      "text/plain": [
       "['PTR Ver APK 1.0.5 IPA 1.0.5']"
      ]
     },
     "execution_count": 138,
     "metadata": {},
     "output_type": "execute_result"
    }
   ],
   "source": [
    "listof_ver"
   ]
  },
  {
   "cell_type": "code",
   "execution_count": 139,
   "metadata": {},
   "outputs": [],
   "source": [
    "if 'OS Version' not in excel_ptr.columns:\n",
    "    st.warning(\"The selected sheet does not have an 'OS Version' column. Skipping this part of processing.\")\n",
    "else:\n",
    "    excel_ptr['OS Version'] = excel_ptr['OS Version'].astype(str)"
   ]
  },
  {
   "cell_type": "code",
   "execution_count": 140,
   "metadata": {},
   "outputs": [],
   "source": [
    "excel_ptr.drop(columns='No', inplace=True, errors='ignore')"
   ]
  },
  {
   "cell_type": "code",
   "execution_count": 141,
   "metadata": {},
   "outputs": [],
   "source": [
    "#Rename the column\n",
    "excel_ptr.rename(columns={\n",
    "    'Sub Fitur': 'Sub-features',\n",
    "    'Rekening Sumber\\n[Jika ada]': 'Rekening Sumber',\n",
    "    'Data yang Digunakan\\n[Jika ada]': 'Data yang digunakan',\n",
    "    'FT\\n[Jika Ada]': 'FT',\n",
    "    'Tanggal Eksekusi\\n[harus diisi]': 'Tanggal Eksekusi',\n",
    "    'Tanggal Passed\\n[harus diisi]': 'Tanggal Passed'\n",
    "}, inplace=True)\n",
    "\n",
    "# Because of merged and centered, need to use ffill to duplicate values before current rows\n",
    "excel_ptr[['Features', 'Sub-features', 'Expected Condition']] = excel_ptr[['Features', 'Sub-features', 'Expected Condition']].apply(lambda x: x.ffill())\n"
   ]
  },
  {
   "cell_type": "code",
   "execution_count": 142,
   "metadata": {},
   "outputs": [
    {
     "data": {
      "text/html": [
       "<div>\n",
       "<style scoped>\n",
       "    .dataframe tbody tr th:only-of-type {\n",
       "        vertical-align: middle;\n",
       "    }\n",
       "\n",
       "    .dataframe tbody tr th {\n",
       "        vertical-align: top;\n",
       "    }\n",
       "\n",
       "    .dataframe thead th {\n",
       "        text-align: right;\n",
       "    }\n",
       "</style>\n",
       "<table border=\"1\" class=\"dataframe\">\n",
       "  <thead>\n",
       "    <tr style=\"text-align: right;\">\n",
       "      <th></th>\n",
       "      <th>Link JIRA</th>\n",
       "      <th>Features</th>\n",
       "      <th>Sub-features</th>\n",
       "      <th>Problem Description</th>\n",
       "      <th>Expected Condition</th>\n",
       "      <th>OS</th>\n",
       "      <th>OS Version</th>\n",
       "      <th>Tipe Device HP</th>\n",
       "      <th>Telko Provider HP</th>\n",
       "      <th>Rekening Sumber</th>\n",
       "      <th>Data yang digunakan</th>\n",
       "      <th>PO</th>\n",
       "      <th>FT</th>\n",
       "      <th>Link Report Test</th>\n",
       "      <th>Description Issue dan Evidence</th>\n",
       "      <th>Status PTR PTR Ver APK 1.0.5 IPA 1.0.5</th>\n",
       "      <th>Tanggal Eksekusi PTR Ver APK 1.0.5 IPA 1.0.5</th>\n",
       "      <th>Tanggal Passed PTR Ver APK 1.0.5 IPA 1.0.5</th>\n",
       "      <th>Komentar</th>\n",
       "    </tr>\n",
       "  </thead>\n",
       "  <tbody>\n",
       "    <tr>\n",
       "      <th>0</th>\n",
       "      <td>[PIB-42] Donwload dan Share Resi Transaksi</td>\n",
       "      <td>Share Resi</td>\n",
       "      <td>Share Resi</td>\n",
       "      <td>Nama Nasabah : xxxxxxxxxxxxxxxxANI\\nNomor Reke...</td>\n",
       "      <td>Nasabah bisa download dan share resi transaksi</td>\n",
       "      <td>Android</td>\n",
       "      <td>nan</td>\n",
       "      <td>NaN</td>\n",
       "      <td>NaN</td>\n",
       "      <td>NaN</td>\n",
       "      <td>NaN</td>\n",
       "      <td>Ori</td>\n",
       "      <td>NaN</td>\n",
       "      <td>NaN</td>\n",
       "      <td>NaN</td>\n",
       "      <td>Pass with noted</td>\n",
       "      <td>NaN</td>\n",
       "      <td>NaN</td>\n",
       "      <td>NaN</td>\n",
       "    </tr>\n",
       "    <tr>\n",
       "      <th>1</th>\n",
       "      <td>NaN</td>\n",
       "      <td>Share Resi</td>\n",
       "      <td>Share Resi</td>\n",
       "      <td>NaN</td>\n",
       "      <td>Nasabah bisa download dan share resi transaksi</td>\n",
       "      <td>iOS</td>\n",
       "      <td>nan</td>\n",
       "      <td>NaN</td>\n",
       "      <td>NaN</td>\n",
       "      <td>NaN</td>\n",
       "      <td>NaN</td>\n",
       "      <td>Ori</td>\n",
       "      <td>NaN</td>\n",
       "      <td>NaN</td>\n",
       "      <td>NaN</td>\n",
       "      <td>Pass with noted</td>\n",
       "      <td>NaN</td>\n",
       "      <td>NaN</td>\n",
       "      <td>NaN</td>\n",
       "    </tr>\n",
       "    <tr>\n",
       "      <th>2</th>\n",
       "      <td>[PIB-106] Gagal Permintaan Kartu Debit</td>\n",
       "      <td>Manajemen Kartu</td>\n",
       "      <td>Manajemen Kartu</td>\n",
       "      <td>Mohon Bantuannya, terdapat kegagalan request k...</td>\n",
       "      <td>Nasabah bisa request kartu debit di iOS dan An...</td>\n",
       "      <td>Android</td>\n",
       "      <td>nan</td>\n",
       "      <td>NaN</td>\n",
       "      <td>NaN</td>\n",
       "      <td>NaN</td>\n",
       "      <td>NaN</td>\n",
       "      <td>Rifatun, Indah</td>\n",
       "      <td>NaN</td>\n",
       "      <td>NaN</td>\n",
       "      <td>NaN</td>\n",
       "      <td>Passed</td>\n",
       "      <td>NaN</td>\n",
       "      <td>NaN</td>\n",
       "      <td>NaN</td>\n",
       "    </tr>\n",
       "    <tr>\n",
       "      <th>3</th>\n",
       "      <td>NaN</td>\n",
       "      <td>Manajemen Kartu</td>\n",
       "      <td>Manajemen Kartu</td>\n",
       "      <td>NaN</td>\n",
       "      <td>Nasabah bisa request kartu debit di iOS dan An...</td>\n",
       "      <td>iOS</td>\n",
       "      <td>nan</td>\n",
       "      <td>NaN</td>\n",
       "      <td>NaN</td>\n",
       "      <td>NaN</td>\n",
       "      <td>NaN</td>\n",
       "      <td>Rifatun, Indah</td>\n",
       "      <td>NaN</td>\n",
       "      <td>NaN</td>\n",
       "      <td>NaN</td>\n",
       "      <td>Passed</td>\n",
       "      <td>NaN</td>\n",
       "      <td>NaN</td>\n",
       "      <td>NaN</td>\n",
       "    </tr>\n",
       "    <tr>\n",
       "      <th>4</th>\n",
       "      <td>[PIB-79] Kartu Debit Baru di Manajemen Kartu</td>\n",
       "      <td>Manajemen Kartu</td>\n",
       "      <td>Manajemen Kartu</td>\n",
       "      <td>Ketika membuat kartu debit baru. Carrousel kar...</td>\n",
       "      <td>Harusnya ada constraint atau pembatas</td>\n",
       "      <td>iOS</td>\n",
       "      <td>nan</td>\n",
       "      <td>NaN</td>\n",
       "      <td>NaN</td>\n",
       "      <td>NaN</td>\n",
       "      <td>NaN</td>\n",
       "      <td>Rifatun, Indah</td>\n",
       "      <td>NaN</td>\n",
       "      <td>NaN</td>\n",
       "      <td>NaN</td>\n",
       "      <td>Passed</td>\n",
       "      <td>NaN</td>\n",
       "      <td>NaN</td>\n",
       "      <td>NaN</td>\n",
       "    </tr>\n",
       "    <tr>\n",
       "      <th>5</th>\n",
       "      <td>[PIB-74] Quick Menu Tabungan Haji di Homescreen</td>\n",
       "      <td>Homescreen</td>\n",
       "      <td>Homescreen</td>\n",
       "      <td>iOS utk tabungan haji fitur dibawah tidak beru...</td>\n",
       "      <td>Harusnya berubah sesuai ngambar SS di Figma ya...</td>\n",
       "      <td>iOS</td>\n",
       "      <td>nan</td>\n",
       "      <td>NaN</td>\n",
       "      <td>NaN</td>\n",
       "      <td>NaN</td>\n",
       "      <td>NaN</td>\n",
       "      <td>Futsia, arib</td>\n",
       "      <td>NaN</td>\n",
       "      <td>NaN</td>\n",
       "      <td>NaN</td>\n",
       "      <td>Passed</td>\n",
       "      <td>NaN</td>\n",
       "      <td>NaN</td>\n",
       "      <td>NaN</td>\n",
       "    </tr>\n",
       "    <tr>\n",
       "      <th>6</th>\n",
       "      <td>[PIB-67] Snackbar E-Money Salah Posisi</td>\n",
       "      <td>E-Money</td>\n",
       "      <td>E-Money</td>\n",
       "      <td>Sedangkan android defect jdinya di belakang ov...</td>\n",
       "      <td>Snackbar harusnya berada di depan overlay hita...</td>\n",
       "      <td>Android</td>\n",
       "      <td>nan</td>\n",
       "      <td>NaN</td>\n",
       "      <td>NaN</td>\n",
       "      <td>NaN</td>\n",
       "      <td>NaN</td>\n",
       "      <td>Nando, anggoran</td>\n",
       "      <td>NaN</td>\n",
       "      <td>NaN</td>\n",
       "      <td>NaN</td>\n",
       "      <td>Passed</td>\n",
       "      <td>NaN</td>\n",
       "      <td>NaN</td>\n",
       "      <td>NaN</td>\n",
       "    </tr>\n",
       "    <tr>\n",
       "      <th>7</th>\n",
       "      <td>[PIB-58] No Rekening Tabungan Emas dan SBSN</td>\n",
       "      <td>Portofolio, Portofolio Emas, Portofolio SBSN</td>\n",
       "      <td>Portofolio, Portofolio Emas, Portofolio SBSN</td>\n",
       "      <td>di iOS tidak bisa klik icon copy no rekening t...</td>\n",
       "      <td>Seharusnya ada klik icon copy nomer rekening t...</td>\n",
       "      <td>iOS</td>\n",
       "      <td>nan</td>\n",
       "      <td>NaN</td>\n",
       "      <td>NaN</td>\n",
       "      <td>NaN</td>\n",
       "      <td>NaN</td>\n",
       "      <td>Ajeng</td>\n",
       "      <td>NaN</td>\n",
       "      <td>NaN</td>\n",
       "      <td>NaN</td>\n",
       "      <td>Passed</td>\n",
       "      <td>NaN</td>\n",
       "      <td>NaN</td>\n",
       "      <td>NaN</td>\n",
       "    </tr>\n",
       "    <tr>\n",
       "      <th>8</th>\n",
       "      <td>[PIB-41] Force Close</td>\n",
       "      <td>Mega Menu</td>\n",
       "      <td>Mega Menu</td>\n",
       "      <td>pada saat melakukan paste di field 'search' te...</td>\n",
       "      <td>Seharusnya tidak force closed</td>\n",
       "      <td>Android</td>\n",
       "      <td>nan</td>\n",
       "      <td>NaN</td>\n",
       "      <td>NaN</td>\n",
       "      <td>NaN</td>\n",
       "      <td>NaN</td>\n",
       "      <td>NaN</td>\n",
       "      <td>NaN</td>\n",
       "      <td>NaN</td>\n",
       "      <td>NaN</td>\n",
       "      <td>Passed</td>\n",
       "      <td>NaN</td>\n",
       "      <td>NaN</td>\n",
       "      <td>NaN</td>\n",
       "    </tr>\n",
       "    <tr>\n",
       "      <th>9</th>\n",
       "      <td>NaN</td>\n",
       "      <td>Mega Menu</td>\n",
       "      <td>Mega Menu</td>\n",
       "      <td>NaN</td>\n",
       "      <td>Seharusnya tidak force closed</td>\n",
       "      <td>iOS</td>\n",
       "      <td>nan</td>\n",
       "      <td>NaN</td>\n",
       "      <td>NaN</td>\n",
       "      <td>NaN</td>\n",
       "      <td>NaN</td>\n",
       "      <td>NaN</td>\n",
       "      <td>NaN</td>\n",
       "      <td>NaN</td>\n",
       "      <td>NaN</td>\n",
       "      <td>Failed</td>\n",
       "      <td>NaN</td>\n",
       "      <td>NaN</td>\n",
       "      <td>NaN</td>\n",
       "    </tr>\n",
       "    <tr>\n",
       "      <th>10</th>\n",
       "      <td>[PIB-17] Resi Kosong</td>\n",
       "      <td>Profil - Pengaturan BI-Fast</td>\n",
       "      <td>Profil - Pengaturan BI-Fast</td>\n",
       "      <td>Fitur : Pengaturan BI Fast -&gt; Status Transaksi...</td>\n",
       "      <td>Ketika transaksi berhasil, harusnya sesuai, te...</td>\n",
       "      <td>iOS</td>\n",
       "      <td>nan</td>\n",
       "      <td>NaN</td>\n",
       "      <td>NaN</td>\n",
       "      <td>NaN</td>\n",
       "      <td>NaN</td>\n",
       "      <td>Winda, fasya</td>\n",
       "      <td>NaN</td>\n",
       "      <td>NaN</td>\n",
       "      <td>NaN</td>\n",
       "      <td>Failed</td>\n",
       "      <td>NaN</td>\n",
       "      <td>NaN</td>\n",
       "      <td>NaN</td>\n",
       "    </tr>\n",
       "    <tr>\n",
       "      <th>11</th>\n",
       "      <td>[PIB-35] Force Closed pada Deposito</td>\n",
       "      <td>Deposito</td>\n",
       "      <td>Deposito</td>\n",
       "      <td>Force Close Deposito ketika lokasi not allowed</td>\n",
       "      <td>Tidak force close</td>\n",
       "      <td>iOS</td>\n",
       "      <td>nan</td>\n",
       "      <td>NaN</td>\n",
       "      <td>NaN</td>\n",
       "      <td>NaN</td>\n",
       "      <td>NaN</td>\n",
       "      <td>Futsia, arib</td>\n",
       "      <td>NaN</td>\n",
       "      <td>NaN</td>\n",
       "      <td>NaN</td>\n",
       "      <td>Passed</td>\n",
       "      <td>NaN</td>\n",
       "      <td>NaN</td>\n",
       "      <td>NaN</td>\n",
       "    </tr>\n",
       "    <tr>\n",
       "      <th>12</th>\n",
       "      <td>[PIB-102] Perbedaan Title Profile Menu terkait...</td>\n",
       "      <td>Profil - Informasi kurs</td>\n",
       "      <td>Profil - Informasi kurs</td>\n",
       "      <td>Gambar diatas merupakan hasil tangkapan layar ...</td>\n",
       "      <td>Menampilkan informasi harga kurs dan emas</td>\n",
       "      <td>Android</td>\n",
       "      <td>nan</td>\n",
       "      <td>NaN</td>\n",
       "      <td>NaN</td>\n",
       "      <td>NaN</td>\n",
       "      <td>NaN</td>\n",
       "      <td>Ajeng</td>\n",
       "      <td>NaN</td>\n",
       "      <td>NaN</td>\n",
       "      <td>NaN</td>\n",
       "      <td>Pass with noted</td>\n",
       "      <td>NaN</td>\n",
       "      <td>NaN</td>\n",
       "      <td>NaN</td>\n",
       "    </tr>\n",
       "    <tr>\n",
       "      <th>13</th>\n",
       "      <td>NaN</td>\n",
       "      <td>Profil - Informasi kurs</td>\n",
       "      <td>Profil - Informasi kurs</td>\n",
       "      <td>NaN</td>\n",
       "      <td>Menampilkan informasi harga kurs dan emas</td>\n",
       "      <td>iOS</td>\n",
       "      <td>nan</td>\n",
       "      <td>NaN</td>\n",
       "      <td>NaN</td>\n",
       "      <td>NaN</td>\n",
       "      <td>NaN</td>\n",
       "      <td>Ajeng</td>\n",
       "      <td>NaN</td>\n",
       "      <td>NaN</td>\n",
       "      <td>NaN</td>\n",
       "      <td>Passed</td>\n",
       "      <td>NaN</td>\n",
       "      <td>NaN</td>\n",
       "      <td>NaN</td>\n",
       "    </tr>\n",
       "    <tr>\n",
       "      <th>14</th>\n",
       "      <td>[PIB-85] Icon BSI tidak Load di Hasanah Card</td>\n",
       "      <td>Hanasah Card</td>\n",
       "      <td>Hanasah Card</td>\n",
       "      <td>Di hassanah card icon bsi tidak terload</td>\n",
       "      <td>Icon BSI terload</td>\n",
       "      <td>iOS</td>\n",
       "      <td>nan</td>\n",
       "      <td>NaN</td>\n",
       "      <td>NaN</td>\n",
       "      <td>NaN</td>\n",
       "      <td>NaN</td>\n",
       "      <td>Irna</td>\n",
       "      <td>NaN</td>\n",
       "      <td>NaN</td>\n",
       "      <td>NaN</td>\n",
       "      <td>Passed</td>\n",
       "      <td>NaN</td>\n",
       "      <td>NaN</td>\n",
       "      <td>NaN</td>\n",
       "    </tr>\n",
       "    <tr>\n",
       "      <th>15</th>\n",
       "      <td>[PIB-81] Ziswaf</td>\n",
       "      <td>Ziswaf</td>\n",
       "      <td>Ziswaf</td>\n",
       "      <td>ziswaf beberapa banner seperti di video masih ...</td>\n",
       "      <td>Harusnya one click at a time</td>\n",
       "      <td>Android</td>\n",
       "      <td>nan</td>\n",
       "      <td>NaN</td>\n",
       "      <td>NaN</td>\n",
       "      <td>NaN</td>\n",
       "      <td>NaN</td>\n",
       "      <td>Iin, dimas</td>\n",
       "      <td>NaN</td>\n",
       "      <td>NaN</td>\n",
       "      <td>NaN</td>\n",
       "      <td>Passed</td>\n",
       "      <td>NaN</td>\n",
       "      <td>NaN</td>\n",
       "      <td>NaN</td>\n",
       "    </tr>\n",
       "    <tr>\n",
       "      <th>16</th>\n",
       "      <td>NaN</td>\n",
       "      <td>Ziswaf</td>\n",
       "      <td>Ziswaf</td>\n",
       "      <td>NaN</td>\n",
       "      <td>Harusnya one click at a time</td>\n",
       "      <td>iOS</td>\n",
       "      <td>nan</td>\n",
       "      <td>NaN</td>\n",
       "      <td>NaN</td>\n",
       "      <td>NaN</td>\n",
       "      <td>NaN</td>\n",
       "      <td>Iin, dimas</td>\n",
       "      <td>NaN</td>\n",
       "      <td>NaN</td>\n",
       "      <td>NaN</td>\n",
       "      <td>Passed</td>\n",
       "      <td>NaN</td>\n",
       "      <td>NaN</td>\n",
       "      <td>NaN</td>\n",
       "    </tr>\n",
       "    <tr>\n",
       "      <th>17</th>\n",
       "      <td>[PIB-77] Limitasi Blast Targeted Banner Promo</td>\n",
       "      <td>Targeted Promo</td>\n",
       "      <td>Targeted Promo</td>\n",
       "      <td>Pada saat ingin melakukan proses blast banner ...</td>\n",
       "      <td>Harusnya berhasil upload target user di menu m...</td>\n",
       "      <td>Backoffice</td>\n",
       "      <td>nan</td>\n",
       "      <td>NaN</td>\n",
       "      <td>NaN</td>\n",
       "      <td>NaN</td>\n",
       "      <td>NaN</td>\n",
       "      <td>Inna, nauvaldy</td>\n",
       "      <td>NaN</td>\n",
       "      <td>NaN</td>\n",
       "      <td>NaN</td>\n",
       "      <td>Passed</td>\n",
       "      <td>NaN</td>\n",
       "      <td>NaN</td>\n",
       "      <td>NaN</td>\n",
       "    </tr>\n",
       "    <tr>\n",
       "      <th>18</th>\n",
       "      <td>[PIB-51] Mutasi</td>\n",
       "      <td>Mutasi</td>\n",
       "      <td>Mutasi</td>\n",
       "      <td>A. Di dalam mutasi rekening seharusnya hanya a...</td>\n",
       "      <td>Harusnya tidak ada kategori transfer, dan muta...</td>\n",
       "      <td>Android</td>\n",
       "      <td>nan</td>\n",
       "      <td>NaN</td>\n",
       "      <td>NaN</td>\n",
       "      <td>NaN</td>\n",
       "      <td>NaN</td>\n",
       "      <td>Ori</td>\n",
       "      <td>NaN</td>\n",
       "      <td>NaN</td>\n",
       "      <td>NaN</td>\n",
       "      <td>Passed</td>\n",
       "      <td>NaN</td>\n",
       "      <td>NaN</td>\n",
       "      <td>NaN</td>\n",
       "    </tr>\n",
       "    <tr>\n",
       "      <th>19</th>\n",
       "      <td>NaN</td>\n",
       "      <td>Mutasi</td>\n",
       "      <td>Mutasi</td>\n",
       "      <td>NaN</td>\n",
       "      <td>Harusnya tidak ada kategori transfer, dan muta...</td>\n",
       "      <td>iOS</td>\n",
       "      <td>nan</td>\n",
       "      <td>NaN</td>\n",
       "      <td>NaN</td>\n",
       "      <td>NaN</td>\n",
       "      <td>NaN</td>\n",
       "      <td>Ori</td>\n",
       "      <td>NaN</td>\n",
       "      <td>NaN</td>\n",
       "      <td>NaN</td>\n",
       "      <td>Passed</td>\n",
       "      <td>NaN</td>\n",
       "      <td>NaN</td>\n",
       "      <td>NaN</td>\n",
       "    </tr>\n",
       "    <tr>\n",
       "      <th>20</th>\n",
       "      <td>[PIB-72] Kesalahan Flow Mitraguna Online</td>\n",
       "      <td>Mitraguna Online</td>\n",
       "      <td>Mitraguna Online</td>\n",
       "      <td>Terdapat kesalahan flow dimana saat nasabah kl...</td>\n",
       "      <td>Flow mitraguna online sesuai, yaitu diarahkan ...</td>\n",
       "      <td>Android</td>\n",
       "      <td>nan</td>\n",
       "      <td>NaN</td>\n",
       "      <td>NaN</td>\n",
       "      <td>NaN</td>\n",
       "      <td>NaN</td>\n",
       "      <td>Rosalyn</td>\n",
       "      <td>NaN</td>\n",
       "      <td>NaN</td>\n",
       "      <td>NaN</td>\n",
       "      <td>Passed</td>\n",
       "      <td>NaN</td>\n",
       "      <td>NaN</td>\n",
       "      <td>NaN</td>\n",
       "    </tr>\n",
       "    <tr>\n",
       "      <th>21</th>\n",
       "      <td>NaN</td>\n",
       "      <td>Mitraguna Online</td>\n",
       "      <td>Mitraguna Online</td>\n",
       "      <td>NaN</td>\n",
       "      <td>Flow mitraguna online sesuai, yaitu diarahkan ...</td>\n",
       "      <td>iOS</td>\n",
       "      <td>nan</td>\n",
       "      <td>NaN</td>\n",
       "      <td>NaN</td>\n",
       "      <td>NaN</td>\n",
       "      <td>NaN</td>\n",
       "      <td>Rosalyn</td>\n",
       "      <td>NaN</td>\n",
       "      <td>NaN</td>\n",
       "      <td>NaN</td>\n",
       "      <td>Passed</td>\n",
       "      <td>NaN</td>\n",
       "      <td>NaN</td>\n",
       "      <td>NaN</td>\n",
       "    </tr>\n",
       "    <tr>\n",
       "      <th>22</th>\n",
       "      <td>[PIB-71] Tulisan Pascabayar di Judul Ada \"/tel...</td>\n",
       "      <td>Bayar Beli - Pasca Bayar</td>\n",
       "      <td>Bayar Beli - Pasca Bayar</td>\n",
       "      <td>Tulisan pascabayar dijudul ada /telkom</td>\n",
       "      <td>Harusnya tidak ada tulisan \"/telkom\"</td>\n",
       "      <td>iOS</td>\n",
       "      <td>nan</td>\n",
       "      <td>NaN</td>\n",
       "      <td>NaN</td>\n",
       "      <td>NaN</td>\n",
       "      <td>NaN</td>\n",
       "      <td>Nando, anggoran</td>\n",
       "      <td>NaN</td>\n",
       "      <td>NaN</td>\n",
       "      <td>NaN</td>\n",
       "      <td>Passed</td>\n",
       "      <td>NaN</td>\n",
       "      <td>NaN</td>\n",
       "      <td>NaN</td>\n",
       "    </tr>\n",
       "    <tr>\n",
       "      <th>23</th>\n",
       "      <td>[PIB-70] Notifikasi Scroll Defect</td>\n",
       "      <td>Notifikasi</td>\n",
       "      <td>Notifikasi</td>\n",
       "      <td>isi notifikasi pas ke scroll textnya kepotong ...</td>\n",
       "      <td>Scroll harusnya sesuai dengan panjang pendekny...</td>\n",
       "      <td>iOS</td>\n",
       "      <td>nan</td>\n",
       "      <td>NaN</td>\n",
       "      <td>NaN</td>\n",
       "      <td>NaN</td>\n",
       "      <td>NaN</td>\n",
       "      <td>Inna, nauvaldy</td>\n",
       "      <td>NaN</td>\n",
       "      <td>NaN</td>\n",
       "      <td>NaN</td>\n",
       "      <td>Passed</td>\n",
       "      <td>NaN</td>\n",
       "      <td>NaN</td>\n",
       "      <td>NaN</td>\n",
       "    </tr>\n",
       "    <tr>\n",
       "      <th>24</th>\n",
       "      <td>[PIB-56] Tampilan Edit Proxy Berubah saat di E...</td>\n",
       "      <td>Pengaturan BI-Fast</td>\n",
       "      <td>Pengaturan BI-Fast</td>\n",
       "      <td>Saat di Production logo BSI menjadi besar, seh...</td>\n",
       "      <td>logo BSI ukurannya sesuai</td>\n",
       "      <td>Android</td>\n",
       "      <td>nan</td>\n",
       "      <td>NaN</td>\n",
       "      <td>NaN</td>\n",
       "      <td>NaN</td>\n",
       "      <td>NaN</td>\n",
       "      <td>Winda, fasya</td>\n",
       "      <td>NaN</td>\n",
       "      <td>NaN</td>\n",
       "      <td>NaN</td>\n",
       "      <td>Passed</td>\n",
       "      <td>NaN</td>\n",
       "      <td>NaN</td>\n",
       "      <td>NaN</td>\n",
       "    </tr>\n",
       "    <tr>\n",
       "      <th>25</th>\n",
       "      <td>NaN</td>\n",
       "      <td>Pengaturan BI-Fast</td>\n",
       "      <td>Pengaturan BI-Fast</td>\n",
       "      <td>NaN</td>\n",
       "      <td>logo BSI ukurannya sesuai</td>\n",
       "      <td>iOS</td>\n",
       "      <td>nan</td>\n",
       "      <td>NaN</td>\n",
       "      <td>NaN</td>\n",
       "      <td>NaN</td>\n",
       "      <td>NaN</td>\n",
       "      <td>Winda, fasya</td>\n",
       "      <td>NaN</td>\n",
       "      <td>NaN</td>\n",
       "      <td>NaN</td>\n",
       "      <td>Passed</td>\n",
       "      <td>NaN</td>\n",
       "      <td>NaN</td>\n",
       "      <td>NaN</td>\n",
       "    </tr>\n",
       "    <tr>\n",
       "      <th>26</th>\n",
       "      <td>[PIB-97] Tidak Terima Kode OTP</td>\n",
       "      <td>Aktivasi</td>\n",
       "      <td>Aktivasi</td>\n",
       "      <td>Tidak Terima Kode OTP\\nKode OTP tidak autofill</td>\n",
       "      <td>Kode OTP diterima dan autofill</td>\n",
       "      <td>Android</td>\n",
       "      <td>nan</td>\n",
       "      <td>NaN</td>\n",
       "      <td>NaN</td>\n",
       "      <td>NaN</td>\n",
       "      <td>NaN</td>\n",
       "      <td>Hamza, alisha</td>\n",
       "      <td>NaN</td>\n",
       "      <td>NaN</td>\n",
       "      <td>NaN</td>\n",
       "      <td>Passed</td>\n",
       "      <td>NaN</td>\n",
       "      <td>NaN</td>\n",
       "      <td>NaN</td>\n",
       "    </tr>\n",
       "    <tr>\n",
       "      <th>27</th>\n",
       "      <td>NaN</td>\n",
       "      <td>Aktivasi</td>\n",
       "      <td>Aktivasi</td>\n",
       "      <td>NaN</td>\n",
       "      <td>Kode OTP diterima dan autofill</td>\n",
       "      <td>iOS</td>\n",
       "      <td>nan</td>\n",
       "      <td>NaN</td>\n",
       "      <td>NaN</td>\n",
       "      <td>NaN</td>\n",
       "      <td>NaN</td>\n",
       "      <td>Hamza, alisha</td>\n",
       "      <td>NaN</td>\n",
       "      <td>NaN</td>\n",
       "      <td>NaN</td>\n",
       "      <td>Passed</td>\n",
       "      <td>NaN</td>\n",
       "      <td>NaN</td>\n",
       "      <td>NaN</td>\n",
       "    </tr>\n",
       "    <tr>\n",
       "      <th>28</th>\n",
       "      <td>[PIB-96] Mutasi Get Last Transaction &amp; Tanggal...</td>\n",
       "      <td>Mutasi</td>\n",
       "      <td>Mutasi</td>\n",
       "      <td>Pada saat masuk ke halaman mutasi\\nTampil Muta...</td>\n",
       "      <td>Pada saat masuk ke halaman mutasi\\nTampil Muta...</td>\n",
       "      <td>Android</td>\n",
       "      <td>nan</td>\n",
       "      <td>NaN</td>\n",
       "      <td>NaN</td>\n",
       "      <td>NaN</td>\n",
       "      <td>NaN</td>\n",
       "      <td>ori</td>\n",
       "      <td>NaN</td>\n",
       "      <td>NaN</td>\n",
       "      <td>NaN</td>\n",
       "      <td>Passed</td>\n",
       "      <td>NaN</td>\n",
       "      <td>NaN</td>\n",
       "      <td>NaN</td>\n",
       "    </tr>\n",
       "    <tr>\n",
       "      <th>29</th>\n",
       "      <td>NaN</td>\n",
       "      <td>Mutasi</td>\n",
       "      <td>Mutasi</td>\n",
       "      <td>NaN</td>\n",
       "      <td>Pada saat masuk ke halaman mutasi\\nTampil Muta...</td>\n",
       "      <td>iOS</td>\n",
       "      <td>nan</td>\n",
       "      <td>NaN</td>\n",
       "      <td>NaN</td>\n",
       "      <td>NaN</td>\n",
       "      <td>NaN</td>\n",
       "      <td>ori</td>\n",
       "      <td>NaN</td>\n",
       "      <td>NaN</td>\n",
       "      <td>NaN</td>\n",
       "      <td>Passed</td>\n",
       "      <td>NaN</td>\n",
       "      <td>NaN</td>\n",
       "      <td>NaN</td>\n",
       "    </tr>\n",
       "    <tr>\n",
       "      <th>30</th>\n",
       "      <td>[PIB-88] Kurs Valas antara BYOND dan BSIM Seli...</td>\n",
       "      <td>Profil - Informasi kurs</td>\n",
       "      <td>Profil - Informasi kurs</td>\n",
       "      <td>Informasi kurs valas antara BSIM dan BYOND ber...</td>\n",
       "      <td>Kurs valas BSIM dan BYOND sama</td>\n",
       "      <td>Android</td>\n",
       "      <td>nan</td>\n",
       "      <td>NaN</td>\n",
       "      <td>NaN</td>\n",
       "      <td>NaN</td>\n",
       "      <td>NaN</td>\n",
       "      <td>Ajeng</td>\n",
       "      <td>NaN</td>\n",
       "      <td>NaN</td>\n",
       "      <td>NaN</td>\n",
       "      <td>Passed</td>\n",
       "      <td>NaN</td>\n",
       "      <td>NaN</td>\n",
       "      <td>NaN</td>\n",
       "    </tr>\n",
       "    <tr>\n",
       "      <th>31</th>\n",
       "      <td>NaN</td>\n",
       "      <td>Profil - Informasi kurs</td>\n",
       "      <td>Profil - Informasi kurs</td>\n",
       "      <td>NaN</td>\n",
       "      <td>Kurs valas BSIM dan BYOND sama</td>\n",
       "      <td>iOS</td>\n",
       "      <td>nan</td>\n",
       "      <td>NaN</td>\n",
       "      <td>NaN</td>\n",
       "      <td>NaN</td>\n",
       "      <td>NaN</td>\n",
       "      <td>Ajeng</td>\n",
       "      <td>NaN</td>\n",
       "      <td>NaN</td>\n",
       "      <td>NaN</td>\n",
       "      <td>Passed</td>\n",
       "      <td>NaN</td>\n",
       "      <td>NaN</td>\n",
       "      <td>NaN</td>\n",
       "    </tr>\n",
       "    <tr>\n",
       "      <th>32</th>\n",
       "      <td>[PIB-91] Menu Input Debit Card saat Login keti...</td>\n",
       "      <td>Login</td>\n",
       "      <td>Login</td>\n",
       "      <td>Issue masih terjadi di iOS selain 18.1 dan 17....</td>\n",
       "      <td>Seharusnya tidak menampilkan menu input debit ...</td>\n",
       "      <td>Android</td>\n",
       "      <td>nan</td>\n",
       "      <td>NaN</td>\n",
       "      <td>NaN</td>\n",
       "      <td>NaN</td>\n",
       "      <td>NaN</td>\n",
       "      <td>Putri</td>\n",
       "      <td>NaN</td>\n",
       "      <td>NaN</td>\n",
       "      <td>NaN</td>\n",
       "      <td>Passed</td>\n",
       "      <td>NaN</td>\n",
       "      <td>NaN</td>\n",
       "      <td>NaN</td>\n",
       "    </tr>\n",
       "    <tr>\n",
       "      <th>33</th>\n",
       "      <td>NaN</td>\n",
       "      <td>Login</td>\n",
       "      <td>Login</td>\n",
       "      <td>NaN</td>\n",
       "      <td>Seharusnya tidak menampilkan menu input debit ...</td>\n",
       "      <td>iOS</td>\n",
       "      <td>nan</td>\n",
       "      <td>NaN</td>\n",
       "      <td>NaN</td>\n",
       "      <td>NaN</td>\n",
       "      <td>NaN</td>\n",
       "      <td>Putri</td>\n",
       "      <td>NaN</td>\n",
       "      <td>NaN</td>\n",
       "      <td>NaN</td>\n",
       "      <td>Passed</td>\n",
       "      <td>NaN</td>\n",
       "      <td>NaN</td>\n",
       "      <td>NaN</td>\n",
       "    </tr>\n",
       "    <tr>\n",
       "      <th>34</th>\n",
       "      <td>[PIB-110] Hasil Cetakan Kota di Akad Wakalah</td>\n",
       "      <td>Tabungan Haji</td>\n",
       "      <td>Tabungan Haji</td>\n",
       "      <td>Pada Hasil cetakan Surat Kuasa/wakalah untuk K...</td>\n",
       "      <td>Hasil cetakan surat kuasa sesuai dengan kota/k...</td>\n",
       "      <td>Android</td>\n",
       "      <td>nan</td>\n",
       "      <td>NaN</td>\n",
       "      <td>NaN</td>\n",
       "      <td>NaN</td>\n",
       "      <td>NaN</td>\n",
       "      <td>Futsia, arib</td>\n",
       "      <td>NaN</td>\n",
       "      <td>NaN</td>\n",
       "      <td>NaN</td>\n",
       "      <td>Passed</td>\n",
       "      <td>NaN</td>\n",
       "      <td>NaN</td>\n",
       "      <td>NaN</td>\n",
       "    </tr>\n",
       "    <tr>\n",
       "      <th>35</th>\n",
       "      <td>NaN</td>\n",
       "      <td>Tabungan Haji</td>\n",
       "      <td>Tabungan Haji</td>\n",
       "      <td>NaN</td>\n",
       "      <td>Hasil cetakan surat kuasa sesuai dengan kota/k...</td>\n",
       "      <td>iOS</td>\n",
       "      <td>nan</td>\n",
       "      <td>NaN</td>\n",
       "      <td>NaN</td>\n",
       "      <td>NaN</td>\n",
       "      <td>NaN</td>\n",
       "      <td>Futsia, arib</td>\n",
       "      <td>NaN</td>\n",
       "      <td>NaN</td>\n",
       "      <td>NaN</td>\n",
       "      <td>Passed</td>\n",
       "      <td>NaN</td>\n",
       "      <td>NaN</td>\n",
       "      <td>NaN</td>\n",
       "    </tr>\n",
       "    <tr>\n",
       "      <th>36</th>\n",
       "      <td>[PIB-108] Pengaduan Push Notifikasi Jadwal Sho...</td>\n",
       "      <td>Jadwal Shalat</td>\n",
       "      <td>Jadwal Shalat</td>\n",
       "      <td>Pengaduan Push Notifikasi Jadwal Sholat BYOND ...</td>\n",
       "      <td>Jadwal sholat sesuai</td>\n",
       "      <td>Android</td>\n",
       "      <td>nan</td>\n",
       "      <td>NaN</td>\n",
       "      <td>NaN</td>\n",
       "      <td>NaN</td>\n",
       "      <td>NaN</td>\n",
       "      <td>Inna, nauvaldy</td>\n",
       "      <td>NaN</td>\n",
       "      <td>NaN</td>\n",
       "      <td>NaN</td>\n",
       "      <td>Passed</td>\n",
       "      <td>NaN</td>\n",
       "      <td>NaN</td>\n",
       "      <td>NaN</td>\n",
       "    </tr>\n",
       "    <tr>\n",
       "      <th>37</th>\n",
       "      <td>NaN</td>\n",
       "      <td>Jadwal Shalat</td>\n",
       "      <td>Jadwal Shalat</td>\n",
       "      <td>NaN</td>\n",
       "      <td>Jadwal sholat sesuai</td>\n",
       "      <td>iOS</td>\n",
       "      <td>nan</td>\n",
       "      <td>NaN</td>\n",
       "      <td>NaN</td>\n",
       "      <td>NaN</td>\n",
       "      <td>NaN</td>\n",
       "      <td>Inna, nauvaldy</td>\n",
       "      <td>NaN</td>\n",
       "      <td>NaN</td>\n",
       "      <td>NaN</td>\n",
       "      <td>Passed</td>\n",
       "      <td>NaN</td>\n",
       "      <td>NaN</td>\n",
       "      <td>NaN</td>\n",
       "    </tr>\n",
       "    <tr>\n",
       "      <th>38</th>\n",
       "      <td>[PIB-113] Output Surat Kuasa/Wakalah terkait Haji</td>\n",
       "      <td>Tabungan Haji</td>\n",
       "      <td>Tabungan Haji</td>\n",
       "      <td>terdapat kesalahan pada output surat kuasa wak...</td>\n",
       "      <td>kata \"Kota\" harusnya hilang ketika bertemu den...</td>\n",
       "      <td>Android</td>\n",
       "      <td>nan</td>\n",
       "      <td>NaN</td>\n",
       "      <td>NaN</td>\n",
       "      <td>NaN</td>\n",
       "      <td>NaN</td>\n",
       "      <td>Futsia, arib</td>\n",
       "      <td>NaN</td>\n",
       "      <td>NaN</td>\n",
       "      <td>NaN</td>\n",
       "      <td>Passed</td>\n",
       "      <td>NaN</td>\n",
       "      <td>NaN</td>\n",
       "      <td>NaN</td>\n",
       "    </tr>\n",
       "    <tr>\n",
       "      <th>39</th>\n",
       "      <td>NaN</td>\n",
       "      <td>Tabungan Haji</td>\n",
       "      <td>Tabungan Haji</td>\n",
       "      <td>NaN</td>\n",
       "      <td>kata \"Kota\" harusnya hilang ketika bertemu den...</td>\n",
       "      <td>iOS</td>\n",
       "      <td>nan</td>\n",
       "      <td>NaN</td>\n",
       "      <td>NaN</td>\n",
       "      <td>NaN</td>\n",
       "      <td>NaN</td>\n",
       "      <td>Futsia, arib</td>\n",
       "      <td>NaN</td>\n",
       "      <td>NaN</td>\n",
       "      <td>NaN</td>\n",
       "      <td>Passed</td>\n",
       "      <td>NaN</td>\n",
       "      <td>NaN</td>\n",
       "      <td>NaN</td>\n",
       "    </tr>\n",
       "    <tr>\n",
       "      <th>40</th>\n",
       "      <td>[PIB-117] Tidak Bisa Menghentikan Transaksi Te...</td>\n",
       "      <td>Transaksi Terjadwal</td>\n",
       "      <td>Transaksi Terjadwal</td>\n",
       "      <td>tidak bisa menghentikan (stop) transaksi yang ...</td>\n",
       "      <td>Nasabah bisa menghentikan transaksi terjadwal ...</td>\n",
       "      <td>Android</td>\n",
       "      <td>nan</td>\n",
       "      <td>NaN</td>\n",
       "      <td>NaN</td>\n",
       "      <td>NaN</td>\n",
       "      <td>NaN</td>\n",
       "      <td>putri</td>\n",
       "      <td>NaN</td>\n",
       "      <td>NaN</td>\n",
       "      <td>NaN</td>\n",
       "      <td>Passed</td>\n",
       "      <td>NaN</td>\n",
       "      <td>NaN</td>\n",
       "      <td>NaN</td>\n",
       "    </tr>\n",
       "    <tr>\n",
       "      <th>41</th>\n",
       "      <td>NaN</td>\n",
       "      <td>Transaksi Terjadwal</td>\n",
       "      <td>Transaksi Terjadwal</td>\n",
       "      <td>NaN</td>\n",
       "      <td>Nasabah bisa menghentikan transaksi terjadwal ...</td>\n",
       "      <td>iOS</td>\n",
       "      <td>nan</td>\n",
       "      <td>NaN</td>\n",
       "      <td>NaN</td>\n",
       "      <td>NaN</td>\n",
       "      <td>NaN</td>\n",
       "      <td>putri</td>\n",
       "      <td>NaN</td>\n",
       "      <td>NaN</td>\n",
       "      <td>NaN</td>\n",
       "      <td>Passed</td>\n",
       "      <td>NaN</td>\n",
       "      <td>NaN</td>\n",
       "      <td>NaN</td>\n",
       "    </tr>\n",
       "    <tr>\n",
       "      <th>42</th>\n",
       "      <td>[PIB-118] Wording Tenor Salah</td>\n",
       "      <td>Mitraguna Online</td>\n",
       "      <td>Mitraguna Online</td>\n",
       "      <td>Nasabah sudah mendapatkan limit pembiayaan, na...</td>\n",
       "      <td>8 tahun bukan 1 tahun</td>\n",
       "      <td>Android</td>\n",
       "      <td>nan</td>\n",
       "      <td>NaN</td>\n",
       "      <td>NaN</td>\n",
       "      <td>NaN</td>\n",
       "      <td>NaN</td>\n",
       "      <td>Rosalyn</td>\n",
       "      <td>NaN</td>\n",
       "      <td>NaN</td>\n",
       "      <td>NaN</td>\n",
       "      <td>Passed</td>\n",
       "      <td>NaN</td>\n",
       "      <td>NaN</td>\n",
       "      <td>NaN</td>\n",
       "    </tr>\n",
       "    <tr>\n",
       "      <th>43</th>\n",
       "      <td>[PIB-123] Nomer HP Tidak Ter-paste sesuai No y...</td>\n",
       "      <td>Pulsa dan Paket Data</td>\n",
       "      <td>Pulsa dan Paket Data</td>\n",
       "      <td>Ketika ingin melakukan pembelian pulsa &amp; paket...</td>\n",
       "      <td>Ketika pilih no hp ke 2 atau ke 3 ter paste se...</td>\n",
       "      <td>Android</td>\n",
       "      <td>nan</td>\n",
       "      <td>NaN</td>\n",
       "      <td>NaN</td>\n",
       "      <td>NaN</td>\n",
       "      <td>NaN</td>\n",
       "      <td>nando, anggoran</td>\n",
       "      <td>NaN</td>\n",
       "      <td>NaN</td>\n",
       "      <td>NaN</td>\n",
       "      <td>Passed</td>\n",
       "      <td>NaN</td>\n",
       "      <td>NaN</td>\n",
       "      <td>NaN</td>\n",
       "    </tr>\n",
       "    <tr>\n",
       "      <th>44</th>\n",
       "      <td>[PIB-124] Jenis Kelamin</td>\n",
       "      <td>Tabungan Haji</td>\n",
       "      <td>Tabungan Haji</td>\n",
       "      <td>Jenis Kelamin yang tampil di aplikasi pendafta...</td>\n",
       "      <td>Jenis kelamin yang tampil harusnya laki-laki d...</td>\n",
       "      <td>Android</td>\n",
       "      <td>nan</td>\n",
       "      <td>NaN</td>\n",
       "      <td>NaN</td>\n",
       "      <td>NaN</td>\n",
       "      <td>NaN</td>\n",
       "      <td>futsia, arib</td>\n",
       "      <td>NaN</td>\n",
       "      <td>NaN</td>\n",
       "      <td>NaN</td>\n",
       "      <td>Passed</td>\n",
       "      <td>NaN</td>\n",
       "      <td>NaN</td>\n",
       "      <td>NaN</td>\n",
       "    </tr>\n",
       "    <tr>\n",
       "      <th>45</th>\n",
       "      <td>NaN</td>\n",
       "      <td>Tabungan Haji</td>\n",
       "      <td>Tabungan Haji</td>\n",
       "      <td>NaN</td>\n",
       "      <td>Jenis kelamin yang tampil harusnya laki-laki d...</td>\n",
       "      <td>iOS</td>\n",
       "      <td>nan</td>\n",
       "      <td>NaN</td>\n",
       "      <td>NaN</td>\n",
       "      <td>NaN</td>\n",
       "      <td>NaN</td>\n",
       "      <td>Futsia, arib</td>\n",
       "      <td>NaN</td>\n",
       "      <td>NaN</td>\n",
       "      <td>NaN</td>\n",
       "      <td>Passed</td>\n",
       "      <td>NaN</td>\n",
       "      <td>NaN</td>\n",
       "      <td>NaN</td>\n",
       "    </tr>\n",
       "    <tr>\n",
       "      <th>46</th>\n",
       "      <td>PIB-125 Error Message Tidak Sesuai pada Transf...</td>\n",
       "      <td>Transfer</td>\n",
       "      <td>Transfer</td>\n",
       "      <td>Ketika ingin melakukan transfer ke sesama BSI ...</td>\n",
       "      <td>disamakan seperti android yaitu : Minimal Rp 1</td>\n",
       "      <td>Android</td>\n",
       "      <td>nan</td>\n",
       "      <td>NaN</td>\n",
       "      <td>NaN</td>\n",
       "      <td>NaN</td>\n",
       "      <td>NaN</td>\n",
       "      <td>winda, fasya</td>\n",
       "      <td>NaN</td>\n",
       "      <td>NaN</td>\n",
       "      <td>NaN</td>\n",
       "      <td>Passed</td>\n",
       "      <td>NaN</td>\n",
       "      <td>NaN</td>\n",
       "      <td>NaN</td>\n",
       "    </tr>\n",
       "    <tr>\n",
       "      <th>47</th>\n",
       "      <td>[PIB-126] Perbaikan Value Field \"null\" pada Da...</td>\n",
       "      <td>Cek Saldo, QRIS, Transfer</td>\n",
       "      <td>Cek Saldo, QRIS, Transfer</td>\n",
       "      <td>Sehubungan dengan adanya kondisi value \"null\" ...</td>\n",
       "      <td>Dirubah kondisi pada field mandatory ke value ...</td>\n",
       "      <td>Android</td>\n",
       "      <td>nan</td>\n",
       "      <td>NaN</td>\n",
       "      <td>NaN</td>\n",
       "      <td>NaN</td>\n",
       "      <td>NaN</td>\n",
       "      <td>winda, fasya</td>\n",
       "      <td>NaN</td>\n",
       "      <td>NaN</td>\n",
       "      <td>NaN</td>\n",
       "      <td>Passed</td>\n",
       "      <td>NaN</td>\n",
       "      <td>NaN</td>\n",
       "      <td>NaN</td>\n",
       "    </tr>\n",
       "    <tr>\n",
       "      <th>48</th>\n",
       "      <td>NaN</td>\n",
       "      <td>Cek Saldo, QRIS, Transfer</td>\n",
       "      <td>Cek Saldo, QRIS, Transfer</td>\n",
       "      <td>NaN</td>\n",
       "      <td>Dirubah kondisi pada field mandatory ke value ...</td>\n",
       "      <td>iOS</td>\n",
       "      <td>nan</td>\n",
       "      <td>NaN</td>\n",
       "      <td>NaN</td>\n",
       "      <td>NaN</td>\n",
       "      <td>NaN</td>\n",
       "      <td>winda, fasya</td>\n",
       "      <td>NaN</td>\n",
       "      <td>NaN</td>\n",
       "      <td>NaN</td>\n",
       "      <td>Passed</td>\n",
       "      <td>NaN</td>\n",
       "      <td>NaN</td>\n",
       "      <td>NaN</td>\n",
       "    </tr>\n",
       "    <tr>\n",
       "      <th>49</th>\n",
       "      <td>[PIB-105] Bukti Validasi Setoran Awal Haji</td>\n",
       "      <td>Tabungan Haji</td>\n",
       "      <td>Tabungan Haji</td>\n",
       "      <td>Bukti Cetakan Validasi setoran awal haji pada ...</td>\n",
       "      <td>Bukti cetakan validasi setoran awal haji BYOND...</td>\n",
       "      <td>Android</td>\n",
       "      <td>nan</td>\n",
       "      <td>NaN</td>\n",
       "      <td>NaN</td>\n",
       "      <td>NaN</td>\n",
       "      <td>NaN</td>\n",
       "      <td>futsia, arib</td>\n",
       "      <td>NaN</td>\n",
       "      <td>NaN</td>\n",
       "      <td>NaN</td>\n",
       "      <td>Passed</td>\n",
       "      <td>NaN</td>\n",
       "      <td>NaN</td>\n",
       "      <td>NaN</td>\n",
       "    </tr>\n",
       "    <tr>\n",
       "      <th>50</th>\n",
       "      <td>NaN</td>\n",
       "      <td>Tabungan Haji</td>\n",
       "      <td>Tabungan Haji</td>\n",
       "      <td>NaN</td>\n",
       "      <td>Bukti cetakan validasi setoran awal haji BYOND...</td>\n",
       "      <td>iOS</td>\n",
       "      <td>nan</td>\n",
       "      <td>NaN</td>\n",
       "      <td>NaN</td>\n",
       "      <td>NaN</td>\n",
       "      <td>NaN</td>\n",
       "      <td>futsia, arib</td>\n",
       "      <td>NaN</td>\n",
       "      <td>NaN</td>\n",
       "      <td>NaN</td>\n",
       "      <td>Passed</td>\n",
       "      <td>NaN</td>\n",
       "      <td>NaN</td>\n",
       "      <td>NaN</td>\n",
       "    </tr>\n",
       "    <tr>\n",
       "      <th>51</th>\n",
       "      <td>[PIB-109] Gambar Push Notif di iOS Tidak Muncul</td>\n",
       "      <td>Notifikasi</td>\n",
       "      <td>Notifikasi</td>\n",
       "      <td>Gambar pada Push Notif di iOS tidak muncul, se...</td>\n",
       "      <td>Gambar push notif muncul</td>\n",
       "      <td>Android</td>\n",
       "      <td>nan</td>\n",
       "      <td>NaN</td>\n",
       "      <td>NaN</td>\n",
       "      <td>NaN</td>\n",
       "      <td>NaN</td>\n",
       "      <td>Inna, nauvaldy</td>\n",
       "      <td>NaN</td>\n",
       "      <td>NaN</td>\n",
       "      <td>NaN</td>\n",
       "      <td>Passed</td>\n",
       "      <td>NaN</td>\n",
       "      <td>NaN</td>\n",
       "      <td>NaN</td>\n",
       "    </tr>\n",
       "    <tr>\n",
       "      <th>52</th>\n",
       "      <td>[PIB-94] Permintaan Kartu Debit Gagal</td>\n",
       "      <td>Manajemen Kartu</td>\n",
       "      <td>Manajemen Kartu</td>\n",
       "      <td>Mohon bantuannya untuk pengecekan gagal permin...</td>\n",
       "      <td>Nasabah bisa melakukan request kartu debit</td>\n",
       "      <td>Android</td>\n",
       "      <td>nan</td>\n",
       "      <td>NaN</td>\n",
       "      <td>NaN</td>\n",
       "      <td>NaN</td>\n",
       "      <td>NaN</td>\n",
       "      <td>Rifatun, indah</td>\n",
       "      <td>NaN</td>\n",
       "      <td>NaN</td>\n",
       "      <td>NaN</td>\n",
       "      <td>Passed</td>\n",
       "      <td>NaN</td>\n",
       "      <td>NaN</td>\n",
       "      <td>NaN</td>\n",
       "    </tr>\n",
       "    <tr>\n",
       "      <th>53</th>\n",
       "      <td>[PIB-138] Aktivasi &amp; OOB Jumlah Karakter Email...</td>\n",
       "      <td>OOB</td>\n",
       "      <td>OOB</td>\n",
       "      <td>Perlu enhance length karakter Email pada saat ...</td>\n",
       "      <td>Karakter pada email dibuat maksimal 50 karakter</td>\n",
       "      <td>Android</td>\n",
       "      <td>nan</td>\n",
       "      <td>NaN</td>\n",
       "      <td>NaN</td>\n",
       "      <td>NaN</td>\n",
       "      <td>NaN</td>\n",
       "      <td>Hamza, alisha</td>\n",
       "      <td>NaN</td>\n",
       "      <td>NaN</td>\n",
       "      <td>NaN</td>\n",
       "      <td>Passed</td>\n",
       "      <td>NaN</td>\n",
       "      <td>NaN</td>\n",
       "      <td>NaN</td>\n",
       "    </tr>\n",
       "    <tr>\n",
       "      <th>54</th>\n",
       "      <td>NaN</td>\n",
       "      <td>OOB</td>\n",
       "      <td>OOB</td>\n",
       "      <td>NaN</td>\n",
       "      <td>Karakter pada email dibuat maksimal 50 karakter</td>\n",
       "      <td>iOS</td>\n",
       "      <td>nan</td>\n",
       "      <td>NaN</td>\n",
       "      <td>NaN</td>\n",
       "      <td>NaN</td>\n",
       "      <td>NaN</td>\n",
       "      <td>Hamza, alisha</td>\n",
       "      <td>NaN</td>\n",
       "      <td>NaN</td>\n",
       "      <td>NaN</td>\n",
       "      <td>Passed</td>\n",
       "      <td>NaN</td>\n",
       "      <td>NaN</td>\n",
       "      <td>NaN</td>\n",
       "    </tr>\n",
       "    <tr>\n",
       "      <th>55</th>\n",
       "      <td>[PIB-127] Pendaftaran Haji</td>\n",
       "      <td>Tabungan Haji</td>\n",
       "      <td>Tabungan Haji</td>\n",
       "      <td>Mohon dibantu nasabah ingin daftar haji via by...</td>\n",
       "      <td>Tanggal lahir muncul ketika nasabah daftar haj...</td>\n",
       "      <td>Android</td>\n",
       "      <td>nan</td>\n",
       "      <td>NaN</td>\n",
       "      <td>NaN</td>\n",
       "      <td>NaN</td>\n",
       "      <td>NaN</td>\n",
       "      <td>Futsia, arib</td>\n",
       "      <td>NaN</td>\n",
       "      <td>NaN</td>\n",
       "      <td>NaN</td>\n",
       "      <td>Passed</td>\n",
       "      <td>NaN</td>\n",
       "      <td>NaN</td>\n",
       "      <td>NaN</td>\n",
       "    </tr>\n",
       "    <tr>\n",
       "      <th>56</th>\n",
       "      <td>NaN</td>\n",
       "      <td>Tabungan Haji</td>\n",
       "      <td>Tabungan Haji</td>\n",
       "      <td>NaN</td>\n",
       "      <td>Tanggal lahir muncul ketika nasabah daftar haj...</td>\n",
       "      <td>iOS</td>\n",
       "      <td>nan</td>\n",
       "      <td>NaN</td>\n",
       "      <td>NaN</td>\n",
       "      <td>NaN</td>\n",
       "      <td>NaN</td>\n",
       "      <td>Futsia, arib</td>\n",
       "      <td>NaN</td>\n",
       "      <td>NaN</td>\n",
       "      <td>NaN</td>\n",
       "      <td>Passed</td>\n",
       "      <td>NaN</td>\n",
       "      <td>NaN</td>\n",
       "      <td>NaN</td>\n",
       "    </tr>\n",
       "    <tr>\n",
       "      <th>57</th>\n",
       "      <td>[PIB-144] Force Close Gagal Pengajuan</td>\n",
       "      <td>Mitraguna Online</td>\n",
       "      <td>Mitraguna Online</td>\n",
       "      <td>Setelah mengajukan migol tahap pertama, abis i...</td>\n",
       "      <td>Harusnya tidak error logout sendiri dan tetap ...</td>\n",
       "      <td>Android</td>\n",
       "      <td>nan</td>\n",
       "      <td>NaN</td>\n",
       "      <td>NaN</td>\n",
       "      <td>NaN</td>\n",
       "      <td>NaN</td>\n",
       "      <td>Rosalyn</td>\n",
       "      <td>NaN</td>\n",
       "      <td>NaN</td>\n",
       "      <td>NaN</td>\n",
       "      <td>Passed</td>\n",
       "      <td>NaN</td>\n",
       "      <td>NaN</td>\n",
       "      <td>NaN</td>\n",
       "    </tr>\n",
       "    <tr>\n",
       "      <th>58</th>\n",
       "      <td>NaN</td>\n",
       "      <td>Mitraguna Online</td>\n",
       "      <td>Mitraguna Online</td>\n",
       "      <td>NaN</td>\n",
       "      <td>Harusnya tidak error logout sendiri dan tetap ...</td>\n",
       "      <td>iOS</td>\n",
       "      <td>nan</td>\n",
       "      <td>NaN</td>\n",
       "      <td>NaN</td>\n",
       "      <td>NaN</td>\n",
       "      <td>NaN</td>\n",
       "      <td>Rosalyn</td>\n",
       "      <td>NaN</td>\n",
       "      <td>NaN</td>\n",
       "      <td>NaN</td>\n",
       "      <td>Passed</td>\n",
       "      <td>NaN</td>\n",
       "      <td>NaN</td>\n",
       "      <td>NaN</td>\n",
       "    </tr>\n",
       "  </tbody>\n",
       "</table>\n",
       "</div>"
      ],
      "text/plain": [
       "                                            Link JIRA  \\\n",
       "0          [PIB-42] Donwload dan Share Resi Transaksi   \n",
       "1                                                 NaN   \n",
       "2              [PIB-106] Gagal Permintaan Kartu Debit   \n",
       "3                                                 NaN   \n",
       "4        [PIB-79] Kartu Debit Baru di Manajemen Kartu   \n",
       "5     [PIB-74] Quick Menu Tabungan Haji di Homescreen   \n",
       "6              [PIB-67] Snackbar E-Money Salah Posisi   \n",
       "7         [PIB-58] No Rekening Tabungan Emas dan SBSN   \n",
       "8                                [PIB-41] Force Close   \n",
       "9                                                 NaN   \n",
       "10                               [PIB-17] Resi Kosong   \n",
       "11                [PIB-35] Force Closed pada Deposito   \n",
       "12  [PIB-102] Perbedaan Title Profile Menu terkait...   \n",
       "13                                                NaN   \n",
       "14       [PIB-85] Icon BSI tidak Load di Hasanah Card   \n",
       "15                                    [PIB-81] Ziswaf   \n",
       "16                                                NaN   \n",
       "17      [PIB-77] Limitasi Blast Targeted Banner Promo   \n",
       "18                                    [PIB-51] Mutasi   \n",
       "19                                                NaN   \n",
       "20           [PIB-72] Kesalahan Flow Mitraguna Online   \n",
       "21                                                NaN   \n",
       "22  [PIB-71] Tulisan Pascabayar di Judul Ada \"/tel...   \n",
       "23                  [PIB-70] Notifikasi Scroll Defect   \n",
       "24  [PIB-56] Tampilan Edit Proxy Berubah saat di E...   \n",
       "25                                                NaN   \n",
       "26                     [PIB-97] Tidak Terima Kode OTP   \n",
       "27                                                NaN   \n",
       "28  [PIB-96] Mutasi Get Last Transaction & Tanggal...   \n",
       "29                                                NaN   \n",
       "30  [PIB-88] Kurs Valas antara BYOND dan BSIM Seli...   \n",
       "31                                                NaN   \n",
       "32  [PIB-91] Menu Input Debit Card saat Login keti...   \n",
       "33                                                NaN   \n",
       "34       [PIB-110] Hasil Cetakan Kota di Akad Wakalah   \n",
       "35                                                NaN   \n",
       "36  [PIB-108] Pengaduan Push Notifikasi Jadwal Sho...   \n",
       "37                                                NaN   \n",
       "38  [PIB-113] Output Surat Kuasa/Wakalah terkait Haji   \n",
       "39                                                NaN   \n",
       "40  [PIB-117] Tidak Bisa Menghentikan Transaksi Te...   \n",
       "41                                                NaN   \n",
       "42                      [PIB-118] Wording Tenor Salah   \n",
       "43  [PIB-123] Nomer HP Tidak Ter-paste sesuai No y...   \n",
       "44                            [PIB-124] Jenis Kelamin   \n",
       "45                                                NaN   \n",
       "46  PIB-125 Error Message Tidak Sesuai pada Transf...   \n",
       "47  [PIB-126] Perbaikan Value Field \"null\" pada Da...   \n",
       "48                                                NaN   \n",
       "49         [PIB-105] Bukti Validasi Setoran Awal Haji   \n",
       "50                                                NaN   \n",
       "51    [PIB-109] Gambar Push Notif di iOS Tidak Muncul   \n",
       "52              [PIB-94] Permintaan Kartu Debit Gagal   \n",
       "53  [PIB-138] Aktivasi & OOB Jumlah Karakter Email...   \n",
       "54                                                NaN   \n",
       "55                         [PIB-127] Pendaftaran Haji   \n",
       "56                                                NaN   \n",
       "57              [PIB-144] Force Close Gagal Pengajuan   \n",
       "58                                                NaN   \n",
       "\n",
       "                                        Features  \\\n",
       "0                                     Share Resi   \n",
       "1                                     Share Resi   \n",
       "2                                Manajemen Kartu   \n",
       "3                                Manajemen Kartu   \n",
       "4                                Manajemen Kartu   \n",
       "5                                     Homescreen   \n",
       "6                                        E-Money   \n",
       "7   Portofolio, Portofolio Emas, Portofolio SBSN   \n",
       "8                                      Mega Menu   \n",
       "9                                      Mega Menu   \n",
       "10                   Profil - Pengaturan BI-Fast   \n",
       "11                                      Deposito   \n",
       "12                       Profil - Informasi kurs   \n",
       "13                       Profil - Informasi kurs   \n",
       "14                                  Hanasah Card   \n",
       "15                                        Ziswaf   \n",
       "16                                        Ziswaf   \n",
       "17                                Targeted Promo   \n",
       "18                                        Mutasi   \n",
       "19                                        Mutasi   \n",
       "20                              Mitraguna Online   \n",
       "21                              Mitraguna Online   \n",
       "22                      Bayar Beli - Pasca Bayar   \n",
       "23                                    Notifikasi   \n",
       "24                            Pengaturan BI-Fast   \n",
       "25                            Pengaturan BI-Fast   \n",
       "26                                      Aktivasi   \n",
       "27                                      Aktivasi   \n",
       "28                                        Mutasi   \n",
       "29                                        Mutasi   \n",
       "30                       Profil - Informasi kurs   \n",
       "31                       Profil - Informasi kurs   \n",
       "32                                         Login   \n",
       "33                                         Login   \n",
       "34                                 Tabungan Haji   \n",
       "35                                 Tabungan Haji   \n",
       "36                                 Jadwal Shalat   \n",
       "37                                 Jadwal Shalat   \n",
       "38                                 Tabungan Haji   \n",
       "39                                 Tabungan Haji   \n",
       "40                           Transaksi Terjadwal   \n",
       "41                           Transaksi Terjadwal   \n",
       "42                              Mitraguna Online   \n",
       "43                          Pulsa dan Paket Data   \n",
       "44                                 Tabungan Haji   \n",
       "45                                 Tabungan Haji   \n",
       "46                                      Transfer   \n",
       "47                     Cek Saldo, QRIS, Transfer   \n",
       "48                     Cek Saldo, QRIS, Transfer   \n",
       "49                                 Tabungan Haji   \n",
       "50                                 Tabungan Haji   \n",
       "51                                    Notifikasi   \n",
       "52                               Manajemen Kartu   \n",
       "53                                           OOB   \n",
       "54                                           OOB   \n",
       "55                                 Tabungan Haji   \n",
       "56                                 Tabungan Haji   \n",
       "57                              Mitraguna Online   \n",
       "58                              Mitraguna Online   \n",
       "\n",
       "                                    Sub-features  \\\n",
       "0                                     Share Resi   \n",
       "1                                     Share Resi   \n",
       "2                                Manajemen Kartu   \n",
       "3                                Manajemen Kartu   \n",
       "4                                Manajemen Kartu   \n",
       "5                                     Homescreen   \n",
       "6                                        E-Money   \n",
       "7   Portofolio, Portofolio Emas, Portofolio SBSN   \n",
       "8                                      Mega Menu   \n",
       "9                                      Mega Menu   \n",
       "10                   Profil - Pengaturan BI-Fast   \n",
       "11                                      Deposito   \n",
       "12                       Profil - Informasi kurs   \n",
       "13                       Profil - Informasi kurs   \n",
       "14                                  Hanasah Card   \n",
       "15                                        Ziswaf   \n",
       "16                                        Ziswaf   \n",
       "17                                Targeted Promo   \n",
       "18                                        Mutasi   \n",
       "19                                        Mutasi   \n",
       "20                              Mitraguna Online   \n",
       "21                              Mitraguna Online   \n",
       "22                      Bayar Beli - Pasca Bayar   \n",
       "23                                    Notifikasi   \n",
       "24                            Pengaturan BI-Fast   \n",
       "25                            Pengaturan BI-Fast   \n",
       "26                                      Aktivasi   \n",
       "27                                      Aktivasi   \n",
       "28                                        Mutasi   \n",
       "29                                        Mutasi   \n",
       "30                       Profil - Informasi kurs   \n",
       "31                       Profil - Informasi kurs   \n",
       "32                                         Login   \n",
       "33                                         Login   \n",
       "34                                 Tabungan Haji   \n",
       "35                                 Tabungan Haji   \n",
       "36                                 Jadwal Shalat   \n",
       "37                                 Jadwal Shalat   \n",
       "38                                 Tabungan Haji   \n",
       "39                                 Tabungan Haji   \n",
       "40                           Transaksi Terjadwal   \n",
       "41                           Transaksi Terjadwal   \n",
       "42                              Mitraguna Online   \n",
       "43                          Pulsa dan Paket Data   \n",
       "44                                 Tabungan Haji   \n",
       "45                                 Tabungan Haji   \n",
       "46                                      Transfer   \n",
       "47                     Cek Saldo, QRIS, Transfer   \n",
       "48                     Cek Saldo, QRIS, Transfer   \n",
       "49                                 Tabungan Haji   \n",
       "50                                 Tabungan Haji   \n",
       "51                                    Notifikasi   \n",
       "52                               Manajemen Kartu   \n",
       "53                                           OOB   \n",
       "54                                           OOB   \n",
       "55                                 Tabungan Haji   \n",
       "56                                 Tabungan Haji   \n",
       "57                              Mitraguna Online   \n",
       "58                              Mitraguna Online   \n",
       "\n",
       "                                  Problem Description  \\\n",
       "0   Nama Nasabah : xxxxxxxxxxxxxxxxANI\\nNomor Reke...   \n",
       "1                                                 NaN   \n",
       "2   Mohon Bantuannya, terdapat kegagalan request k...   \n",
       "3                                                 NaN   \n",
       "4   Ketika membuat kartu debit baru. Carrousel kar...   \n",
       "5   iOS utk tabungan haji fitur dibawah tidak beru...   \n",
       "6   Sedangkan android defect jdinya di belakang ov...   \n",
       "7   di iOS tidak bisa klik icon copy no rekening t...   \n",
       "8   pada saat melakukan paste di field 'search' te...   \n",
       "9                                                 NaN   \n",
       "10  Fitur : Pengaturan BI Fast -> Status Transaksi...   \n",
       "11     Force Close Deposito ketika lokasi not allowed   \n",
       "12  Gambar diatas merupakan hasil tangkapan layar ...   \n",
       "13                                                NaN   \n",
       "14            Di hassanah card icon bsi tidak terload   \n",
       "15  ziswaf beberapa banner seperti di video masih ...   \n",
       "16                                                NaN   \n",
       "17  Pada saat ingin melakukan proses blast banner ...   \n",
       "18  A. Di dalam mutasi rekening seharusnya hanya a...   \n",
       "19                                                NaN   \n",
       "20  Terdapat kesalahan flow dimana saat nasabah kl...   \n",
       "21                                                NaN   \n",
       "22             Tulisan pascabayar dijudul ada /telkom   \n",
       "23  isi notifikasi pas ke scroll textnya kepotong ...   \n",
       "24  Saat di Production logo BSI menjadi besar, seh...   \n",
       "25                                                NaN   \n",
       "26     Tidak Terima Kode OTP\\nKode OTP tidak autofill   \n",
       "27                                                NaN   \n",
       "28  Pada saat masuk ke halaman mutasi\\nTampil Muta...   \n",
       "29                                                NaN   \n",
       "30  Informasi kurs valas antara BSIM dan BYOND ber...   \n",
       "31                                                NaN   \n",
       "32  Issue masih terjadi di iOS selain 18.1 dan 17....   \n",
       "33                                                NaN   \n",
       "34  Pada Hasil cetakan Surat Kuasa/wakalah untuk K...   \n",
       "35                                                NaN   \n",
       "36  Pengaduan Push Notifikasi Jadwal Sholat BYOND ...   \n",
       "37                                                NaN   \n",
       "38  terdapat kesalahan pada output surat kuasa wak...   \n",
       "39                                                NaN   \n",
       "40  tidak bisa menghentikan (stop) transaksi yang ...   \n",
       "41                                                NaN   \n",
       "42  Nasabah sudah mendapatkan limit pembiayaan, na...   \n",
       "43  Ketika ingin melakukan pembelian pulsa & paket...   \n",
       "44  Jenis Kelamin yang tampil di aplikasi pendafta...   \n",
       "45                                                NaN   \n",
       "46  Ketika ingin melakukan transfer ke sesama BSI ...   \n",
       "47  Sehubungan dengan adanya kondisi value \"null\" ...   \n",
       "48                                                NaN   \n",
       "49  Bukti Cetakan Validasi setoran awal haji pada ...   \n",
       "50                                                NaN   \n",
       "51  Gambar pada Push Notif di iOS tidak muncul, se...   \n",
       "52  Mohon bantuannya untuk pengecekan gagal permin...   \n",
       "53  Perlu enhance length karakter Email pada saat ...   \n",
       "54                                                NaN   \n",
       "55  Mohon dibantu nasabah ingin daftar haji via by...   \n",
       "56                                                NaN   \n",
       "57  Setelah mengajukan migol tahap pertama, abis i...   \n",
       "58                                                NaN   \n",
       "\n",
       "                                   Expected Condition          OS OS Version  \\\n",
       "0      Nasabah bisa download dan share resi transaksi     Android        nan   \n",
       "1      Nasabah bisa download dan share resi transaksi         iOS        nan   \n",
       "2   Nasabah bisa request kartu debit di iOS dan An...     Android        nan   \n",
       "3   Nasabah bisa request kartu debit di iOS dan An...         iOS        nan   \n",
       "4               Harusnya ada constraint atau pembatas         iOS        nan   \n",
       "5   Harusnya berubah sesuai ngambar SS di Figma ya...         iOS        nan   \n",
       "6   Snackbar harusnya berada di depan overlay hita...     Android        nan   \n",
       "7   Seharusnya ada klik icon copy nomer rekening t...         iOS        nan   \n",
       "8                       Seharusnya tidak force closed     Android        nan   \n",
       "9                       Seharusnya tidak force closed         iOS        nan   \n",
       "10  Ketika transaksi berhasil, harusnya sesuai, te...         iOS        nan   \n",
       "11                                  Tidak force close         iOS        nan   \n",
       "12          Menampilkan informasi harga kurs dan emas     Android        nan   \n",
       "13          Menampilkan informasi harga kurs dan emas         iOS        nan   \n",
       "14                                   Icon BSI terload         iOS        nan   \n",
       "15                       Harusnya one click at a time     Android        nan   \n",
       "16                       Harusnya one click at a time         iOS        nan   \n",
       "17  Harusnya berhasil upload target user di menu m...  Backoffice        nan   \n",
       "18  Harusnya tidak ada kategori transfer, dan muta...     Android        nan   \n",
       "19  Harusnya tidak ada kategori transfer, dan muta...         iOS        nan   \n",
       "20  Flow mitraguna online sesuai, yaitu diarahkan ...     Android        nan   \n",
       "21  Flow mitraguna online sesuai, yaitu diarahkan ...         iOS        nan   \n",
       "22               Harusnya tidak ada tulisan \"/telkom\"         iOS        nan   \n",
       "23  Scroll harusnya sesuai dengan panjang pendekny...         iOS        nan   \n",
       "24                          logo BSI ukurannya sesuai     Android        nan   \n",
       "25                          logo BSI ukurannya sesuai         iOS        nan   \n",
       "26                     Kode OTP diterima dan autofill     Android        nan   \n",
       "27                     Kode OTP diterima dan autofill         iOS        nan   \n",
       "28  Pada saat masuk ke halaman mutasi\\nTampil Muta...     Android        nan   \n",
       "29  Pada saat masuk ke halaman mutasi\\nTampil Muta...         iOS        nan   \n",
       "30                     Kurs valas BSIM dan BYOND sama     Android        nan   \n",
       "31                     Kurs valas BSIM dan BYOND sama         iOS        nan   \n",
       "32  Seharusnya tidak menampilkan menu input debit ...     Android        nan   \n",
       "33  Seharusnya tidak menampilkan menu input debit ...         iOS        nan   \n",
       "34  Hasil cetakan surat kuasa sesuai dengan kota/k...     Android        nan   \n",
       "35  Hasil cetakan surat kuasa sesuai dengan kota/k...         iOS        nan   \n",
       "36                               Jadwal sholat sesuai     Android        nan   \n",
       "37                               Jadwal sholat sesuai         iOS        nan   \n",
       "38  kata \"Kota\" harusnya hilang ketika bertemu den...     Android        nan   \n",
       "39  kata \"Kota\" harusnya hilang ketika bertemu den...         iOS        nan   \n",
       "40  Nasabah bisa menghentikan transaksi terjadwal ...     Android        nan   \n",
       "41  Nasabah bisa menghentikan transaksi terjadwal ...         iOS        nan   \n",
       "42                              8 tahun bukan 1 tahun     Android        nan   \n",
       "43  Ketika pilih no hp ke 2 atau ke 3 ter paste se...     Android        nan   \n",
       "44  Jenis kelamin yang tampil harusnya laki-laki d...     Android        nan   \n",
       "45  Jenis kelamin yang tampil harusnya laki-laki d...         iOS        nan   \n",
       "46     disamakan seperti android yaitu : Minimal Rp 1     Android        nan   \n",
       "47  Dirubah kondisi pada field mandatory ke value ...     Android        nan   \n",
       "48  Dirubah kondisi pada field mandatory ke value ...         iOS        nan   \n",
       "49  Bukti cetakan validasi setoran awal haji BYOND...     Android        nan   \n",
       "50  Bukti cetakan validasi setoran awal haji BYOND...         iOS        nan   \n",
       "51                           Gambar push notif muncul     Android        nan   \n",
       "52         Nasabah bisa melakukan request kartu debit     Android        nan   \n",
       "53    Karakter pada email dibuat maksimal 50 karakter     Android        nan   \n",
       "54    Karakter pada email dibuat maksimal 50 karakter         iOS        nan   \n",
       "55  Tanggal lahir muncul ketika nasabah daftar haj...     Android        nan   \n",
       "56  Tanggal lahir muncul ketika nasabah daftar haj...         iOS        nan   \n",
       "57  Harusnya tidak error logout sendiri dan tetap ...     Android        nan   \n",
       "58  Harusnya tidak error logout sendiri dan tetap ...         iOS        nan   \n",
       "\n",
       "   Tipe Device HP Telko Provider HP Rekening Sumber Data yang digunakan  \\\n",
       "0             NaN               NaN             NaN                 NaN   \n",
       "1             NaN               NaN             NaN                 NaN   \n",
       "2             NaN               NaN             NaN                 NaN   \n",
       "3             NaN               NaN             NaN                 NaN   \n",
       "4             NaN               NaN             NaN                 NaN   \n",
       "5             NaN               NaN             NaN                 NaN   \n",
       "6             NaN               NaN             NaN                 NaN   \n",
       "7             NaN               NaN             NaN                 NaN   \n",
       "8             NaN               NaN             NaN                 NaN   \n",
       "9             NaN               NaN             NaN                 NaN   \n",
       "10            NaN               NaN             NaN                 NaN   \n",
       "11            NaN               NaN             NaN                 NaN   \n",
       "12            NaN               NaN             NaN                 NaN   \n",
       "13            NaN               NaN             NaN                 NaN   \n",
       "14            NaN               NaN             NaN                 NaN   \n",
       "15            NaN               NaN             NaN                 NaN   \n",
       "16            NaN               NaN             NaN                 NaN   \n",
       "17            NaN               NaN             NaN                 NaN   \n",
       "18            NaN               NaN             NaN                 NaN   \n",
       "19            NaN               NaN             NaN                 NaN   \n",
       "20            NaN               NaN             NaN                 NaN   \n",
       "21            NaN               NaN             NaN                 NaN   \n",
       "22            NaN               NaN             NaN                 NaN   \n",
       "23            NaN               NaN             NaN                 NaN   \n",
       "24            NaN               NaN             NaN                 NaN   \n",
       "25            NaN               NaN             NaN                 NaN   \n",
       "26            NaN               NaN             NaN                 NaN   \n",
       "27            NaN               NaN             NaN                 NaN   \n",
       "28            NaN               NaN             NaN                 NaN   \n",
       "29            NaN               NaN             NaN                 NaN   \n",
       "30            NaN               NaN             NaN                 NaN   \n",
       "31            NaN               NaN             NaN                 NaN   \n",
       "32            NaN               NaN             NaN                 NaN   \n",
       "33            NaN               NaN             NaN                 NaN   \n",
       "34            NaN               NaN             NaN                 NaN   \n",
       "35            NaN               NaN             NaN                 NaN   \n",
       "36            NaN               NaN             NaN                 NaN   \n",
       "37            NaN               NaN             NaN                 NaN   \n",
       "38            NaN               NaN             NaN                 NaN   \n",
       "39            NaN               NaN             NaN                 NaN   \n",
       "40            NaN               NaN             NaN                 NaN   \n",
       "41            NaN               NaN             NaN                 NaN   \n",
       "42            NaN               NaN             NaN                 NaN   \n",
       "43            NaN               NaN             NaN                 NaN   \n",
       "44            NaN               NaN             NaN                 NaN   \n",
       "45            NaN               NaN             NaN                 NaN   \n",
       "46            NaN               NaN             NaN                 NaN   \n",
       "47            NaN               NaN             NaN                 NaN   \n",
       "48            NaN               NaN             NaN                 NaN   \n",
       "49            NaN               NaN             NaN                 NaN   \n",
       "50            NaN               NaN             NaN                 NaN   \n",
       "51            NaN               NaN             NaN                 NaN   \n",
       "52            NaN               NaN             NaN                 NaN   \n",
       "53            NaN               NaN             NaN                 NaN   \n",
       "54            NaN               NaN             NaN                 NaN   \n",
       "55            NaN               NaN             NaN                 NaN   \n",
       "56            NaN               NaN             NaN                 NaN   \n",
       "57            NaN               NaN             NaN                 NaN   \n",
       "58            NaN               NaN             NaN                 NaN   \n",
       "\n",
       "                 PO   FT Link Report Test Description Issue dan Evidence  \\\n",
       "0               Ori  NaN              NaN                            NaN   \n",
       "1               Ori  NaN              NaN                            NaN   \n",
       "2    Rifatun, Indah  NaN              NaN                            NaN   \n",
       "3    Rifatun, Indah  NaN              NaN                            NaN   \n",
       "4    Rifatun, Indah  NaN              NaN                            NaN   \n",
       "5      Futsia, arib  NaN              NaN                            NaN   \n",
       "6   Nando, anggoran  NaN              NaN                            NaN   \n",
       "7             Ajeng  NaN              NaN                            NaN   \n",
       "8               NaN  NaN              NaN                            NaN   \n",
       "9               NaN  NaN              NaN                            NaN   \n",
       "10     Winda, fasya  NaN              NaN                            NaN   \n",
       "11     Futsia, arib  NaN              NaN                            NaN   \n",
       "12            Ajeng  NaN              NaN                            NaN   \n",
       "13            Ajeng  NaN              NaN                            NaN   \n",
       "14             Irna  NaN              NaN                            NaN   \n",
       "15       Iin, dimas  NaN              NaN                            NaN   \n",
       "16       Iin, dimas  NaN              NaN                            NaN   \n",
       "17   Inna, nauvaldy  NaN              NaN                            NaN   \n",
       "18              Ori  NaN              NaN                            NaN   \n",
       "19              Ori  NaN              NaN                            NaN   \n",
       "20          Rosalyn  NaN              NaN                            NaN   \n",
       "21          Rosalyn  NaN              NaN                            NaN   \n",
       "22  Nando, anggoran  NaN              NaN                            NaN   \n",
       "23   Inna, nauvaldy  NaN              NaN                            NaN   \n",
       "24     Winda, fasya  NaN              NaN                            NaN   \n",
       "25     Winda, fasya  NaN              NaN                            NaN   \n",
       "26    Hamza, alisha  NaN              NaN                            NaN   \n",
       "27    Hamza, alisha  NaN              NaN                            NaN   \n",
       "28              ori  NaN              NaN                            NaN   \n",
       "29              ori  NaN              NaN                            NaN   \n",
       "30            Ajeng  NaN              NaN                            NaN   \n",
       "31            Ajeng  NaN              NaN                            NaN   \n",
       "32            Putri  NaN              NaN                            NaN   \n",
       "33            Putri  NaN              NaN                            NaN   \n",
       "34     Futsia, arib  NaN              NaN                            NaN   \n",
       "35     Futsia, arib  NaN              NaN                            NaN   \n",
       "36   Inna, nauvaldy  NaN              NaN                            NaN   \n",
       "37   Inna, nauvaldy  NaN              NaN                            NaN   \n",
       "38     Futsia, arib  NaN              NaN                            NaN   \n",
       "39     Futsia, arib  NaN              NaN                            NaN   \n",
       "40            putri  NaN              NaN                            NaN   \n",
       "41            putri  NaN              NaN                            NaN   \n",
       "42          Rosalyn  NaN              NaN                            NaN   \n",
       "43  nando, anggoran  NaN              NaN                            NaN   \n",
       "44     futsia, arib  NaN              NaN                            NaN   \n",
       "45     Futsia, arib  NaN              NaN                            NaN   \n",
       "46     winda, fasya  NaN              NaN                            NaN   \n",
       "47     winda, fasya  NaN              NaN                            NaN   \n",
       "48     winda, fasya  NaN              NaN                            NaN   \n",
       "49     futsia, arib  NaN              NaN                            NaN   \n",
       "50     futsia, arib  NaN              NaN                            NaN   \n",
       "51   Inna, nauvaldy  NaN              NaN                            NaN   \n",
       "52   Rifatun, indah  NaN              NaN                            NaN   \n",
       "53    Hamza, alisha  NaN              NaN                            NaN   \n",
       "54    Hamza, alisha  NaN              NaN                            NaN   \n",
       "55     Futsia, arib  NaN              NaN                            NaN   \n",
       "56     Futsia, arib  NaN              NaN                            NaN   \n",
       "57          Rosalyn  NaN              NaN                            NaN   \n",
       "58          Rosalyn  NaN              NaN                            NaN   \n",
       "\n",
       "   Status PTR PTR Ver APK 1.0.5 IPA 1.0.5  \\\n",
       "0                         Pass with noted   \n",
       "1                         Pass with noted   \n",
       "2                                  Passed   \n",
       "3                                  Passed   \n",
       "4                                  Passed   \n",
       "5                                  Passed   \n",
       "6                                  Passed   \n",
       "7                                  Passed   \n",
       "8                                  Passed   \n",
       "9                                  Failed   \n",
       "10                                 Failed   \n",
       "11                                 Passed   \n",
       "12                        Pass with noted   \n",
       "13                                 Passed   \n",
       "14                                 Passed   \n",
       "15                                 Passed   \n",
       "16                                 Passed   \n",
       "17                                 Passed   \n",
       "18                                 Passed   \n",
       "19                                 Passed   \n",
       "20                                 Passed   \n",
       "21                                 Passed   \n",
       "22                                 Passed   \n",
       "23                                 Passed   \n",
       "24                                 Passed   \n",
       "25                                 Passed   \n",
       "26                                 Passed   \n",
       "27                                 Passed   \n",
       "28                                 Passed   \n",
       "29                                 Passed   \n",
       "30                                 Passed   \n",
       "31                                 Passed   \n",
       "32                                 Passed   \n",
       "33                                 Passed   \n",
       "34                                 Passed   \n",
       "35                                 Passed   \n",
       "36                                 Passed   \n",
       "37                                 Passed   \n",
       "38                                 Passed   \n",
       "39                                 Passed   \n",
       "40                                 Passed   \n",
       "41                                 Passed   \n",
       "42                                 Passed   \n",
       "43                                 Passed   \n",
       "44                                 Passed   \n",
       "45                                 Passed   \n",
       "46                                 Passed   \n",
       "47                                 Passed   \n",
       "48                                 Passed   \n",
       "49                                 Passed   \n",
       "50                                 Passed   \n",
       "51                                 Passed   \n",
       "52                                 Passed   \n",
       "53                                 Passed   \n",
       "54                                 Passed   \n",
       "55                                 Passed   \n",
       "56                                 Passed   \n",
       "57                                 Passed   \n",
       "58                                 Passed   \n",
       "\n",
       "   Tanggal Eksekusi PTR Ver APK 1.0.5 IPA 1.0.5  \\\n",
       "0                                           NaN   \n",
       "1                                           NaN   \n",
       "2                                           NaN   \n",
       "3                                           NaN   \n",
       "4                                           NaN   \n",
       "5                                           NaN   \n",
       "6                                           NaN   \n",
       "7                                           NaN   \n",
       "8                                           NaN   \n",
       "9                                           NaN   \n",
       "10                                          NaN   \n",
       "11                                          NaN   \n",
       "12                                          NaN   \n",
       "13                                          NaN   \n",
       "14                                          NaN   \n",
       "15                                          NaN   \n",
       "16                                          NaN   \n",
       "17                                          NaN   \n",
       "18                                          NaN   \n",
       "19                                          NaN   \n",
       "20                                          NaN   \n",
       "21                                          NaN   \n",
       "22                                          NaN   \n",
       "23                                          NaN   \n",
       "24                                          NaN   \n",
       "25                                          NaN   \n",
       "26                                          NaN   \n",
       "27                                          NaN   \n",
       "28                                          NaN   \n",
       "29                                          NaN   \n",
       "30                                          NaN   \n",
       "31                                          NaN   \n",
       "32                                          NaN   \n",
       "33                                          NaN   \n",
       "34                                          NaN   \n",
       "35                                          NaN   \n",
       "36                                          NaN   \n",
       "37                                          NaN   \n",
       "38                                          NaN   \n",
       "39                                          NaN   \n",
       "40                                          NaN   \n",
       "41                                          NaN   \n",
       "42                                          NaN   \n",
       "43                                          NaN   \n",
       "44                                          NaN   \n",
       "45                                          NaN   \n",
       "46                                          NaN   \n",
       "47                                          NaN   \n",
       "48                                          NaN   \n",
       "49                                          NaN   \n",
       "50                                          NaN   \n",
       "51                                          NaN   \n",
       "52                                          NaN   \n",
       "53                                          NaN   \n",
       "54                                          NaN   \n",
       "55                                          NaN   \n",
       "56                                          NaN   \n",
       "57                                          NaN   \n",
       "58                                          NaN   \n",
       "\n",
       "   Tanggal Passed PTR Ver APK 1.0.5 IPA 1.0.5 Komentar  \n",
       "0                                         NaN      NaN  \n",
       "1                                         NaN      NaN  \n",
       "2                                         NaN      NaN  \n",
       "3                                         NaN      NaN  \n",
       "4                                         NaN      NaN  \n",
       "5                                         NaN      NaN  \n",
       "6                                         NaN      NaN  \n",
       "7                                         NaN      NaN  \n",
       "8                                         NaN      NaN  \n",
       "9                                         NaN      NaN  \n",
       "10                                        NaN      NaN  \n",
       "11                                        NaN      NaN  \n",
       "12                                        NaN      NaN  \n",
       "13                                        NaN      NaN  \n",
       "14                                        NaN      NaN  \n",
       "15                                        NaN      NaN  \n",
       "16                                        NaN      NaN  \n",
       "17                                        NaN      NaN  \n",
       "18                                        NaN      NaN  \n",
       "19                                        NaN      NaN  \n",
       "20                                        NaN      NaN  \n",
       "21                                        NaN      NaN  \n",
       "22                                        NaN      NaN  \n",
       "23                                        NaN      NaN  \n",
       "24                                        NaN      NaN  \n",
       "25                                        NaN      NaN  \n",
       "26                                        NaN      NaN  \n",
       "27                                        NaN      NaN  \n",
       "28                                        NaN      NaN  \n",
       "29                                        NaN      NaN  \n",
       "30                                        NaN      NaN  \n",
       "31                                        NaN      NaN  \n",
       "32                                        NaN      NaN  \n",
       "33                                        NaN      NaN  \n",
       "34                                        NaN      NaN  \n",
       "35                                        NaN      NaN  \n",
       "36                                        NaN      NaN  \n",
       "37                                        NaN      NaN  \n",
       "38                                        NaN      NaN  \n",
       "39                                        NaN      NaN  \n",
       "40                                        NaN      NaN  \n",
       "41                                        NaN      NaN  \n",
       "42                                        NaN      NaN  \n",
       "43                                        NaN      NaN  \n",
       "44                                        NaN      NaN  \n",
       "45                                        NaN      NaN  \n",
       "46                                        NaN      NaN  \n",
       "47                                        NaN      NaN  \n",
       "48                                        NaN      NaN  \n",
       "49                                        NaN      NaN  \n",
       "50                                        NaN      NaN  \n",
       "51                                        NaN      NaN  \n",
       "52                                        NaN      NaN  \n",
       "53                                        NaN      NaN  \n",
       "54                                        NaN      NaN  \n",
       "55                                        NaN      NaN  \n",
       "56                                        NaN      NaN  \n",
       "57                                        NaN      NaN  \n",
       "58                                        NaN      NaN  "
      ]
     },
     "execution_count": 142,
     "metadata": {},
     "output_type": "execute_result"
    }
   ],
   "source": [
    "excel_ptr"
   ]
  },
  {
   "cell_type": "markdown",
   "metadata": {},
   "source": [
    "# Ini pake function (ga manual)"
   ]
  },
  {
   "cell_type": "code",
   "execution_count": 145,
   "metadata": {},
   "outputs": [
    {
     "data": {
      "text/html": [
       "<div>\n",
       "<style scoped>\n",
       "    .dataframe tbody tr th:only-of-type {\n",
       "        vertical-align: middle;\n",
       "    }\n",
       "\n",
       "    .dataframe tbody tr th {\n",
       "        vertical-align: top;\n",
       "    }\n",
       "\n",
       "    .dataframe thead th {\n",
       "        text-align: right;\n",
       "    }\n",
       "</style>\n",
       "<table border=\"1\" class=\"dataframe\">\n",
       "  <thead>\n",
       "    <tr style=\"text-align: right;\">\n",
       "      <th></th>\n",
       "      <th>Link JIRA</th>\n",
       "      <th>Features</th>\n",
       "      <th>Sub-features</th>\n",
       "      <th>Problem Description</th>\n",
       "      <th>Expected Condition</th>\n",
       "      <th>OS</th>\n",
       "      <th>OS Version</th>\n",
       "      <th>Tipe Device HP</th>\n",
       "      <th>Telko Provider HP</th>\n",
       "      <th>Rekening Sumber</th>\n",
       "      <th>Data yang digunakan</th>\n",
       "      <th>PO</th>\n",
       "      <th>FT</th>\n",
       "      <th>Link Report Test</th>\n",
       "      <th>Description Issue dan Evidence</th>\n",
       "      <th>Status PTR PTR Ver APK 1.0.5 IPA 1.0.5</th>\n",
       "      <th>Tanggal Eksekusi PTR Ver APK 1.0.5 IPA 1.0.5</th>\n",
       "      <th>Tanggal Passed PTR Ver APK 1.0.5 IPA 1.0.5</th>\n",
       "      <th>Komentar</th>\n",
       "    </tr>\n",
       "  </thead>\n",
       "  <tbody>\n",
       "    <tr>\n",
       "      <th>0</th>\n",
       "      <td>[PIB-42] Donwload dan Share Resi Transaksi</td>\n",
       "      <td>Share Resi</td>\n",
       "      <td>Share Resi</td>\n",
       "      <td>Nama Nasabah : xxxxxxxxxxxxxxxxANI\\nNomor Reke...</td>\n",
       "      <td>Nasabah bisa download dan share resi transaksi</td>\n",
       "      <td>Android</td>\n",
       "      <td>nan</td>\n",
       "      <td>NaN</td>\n",
       "      <td>NaN</td>\n",
       "      <td>NaN</td>\n",
       "      <td>NaN</td>\n",
       "      <td>Ori</td>\n",
       "      <td>NaN</td>\n",
       "      <td>NaN</td>\n",
       "      <td>NaN</td>\n",
       "      <td>Pass with noted</td>\n",
       "      <td>NaN</td>\n",
       "      <td>NaN</td>\n",
       "      <td>NaN</td>\n",
       "    </tr>\n",
       "    <tr>\n",
       "      <th>1</th>\n",
       "      <td>[PIB-42] Donwload dan Share Resi Transaksi</td>\n",
       "      <td>Share Resi</td>\n",
       "      <td>Share Resi</td>\n",
       "      <td>NaN</td>\n",
       "      <td>Nasabah bisa download dan share resi transaksi</td>\n",
       "      <td>iOS</td>\n",
       "      <td>nan</td>\n",
       "      <td>NaN</td>\n",
       "      <td>NaN</td>\n",
       "      <td>NaN</td>\n",
       "      <td>NaN</td>\n",
       "      <td>Ori</td>\n",
       "      <td>NaN</td>\n",
       "      <td>NaN</td>\n",
       "      <td>NaN</td>\n",
       "      <td>Pass with noted</td>\n",
       "      <td>NaN</td>\n",
       "      <td>NaN</td>\n",
       "      <td>NaN</td>\n",
       "    </tr>\n",
       "    <tr>\n",
       "      <th>2</th>\n",
       "      <td>[PIB-106] Gagal Permintaan Kartu Debit</td>\n",
       "      <td>Manajemen Kartu</td>\n",
       "      <td>Manajemen Kartu</td>\n",
       "      <td>Mohon Bantuannya, terdapat kegagalan request k...</td>\n",
       "      <td>Nasabah bisa request kartu debit di iOS dan An...</td>\n",
       "      <td>Android</td>\n",
       "      <td>nan</td>\n",
       "      <td>NaN</td>\n",
       "      <td>NaN</td>\n",
       "      <td>NaN</td>\n",
       "      <td>NaN</td>\n",
       "      <td>Rifatun, Indah</td>\n",
       "      <td>NaN</td>\n",
       "      <td>NaN</td>\n",
       "      <td>NaN</td>\n",
       "      <td>Passed</td>\n",
       "      <td>NaN</td>\n",
       "      <td>NaN</td>\n",
       "      <td>NaN</td>\n",
       "    </tr>\n",
       "    <tr>\n",
       "      <th>3</th>\n",
       "      <td>[PIB-106] Gagal Permintaan Kartu Debit</td>\n",
       "      <td>Manajemen Kartu</td>\n",
       "      <td>Manajemen Kartu</td>\n",
       "      <td>NaN</td>\n",
       "      <td>Nasabah bisa request kartu debit di iOS dan An...</td>\n",
       "      <td>iOS</td>\n",
       "      <td>nan</td>\n",
       "      <td>NaN</td>\n",
       "      <td>NaN</td>\n",
       "      <td>NaN</td>\n",
       "      <td>NaN</td>\n",
       "      <td>Rifatun, Indah</td>\n",
       "      <td>NaN</td>\n",
       "      <td>NaN</td>\n",
       "      <td>NaN</td>\n",
       "      <td>Passed</td>\n",
       "      <td>NaN</td>\n",
       "      <td>NaN</td>\n",
       "      <td>NaN</td>\n",
       "    </tr>\n",
       "    <tr>\n",
       "      <th>4</th>\n",
       "      <td>[PIB-79] Kartu Debit Baru di Manajemen Kartu</td>\n",
       "      <td>Manajemen Kartu</td>\n",
       "      <td>Manajemen Kartu</td>\n",
       "      <td>Ketika membuat kartu debit baru. Carrousel kar...</td>\n",
       "      <td>Harusnya ada constraint atau pembatas</td>\n",
       "      <td>iOS</td>\n",
       "      <td>nan</td>\n",
       "      <td>NaN</td>\n",
       "      <td>NaN</td>\n",
       "      <td>NaN</td>\n",
       "      <td>NaN</td>\n",
       "      <td>Rifatun, Indah</td>\n",
       "      <td>NaN</td>\n",
       "      <td>NaN</td>\n",
       "      <td>NaN</td>\n",
       "      <td>Passed</td>\n",
       "      <td>NaN</td>\n",
       "      <td>NaN</td>\n",
       "      <td>NaN</td>\n",
       "    </tr>\n",
       "    <tr>\n",
       "      <th>5</th>\n",
       "      <td>[PIB-74] Quick Menu Tabungan Haji di Homescreen</td>\n",
       "      <td>Homescreen</td>\n",
       "      <td>Homescreen</td>\n",
       "      <td>iOS utk tabungan haji fitur dibawah tidak beru...</td>\n",
       "      <td>Harusnya berubah sesuai ngambar SS di Figma ya...</td>\n",
       "      <td>iOS</td>\n",
       "      <td>nan</td>\n",
       "      <td>NaN</td>\n",
       "      <td>NaN</td>\n",
       "      <td>NaN</td>\n",
       "      <td>NaN</td>\n",
       "      <td>Futsia, arib</td>\n",
       "      <td>NaN</td>\n",
       "      <td>NaN</td>\n",
       "      <td>NaN</td>\n",
       "      <td>Passed</td>\n",
       "      <td>NaN</td>\n",
       "      <td>NaN</td>\n",
       "      <td>NaN</td>\n",
       "    </tr>\n",
       "    <tr>\n",
       "      <th>6</th>\n",
       "      <td>[PIB-67] Snackbar E-Money Salah Posisi</td>\n",
       "      <td>E-Money</td>\n",
       "      <td>E-Money</td>\n",
       "      <td>Sedangkan android defect jdinya di belakang ov...</td>\n",
       "      <td>Snackbar harusnya berada di depan overlay hita...</td>\n",
       "      <td>Android</td>\n",
       "      <td>nan</td>\n",
       "      <td>NaN</td>\n",
       "      <td>NaN</td>\n",
       "      <td>NaN</td>\n",
       "      <td>NaN</td>\n",
       "      <td>Nando, anggoran</td>\n",
       "      <td>NaN</td>\n",
       "      <td>NaN</td>\n",
       "      <td>NaN</td>\n",
       "      <td>Passed</td>\n",
       "      <td>NaN</td>\n",
       "      <td>NaN</td>\n",
       "      <td>NaN</td>\n",
       "    </tr>\n",
       "    <tr>\n",
       "      <th>7</th>\n",
       "      <td>[PIB-58] No Rekening Tabungan Emas dan SBSN</td>\n",
       "      <td>Portofolio, Portofolio Emas, Portofolio SBSN</td>\n",
       "      <td>Portofolio, Portofolio Emas, Portofolio SBSN</td>\n",
       "      <td>di iOS tidak bisa klik icon copy no rekening t...</td>\n",
       "      <td>Seharusnya ada klik icon copy nomer rekening t...</td>\n",
       "      <td>iOS</td>\n",
       "      <td>nan</td>\n",
       "      <td>NaN</td>\n",
       "      <td>NaN</td>\n",
       "      <td>NaN</td>\n",
       "      <td>NaN</td>\n",
       "      <td>Ajeng</td>\n",
       "      <td>NaN</td>\n",
       "      <td>NaN</td>\n",
       "      <td>NaN</td>\n",
       "      <td>Passed</td>\n",
       "      <td>NaN</td>\n",
       "      <td>NaN</td>\n",
       "      <td>NaN</td>\n",
       "    </tr>\n",
       "    <tr>\n",
       "      <th>8</th>\n",
       "      <td>[PIB-41] Force Close</td>\n",
       "      <td>Mega Menu</td>\n",
       "      <td>Mega Menu</td>\n",
       "      <td>pada saat melakukan paste di field 'search' te...</td>\n",
       "      <td>Seharusnya tidak force closed</td>\n",
       "      <td>Android</td>\n",
       "      <td>nan</td>\n",
       "      <td>NaN</td>\n",
       "      <td>NaN</td>\n",
       "      <td>NaN</td>\n",
       "      <td>NaN</td>\n",
       "      <td>NaN</td>\n",
       "      <td>NaN</td>\n",
       "      <td>NaN</td>\n",
       "      <td>NaN</td>\n",
       "      <td>Passed</td>\n",
       "      <td>NaN</td>\n",
       "      <td>NaN</td>\n",
       "      <td>NaN</td>\n",
       "    </tr>\n",
       "    <tr>\n",
       "      <th>9</th>\n",
       "      <td>[PIB-41] Force Close</td>\n",
       "      <td>Mega Menu</td>\n",
       "      <td>Mega Menu</td>\n",
       "      <td>NaN</td>\n",
       "      <td>Seharusnya tidak force closed</td>\n",
       "      <td>iOS</td>\n",
       "      <td>nan</td>\n",
       "      <td>NaN</td>\n",
       "      <td>NaN</td>\n",
       "      <td>NaN</td>\n",
       "      <td>NaN</td>\n",
       "      <td>NaN</td>\n",
       "      <td>NaN</td>\n",
       "      <td>NaN</td>\n",
       "      <td>NaN</td>\n",
       "      <td>Failed</td>\n",
       "      <td>NaN</td>\n",
       "      <td>NaN</td>\n",
       "      <td>NaN</td>\n",
       "    </tr>\n",
       "  </tbody>\n",
       "</table>\n",
       "</div>"
      ],
      "text/plain": [
       "                                         Link JIRA  \\\n",
       "0       [PIB-42] Donwload dan Share Resi Transaksi   \n",
       "1       [PIB-42] Donwload dan Share Resi Transaksi   \n",
       "2           [PIB-106] Gagal Permintaan Kartu Debit   \n",
       "3           [PIB-106] Gagal Permintaan Kartu Debit   \n",
       "4     [PIB-79] Kartu Debit Baru di Manajemen Kartu   \n",
       "5  [PIB-74] Quick Menu Tabungan Haji di Homescreen   \n",
       "6           [PIB-67] Snackbar E-Money Salah Posisi   \n",
       "7      [PIB-58] No Rekening Tabungan Emas dan SBSN   \n",
       "8                             [PIB-41] Force Close   \n",
       "9                             [PIB-41] Force Close   \n",
       "\n",
       "                                       Features  \\\n",
       "0                                    Share Resi   \n",
       "1                                    Share Resi   \n",
       "2                               Manajemen Kartu   \n",
       "3                               Manajemen Kartu   \n",
       "4                               Manajemen Kartu   \n",
       "5                                    Homescreen   \n",
       "6                                       E-Money   \n",
       "7  Portofolio, Portofolio Emas, Portofolio SBSN   \n",
       "8                                     Mega Menu   \n",
       "9                                     Mega Menu   \n",
       "\n",
       "                                   Sub-features  \\\n",
       "0                                    Share Resi   \n",
       "1                                    Share Resi   \n",
       "2                               Manajemen Kartu   \n",
       "3                               Manajemen Kartu   \n",
       "4                               Manajemen Kartu   \n",
       "5                                    Homescreen   \n",
       "6                                       E-Money   \n",
       "7  Portofolio, Portofolio Emas, Portofolio SBSN   \n",
       "8                                     Mega Menu   \n",
       "9                                     Mega Menu   \n",
       "\n",
       "                                 Problem Description  \\\n",
       "0  Nama Nasabah : xxxxxxxxxxxxxxxxANI\\nNomor Reke...   \n",
       "1                                                NaN   \n",
       "2  Mohon Bantuannya, terdapat kegagalan request k...   \n",
       "3                                                NaN   \n",
       "4  Ketika membuat kartu debit baru. Carrousel kar...   \n",
       "5  iOS utk tabungan haji fitur dibawah tidak beru...   \n",
       "6  Sedangkan android defect jdinya di belakang ov...   \n",
       "7  di iOS tidak bisa klik icon copy no rekening t...   \n",
       "8  pada saat melakukan paste di field 'search' te...   \n",
       "9                                                NaN   \n",
       "\n",
       "                                  Expected Condition       OS OS Version  \\\n",
       "0     Nasabah bisa download dan share resi transaksi  Android        nan   \n",
       "1     Nasabah bisa download dan share resi transaksi      iOS        nan   \n",
       "2  Nasabah bisa request kartu debit di iOS dan An...  Android        nan   \n",
       "3  Nasabah bisa request kartu debit di iOS dan An...      iOS        nan   \n",
       "4              Harusnya ada constraint atau pembatas      iOS        nan   \n",
       "5  Harusnya berubah sesuai ngambar SS di Figma ya...      iOS        nan   \n",
       "6  Snackbar harusnya berada di depan overlay hita...  Android        nan   \n",
       "7  Seharusnya ada klik icon copy nomer rekening t...      iOS        nan   \n",
       "8                      Seharusnya tidak force closed  Android        nan   \n",
       "9                      Seharusnya tidak force closed      iOS        nan   \n",
       "\n",
       "  Tipe Device HP Telko Provider HP Rekening Sumber Data yang digunakan  \\\n",
       "0            NaN               NaN             NaN                 NaN   \n",
       "1            NaN               NaN             NaN                 NaN   \n",
       "2            NaN               NaN             NaN                 NaN   \n",
       "3            NaN               NaN             NaN                 NaN   \n",
       "4            NaN               NaN             NaN                 NaN   \n",
       "5            NaN               NaN             NaN                 NaN   \n",
       "6            NaN               NaN             NaN                 NaN   \n",
       "7            NaN               NaN             NaN                 NaN   \n",
       "8            NaN               NaN             NaN                 NaN   \n",
       "9            NaN               NaN             NaN                 NaN   \n",
       "\n",
       "                PO   FT Link Report Test Description Issue dan Evidence  \\\n",
       "0              Ori  NaN              NaN                            NaN   \n",
       "1              Ori  NaN              NaN                            NaN   \n",
       "2   Rifatun, Indah  NaN              NaN                            NaN   \n",
       "3   Rifatun, Indah  NaN              NaN                            NaN   \n",
       "4   Rifatun, Indah  NaN              NaN                            NaN   \n",
       "5     Futsia, arib  NaN              NaN                            NaN   \n",
       "6  Nando, anggoran  NaN              NaN                            NaN   \n",
       "7            Ajeng  NaN              NaN                            NaN   \n",
       "8              NaN  NaN              NaN                            NaN   \n",
       "9              NaN  NaN              NaN                            NaN   \n",
       "\n",
       "  Status PTR PTR Ver APK 1.0.5 IPA 1.0.5  \\\n",
       "0                        Pass with noted   \n",
       "1                        Pass with noted   \n",
       "2                                 Passed   \n",
       "3                                 Passed   \n",
       "4                                 Passed   \n",
       "5                                 Passed   \n",
       "6                                 Passed   \n",
       "7                                 Passed   \n",
       "8                                 Passed   \n",
       "9                                 Failed   \n",
       "\n",
       "  Tanggal Eksekusi PTR Ver APK 1.0.5 IPA 1.0.5  \\\n",
       "0                                          NaN   \n",
       "1                                          NaN   \n",
       "2                                          NaN   \n",
       "3                                          NaN   \n",
       "4                                          NaN   \n",
       "5                                          NaN   \n",
       "6                                          NaN   \n",
       "7                                          NaN   \n",
       "8                                          NaN   \n",
       "9                                          NaN   \n",
       "\n",
       "  Tanggal Passed PTR Ver APK 1.0.5 IPA 1.0.5 Komentar  \n",
       "0                                        NaN      NaN  \n",
       "1                                        NaN      NaN  \n",
       "2                                        NaN      NaN  \n",
       "3                                        NaN      NaN  \n",
       "4                                        NaN      NaN  \n",
       "5                                        NaN      NaN  \n",
       "6                                        NaN      NaN  \n",
       "7                                        NaN      NaN  \n",
       "8                                        NaN      NaN  \n",
       "9                                        NaN      NaN  "
      ]
     },
     "execution_count": 145,
     "metadata": {},
     "output_type": "execute_result"
    }
   ],
   "source": [
    "df, version = processing_excel(file_data, 'PTR Hotfix-PO (1.0.5 PTR)')\n",
    "df.head(10)"
   ]
  },
  {
   "cell_type": "code",
   "execution_count": 120,
   "metadata": {},
   "outputs": [
    {
     "data": {
      "text/plain": [
       "nan"
      ]
     },
     "execution_count": 120,
     "metadata": {},
     "output_type": "execute_result"
    }
   ],
   "source": [
    "df.Features[0]"
   ]
  },
  {
   "cell_type": "code",
   "execution_count": 146,
   "metadata": {},
   "outputs": [
    {
     "data": {
      "text/plain": [
       "'PTR Ver APK 1.0.5 IPA 1.0.5'"
      ]
     },
     "execution_count": 146,
     "metadata": {},
     "output_type": "execute_result"
    }
   ],
   "source": [
    "version_chosen = version[0]\n",
    "version_chosen"
   ]
  },
  {
   "cell_type": "code",
   "execution_count": 147,
   "metadata": {},
   "outputs": [],
   "source": [
    "df = df.drop(columns=[col for col in df.columns if (col.startswith('Status ') or col.startswith('Tanggal Eksekusi ') or col.startswith('Tanggal Passed ')) \\\n",
    "    and col not in ['Status ' + version_chosen, 'Tanggal Eksekusi ' + version_chosen, 'Tanggal Passed ' + version_chosen]])"
   ]
  },
  {
   "cell_type": "code",
   "execution_count": 148,
   "metadata": {},
   "outputs": [
    {
     "data": {
      "text/html": [
       "<div>\n",
       "<style scoped>\n",
       "    .dataframe tbody tr th:only-of-type {\n",
       "        vertical-align: middle;\n",
       "    }\n",
       "\n",
       "    .dataframe tbody tr th {\n",
       "        vertical-align: top;\n",
       "    }\n",
       "\n",
       "    .dataframe thead th {\n",
       "        text-align: right;\n",
       "    }\n",
       "</style>\n",
       "<table border=\"1\" class=\"dataframe\">\n",
       "  <thead>\n",
       "    <tr style=\"text-align: right;\">\n",
       "      <th></th>\n",
       "      <th>Link JIRA</th>\n",
       "      <th>Features</th>\n",
       "      <th>Sub-features</th>\n",
       "      <th>Problem Description</th>\n",
       "      <th>Expected Condition</th>\n",
       "      <th>OS</th>\n",
       "      <th>OS Version</th>\n",
       "      <th>Tipe Device HP</th>\n",
       "      <th>Telko Provider HP</th>\n",
       "      <th>Rekening Sumber</th>\n",
       "      <th>Data yang digunakan</th>\n",
       "      <th>PO</th>\n",
       "      <th>FT</th>\n",
       "      <th>Link Report Test</th>\n",
       "      <th>Description Issue dan Evidence</th>\n",
       "      <th>Tanggal Eksekusi PTR Ver APK 1.0.5 IPA 1.0.5</th>\n",
       "      <th>Tanggal Passed PTR Ver APK 1.0.5 IPA 1.0.5</th>\n",
       "      <th>Komentar</th>\n",
       "    </tr>\n",
       "  </thead>\n",
       "  <tbody>\n",
       "    <tr>\n",
       "      <th>0</th>\n",
       "      <td>[PIB-42] Donwload dan Share Resi Transaksi</td>\n",
       "      <td>Share Resi</td>\n",
       "      <td>Share Resi</td>\n",
       "      <td>Nama Nasabah : xxxxxxxxxxxxxxxxANI\\nNomor Reke...</td>\n",
       "      <td>Nasabah bisa download dan share resi transaksi</td>\n",
       "      <td>Android</td>\n",
       "      <td>nan</td>\n",
       "      <td>NaN</td>\n",
       "      <td>NaN</td>\n",
       "      <td>NaN</td>\n",
       "      <td>NaN</td>\n",
       "      <td>Ori</td>\n",
       "      <td>NaN</td>\n",
       "      <td>NaN</td>\n",
       "      <td>NaN</td>\n",
       "      <td>NaN</td>\n",
       "      <td>NaN</td>\n",
       "      <td>NaN</td>\n",
       "    </tr>\n",
       "    <tr>\n",
       "      <th>1</th>\n",
       "      <td>[PIB-42] Donwload dan Share Resi Transaksi</td>\n",
       "      <td>Share Resi</td>\n",
       "      <td>Share Resi</td>\n",
       "      <td>NaN</td>\n",
       "      <td>Nasabah bisa download dan share resi transaksi</td>\n",
       "      <td>iOS</td>\n",
       "      <td>nan</td>\n",
       "      <td>NaN</td>\n",
       "      <td>NaN</td>\n",
       "      <td>NaN</td>\n",
       "      <td>NaN</td>\n",
       "      <td>Ori</td>\n",
       "      <td>NaN</td>\n",
       "      <td>NaN</td>\n",
       "      <td>NaN</td>\n",
       "      <td>NaN</td>\n",
       "      <td>NaN</td>\n",
       "      <td>NaN</td>\n",
       "    </tr>\n",
       "    <tr>\n",
       "      <th>2</th>\n",
       "      <td>[PIB-106] Gagal Permintaan Kartu Debit</td>\n",
       "      <td>Manajemen Kartu</td>\n",
       "      <td>Manajemen Kartu</td>\n",
       "      <td>Mohon Bantuannya, terdapat kegagalan request k...</td>\n",
       "      <td>Nasabah bisa request kartu debit di iOS dan An...</td>\n",
       "      <td>Android</td>\n",
       "      <td>nan</td>\n",
       "      <td>NaN</td>\n",
       "      <td>NaN</td>\n",
       "      <td>NaN</td>\n",
       "      <td>NaN</td>\n",
       "      <td>Rifatun, Indah</td>\n",
       "      <td>NaN</td>\n",
       "      <td>NaN</td>\n",
       "      <td>NaN</td>\n",
       "      <td>NaN</td>\n",
       "      <td>NaN</td>\n",
       "      <td>NaN</td>\n",
       "    </tr>\n",
       "  </tbody>\n",
       "</table>\n",
       "</div>"
      ],
      "text/plain": [
       "                                    Link JIRA         Features  \\\n",
       "0  [PIB-42] Donwload dan Share Resi Transaksi       Share Resi   \n",
       "1  [PIB-42] Donwload dan Share Resi Transaksi       Share Resi   \n",
       "2      [PIB-106] Gagal Permintaan Kartu Debit  Manajemen Kartu   \n",
       "\n",
       "      Sub-features                                Problem Description  \\\n",
       "0       Share Resi  Nama Nasabah : xxxxxxxxxxxxxxxxANI\\nNomor Reke...   \n",
       "1       Share Resi                                                NaN   \n",
       "2  Manajemen Kartu  Mohon Bantuannya, terdapat kegagalan request k...   \n",
       "\n",
       "                                  Expected Condition       OS OS Version  \\\n",
       "0     Nasabah bisa download dan share resi transaksi  Android        nan   \n",
       "1     Nasabah bisa download dan share resi transaksi      iOS        nan   \n",
       "2  Nasabah bisa request kartu debit di iOS dan An...  Android        nan   \n",
       "\n",
       "  Tipe Device HP Telko Provider HP Rekening Sumber Data yang digunakan  \\\n",
       "0            NaN               NaN             NaN                 NaN   \n",
       "1            NaN               NaN             NaN                 NaN   \n",
       "2            NaN               NaN             NaN                 NaN   \n",
       "\n",
       "               PO   FT Link Report Test Description Issue dan Evidence  \\\n",
       "0             Ori  NaN              NaN                            NaN   \n",
       "1             Ori  NaN              NaN                            NaN   \n",
       "2  Rifatun, Indah  NaN              NaN                            NaN   \n",
       "\n",
       "  Tanggal Eksekusi PTR Ver APK 1.0.5 IPA 1.0.5  \\\n",
       "0                                          NaN   \n",
       "1                                          NaN   \n",
       "2                                          NaN   \n",
       "\n",
       "  Tanggal Passed PTR Ver APK 1.0.5 IPA 1.0.5 Komentar  \n",
       "0                                        NaN      NaN  \n",
       "1                                        NaN      NaN  \n",
       "2                                        NaN      NaN  "
      ]
     },
     "execution_count": 148,
     "metadata": {},
     "output_type": "execute_result"
    }
   ],
   "source": [
    "df.head(3)"
   ]
  },
  {
   "cell_type": "markdown",
   "metadata": {},
   "source": [
    "## Bikin Heatmap"
   ]
  },
  {
   "cell_type": "code",
   "execution_count": 109,
   "metadata": {},
   "outputs": [
    {
     "data": {
      "text/html": [
       "<div>\n",
       "<style scoped>\n",
       "    .dataframe tbody tr th:only-of-type {\n",
       "        vertical-align: middle;\n",
       "    }\n",
       "\n",
       "    .dataframe tbody tr th {\n",
       "        vertical-align: top;\n",
       "    }\n",
       "\n",
       "    .dataframe thead th {\n",
       "        text-align: right;\n",
       "    }\n",
       "</style>\n",
       "<table border=\"1\" class=\"dataframe\">\n",
       "  <thead>\n",
       "    <tr style=\"text-align: right;\">\n",
       "      <th></th>\n",
       "      <th>0</th>\n",
       "      <th>1</th>\n",
       "      <th>2</th>\n",
       "      <th>3</th>\n",
       "      <th>4</th>\n",
       "      <th>5</th>\n",
       "      <th>6</th>\n",
       "    </tr>\n",
       "  </thead>\n",
       "  <tbody>\n",
       "    <tr>\n",
       "      <th>0</th>\n",
       "      <td>NaN</td>\n",
       "      <td>Execution Android</td>\n",
       "      <td>Passed Android</td>\n",
       "      <td>Failed Android</td>\n",
       "      <td>N/A Android</td>\n",
       "      <td>In Progress Android</td>\n",
       "      <td>Pass with Noted Android</td>\n",
       "    </tr>\n",
       "    <tr>\n",
       "      <th>1</th>\n",
       "      <td>Impacted Fitur - PO (1.03 PTR)</td>\n",
       "      <td>1</td>\n",
       "      <td>0.941176</td>\n",
       "      <td>0.058824</td>\n",
       "      <td>0</td>\n",
       "      <td>0</td>\n",
       "      <td>0</td>\n",
       "    </tr>\n",
       "    <tr>\n",
       "      <th>2</th>\n",
       "      <td>Fitur Baru - PO (1.0.5 PTR)</td>\n",
       "      <td>1</td>\n",
       "      <td>0.904762</td>\n",
       "      <td>0.047619</td>\n",
       "      <td>0</td>\n",
       "      <td>0.047619</td>\n",
       "      <td>0</td>\n",
       "    </tr>\n",
       "    <tr>\n",
       "      <th>3</th>\n",
       "      <td>Existing Features - PO (1.0.5 PTR)</td>\n",
       "      <td>1</td>\n",
       "      <td>0.928571</td>\n",
       "      <td>0.026786</td>\n",
       "      <td>0.008929</td>\n",
       "      <td>0.026786</td>\n",
       "      <td>0.017857</td>\n",
       "    </tr>\n",
       "    <tr>\n",
       "      <th>4</th>\n",
       "      <td>Hotfix - PO (1.0.5 PTR)</td>\n",
       "      <td>1</td>\n",
       "      <td>0.928571</td>\n",
       "      <td>0</td>\n",
       "      <td>0</td>\n",
       "      <td>0</td>\n",
       "      <td>0.071429</td>\n",
       "    </tr>\n",
       "    <tr>\n",
       "      <th>5</th>\n",
       "      <td>Testing PTR - Tester (1.0.5 PTR)</td>\n",
       "      <td>1</td>\n",
       "      <td>0.921875</td>\n",
       "      <td>0.015625</td>\n",
       "      <td>0.03125</td>\n",
       "      <td>0.015625</td>\n",
       "      <td>0.015625</td>\n",
       "    </tr>\n",
       "    <tr>\n",
       "      <th>6</th>\n",
       "      <td>Testing PTR Backoffice - Tester (1.0.5 PTR)</td>\n",
       "      <td>1</td>\n",
       "      <td>0.903226</td>\n",
       "      <td>0.064516</td>\n",
       "      <td>0</td>\n",
       "      <td>0</td>\n",
       "      <td>0.032258</td>\n",
       "    </tr>\n",
       "    <tr>\n",
       "      <th>7</th>\n",
       "      <td>Tiket Ready PTR - Tester (1.0.5 PTR)</td>\n",
       "      <td>1</td>\n",
       "      <td>0.555556</td>\n",
       "      <td>0.111111</td>\n",
       "      <td>0</td>\n",
       "      <td>0.222222</td>\n",
       "      <td>0.111111</td>\n",
       "    </tr>\n",
       "    <tr>\n",
       "      <th>8</th>\n",
       "      <td>NaN</td>\n",
       "      <td>NaN</td>\n",
       "      <td>NaN</td>\n",
       "      <td>NaN</td>\n",
       "      <td>NaN</td>\n",
       "      <td>NaN</td>\n",
       "      <td>NaN</td>\n",
       "    </tr>\n",
       "    <tr>\n",
       "      <th>9</th>\n",
       "      <td>NaN</td>\n",
       "      <td>NaN</td>\n",
       "      <td>NaN</td>\n",
       "      <td>NaN</td>\n",
       "      <td>NaN</td>\n",
       "      <td>NaN</td>\n",
       "      <td>NaN</td>\n",
       "    </tr>\n",
       "    <tr>\n",
       "      <th>10</th>\n",
       "      <td>NaN</td>\n",
       "      <td>Execution iOS</td>\n",
       "      <td>Passed iOS</td>\n",
       "      <td>Failed iOS</td>\n",
       "      <td>N/A iOS</td>\n",
       "      <td>In Progress iOS</td>\n",
       "      <td>Pass with Noted iOS</td>\n",
       "    </tr>\n",
       "    <tr>\n",
       "      <th>11</th>\n",
       "      <td>Impacted Fitur - PO (1.03 PTR)</td>\n",
       "      <td>1</td>\n",
       "      <td>0.941176</td>\n",
       "      <td>0.058824</td>\n",
       "      <td>0</td>\n",
       "      <td>0</td>\n",
       "      <td>0</td>\n",
       "    </tr>\n",
       "    <tr>\n",
       "      <th>12</th>\n",
       "      <td>Fitur Baru - PO (1.0.5 PTR)</td>\n",
       "      <td>1</td>\n",
       "      <td>0.904762</td>\n",
       "      <td>0.047619</td>\n",
       "      <td>0</td>\n",
       "      <td>0.047619</td>\n",
       "      <td>0</td>\n",
       "    </tr>\n",
       "    <tr>\n",
       "      <th>13</th>\n",
       "      <td>Existing Features - PO (1.0.5 PTR)</td>\n",
       "      <td>1</td>\n",
       "      <td>0.919643</td>\n",
       "      <td>0.008929</td>\n",
       "      <td>0.008929</td>\n",
       "      <td>0.026786</td>\n",
       "      <td>0.026786</td>\n",
       "    </tr>\n",
       "    <tr>\n",
       "      <th>14</th>\n",
       "      <td>Hotfix - PO (1.0.5 PTR)</td>\n",
       "      <td>1</td>\n",
       "      <td>0.9</td>\n",
       "      <td>0.066667</td>\n",
       "      <td>0</td>\n",
       "      <td>0</td>\n",
       "      <td>0.033333</td>\n",
       "    </tr>\n",
       "    <tr>\n",
       "      <th>15</th>\n",
       "      <td>Testing PTR - Tester (1.0.5 PTR)</td>\n",
       "      <td>1</td>\n",
       "      <td>0.921875</td>\n",
       "      <td>0.03125</td>\n",
       "      <td>0.015625</td>\n",
       "      <td>0</td>\n",
       "      <td>0.03125</td>\n",
       "    </tr>\n",
       "    <tr>\n",
       "      <th>16</th>\n",
       "      <td>Testing PTR Backoffice - Tester (1.0.5 PTR)</td>\n",
       "      <td>1</td>\n",
       "      <td>0.967742</td>\n",
       "      <td>0</td>\n",
       "      <td>0</td>\n",
       "      <td>0</td>\n",
       "      <td>0.032258</td>\n",
       "    </tr>\n",
       "    <tr>\n",
       "      <th>17</th>\n",
       "      <td>Tiket Ready PTR - Tester (1.0.5 PTR)</td>\n",
       "      <td>1</td>\n",
       "      <td>0.75</td>\n",
       "      <td>0</td>\n",
       "      <td>0</td>\n",
       "      <td>0</td>\n",
       "      <td>0.25</td>\n",
       "    </tr>\n",
       "    <tr>\n",
       "      <th>18</th>\n",
       "      <td>NaN</td>\n",
       "      <td>NaN</td>\n",
       "      <td>NaN</td>\n",
       "      <td>NaN</td>\n",
       "      <td>NaN</td>\n",
       "      <td>NaN</td>\n",
       "      <td>NaN</td>\n",
       "    </tr>\n",
       "    <tr>\n",
       "      <th>19</th>\n",
       "      <td>NaN</td>\n",
       "      <td>Execution Backoffice</td>\n",
       "      <td>Passed Backoffice</td>\n",
       "      <td>Failed Backoffice</td>\n",
       "      <td>N/A Backoffice</td>\n",
       "      <td>In Progress Backoffice</td>\n",
       "      <td>Pass with Noted Backoffice</td>\n",
       "    </tr>\n",
       "    <tr>\n",
       "      <th>20</th>\n",
       "      <td>Hotfix - PO (1.0.5 PTR)</td>\n",
       "      <td>1</td>\n",
       "      <td>1</td>\n",
       "      <td>0</td>\n",
       "      <td>0</td>\n",
       "      <td>0</td>\n",
       "      <td>0</td>\n",
       "    </tr>\n",
       "    <tr>\n",
       "      <th>21</th>\n",
       "      <td>Testing PTR Backoffice - Tester (1.0.5 PTR)</td>\n",
       "      <td>1</td>\n",
       "      <td>0.904762</td>\n",
       "      <td>0.035714</td>\n",
       "      <td>0</td>\n",
       "      <td>0.035714</td>\n",
       "      <td>0.02381</td>\n",
       "    </tr>\n",
       "  </tbody>\n",
       "</table>\n",
       "</div>"
      ],
      "text/plain": [
       "                                              0                     1  \\\n",
       "0                                           NaN     Execution Android   \n",
       "1                Impacted Fitur - PO (1.03 PTR)                     1   \n",
       "2                   Fitur Baru - PO (1.0.5 PTR)                     1   \n",
       "3            Existing Features - PO (1.0.5 PTR)                     1   \n",
       "4                       Hotfix - PO (1.0.5 PTR)                     1   \n",
       "5              Testing PTR - Tester (1.0.5 PTR)                     1   \n",
       "6   Testing PTR Backoffice - Tester (1.0.5 PTR)                     1   \n",
       "7          Tiket Ready PTR - Tester (1.0.5 PTR)                     1   \n",
       "8                                           NaN                   NaN   \n",
       "9                                           NaN                   NaN   \n",
       "10                                          NaN         Execution iOS   \n",
       "11               Impacted Fitur - PO (1.03 PTR)                     1   \n",
       "12                  Fitur Baru - PO (1.0.5 PTR)                     1   \n",
       "13           Existing Features - PO (1.0.5 PTR)                     1   \n",
       "14                      Hotfix - PO (1.0.5 PTR)                     1   \n",
       "15             Testing PTR - Tester (1.0.5 PTR)                     1   \n",
       "16  Testing PTR Backoffice - Tester (1.0.5 PTR)                     1   \n",
       "17         Tiket Ready PTR - Tester (1.0.5 PTR)                     1   \n",
       "18                                          NaN                   NaN   \n",
       "19                                          NaN  Execution Backoffice   \n",
       "20                      Hotfix - PO (1.0.5 PTR)                     1   \n",
       "21  Testing PTR Backoffice - Tester (1.0.5 PTR)                     1   \n",
       "\n",
       "                    2                  3               4  \\\n",
       "0      Passed Android     Failed Android     N/A Android   \n",
       "1            0.941176           0.058824               0   \n",
       "2            0.904762           0.047619               0   \n",
       "3            0.928571           0.026786        0.008929   \n",
       "4            0.928571                  0               0   \n",
       "5            0.921875           0.015625         0.03125   \n",
       "6            0.903226           0.064516               0   \n",
       "7            0.555556           0.111111               0   \n",
       "8                 NaN                NaN             NaN   \n",
       "9                 NaN                NaN             NaN   \n",
       "10         Passed iOS         Failed iOS         N/A iOS   \n",
       "11           0.941176           0.058824               0   \n",
       "12           0.904762           0.047619               0   \n",
       "13           0.919643           0.008929        0.008929   \n",
       "14                0.9           0.066667               0   \n",
       "15           0.921875            0.03125        0.015625   \n",
       "16           0.967742                  0               0   \n",
       "17               0.75                  0               0   \n",
       "18                NaN                NaN             NaN   \n",
       "19  Passed Backoffice  Failed Backoffice  N/A Backoffice   \n",
       "20                  1                  0               0   \n",
       "21           0.904762           0.035714               0   \n",
       "\n",
       "                         5                           6  \n",
       "0      In Progress Android     Pass with Noted Android  \n",
       "1                        0                           0  \n",
       "2                 0.047619                           0  \n",
       "3                 0.026786                    0.017857  \n",
       "4                        0                    0.071429  \n",
       "5                 0.015625                    0.015625  \n",
       "6                        0                    0.032258  \n",
       "7                 0.222222                    0.111111  \n",
       "8                      NaN                         NaN  \n",
       "9                      NaN                         NaN  \n",
       "10         In Progress iOS         Pass with Noted iOS  \n",
       "11                       0                           0  \n",
       "12                0.047619                           0  \n",
       "13                0.026786                    0.026786  \n",
       "14                       0                    0.033333  \n",
       "15                       0                     0.03125  \n",
       "16                       0                    0.032258  \n",
       "17                       0                        0.25  \n",
       "18                     NaN                         NaN  \n",
       "19  In Progress Backoffice  Pass with Noted Backoffice  \n",
       "20                       0                           0  \n",
       "21                0.035714                     0.02381  "
      ]
     },
     "execution_count": 109,
     "metadata": {},
     "output_type": "execute_result"
    }
   ],
   "source": [
    "df_heat = pd.read_excel(file_data, '-', header=None)\n",
    "df_heat"
   ]
  },
  {
   "cell_type": "code",
   "execution_count": 110,
   "metadata": {},
   "outputs": [],
   "source": [
    "df1 = df_heat.loc[0:7]\n",
    "df2 = df_heat.loc[10:17]\n",
    "df3 = df_heat.loc[19:21]"
   ]
  },
  {
   "cell_type": "code",
   "execution_count": 111,
   "metadata": {},
   "outputs": [
    {
     "name": "stderr",
     "output_type": "stream",
     "text": [
      "C:\\Users\\nahar\\AppData\\Local\\Temp\\ipykernel_6632\\1922139577.py:5: SettingWithCopyWarning:\n",
      "\n",
      "\n",
      "A value is trying to be set on a copy of a slice from a DataFrame\n",
      "\n",
      "See the caveats in the documentation: https://pandas.pydata.org/pandas-docs/stable/user_guide/indexing.html#returning-a-view-versus-a-copy\n",
      "\n",
      "C:\\Users\\nahar\\AppData\\Local\\Temp\\ipykernel_6632\\1922139577.py:6: SettingWithCopyWarning:\n",
      "\n",
      "\n",
      "A value is trying to be set on a copy of a slice from a DataFrame\n",
      "\n",
      "See the caveats in the documentation: https://pandas.pydata.org/pandas-docs/stable/user_guide/indexing.html#returning-a-view-versus-a-copy\n",
      "\n",
      "C:\\Users\\nahar\\AppData\\Local\\Temp\\ipykernel_6632\\1922139577.py:8: SettingWithCopyWarning:\n",
      "\n",
      "\n",
      "A value is trying to be set on a copy of a slice from a DataFrame\n",
      "\n",
      "See the caveats in the documentation: https://pandas.pydata.org/pandas-docs/stable/user_guide/indexing.html#returning-a-view-versus-a-copy\n",
      "\n",
      "C:\\Users\\nahar\\AppData\\Local\\Temp\\ipykernel_6632\\1922139577.py:9: SettingWithCopyWarning:\n",
      "\n",
      "\n",
      "A value is trying to be set on a copy of a slice from a DataFrame\n",
      "\n",
      "See the caveats in the documentation: https://pandas.pydata.org/pandas-docs/stable/user_guide/indexing.html#returning-a-view-versus-a-copy\n",
      "\n",
      "C:\\Users\\nahar\\AppData\\Local\\Temp\\ipykernel_6632\\1922139577.py:11: SettingWithCopyWarning:\n",
      "\n",
      "\n",
      "A value is trying to be set on a copy of a slice from a DataFrame\n",
      "\n",
      "See the caveats in the documentation: https://pandas.pydata.org/pandas-docs/stable/user_guide/indexing.html#returning-a-view-versus-a-copy\n",
      "\n",
      "C:\\Users\\nahar\\AppData\\Local\\Temp\\ipykernel_6632\\1922139577.py:12: SettingWithCopyWarning:\n",
      "\n",
      "\n",
      "A value is trying to be set on a copy of a slice from a DataFrame\n",
      "\n",
      "See the caveats in the documentation: https://pandas.pydata.org/pandas-docs/stable/user_guide/indexing.html#returning-a-view-versus-a-copy\n",
      "\n"
     ]
    }
   ],
   "source": [
    "df1.columns = df1.loc[0]\n",
    "df2.columns = df2.loc[10]\n",
    "df3.columns = df3.loc[19]\n",
    "\n",
    "df1.drop(df1.index[0], inplace=True)\n",
    "df1.rename(columns={df1.columns[0]: 'Sheet name'}, inplace=True)\n",
    "\n",
    "df2.drop(df2.index[0], inplace=True)\n",
    "df2.rename(columns={df2.columns[0]: 'Sheet name'}, inplace=True)\n",
    "\n",
    "df3.drop(df3.index[0], inplace=True)\n",
    "df3.rename(columns={df3.columns[0]: 'Sheet name'}, inplace=True)"
   ]
  },
  {
   "cell_type": "code",
   "execution_count": 112,
   "metadata": {},
   "outputs": [
    {
     "name": "stderr",
     "output_type": "stream",
     "text": [
      "C:\\Users\\nahar\\AppData\\Local\\Temp\\ipykernel_6632\\2497172325.py:1: SettingWithCopyWarning:\n",
      "\n",
      "\n",
      "A value is trying to be set on a copy of a slice from a DataFrame\n",
      "\n",
      "See the caveats in the documentation: https://pandas.pydata.org/pandas-docs/stable/user_guide/indexing.html#returning-a-view-versus-a-copy\n",
      "\n",
      "C:\\Users\\nahar\\AppData\\Local\\Temp\\ipykernel_6632\\2497172325.py:2: SettingWithCopyWarning:\n",
      "\n",
      "\n",
      "A value is trying to be set on a copy of a slice from a DataFrame\n",
      "\n",
      "See the caveats in the documentation: https://pandas.pydata.org/pandas-docs/stable/user_guide/indexing.html#returning-a-view-versus-a-copy\n",
      "\n",
      "C:\\Users\\nahar\\AppData\\Local\\Temp\\ipykernel_6632\\2497172325.py:3: SettingWithCopyWarning:\n",
      "\n",
      "\n",
      "A value is trying to be set on a copy of a slice from a DataFrame\n",
      "\n",
      "See the caveats in the documentation: https://pandas.pydata.org/pandas-docs/stable/user_guide/indexing.html#returning-a-view-versus-a-copy\n",
      "\n"
     ]
    }
   ],
   "source": [
    "df1.iloc[:, 1:] *= 100\n",
    "df2.iloc[:, 1:] *= 100\n",
    "df3.iloc[:, 1:] *= 100"
   ]
  },
  {
   "cell_type": "code",
   "execution_count": 97,
   "metadata": {},
   "outputs": [
    {
     "data": {
      "text/html": [
       "<div>\n",
       "<style scoped>\n",
       "    .dataframe tbody tr th:only-of-type {\n",
       "        vertical-align: middle;\n",
       "    }\n",
       "\n",
       "    .dataframe tbody tr th {\n",
       "        vertical-align: top;\n",
       "    }\n",
       "\n",
       "    .dataframe thead th {\n",
       "        text-align: right;\n",
       "    }\n",
       "</style>\n",
       "<table border=\"1\" class=\"dataframe\">\n",
       "  <thead>\n",
       "    <tr style=\"text-align: right;\">\n",
       "      <th></th>\n",
       "      <th>Sheet name</th>\n",
       "      <th>Execution Android</th>\n",
       "      <th>Passed Android</th>\n",
       "      <th>Failed Android</th>\n",
       "      <th>N/A Android</th>\n",
       "      <th>In Progress Android</th>\n",
       "      <th>Pass with Noted Android</th>\n",
       "    </tr>\n",
       "  </thead>\n",
       "  <tbody>\n",
       "    <tr>\n",
       "      <th>1</th>\n",
       "      <td>Impacted Fitur - PO (1.03 PTR)</td>\n",
       "      <td>100</td>\n",
       "      <td>94.117647</td>\n",
       "      <td>5.882353</td>\n",
       "      <td>0</td>\n",
       "      <td>0</td>\n",
       "      <td>0</td>\n",
       "    </tr>\n",
       "    <tr>\n",
       "      <th>2</th>\n",
       "      <td>Fitur Baru - PO (1.0.5 PTR)</td>\n",
       "      <td>100</td>\n",
       "      <td>90.47619</td>\n",
       "      <td>4.761905</td>\n",
       "      <td>0</td>\n",
       "      <td>4.761905</td>\n",
       "      <td>0</td>\n",
       "    </tr>\n",
       "    <tr>\n",
       "      <th>3</th>\n",
       "      <td>Existing Features - PO (1.0.5 PTR)</td>\n",
       "      <td>100</td>\n",
       "      <td>92.857143</td>\n",
       "      <td>2.678571</td>\n",
       "      <td>0.892857</td>\n",
       "      <td>2.678571</td>\n",
       "      <td>1.785714</td>\n",
       "    </tr>\n",
       "    <tr>\n",
       "      <th>4</th>\n",
       "      <td>Hotfix - PO (1.0.5 PTR)</td>\n",
       "      <td>100</td>\n",
       "      <td>92.857143</td>\n",
       "      <td>0</td>\n",
       "      <td>0</td>\n",
       "      <td>0</td>\n",
       "      <td>7.142857</td>\n",
       "    </tr>\n",
       "    <tr>\n",
       "      <th>5</th>\n",
       "      <td>Testing PTR - Tester (1.0.5 PTR)</td>\n",
       "      <td>100</td>\n",
       "      <td>92.1875</td>\n",
       "      <td>1.5625</td>\n",
       "      <td>3.125</td>\n",
       "      <td>1.5625</td>\n",
       "      <td>1.5625</td>\n",
       "    </tr>\n",
       "    <tr>\n",
       "      <th>6</th>\n",
       "      <td>Testing PTR Backoffice - Tester (1.0.5 PTR)</td>\n",
       "      <td>100</td>\n",
       "      <td>90.322581</td>\n",
       "      <td>6.451613</td>\n",
       "      <td>0</td>\n",
       "      <td>0</td>\n",
       "      <td>3.225806</td>\n",
       "    </tr>\n",
       "    <tr>\n",
       "      <th>7</th>\n",
       "      <td>Tiket Ready PTR - Tester (1.0.5 PTR)</td>\n",
       "      <td>100</td>\n",
       "      <td>55.555556</td>\n",
       "      <td>11.111111</td>\n",
       "      <td>0</td>\n",
       "      <td>22.222222</td>\n",
       "      <td>11.111111</td>\n",
       "    </tr>\n",
       "  </tbody>\n",
       "</table>\n",
       "</div>"
      ],
      "text/plain": [
       "0                                   Sheet name Execution Android  \\\n",
       "1               Impacted Fitur - PO (1.03 PTR)               100   \n",
       "2                  Fitur Baru - PO (1.0.5 PTR)               100   \n",
       "3           Existing Features - PO (1.0.5 PTR)               100   \n",
       "4                      Hotfix - PO (1.0.5 PTR)               100   \n",
       "5             Testing PTR - Tester (1.0.5 PTR)               100   \n",
       "6  Testing PTR Backoffice - Tester (1.0.5 PTR)               100   \n",
       "7         Tiket Ready PTR - Tester (1.0.5 PTR)               100   \n",
       "\n",
       "0 Passed Android Failed Android N/A Android In Progress Android  \\\n",
       "1      94.117647       5.882353           0                   0   \n",
       "2       90.47619       4.761905           0            4.761905   \n",
       "3      92.857143       2.678571    0.892857            2.678571   \n",
       "4      92.857143              0           0                   0   \n",
       "5        92.1875         1.5625       3.125              1.5625   \n",
       "6      90.322581       6.451613           0                   0   \n",
       "7      55.555556      11.111111           0           22.222222   \n",
       "\n",
       "0 Pass with Noted Android  \n",
       "1                       0  \n",
       "2                       0  \n",
       "3                1.785714  \n",
       "4                7.142857  \n",
       "5                  1.5625  \n",
       "6                3.225806  \n",
       "7               11.111111  "
      ]
     },
     "execution_count": 97,
     "metadata": {},
     "output_type": "execute_result"
    }
   ],
   "source": [
    "df1"
   ]
  },
  {
   "cell_type": "code",
   "execution_count": null,
   "metadata": {},
   "outputs": [
    {
     "data": {
      "application/vnd.plotly.v1+json": {
       "config": {
        "plotlyServerURL": "https://plot.ly"
       },
       "data": [
        {
         "colorbar": {
          "len": 0.3,
          "thickness": 15,
          "title": {
           "text": "Metrics"
          },
          "x": 1.02
         },
         "colorscale": [
          [
           0,
           "#f2f2f2"
          ],
          [
           0.25,
           "#add8e6"
          ],
          [
           0.5,
           "#87ceeb"
          ],
          [
           0.75,
           "#4682b4"
          ],
          [
           1,
           "#000080"
          ]
         ],
         "showscale": true,
         "text": [
          [
           100,
           2.678571429,
           2.678571429,
           0.8928571429000001,
           1.7857142860000002,
           92.85714286
          ],
          [
           100,
           4.761904762,
           4.761904762,
           0,
           0,
           90.47619048
          ],
          [
           100,
           0,
           0,
           0,
           7.1428571430000005,
           92.85714286
          ],
          [
           100,
           5.882352941,
           0,
           0,
           0,
           94.11764706
          ],
          [
           100,
           1.5625,
           1.5625,
           3.125,
           1.5625,
           92.1875
          ],
          [
           100,
           6.451612902999999,
           0,
           0,
           3.2258064519999996,
           90.32258064999999
          ],
          [
           100,
           11.111111110000001,
           22.222222220000003,
           0,
           11.111111110000001,
           55.55555556
          ]
         ],
         "textfont": {
          "color": "white"
         },
         "texttemplate": "%{text:.2f}",
         "type": "heatmap",
         "x": [
          "Execution Android",
          "Failed Android",
          "In Progress Android",
          "N/A Android",
          "Pass with Noted Android",
          "Passed Android"
         ],
         "xaxis": "x",
         "y": [
          "Existing Features - PO (1.0.5 PTR)",
          "Fitur Baru - PO (1.0.5 PTR)",
          "Hotfix - PO (1.0.5 PTR)",
          "Impacted Fitur - PO (1.03 PTR)",
          "Testing PTR - Tester (1.0.5 PTR)",
          "Testing PTR Backoffice - Tester (1.0.5 PTR)",
          "Tiket Ready PTR - Tester (1.0.5 PTR)"
         ],
         "yaxis": "y",
         "z": [
          [
           100,
           2.678571429,
           2.678571429,
           0.8928571429000001,
           1.7857142860000002,
           92.85714286
          ],
          [
           100,
           4.761904762,
           4.761904762,
           0,
           0,
           90.47619048
          ],
          [
           100,
           0,
           0,
           0,
           7.1428571430000005,
           92.85714286
          ],
          [
           100,
           5.882352941,
           0,
           0,
           0,
           94.11764706
          ],
          [
           100,
           1.5625,
           1.5625,
           3.125,
           1.5625,
           92.1875
          ],
          [
           100,
           6.451612902999999,
           0,
           0,
           3.2258064519999996,
           90.32258064999999
          ],
          [
           100,
           11.111111110000001,
           22.222222220000003,
           0,
           11.111111110000001,
           55.55555556
          ]
         ]
        },
        {
         "colorscale": [
          [
           0,
           "#f2f2f2"
          ],
          [
           0.25,
           "#add8e6"
          ],
          [
           0.5,
           "#87ceeb"
          ],
          [
           0.75,
           "#4682b4"
          ],
          [
           1,
           "#000080"
          ]
         ],
         "showscale": false,
         "text": [
          [
           100,
           0.8928571429000001,
           2.678571429,
           0.8928571429000001,
           2.678571429,
           91.96428571
          ],
          [
           100,
           4.761904762,
           4.761904762,
           0,
           0,
           90.47619048
          ],
          [
           100,
           6.666666667,
           0,
           0,
           3.333333333,
           90
          ],
          [
           100,
           5.882352941,
           0,
           0,
           0,
           94.11764706
          ],
          [
           100,
           3.125,
           0,
           1.5625,
           3.125,
           92.1875
          ],
          [
           100,
           0,
           0,
           0,
           3.2258064519999996,
           96.77419354999999
          ],
          [
           100,
           0,
           0,
           0,
           25,
           75
          ]
         ],
         "textfont": {
          "color": "white"
         },
         "texttemplate": "%{text:.2f}",
         "type": "heatmap",
         "x": [
          "Execution iOS",
          "Failed iOS",
          "In Progress iOS",
          "N/A iOS",
          "Pass with Noted iOS",
          "Passed iOS"
         ],
         "xaxis": "x2",
         "y": [
          "Existing Features - PO (1.0.5 PTR)",
          "Fitur Baru - PO (1.0.5 PTR)",
          "Hotfix - PO (1.0.5 PTR)",
          "Impacted Fitur - PO (1.03 PTR)",
          "Testing PTR - Tester (1.0.5 PTR)",
          "Testing PTR Backoffice - Tester (1.0.5 PTR)",
          "Tiket Ready PTR - Tester (1.0.5 PTR)"
         ],
         "yaxis": "y2",
         "z": [
          [
           100,
           0.8928571429000001,
           2.678571429,
           0.8928571429000001,
           2.678571429,
           91.96428571
          ],
          [
           100,
           4.761904762,
           4.761904762,
           0,
           0,
           90.47619048
          ],
          [
           100,
           6.666666667,
           0,
           0,
           3.333333333,
           90
          ],
          [
           100,
           5.882352941,
           0,
           0,
           0,
           94.11764706
          ],
          [
           100,
           3.125,
           0,
           1.5625,
           3.125,
           92.1875
          ],
          [
           100,
           0,
           0,
           0,
           3.2258064519999996,
           96.77419354999999
          ],
          [
           100,
           0,
           0,
           0,
           25,
           75
          ]
         ]
        },
        {
         "colorscale": [
          [
           0,
           "#f2f2f2"
          ],
          [
           0.25,
           "#add8e6"
          ],
          [
           0.5,
           "#87ceeb"
          ],
          [
           0.75,
           "#4682b4"
          ],
          [
           1,
           "#000080"
          ]
         ],
         "showscale": false,
         "text": [
          [
           100,
           0,
           0,
           0,
           0,
           100
          ],
          [
           100,
           3.571428571,
           3.571428571,
           0,
           2.380952381,
           90.47619048
          ]
         ],
         "textfont": {
          "color": "white"
         },
         "texttemplate": "%{text:.2f}",
         "type": "heatmap",
         "x": [
          "Execution Backoffice",
          "Failed Backoffice",
          "In Progress Backoffice",
          "N/A Backoffice",
          "Pass with Noted Backoffice",
          "Passed Backoffice"
         ],
         "xaxis": "x3",
         "y": [
          "Hotfix - PO (1.0.5 PTR)",
          "Testing PTR Backoffice - Tester (1.0.5 PTR)"
         ],
         "yaxis": "y3",
         "z": [
          [
           100,
           0,
           0,
           0,
           0,
           100
          ],
          [
           100,
           3.571428571,
           3.571428571,
           0,
           2.380952381,
           90.47619048
          ]
         ]
        }
       ],
       "layout": {
        "annotations": [
         {
          "font": {
           "size": 16
          },
          "showarrow": false,
          "text": "Android Metrics",
          "x": 0.5,
          "xanchor": "center",
          "xref": "paper",
          "y": 0.9999999999999999,
          "yanchor": "bottom",
          "yref": "paper"
         },
         {
          "font": {
           "size": 16
          },
          "showarrow": false,
          "text": "iOS Metrics",
          "x": 0.5,
          "xanchor": "center",
          "xref": "paper",
          "y": 0.6166666666666666,
          "yanchor": "bottom",
          "yref": "paper"
         },
         {
          "font": {
           "size": 16
          },
          "showarrow": false,
          "text": "Backoffice Metrics",
          "x": 0.5,
          "xanchor": "center",
          "xref": "paper",
          "y": 0.2333333333333333,
          "yanchor": "bottom",
          "yref": "paper"
         }
        ],
        "font": {
         "color": "white",
         "size": 12
        },
        "height": 900,
        "paper_bgcolor": "#111111",
        "plot_bgcolor": "#111111",
        "template": {
         "data": {
          "bar": [
           {
            "error_x": {
             "color": "#f2f5fa"
            },
            "error_y": {
             "color": "#f2f5fa"
            },
            "marker": {
             "line": {
              "color": "rgb(17,17,17)",
              "width": 0.5
             },
             "pattern": {
              "fillmode": "overlay",
              "size": 10,
              "solidity": 0.2
             }
            },
            "type": "bar"
           }
          ],
          "barpolar": [
           {
            "marker": {
             "line": {
              "color": "rgb(17,17,17)",
              "width": 0.5
             },
             "pattern": {
              "fillmode": "overlay",
              "size": 10,
              "solidity": 0.2
             }
            },
            "type": "barpolar"
           }
          ],
          "carpet": [
           {
            "aaxis": {
             "endlinecolor": "#A2B1C6",
             "gridcolor": "#506784",
             "linecolor": "#506784",
             "minorgridcolor": "#506784",
             "startlinecolor": "#A2B1C6"
            },
            "baxis": {
             "endlinecolor": "#A2B1C6",
             "gridcolor": "#506784",
             "linecolor": "#506784",
             "minorgridcolor": "#506784",
             "startlinecolor": "#A2B1C6"
            },
            "type": "carpet"
           }
          ],
          "choropleth": [
           {
            "colorbar": {
             "outlinewidth": 0,
             "ticks": ""
            },
            "type": "choropleth"
           }
          ],
          "contour": [
           {
            "colorbar": {
             "outlinewidth": 0,
             "ticks": ""
            },
            "colorscale": [
             [
              0,
              "#0d0887"
             ],
             [
              0.1111111111111111,
              "#46039f"
             ],
             [
              0.2222222222222222,
              "#7201a8"
             ],
             [
              0.3333333333333333,
              "#9c179e"
             ],
             [
              0.4444444444444444,
              "#bd3786"
             ],
             [
              0.5555555555555556,
              "#d8576b"
             ],
             [
              0.6666666666666666,
              "#ed7953"
             ],
             [
              0.7777777777777778,
              "#fb9f3a"
             ],
             [
              0.8888888888888888,
              "#fdca26"
             ],
             [
              1,
              "#f0f921"
             ]
            ],
            "type": "contour"
           }
          ],
          "contourcarpet": [
           {
            "colorbar": {
             "outlinewidth": 0,
             "ticks": ""
            },
            "type": "contourcarpet"
           }
          ],
          "heatmap": [
           {
            "colorbar": {
             "outlinewidth": 0,
             "ticks": ""
            },
            "colorscale": [
             [
              0,
              "#0d0887"
             ],
             [
              0.1111111111111111,
              "#46039f"
             ],
             [
              0.2222222222222222,
              "#7201a8"
             ],
             [
              0.3333333333333333,
              "#9c179e"
             ],
             [
              0.4444444444444444,
              "#bd3786"
             ],
             [
              0.5555555555555556,
              "#d8576b"
             ],
             [
              0.6666666666666666,
              "#ed7953"
             ],
             [
              0.7777777777777778,
              "#fb9f3a"
             ],
             [
              0.8888888888888888,
              "#fdca26"
             ],
             [
              1,
              "#f0f921"
             ]
            ],
            "type": "heatmap"
           }
          ],
          "heatmapgl": [
           {
            "colorbar": {
             "outlinewidth": 0,
             "ticks": ""
            },
            "colorscale": [
             [
              0,
              "#0d0887"
             ],
             [
              0.1111111111111111,
              "#46039f"
             ],
             [
              0.2222222222222222,
              "#7201a8"
             ],
             [
              0.3333333333333333,
              "#9c179e"
             ],
             [
              0.4444444444444444,
              "#bd3786"
             ],
             [
              0.5555555555555556,
              "#d8576b"
             ],
             [
              0.6666666666666666,
              "#ed7953"
             ],
             [
              0.7777777777777778,
              "#fb9f3a"
             ],
             [
              0.8888888888888888,
              "#fdca26"
             ],
             [
              1,
              "#f0f921"
             ]
            ],
            "type": "heatmapgl"
           }
          ],
          "histogram": [
           {
            "marker": {
             "pattern": {
              "fillmode": "overlay",
              "size": 10,
              "solidity": 0.2
             }
            },
            "type": "histogram"
           }
          ],
          "histogram2d": [
           {
            "colorbar": {
             "outlinewidth": 0,
             "ticks": ""
            },
            "colorscale": [
             [
              0,
              "#0d0887"
             ],
             [
              0.1111111111111111,
              "#46039f"
             ],
             [
              0.2222222222222222,
              "#7201a8"
             ],
             [
              0.3333333333333333,
              "#9c179e"
             ],
             [
              0.4444444444444444,
              "#bd3786"
             ],
             [
              0.5555555555555556,
              "#d8576b"
             ],
             [
              0.6666666666666666,
              "#ed7953"
             ],
             [
              0.7777777777777778,
              "#fb9f3a"
             ],
             [
              0.8888888888888888,
              "#fdca26"
             ],
             [
              1,
              "#f0f921"
             ]
            ],
            "type": "histogram2d"
           }
          ],
          "histogram2dcontour": [
           {
            "colorbar": {
             "outlinewidth": 0,
             "ticks": ""
            },
            "colorscale": [
             [
              0,
              "#0d0887"
             ],
             [
              0.1111111111111111,
              "#46039f"
             ],
             [
              0.2222222222222222,
              "#7201a8"
             ],
             [
              0.3333333333333333,
              "#9c179e"
             ],
             [
              0.4444444444444444,
              "#bd3786"
             ],
             [
              0.5555555555555556,
              "#d8576b"
             ],
             [
              0.6666666666666666,
              "#ed7953"
             ],
             [
              0.7777777777777778,
              "#fb9f3a"
             ],
             [
              0.8888888888888888,
              "#fdca26"
             ],
             [
              1,
              "#f0f921"
             ]
            ],
            "type": "histogram2dcontour"
           }
          ],
          "mesh3d": [
           {
            "colorbar": {
             "outlinewidth": 0,
             "ticks": ""
            },
            "type": "mesh3d"
           }
          ],
          "parcoords": [
           {
            "line": {
             "colorbar": {
              "outlinewidth": 0,
              "ticks": ""
             }
            },
            "type": "parcoords"
           }
          ],
          "pie": [
           {
            "automargin": true,
            "type": "pie"
           }
          ],
          "scatter": [
           {
            "marker": {
             "line": {
              "color": "#283442"
             }
            },
            "type": "scatter"
           }
          ],
          "scatter3d": [
           {
            "line": {
             "colorbar": {
              "outlinewidth": 0,
              "ticks": ""
             }
            },
            "marker": {
             "colorbar": {
              "outlinewidth": 0,
              "ticks": ""
             }
            },
            "type": "scatter3d"
           }
          ],
          "scattercarpet": [
           {
            "marker": {
             "colorbar": {
              "outlinewidth": 0,
              "ticks": ""
             }
            },
            "type": "scattercarpet"
           }
          ],
          "scattergeo": [
           {
            "marker": {
             "colorbar": {
              "outlinewidth": 0,
              "ticks": ""
             }
            },
            "type": "scattergeo"
           }
          ],
          "scattergl": [
           {
            "marker": {
             "line": {
              "color": "#283442"
             }
            },
            "type": "scattergl"
           }
          ],
          "scattermapbox": [
           {
            "marker": {
             "colorbar": {
              "outlinewidth": 0,
              "ticks": ""
             }
            },
            "type": "scattermapbox"
           }
          ],
          "scatterpolar": [
           {
            "marker": {
             "colorbar": {
              "outlinewidth": 0,
              "ticks": ""
             }
            },
            "type": "scatterpolar"
           }
          ],
          "scatterpolargl": [
           {
            "marker": {
             "colorbar": {
              "outlinewidth": 0,
              "ticks": ""
             }
            },
            "type": "scatterpolargl"
           }
          ],
          "scatterternary": [
           {
            "marker": {
             "colorbar": {
              "outlinewidth": 0,
              "ticks": ""
             }
            },
            "type": "scatterternary"
           }
          ],
          "surface": [
           {
            "colorbar": {
             "outlinewidth": 0,
             "ticks": ""
            },
            "colorscale": [
             [
              0,
              "#0d0887"
             ],
             [
              0.1111111111111111,
              "#46039f"
             ],
             [
              0.2222222222222222,
              "#7201a8"
             ],
             [
              0.3333333333333333,
              "#9c179e"
             ],
             [
              0.4444444444444444,
              "#bd3786"
             ],
             [
              0.5555555555555556,
              "#d8576b"
             ],
             [
              0.6666666666666666,
              "#ed7953"
             ],
             [
              0.7777777777777778,
              "#fb9f3a"
             ],
             [
              0.8888888888888888,
              "#fdca26"
             ],
             [
              1,
              "#f0f921"
             ]
            ],
            "type": "surface"
           }
          ],
          "table": [
           {
            "cells": {
             "fill": {
              "color": "#506784"
             },
             "line": {
              "color": "rgb(17,17,17)"
             }
            },
            "header": {
             "fill": {
              "color": "#2a3f5f"
             },
             "line": {
              "color": "rgb(17,17,17)"
             }
            },
            "type": "table"
           }
          ]
         },
         "layout": {
          "annotationdefaults": {
           "arrowcolor": "#f2f5fa",
           "arrowhead": 0,
           "arrowwidth": 1
          },
          "autotypenumbers": "strict",
          "coloraxis": {
           "colorbar": {
            "outlinewidth": 0,
            "ticks": ""
           }
          },
          "colorscale": {
           "diverging": [
            [
             0,
             "#8e0152"
            ],
            [
             0.1,
             "#c51b7d"
            ],
            [
             0.2,
             "#de77ae"
            ],
            [
             0.3,
             "#f1b6da"
            ],
            [
             0.4,
             "#fde0ef"
            ],
            [
             0.5,
             "#f7f7f7"
            ],
            [
             0.6,
             "#e6f5d0"
            ],
            [
             0.7,
             "#b8e186"
            ],
            [
             0.8,
             "#7fbc41"
            ],
            [
             0.9,
             "#4d9221"
            ],
            [
             1,
             "#276419"
            ]
           ],
           "sequential": [
            [
             0,
             "#0d0887"
            ],
            [
             0.1111111111111111,
             "#46039f"
            ],
            [
             0.2222222222222222,
             "#7201a8"
            ],
            [
             0.3333333333333333,
             "#9c179e"
            ],
            [
             0.4444444444444444,
             "#bd3786"
            ],
            [
             0.5555555555555556,
             "#d8576b"
            ],
            [
             0.6666666666666666,
             "#ed7953"
            ],
            [
             0.7777777777777778,
             "#fb9f3a"
            ],
            [
             0.8888888888888888,
             "#fdca26"
            ],
            [
             1,
             "#f0f921"
            ]
           ],
           "sequentialminus": [
            [
             0,
             "#0d0887"
            ],
            [
             0.1111111111111111,
             "#46039f"
            ],
            [
             0.2222222222222222,
             "#7201a8"
            ],
            [
             0.3333333333333333,
             "#9c179e"
            ],
            [
             0.4444444444444444,
             "#bd3786"
            ],
            [
             0.5555555555555556,
             "#d8576b"
            ],
            [
             0.6666666666666666,
             "#ed7953"
            ],
            [
             0.7777777777777778,
             "#fb9f3a"
            ],
            [
             0.8888888888888888,
             "#fdca26"
            ],
            [
             1,
             "#f0f921"
            ]
           ]
          },
          "colorway": [
           "#636efa",
           "#EF553B",
           "#00cc96",
           "#ab63fa",
           "#FFA15A",
           "#19d3f3",
           "#FF6692",
           "#B6E880",
           "#FF97FF",
           "#FECB52"
          ],
          "font": {
           "color": "#f2f5fa"
          },
          "geo": {
           "bgcolor": "rgb(17,17,17)",
           "lakecolor": "rgb(17,17,17)",
           "landcolor": "rgb(17,17,17)",
           "showlakes": true,
           "showland": true,
           "subunitcolor": "#506784"
          },
          "hoverlabel": {
           "align": "left"
          },
          "hovermode": "closest",
          "mapbox": {
           "style": "dark"
          },
          "paper_bgcolor": "rgb(17,17,17)",
          "plot_bgcolor": "rgb(17,17,17)",
          "polar": {
           "angularaxis": {
            "gridcolor": "#506784",
            "linecolor": "#506784",
            "ticks": ""
           },
           "bgcolor": "rgb(17,17,17)",
           "radialaxis": {
            "gridcolor": "#506784",
            "linecolor": "#506784",
            "ticks": ""
           }
          },
          "scene": {
           "xaxis": {
            "backgroundcolor": "rgb(17,17,17)",
            "gridcolor": "#506784",
            "gridwidth": 2,
            "linecolor": "#506784",
            "showbackground": true,
            "ticks": "",
            "zerolinecolor": "#C8D4E3"
           },
           "yaxis": {
            "backgroundcolor": "rgb(17,17,17)",
            "gridcolor": "#506784",
            "gridwidth": 2,
            "linecolor": "#506784",
            "showbackground": true,
            "ticks": "",
            "zerolinecolor": "#C8D4E3"
           },
           "zaxis": {
            "backgroundcolor": "rgb(17,17,17)",
            "gridcolor": "#506784",
            "gridwidth": 2,
            "linecolor": "#506784",
            "showbackground": true,
            "ticks": "",
            "zerolinecolor": "#C8D4E3"
           }
          },
          "shapedefaults": {
           "line": {
            "color": "#f2f5fa"
           }
          },
          "sliderdefaults": {
           "bgcolor": "#C8D4E3",
           "bordercolor": "rgb(17,17,17)",
           "borderwidth": 1,
           "tickwidth": 0
          },
          "ternary": {
           "aaxis": {
            "gridcolor": "#506784",
            "linecolor": "#506784",
            "ticks": ""
           },
           "baxis": {
            "gridcolor": "#506784",
            "linecolor": "#506784",
            "ticks": ""
           },
           "bgcolor": "rgb(17,17,17)",
           "caxis": {
            "gridcolor": "#506784",
            "linecolor": "#506784",
            "ticks": ""
           }
          },
          "title": {
           "x": 0.05
          },
          "updatemenudefaults": {
           "bgcolor": "#506784",
           "borderwidth": 0
          },
          "xaxis": {
           "automargin": true,
           "gridcolor": "#283442",
           "linecolor": "#506784",
           "ticks": "",
           "title": {
            "standoff": 15
           },
           "zerolinecolor": "#283442",
           "zerolinewidth": 2
          },
          "yaxis": {
           "automargin": true,
           "gridcolor": "#283442",
           "linecolor": "#506784",
           "ticks": "",
           "title": {
            "standoff": 15
           },
           "zerolinecolor": "#283442",
           "zerolinewidth": 2
          }
         }
        },
        "title": {
         "font": {
          "color": "white",
          "size": 18
         },
         "text": "Heatmap Comparison: Android, iOS, and Backoffice Metrics"
        },
        "width": 800,
        "xaxis": {
         "anchor": "y",
         "domain": [
          0,
          1
         ]
        },
        "xaxis2": {
         "anchor": "y2",
         "domain": [
          0,
          1
         ]
        },
        "xaxis3": {
         "anchor": "y3",
         "domain": [
          0,
          1
         ]
        },
        "yaxis": {
         "anchor": "x",
         "domain": [
          0.7666666666666666,
          0.9999999999999999
         ]
        },
        "yaxis2": {
         "anchor": "x2",
         "domain": [
          0.3833333333333333,
          0.6166666666666666
         ]
        },
        "yaxis3": {
         "anchor": "x3",
         "domain": [
          0,
          0.2333333333333333
         ]
        }
       }
      }
     },
     "metadata": {},
     "output_type": "display_data"
    }
   ],
   "source": [
    "import pandas as pd\n",
    "from plotly.subplots import make_subplots\n",
    "import plotly.graph_objects as go\n",
    "\n",
    "\n",
    "df_heat = pd.read_excel(file_data, '-', header=None)\n",
    "\n",
    "df1 = df_heat.loc[0:7]\n",
    "df2 = df_heat.loc[10:17]\n",
    "df3 = df_heat.loc[19:21]\n",
    "\n",
    "df1.columns = df1.loc[0]\n",
    "df2.columns = df2.loc[10]\n",
    "df3.columns = df3.loc[19]\n",
    "\n",
    "df1.drop(df1.index[0], inplace=True)\n",
    "df1.rename(columns={df1.columns[0]: 'Sheet name'}, inplace=True)\n",
    "\n",
    "df2.drop(df2.index[0], inplace=True)\n",
    "df2.rename(columns={df2.columns[0]: 'Sheet name'}, inplace=True)\n",
    "\n",
    "df3.drop(df3.index[0], inplace=True)\n",
    "df3.rename(columns={df3.columns[0]: 'Sheet name'}, inplace=True)\n",
    "\n",
    "df1.iloc[:, 1:] *= 100\n",
    "df2.iloc[:, 1:] *= 100\n",
    "df3.iloc[:, 1:] *= 100\n",
    "\n",
    "# Melt dataframes for heatmap preparation\n",
    "df1_melted = df1.melt(id_vars=\"Sheet name\", var_name=\"Metric\", value_name=\"Value\")\n",
    "df2_melted = df2.melt(id_vars=\"Sheet name\", var_name=\"Metric\", value_name=\"Value\")\n",
    "df3_melted = df3.melt(id_vars=\"Sheet name\", var_name=\"Metric\", value_name=\"Value\")\n",
    "\n",
    "# Pivot the melted dataframes\n",
    "heatmap_data1 = df1_melted.pivot(index=\"Sheet name\", columns=\"Metric\", values=\"Value\")\n",
    "heatmap_data2 = df2_melted.pivot(index=\"Sheet name\", columns=\"Metric\", values=\"Value\")\n",
    "heatmap_data3 = df3_melted.pivot(index=\"Sheet name\", columns=\"Metric\", values=\"Value\")\n",
    "\n",
    "# Create subplots\n",
    "fig = make_subplots(\n",
    "    rows=3, cols=1,\n",
    "    subplot_titles=(\"Android Metrics\", \"iOS Metrics\", \"Backoffice Metrics\"),\n",
    "    vertical_spacing=0.15\n",
    ")\n",
    "\n",
    "# Define a custom colorscale\n",
    "custom_colorscale = [\n",
    "    [0, \"#f2f2f2\"],  # Light gray\n",
    "    [0.25, \"#add8e6\"],  # Light blue\n",
    "    [0.5, \"#87ceeb\"],  # Sky blue\n",
    "    [0.75, \"#4682b4\"],  # Steel blue\n",
    "    [1, \"#000080\"],  # Navy\n",
    "]\n",
    "\n",
    "# Add heatmaps with text annotations to subplots\n",
    "fig.add_trace(\n",
    "    go.Heatmap(\n",
    "        z=heatmap_data1.values,\n",
    "        x=heatmap_data1.columns,\n",
    "        y=heatmap_data1.index,\n",
    "        colorscale=custom_colorscale,\n",
    "        showscale=True if False else True,  # Single color legend\n",
    "        colorbar=dict(title=\"Metrics\", thickness=15, len=0.3, x=1.02),\n",
    "        text=heatmap_data1.values,  # Add text data\n",
    "        texttemplate=\"%{text:.2f}\",  # Format text (2 decimal places)\n",
    "        textfont=dict(color=\"white\"),  # Set text color\n",
    "    ),\n",
    "    row=1, col=1\n",
    ")\n",
    "\n",
    "fig.add_trace(\n",
    "    go.Heatmap(\n",
    "        z=heatmap_data2.values,\n",
    "        x=heatmap_data2.columns,\n",
    "        y=heatmap_data2.index,\n",
    "        colorscale=custom_colorscale,\n",
    "        showscale=False,  # No separate legend for this heatmap\n",
    "        text=heatmap_data2.values,  # Add text data\n",
    "        texttemplate=\"%{text:.2f}\",  # Format text (2 decimal places)\n",
    "        textfont=dict(color=\"white\"),  # Set text color\n",
    "    ),\n",
    "    row=2, col=1\n",
    ")\n",
    "\n",
    "fig.add_trace(\n",
    "    go.Heatmap(\n",
    "        z=heatmap_data3.values,\n",
    "        x=heatmap_data3.columns,\n",
    "        y=heatmap_data3.index,\n",
    "        colorscale=custom_colorscale,\n",
    "        showscale=False,  # No separate legend for this heatmap\n",
    "        text=heatmap_data3.values,  # Add text data\n",
    "        texttemplate=\"%{text:.2f}\",  # Format text (2 decimal places)\n",
    "        textfont=dict(color=\"white\"),  # Set text color\n",
    "    ),\n",
    "    row=3, col=1\n",
    ")\n",
    "\n",
    "# Update layout\n",
    "fig.update_layout(\n",
    "    title_text=\"Heatmap Comparison: Android, iOS, and Backoffice Metrics\",\n",
    "    height=900,\n",
    "    width=800,\n",
    "    template=\"plotly_dark\",  # Apply dark theme\n",
    "    font=dict(size=12, color=\"white\"),\n",
    "    title_font=dict(size=18, color=\"white\"),\n",
    "    plot_bgcolor=\"#111111\",  # Dark background\n",
    "    paper_bgcolor=\"#111111\",  # Dark background\n",
    ")\n",
    "\n",
    "\n",
    "fig.show()\n"
   ]
  },
  {
   "cell_type": "code",
   "execution_count": 108,
   "metadata": {},
   "outputs": [
    {
     "data": {
      "application/vnd.plotly.v1+json": {
       "config": {
        "plotlyServerURL": "https://plot.ly"
       },
       "data": [
        {
         "colorbar": {
          "title": {
           "text": "Android"
          },
          "x": 0.29
         },
         "colorscale": [
          [
           0,
           "#440154"
          ],
          [
           0.1111111111111111,
           "#482878"
          ],
          [
           0.2222222222222222,
           "#3e4989"
          ],
          [
           0.3333333333333333,
           "#31688e"
          ],
          [
           0.4444444444444444,
           "#26828e"
          ],
          [
           0.5555555555555556,
           "#1f9e89"
          ],
          [
           0.6666666666666666,
           "#35b779"
          ],
          [
           0.7777777777777778,
           "#6ece58"
          ],
          [
           0.8888888888888888,
           "#b5de2b"
          ],
          [
           1,
           "#fde725"
          ]
         ],
         "type": "heatmap",
         "x": [
          "Execution Android",
          "Failed Android",
          "In Progress Android",
          "Passed Android"
         ],
         "xaxis": "x",
         "y": [
          "Existing Features - PO (1.0.5 PTR)",
          "Fitur Baru - PO (1.0.5 PTR)",
          "Hotfix - PO (1.0.5 PTR)",
          "Impacted Fitur - PO (1.03 PTR)",
          "Testing PTR - Tester (1.0.5 PTR)",
          "Testing PTR Backoffice - Tester (1.0.5 PTR)",
          "Tiket Ready PTR - Tester (1.0.5 PTR)"
         ],
         "yaxis": "y",
         "z": [
          [
           100,
           2.678571,
           2.678571,
           92.857143
          ],
          [
           100,
           4.761905,
           4.761905,
           90.47619
          ],
          [
           100,
           0,
           0,
           92.857143
          ],
          [
           100,
           5.882353,
           0,
           94.117647
          ],
          [
           100,
           1.5625,
           1.5625,
           92.1875
          ],
          [
           100,
           6.451613,
           0,
           90.322581
          ],
          [
           100,
           11.111111,
           22.222222,
           55.555556
          ]
         ]
        },
        {
         "colorbar": {
          "title": {
           "text": "iOS"
          },
          "x": 0.65
         },
         "colorscale": [
          [
           0,
           "#00224e"
          ],
          [
           0.1111111111111111,
           "#123570"
          ],
          [
           0.2222222222222222,
           "#3b496c"
          ],
          [
           0.3333333333333333,
           "#575d6d"
          ],
          [
           0.4444444444444444,
           "#707173"
          ],
          [
           0.5555555555555556,
           "#8a8678"
          ],
          [
           0.6666666666666666,
           "#a59c74"
          ],
          [
           0.7777777777777778,
           "#c3b369"
          ],
          [
           0.8888888888888888,
           "#e1cc55"
          ],
          [
           1,
           "#fee838"
          ]
         ],
         "type": "heatmap",
         "x": [
          "Execution iOS",
          "Failed iOS",
          "In Progress iOS",
          "Passed iOS"
         ],
         "xaxis": "x2",
         "y": [
          "Existing Features - PO (1.0.5 PTR)",
          "Fitur Baru - PO (1.0.5 PTR)",
          "Hotfix - PO (1.0.5 PTR)",
          "Impacted Fitur - PO (1.03 PTR)",
          "Testing PTR - Tester (1.0.5 PTR)",
          "Testing PTR Backoffice - Tester (1.0.5 PTR)",
          "Tiket Ready PTR - Tester (1.0.5 PTR)"
         ],
         "yaxis": "y2",
         "z": [
          [
           85,
           15,
           15,
           70
          ],
          [
           95,
           5,
           5,
           85
          ],
          [
           100,
           5,
           0,
           95
          ],
          [
           90,
           10,
           0,
           80
          ],
          [
           80,
           15,
           20,
           65
          ],
          [
           75,
           10,
           5,
           60
          ],
          [
           50,
           5,
           10,
           40
          ]
         ]
        },
        {
         "colorbar": {
          "title": {
           "text": "Backoffice"
          },
          "x": 1.02
         },
         "colorscale": [
          [
           0,
           "#0d0887"
          ],
          [
           0.1111111111111111,
           "#46039f"
          ],
          [
           0.2222222222222222,
           "#7201a8"
          ],
          [
           0.3333333333333333,
           "#9c179e"
          ],
          [
           0.4444444444444444,
           "#bd3786"
          ],
          [
           0.5555555555555556,
           "#d8576b"
          ],
          [
           0.6666666666666666,
           "#ed7953"
          ],
          [
           0.7777777777777778,
           "#fb9f3a"
          ],
          [
           0.8888888888888888,
           "#fdca26"
          ],
          [
           1,
           "#f0f921"
          ]
         ],
         "type": "heatmap",
         "x": [
          "Execution Backoffice",
          "Failed Backoffice",
          "In Progress Backoffice",
          "Passed Backoffice"
         ],
         "xaxis": "x3",
         "y": [
          "Fitur Baru - PO (1.0.5 PTR)",
          "Impacted Fitur - PO (1.03 PTR)"
         ],
         "yaxis": "y3",
         "z": [
          [
           98,
           6,
           0,
           92
          ],
          [
           100,
           5,
           0,
           95
          ]
         ]
        }
       ],
       "layout": {
        "annotations": [
         {
          "font": {
           "size": 16
          },
          "showarrow": false,
          "text": "Android Metrics",
          "x": 0.09999999999999999,
          "xanchor": "center",
          "xref": "paper",
          "y": 1,
          "yanchor": "bottom",
          "yref": "paper"
         },
         {
          "font": {
           "size": 16
          },
          "showarrow": false,
          "text": "iOS Metrics",
          "x": 0.5,
          "xanchor": "center",
          "xref": "paper",
          "y": 1,
          "yanchor": "bottom",
          "yref": "paper"
         },
         {
          "font": {
           "size": 16
          },
          "showarrow": false,
          "text": "Backoffice Metrics",
          "x": 0.9,
          "xanchor": "center",
          "xref": "paper",
          "y": 1,
          "yanchor": "bottom",
          "yref": "paper"
         }
        ],
        "height": 600,
        "template": {
         "data": {
          "candlestick": [
           {
            "decreasing": {
             "line": {
              "color": "#000033"
             }
            },
            "increasing": {
             "line": {
              "color": "#000032"
             }
            },
            "type": "candlestick"
           }
          ],
          "contour": [
           {
            "colorscale": [
             [
              0,
              "#000011"
             ],
             [
              0.1111111111111111,
              "#000012"
             ],
             [
              0.2222222222222222,
              "#000013"
             ],
             [
              0.3333333333333333,
              "#000014"
             ],
             [
              0.4444444444444444,
              "#000015"
             ],
             [
              0.5555555555555556,
              "#000016"
             ],
             [
              0.6666666666666666,
              "#000017"
             ],
             [
              0.7777777777777778,
              "#000018"
             ],
             [
              0.8888888888888888,
              "#000019"
             ],
             [
              1,
              "#000020"
             ]
            ],
            "type": "contour"
           }
          ],
          "contourcarpet": [
           {
            "colorscale": [
             [
              0,
              "#000011"
             ],
             [
              0.1111111111111111,
              "#000012"
             ],
             [
              0.2222222222222222,
              "#000013"
             ],
             [
              0.3333333333333333,
              "#000014"
             ],
             [
              0.4444444444444444,
              "#000015"
             ],
             [
              0.5555555555555556,
              "#000016"
             ],
             [
              0.6666666666666666,
              "#000017"
             ],
             [
              0.7777777777777778,
              "#000018"
             ],
             [
              0.8888888888888888,
              "#000019"
             ],
             [
              1,
              "#000020"
             ]
            ],
            "type": "contourcarpet"
           }
          ],
          "heatmap": [
           {
            "colorscale": [
             [
              0,
              "#000011"
             ],
             [
              0.1111111111111111,
              "#000012"
             ],
             [
              0.2222222222222222,
              "#000013"
             ],
             [
              0.3333333333333333,
              "#000014"
             ],
             [
              0.4444444444444444,
              "#000015"
             ],
             [
              0.5555555555555556,
              "#000016"
             ],
             [
              0.6666666666666666,
              "#000017"
             ],
             [
              0.7777777777777778,
              "#000018"
             ],
             [
              0.8888888888888888,
              "#000019"
             ],
             [
              1,
              "#000020"
             ]
            ],
            "type": "heatmap"
           }
          ],
          "histogram2d": [
           {
            "colorscale": [
             [
              0,
              "#000011"
             ],
             [
              0.1111111111111111,
              "#000012"
             ],
             [
              0.2222222222222222,
              "#000013"
             ],
             [
              0.3333333333333333,
              "#000014"
             ],
             [
              0.4444444444444444,
              "#000015"
             ],
             [
              0.5555555555555556,
              "#000016"
             ],
             [
              0.6666666666666666,
              "#000017"
             ],
             [
              0.7777777777777778,
              "#000018"
             ],
             [
              0.8888888888888888,
              "#000019"
             ],
             [
              1,
              "#000020"
             ]
            ],
            "type": "histogram2d"
           }
          ],
          "icicle": [
           {
            "textfont": {
             "color": "white"
            },
            "type": "icicle"
           }
          ],
          "sankey": [
           {
            "textfont": {
             "color": "#000036"
            },
            "type": "sankey"
           }
          ],
          "scatter": [
           {
            "marker": {
             "line": {
              "width": 0
             }
            },
            "type": "scatter"
           }
          ],
          "table": [
           {
            "cells": {
             "fill": {
              "color": "#000038"
             },
             "font": {
              "color": "#000037"
             },
             "line": {
              "color": "#000039"
             }
            },
            "header": {
             "fill": {
              "color": "#000040"
             },
             "font": {
              "color": "#000036"
             },
             "line": {
              "color": "#000039"
             }
            },
            "type": "table"
           }
          ],
          "waterfall": [
           {
            "connector": {
             "line": {
              "color": "#000036",
              "width": 2
             }
            },
            "decreasing": {
             "marker": {
              "color": "#000033"
             }
            },
            "increasing": {
             "marker": {
              "color": "#000032"
             }
            },
            "totals": {
             "marker": {
              "color": "#000034"
             }
            },
            "type": "waterfall"
           }
          ]
         },
         "layout": {
          "coloraxis": {
           "colorscale": [
            [
             0,
             "#000011"
            ],
            [
             0.1111111111111111,
             "#000012"
            ],
            [
             0.2222222222222222,
             "#000013"
            ],
            [
             0.3333333333333333,
             "#000014"
            ],
            [
             0.4444444444444444,
             "#000015"
            ],
            [
             0.5555555555555556,
             "#000016"
            ],
            [
             0.6666666666666666,
             "#000017"
            ],
            [
             0.7777777777777778,
             "#000018"
            ],
            [
             0.8888888888888888,
             "#000019"
            ],
            [
             1,
             "#000020"
            ]
           ]
          },
          "colorscale": {
           "diverging": [
            [
             0,
             "#000021"
            ],
            [
             0.1,
             "#000022"
            ],
            [
             0.2,
             "#000023"
            ],
            [
             0.3,
             "#000024"
            ],
            [
             0.4,
             "#000025"
            ],
            [
             0.5,
             "#000026"
            ],
            [
             0.6,
             "#000027"
            ],
            [
             0.7,
             "#000028"
            ],
            [
             0.8,
             "#000029"
            ],
            [
             0.9,
             "#000030"
            ],
            [
             1,
             "#000031"
            ]
           ],
           "sequential": [
            [
             0,
             "#000011"
            ],
            [
             0.1111111111111111,
             "#000012"
            ],
            [
             0.2222222222222222,
             "#000013"
            ],
            [
             0.3333333333333333,
             "#000014"
            ],
            [
             0.4444444444444444,
             "#000015"
            ],
            [
             0.5555555555555556,
             "#000016"
            ],
            [
             0.6666666666666666,
             "#000017"
            ],
            [
             0.7777777777777778,
             "#000018"
            ],
            [
             0.8888888888888888,
             "#000019"
            ],
            [
             1,
             "#000020"
            ]
           ],
           "sequentialminus": [
            [
             0,
             "#000011"
            ],
            [
             0.1111111111111111,
             "#000012"
            ],
            [
             0.2222222222222222,
             "#000013"
            ],
            [
             0.3333333333333333,
             "#000014"
            ],
            [
             0.4444444444444444,
             "#000015"
            ],
            [
             0.5555555555555556,
             "#000016"
            ],
            [
             0.6666666666666666,
             "#000017"
            ],
            [
             0.7777777777777778,
             "#000018"
            ],
            [
             0.8888888888888888,
             "#000019"
            ],
            [
             1,
             "#000020"
            ]
           ]
          },
          "colorway": [
           "#000001",
           "#000002",
           "#000003",
           "#000004",
           "#000005",
           "#000006",
           "#000007",
           "#000008",
           "#000009",
           "#000010"
          ]
         }
        },
        "title": {
         "text": "Heatmap Comparison: Android, iOS, and Backoffice Metrics (Backoffice: 2 Sheets)"
        },
        "width": 1200,
        "xaxis": {
         "anchor": "y",
         "domain": [
          0,
          0.19999999999999998
         ]
        },
        "xaxis2": {
         "anchor": "y2",
         "domain": [
          0.4,
          0.6
         ]
        },
        "xaxis3": {
         "anchor": "y3",
         "domain": [
          0.8,
          1
         ]
        },
        "yaxis": {
         "anchor": "x",
         "domain": [
          0,
          1
         ]
        },
        "yaxis2": {
         "anchor": "x2",
         "domain": [
          0,
          1
         ]
        },
        "yaxis3": {
         "anchor": "x3",
         "domain": [
          0,
          1
         ]
        }
       }
      }
     },
     "metadata": {},
     "output_type": "display_data"
    }
   ],
   "source": [
    "\n",
    "df3_melted = df3.melt(id_vars=\"Sheet name\", var_name=\"Metric\", value_name=\"Value\")\n",
    "heatmap_data3 = df3_melted.pivot(index=\"Sheet name\", columns=\"Metric\", values=\"Value\")\n",
    "\n",
    "# Update Backoffice heatmap in the subplot\n",
    "fig = make_subplots(\n",
    "    rows=1, cols=3,\n",
    "    subplot_titles=(\"Android Metrics\", \"iOS Metrics\", \"Backoffice Metrics\"),\n",
    "    horizontal_spacing=0.2\n",
    ")\n",
    "\n",
    "# Add Android heatmap\n",
    "fig.add_trace(\n",
    "    go.Heatmap(\n",
    "        z=heatmap_data1.values,\n",
    "        x=heatmap_data1.columns,\n",
    "        y=heatmap_data1.index,\n",
    "        colorscale=\"Viridis\",\n",
    "        colorbar=dict(title=\"Android\", x=0.29)\n",
    "    ),\n",
    "    row=1, col=1\n",
    ")\n",
    "\n",
    "# Add iOS heatmap\n",
    "fig.add_trace(\n",
    "    go.Heatmap(\n",
    "        z=heatmap_data2.values,\n",
    "        x=heatmap_data2.columns,\n",
    "        y=heatmap_data2.index,\n",
    "        colorscale=\"Cividis\",\n",
    "        colorbar=dict(title=\"iOS\", x=0.65)\n",
    "    ),\n",
    "    row=1, col=2\n",
    ")\n",
    "\n",
    "# Add Backoffice heatmap (with 2 sheet names)\n",
    "fig.add_trace(\n",
    "    go.Heatmap(\n",
    "        z=heatmap_data3.values,\n",
    "        x=heatmap_data3.columns,\n",
    "        y=heatmap_data3.index,\n",
    "        colorscale=\"Plasma\",\n",
    "        colorbar=dict(title=\"Backoffice\", x=1.02)\n",
    "    ),\n",
    "    row=1, col=3\n",
    ")\n",
    "\n",
    "# Update layout\n",
    "fig.update_layout(\n",
    "    title_text=\"Heatmap Comparison: Android, iOS, and Backoffice Metrics (Backoffice: 2 Sheets)\",\n",
    "    height=600,\n",
    "    width=1200\n",
    ")\n",
    "\n",
    "fig.show()\n"
   ]
  },
  {
   "cell_type": "markdown",
   "metadata": {},
   "source": [
    "## Test Sankey Diagram"
   ]
  },
  {
   "cell_type": "code",
   "execution_count": 150,
   "metadata": {},
   "outputs": [
    {
     "ename": "KeyError",
     "evalue": "'Status PTR Ver APK 1.0.5 IPA 1.0.5'",
     "output_type": "error",
     "traceback": [
      "\u001b[1;31m---------------------------------------------------------------------------\u001b[0m",
      "\u001b[1;31mKeyError\u001b[0m                                  Traceback (most recent call last)",
      "File \u001b[1;32mc:\\Users\\nahar\\anaconda3\\envs\\data_science\\Lib\\site-packages\\pandas\\core\\indexes\\base.py:3805\u001b[0m, in \u001b[0;36mIndex.get_loc\u001b[1;34m(self, key)\u001b[0m\n\u001b[0;32m   3804\u001b[0m \u001b[38;5;28;01mtry\u001b[39;00m:\n\u001b[1;32m-> 3805\u001b[0m     \u001b[38;5;28;01mreturn\u001b[39;00m \u001b[38;5;28;43mself\u001b[39;49m\u001b[38;5;241;43m.\u001b[39;49m\u001b[43m_engine\u001b[49m\u001b[38;5;241;43m.\u001b[39;49m\u001b[43mget_loc\u001b[49m\u001b[43m(\u001b[49m\u001b[43mcasted_key\u001b[49m\u001b[43m)\u001b[49m\n\u001b[0;32m   3806\u001b[0m \u001b[38;5;28;01mexcept\u001b[39;00m \u001b[38;5;167;01mKeyError\u001b[39;00m \u001b[38;5;28;01mas\u001b[39;00m err:\n",
      "File \u001b[1;32mindex.pyx:167\u001b[0m, in \u001b[0;36mpandas._libs.index.IndexEngine.get_loc\u001b[1;34m()\u001b[0m\n",
      "File \u001b[1;32mindex.pyx:196\u001b[0m, in \u001b[0;36mpandas._libs.index.IndexEngine.get_loc\u001b[1;34m()\u001b[0m\n",
      "File \u001b[1;32mpandas\\\\_libs\\\\hashtable_class_helper.pxi:7081\u001b[0m, in \u001b[0;36mpandas._libs.hashtable.PyObjectHashTable.get_item\u001b[1;34m()\u001b[0m\n",
      "File \u001b[1;32mpandas\\\\_libs\\\\hashtable_class_helper.pxi:7089\u001b[0m, in \u001b[0;36mpandas._libs.hashtable.PyObjectHashTable.get_item\u001b[1;34m()\u001b[0m\n",
      "\u001b[1;31mKeyError\u001b[0m: 'Status PTR Ver APK 1.0.5 IPA 1.0.5'",
      "\nThe above exception was the direct cause of the following exception:\n",
      "\u001b[1;31mKeyError\u001b[0m                                  Traceback (most recent call last)",
      "Cell \u001b[1;32mIn[150], line 11\u001b[0m\n\u001b[0;32m      2\u001b[0m primary_column \u001b[38;5;241m=\u001b[39m \u001b[38;5;124m\"\u001b[39m\u001b[38;5;124mLink JIRA\u001b[39m\u001b[38;5;124m\"\u001b[39m \u001b[38;5;28;01mif\u001b[39;00m \u001b[38;5;124m\"\u001b[39m\u001b[38;5;124mLink JIRA\u001b[39m\u001b[38;5;124m\"\u001b[39m \u001b[38;5;129;01min\u001b[39;00m excel_ptr\u001b[38;5;241m.\u001b[39mcolumns \u001b[38;5;28;01melse\u001b[39;00m \u001b[38;5;124m\"\u001b[39m\u001b[38;5;124mFeatures\u001b[39m\u001b[38;5;124m\"\u001b[39m\n\u001b[0;32m      4\u001b[0m \u001b[38;5;66;03m# Generate unique nodes from relevant columns\u001b[39;00m\n\u001b[0;32m      5\u001b[0m nodes \u001b[38;5;241m=\u001b[39m \u001b[38;5;28mlist\u001b[39m(\u001b[38;5;28mset\u001b[39m(\n\u001b[0;32m      6\u001b[0m     excel_ptr[primary_column]\u001b[38;5;241m.\u001b[39mtolist() \u001b[38;5;241m+\u001b[39m\n\u001b[0;32m      7\u001b[0m     excel_ptr[\u001b[38;5;124m'\u001b[39m\u001b[38;5;124mSub-features\u001b[39m\u001b[38;5;124m'\u001b[39m]\u001b[38;5;241m.\u001b[39mtolist() \u001b[38;5;241m+\u001b[39m\n\u001b[0;32m      8\u001b[0m     excel_ptr[\u001b[38;5;124m'\u001b[39m\u001b[38;5;124mOS\u001b[39m\u001b[38;5;124m'\u001b[39m]\u001b[38;5;241m.\u001b[39mtolist() \u001b[38;5;241m+\u001b[39m\n\u001b[0;32m      9\u001b[0m     excel_ptr[\u001b[38;5;124m'\u001b[39m\u001b[38;5;124mOS Version\u001b[39m\u001b[38;5;124m'\u001b[39m]\u001b[38;5;241m.\u001b[39mtolist() \u001b[38;5;241m+\u001b[39m\n\u001b[0;32m     10\u001b[0m     excel_ptr[\u001b[38;5;124m'\u001b[39m\u001b[38;5;124mTipe Device HP\u001b[39m\u001b[38;5;124m'\u001b[39m]\u001b[38;5;241m.\u001b[39mtolist() \u001b[38;5;241m+\u001b[39m\n\u001b[1;32m---> 11\u001b[0m     \u001b[43mexcel_ptr\u001b[49m\u001b[43m[\u001b[49m\u001b[38;5;124;43m\"\u001b[39;49m\u001b[38;5;124;43mStatus \u001b[39;49m\u001b[38;5;124;43m\"\u001b[39;49m\u001b[43m \u001b[49m\u001b[38;5;241;43m+\u001b[39;49m\u001b[43m \u001b[49m\u001b[43mversion_chosen\u001b[49m\u001b[43m]\u001b[49m\u001b[38;5;241m.\u001b[39mtolist()\n\u001b[0;32m     12\u001b[0m ))\n\u001b[0;32m     14\u001b[0m \u001b[38;5;28;01mdef\u001b[39;00m \u001b[38;5;21mwrap_long_name\u001b[39m(name, width\u001b[38;5;241m=\u001b[39m\u001b[38;5;241m50\u001b[39m):\n\u001b[0;32m     15\u001b[0m     \u001b[38;5;28;01mreturn\u001b[39;00m \u001b[38;5;124m'\u001b[39m\u001b[38;5;124m<br>\u001b[39m\u001b[38;5;124m'\u001b[39m\u001b[38;5;241m.\u001b[39mjoin(textwrap\u001b[38;5;241m.\u001b[39mwrap(\u001b[38;5;28mstr\u001b[39m(name), width))\n",
      "File \u001b[1;32mc:\\Users\\nahar\\anaconda3\\envs\\data_science\\Lib\\site-packages\\pandas\\core\\frame.py:4090\u001b[0m, in \u001b[0;36mDataFrame.__getitem__\u001b[1;34m(self, key)\u001b[0m\n\u001b[0;32m   4088\u001b[0m \u001b[38;5;28;01mif\u001b[39;00m \u001b[38;5;28mself\u001b[39m\u001b[38;5;241m.\u001b[39mcolumns\u001b[38;5;241m.\u001b[39mnlevels \u001b[38;5;241m>\u001b[39m \u001b[38;5;241m1\u001b[39m:\n\u001b[0;32m   4089\u001b[0m     \u001b[38;5;28;01mreturn\u001b[39;00m \u001b[38;5;28mself\u001b[39m\u001b[38;5;241m.\u001b[39m_getitem_multilevel(key)\n\u001b[1;32m-> 4090\u001b[0m indexer \u001b[38;5;241m=\u001b[39m \u001b[38;5;28;43mself\u001b[39;49m\u001b[38;5;241;43m.\u001b[39;49m\u001b[43mcolumns\u001b[49m\u001b[38;5;241;43m.\u001b[39;49m\u001b[43mget_loc\u001b[49m\u001b[43m(\u001b[49m\u001b[43mkey\u001b[49m\u001b[43m)\u001b[49m\n\u001b[0;32m   4091\u001b[0m \u001b[38;5;28;01mif\u001b[39;00m is_integer(indexer):\n\u001b[0;32m   4092\u001b[0m     indexer \u001b[38;5;241m=\u001b[39m [indexer]\n",
      "File \u001b[1;32mc:\\Users\\nahar\\anaconda3\\envs\\data_science\\Lib\\site-packages\\pandas\\core\\indexes\\base.py:3812\u001b[0m, in \u001b[0;36mIndex.get_loc\u001b[1;34m(self, key)\u001b[0m\n\u001b[0;32m   3807\u001b[0m     \u001b[38;5;28;01mif\u001b[39;00m \u001b[38;5;28misinstance\u001b[39m(casted_key, \u001b[38;5;28mslice\u001b[39m) \u001b[38;5;129;01mor\u001b[39;00m (\n\u001b[0;32m   3808\u001b[0m         \u001b[38;5;28misinstance\u001b[39m(casted_key, abc\u001b[38;5;241m.\u001b[39mIterable)\n\u001b[0;32m   3809\u001b[0m         \u001b[38;5;129;01mand\u001b[39;00m \u001b[38;5;28many\u001b[39m(\u001b[38;5;28misinstance\u001b[39m(x, \u001b[38;5;28mslice\u001b[39m) \u001b[38;5;28;01mfor\u001b[39;00m x \u001b[38;5;129;01min\u001b[39;00m casted_key)\n\u001b[0;32m   3810\u001b[0m     ):\n\u001b[0;32m   3811\u001b[0m         \u001b[38;5;28;01mraise\u001b[39;00m InvalidIndexError(key)\n\u001b[1;32m-> 3812\u001b[0m     \u001b[38;5;28;01mraise\u001b[39;00m \u001b[38;5;167;01mKeyError\u001b[39;00m(key) \u001b[38;5;28;01mfrom\u001b[39;00m \u001b[38;5;21;01merr\u001b[39;00m\n\u001b[0;32m   3813\u001b[0m \u001b[38;5;28;01mexcept\u001b[39;00m \u001b[38;5;167;01mTypeError\u001b[39;00m:\n\u001b[0;32m   3814\u001b[0m     \u001b[38;5;66;03m# If we have a listlike key, _check_indexing_error will raise\u001b[39;00m\n\u001b[0;32m   3815\u001b[0m     \u001b[38;5;66;03m#  InvalidIndexError. Otherwise we fall through and re-raise\u001b[39;00m\n\u001b[0;32m   3816\u001b[0m     \u001b[38;5;66;03m#  the TypeError.\u001b[39;00m\n\u001b[0;32m   3817\u001b[0m     \u001b[38;5;28mself\u001b[39m\u001b[38;5;241m.\u001b[39m_check_indexing_error(key)\n",
      "\u001b[1;31mKeyError\u001b[0m: 'Status PTR Ver APK 1.0.5 IPA 1.0.5'"
     ]
    }
   ],
   "source": [
    "\n",
    "# Determine the primary column to use: \"Link JIRA\" if it exists, otherwise \"Features\"\n",
    "primary_column = \"Link JIRA\" if \"Link JIRA\" in excel_ptr.columns else \"Features\"\n",
    "\n",
    "# Generate unique nodes from relevant columns\n",
    "nodes = list(set(\n",
    "    excel_ptr[primary_column].tolist() +\n",
    "    excel_ptr['Sub-features'].tolist() +\n",
    "    excel_ptr['OS'].tolist() +\n",
    "    excel_ptr['OS Version'].tolist() +\n",
    "    excel_ptr['Tipe Device HP'].tolist() +\n",
    "    excel_ptr[\"Status \" + version_chosen].tolist()\n",
    "))\n",
    "\n",
    "def wrap_long_name(name, width=50):\n",
    "    return '<br>'.join(textwrap.wrap(str(name), width))\n",
    "\n",
    "# Create short labels for Sankey plot without modifying the original dataframe\n",
    "node_indices = {\n",
    "    node: (str(node)[:30] + \"...\") if isinstance(node, str) and len(str(node)) > 30 else str(node)\n",
    "    for node in nodes\n",
    "}\n",
    "\n",
    "short_nodes = [node_indices[node] for node in nodes]\n",
    "long_nodes = [wrap_long_name(node) for node in nodes]\n",
    "\n",
    "# Create flows (source → target)\n",
    "sources = []\n",
    "targets = []\n",
    "values = []\n",
    "\n",
    "# Generate sources and targets for the Sankey diagram\n",
    "for _, row in excel_ptr.iterrows():\n",
    "    primary_value = row[primary_column]\n",
    "    sub_feature = row[\"Sub-features\"]\n",
    "    status = row[\"Status \" + version_chosen]\n",
    "    os_type = row[\"OS\"]\n",
    "\n",
    "    # Primary Column -> Status -> OS if Status is \"Passed\"\n",
    "    if status == \"Passed\":\n",
    "        sources.append(nodes.index(primary_value))  # Primary Column -> Status\n",
    "        targets.append(nodes.index(status))\n",
    "        values.append(1)\n",
    "\n",
    "        sources.append(nodes.index(status))  # Status -> OS\n",
    "        targets.append(nodes.index(os_type))\n",
    "        values.append(1)\n",
    "\n",
    "    # Primary Column -> Sub-feature -> Status -> OS for other statuses\n",
    "    elif status in [\"Failed\", \"N/A\", \"In Progress\", \"Not Started\"]:\n",
    "        sources.append(nodes.index(primary_value))  # Primary Column -> Sub-feature\n",
    "        targets.append(nodes.index(sub_feature))\n",
    "        values.append(1)\n",
    "\n",
    "        sources.append(nodes.index(sub_feature))  # Sub-feature -> Status\n",
    "        targets.append(nodes.index(status))\n",
    "        values.append(1)\n",
    "\n",
    "        sources.append(nodes.index(status))  # Status -> OS\n",
    "        targets.append(nodes.index(os_type))\n",
    "        values.append(1)\n",
    "\n",
    "# Calculate incoming and outgoing flows\n",
    "incoming_flows = {node: 0 for node in nodes}\n",
    "outgoing_flows = {node: 0 for node in nodes}\n",
    "\n",
    "for source, target in zip(sources, targets):\n",
    "    outgoing_flows[nodes[source]] += 1\n",
    "    incoming_flows[nodes[target]] += 1\n",
    "\n",
    "# Prepare customdata with both incoming and outgoing flows\n",
    "customdata = [\n",
    "    f\"{long_name} <br>Incoming: {incoming_flows[node]} <br>Outgoing: {outgoing_flows[node]}\"\n",
    "    for node, long_name in zip(nodes, long_nodes)\n",
    "]\n",
    "\n",
    "# Assign default value of 1 for each connection\n",
    "values = [1] * len(sources)\n",
    "\n",
    "# Define colors for nodes and links\n",
    "color_palette = px.colors.qualitative.Light24\n",
    "num_colors = len(color_palette)\n",
    "opacity = 1\n",
    "node_colors = {}\n",
    "\n",
    "# Assign colors to features\n",
    "for i, primary_value in enumerate(excel_ptr[primary_column].unique()):\n",
    "    hex_color = color_palette[i % num_colors]\n",
    "    rgba_color = to_rgba(hex_color, alpha=opacity)\n",
    "    node_colors[primary_value] = f\"rgba({int(rgba_color[0]*255)}, {int(rgba_color[1]*255)}, {int(rgba_color[2]*255)}, {rgba_color[3]})\"\n",
    "\n",
    "# Propagate feature colors to sub-features\n",
    "for primary_value in excel_ptr[primary_column].unique():\n",
    "    feature_color = node_colors[primary_value]\n",
    "    for sub_feature in excel_ptr[excel_ptr[primary_column] == primary_value][\"Sub-features\"].unique():\n",
    "        node_colors[sub_feature] = \"rgba(200, 200, 200, 0.8)\"\n",
    "\n",
    "# Overwrite colors for specific statuses\n",
    "node_colors[\"Passed\"] = \"rgba(144, 238, 144, 0.8)\"\n",
    "node_colors[\"Failed\"] = \"rgba(205, 92, 92, 0.8)\"\n",
    "node_colors[\"Android\"] = \"#71BC68\"\n",
    "node_colors[\"iOS\"] = \"rgba(70, 130, 180, 0.8)\"\n",
    "default_color = \"rgba(200, 200, 200, 0.8)\"\n",
    "node_color_list = [node_colors.get(node, default_color) for node in nodes]\n",
    "\n",
    "# Assign link colors based on source node color\n",
    "link_colors = []\n",
    "for source, target in zip(sources, targets):\n",
    "    source_color = node_colors.get(nodes[source], \"rgba(192, 192, 192, 0.3)\")\n",
    "    rgba_values = source_color.strip(\"rgba()\").split(\",\")\n",
    "    if len(rgba_values) == 4:\n",
    "        r, g, b, _ = map(float, rgba_values[:4])\n",
    "        link_colors.append(f\"rgba({int(r)}, {int(g)}, {int(b)}, 0.3)\")\n",
    "    else:\n",
    "        link_colors.append(\"rgba(192, 192, 192, 0.3)\")\n",
    "\n",
    "# Plot Sankey Diagram\n",
    "fig = go.Figure(data=[go.Sankey(\n",
    "    node=dict(\n",
    "        pad=15,\n",
    "        thickness=20,\n",
    "        line=dict(color=\"black\", width=0.5),\n",
    "        label=short_nodes,\n",
    "        color=node_color_list,\n",
    "        customdata=customdata,\n",
    "        hovertemplate=\"%{customdata}<extra></extra>\"\n",
    "    ),\n",
    "    link=dict(\n",
    "        source=sources,\n",
    "        target=targets,\n",
    "        value=values,\n",
    "        color=link_colors\n",
    "    )\n",
    ")])\n",
    "\n",
    "# Update layout and show\n",
    "fig.update_layout(\n",
    "    font_size=12,\n",
    "    height=500,\n",
    "    font=dict(size=14, color='white'),\n",
    "    plot_bgcolor='#1E1E1E',\n",
    "    paper_bgcolor='#1E1E1E',\n",
    "    margin=dict(l=20, r=20, t=20, b=20)\n",
    ")\n",
    "fig.show()"
   ]
  },
  {
   "cell_type": "code",
   "execution_count": 89,
   "metadata": {},
   "outputs": [],
   "source": [
    "df_android = df[df['OS'] == 'Android']"
   ]
  },
  {
   "cell_type": "code",
   "execution_count": 90,
   "metadata": {},
   "outputs": [
    {
     "name": "stderr",
     "output_type": "stream",
     "text": [
      "C:\\Users\\nahar\\AppData\\Local\\Temp\\ipykernel_25268\\1312768736.py:2: SettingWithCopyWarning: \n",
      "A value is trying to be set on a copy of a slice from a DataFrame.\n",
      "Try using .loc[row_indexer,col_indexer] = value instead\n",
      "\n",
      "See the caveats in the documentation: https://pandas.pydata.org/pandas-docs/stable/user_guide/indexing.html#returning-a-view-versus-a-copy\n",
      "  df_android['Status '+ version_chosen] = df_android['Status ' + version_chosen].replace(np.nan, 'Not Started')\n"
     ]
    }
   ],
   "source": [
    "import numpy as np\n",
    "df_android['Status '+ version_chosen] = df_android['Status ' + version_chosen].replace(np.nan, 'Not Started')"
   ]
  },
  {
   "cell_type": "code",
   "execution_count": 91,
   "metadata": {},
   "outputs": [
    {
     "data": {
      "text/plain": [
       "Status PTR Ver APK 1.0.5 IPA 1.0.5\n",
       "Passed         90.476190\n",
       "In Progress     4.761905\n",
       "Failed          4.761905\n",
       "Name: count, dtype: float64"
      ]
     },
     "execution_count": 91,
     "metadata": {},
     "output_type": "execute_result"
    }
   ],
   "source": [
    "df_android['Status ' + version_chosen].value_counts().apply(lambda x:x/len(df_android)*100)"
   ]
  },
  {
   "cell_type": "code",
   "execution_count": 108,
   "metadata": {},
   "outputs": [],
   "source": [
    "def progress_status(df, version):\n",
    "    df_android = df[df['OS'] == 'Android'].copy()\n",
    "    df_ios = df[df['OS'] == 'iOS'].copy()\n",
    "\n",
    "    def process_data(data, version):\n",
    "        data['Status ' + version] = data['Status ' + version].replace(np.nan, 'N/A')\n",
    "        return data['Status ' + version].value_counts(normalize=True) * 100\n",
    "\n",
    "    android_result = process_data(df_android, version)\n",
    "    ios_result = process_data(df_ios, version)\n",
    "    \n",
    "    df_plot = pd.concat([android_result.rename(\"Android\"), ios_result.rename('iOS')], axis=1).reset_index()\n",
    "    df_plot.rename(columns={'Status '+version : 'Status'}, inplace=True)\n",
    "    \n",
    "    df_plot = df_plot.melt(id_vars='Status', var_name='Platform', value_name='Percentage')\n",
    "    df_plot['Percentage'] = df_plot['Percentage'].apply(lambda row: round(row, 2))\n",
    "\n",
    "    return df_plot\n",
    "\n",
    "def progress_plot(df_plot, version):\n",
    "    progress_bar = px.bar(\n",
    "        df_plot,\n",
    "        x=\"Status\",\n",
    "        y=\"Percentage\",\n",
    "        color=\"Platform\",\n",
    "        barmode=\"group\",\n",
    "        title=f\"Status Distribution by Platform (Version {version})\",\n",
    "        text=\"Percentage\",\n",
    "        color_discrete_map={\"Android\": \"#FFA500\", \"iOS\": \"#1E90FF\"}  # Custom colors\n",
    "    )\n",
    "\n",
    "    # Customize the traces for better readability\n",
    "    progress_bar.update_traces(\n",
    "        texttemplate='%{text:.2f}%',\n",
    "        textposition='outside',\n",
    "        marker=dict(line=dict(width=1.5, color=\"black\"))  # Add a border to bars\n",
    "    )\n",
    "\n",
    "    # Update layout for a cleaner and professional look\n",
    "    progress_bar.update_layout(\n",
    "        title=dict(\n",
    "            text=f\"<b>Status Distribution by Platform (Version {version})</b>\",\n",
    "            font=dict(size=20, family=\"Arial, sans-serif\"),\n",
    "            x=0.5  # Center the title\n",
    "        ),\n",
    "        xaxis=dict(\n",
    "            title=\"<b>Status</b>\",\n",
    "            tickangle=-45,  # Tilt x-axis labels for readability\n",
    "            tickfont=dict(size=12, family=\"Arial, sans-serif\"),\n",
    "        ),\n",
    "        yaxis=dict(\n",
    "            title=\"<b>Percentage (%)</b>\",\n",
    "            tickfont=dict(size=12, family=\"Arial, sans-serif\"),\n",
    "        ),\n",
    "        legend=dict(\n",
    "            title=\"<b>Platform</b>\",\n",
    "            font=dict(size=12, family=\"Arial, sans-serif\"),\n",
    "            bgcolor=\"#1E1E1E\",  # Light gray background for legend\n",
    "            bordercolor=\"black\",\n",
    "            borderwidth=1,\n",
    "        ),\n",
    "        margin=dict(l=50, r=50, t=80, b=50),  # Adjust margins for spacing\n",
    "        plot_bgcolor=\"#1E1E1E\",  # Light gray background\n",
    "        paper_bgcolor=\"#1E1E1E\",  # Light gray background\n",
    "        width=1000,\n",
    "        height=600\n",
    "    )\n",
    "    \n",
    "    return progress_bar"
   ]
  },
  {
   "cell_type": "code",
   "execution_count": 109,
   "metadata": {},
   "outputs": [
    {
     "data": {
      "text/html": [
       "<div>\n",
       "<style scoped>\n",
       "    .dataframe tbody tr th:only-of-type {\n",
       "        vertical-align: middle;\n",
       "    }\n",
       "\n",
       "    .dataframe tbody tr th {\n",
       "        vertical-align: top;\n",
       "    }\n",
       "\n",
       "    .dataframe thead th {\n",
       "        text-align: right;\n",
       "    }\n",
       "</style>\n",
       "<table border=\"1\" class=\"dataframe\">\n",
       "  <thead>\n",
       "    <tr style=\"text-align: right;\">\n",
       "      <th></th>\n",
       "      <th>Status</th>\n",
       "      <th>Platform</th>\n",
       "      <th>Percentage</th>\n",
       "    </tr>\n",
       "  </thead>\n",
       "  <tbody>\n",
       "    <tr>\n",
       "      <th>0</th>\n",
       "      <td>Passed</td>\n",
       "      <td>Android</td>\n",
       "      <td>38.89</td>\n",
       "    </tr>\n",
       "    <tr>\n",
       "      <th>1</th>\n",
       "      <td>N/A</td>\n",
       "      <td>Android</td>\n",
       "      <td>22.22</td>\n",
       "    </tr>\n",
       "    <tr>\n",
       "      <th>2</th>\n",
       "      <td>Failed</td>\n",
       "      <td>Android</td>\n",
       "      <td>16.67</td>\n",
       "    </tr>\n",
       "    <tr>\n",
       "      <th>3</th>\n",
       "      <td>Not Started</td>\n",
       "      <td>Android</td>\n",
       "      <td>16.67</td>\n",
       "    </tr>\n",
       "    <tr>\n",
       "      <th>4</th>\n",
       "      <td>In Progress</td>\n",
       "      <td>Android</td>\n",
       "      <td>5.56</td>\n",
       "    </tr>\n",
       "    <tr>\n",
       "      <th>5</th>\n",
       "      <td>Passed</td>\n",
       "      <td>iOS</td>\n",
       "      <td>52.63</td>\n",
       "    </tr>\n",
       "    <tr>\n",
       "      <th>6</th>\n",
       "      <td>N/A</td>\n",
       "      <td>iOS</td>\n",
       "      <td>5.26</td>\n",
       "    </tr>\n",
       "    <tr>\n",
       "      <th>7</th>\n",
       "      <td>Failed</td>\n",
       "      <td>iOS</td>\n",
       "      <td>15.79</td>\n",
       "    </tr>\n",
       "    <tr>\n",
       "      <th>8</th>\n",
       "      <td>Not Started</td>\n",
       "      <td>iOS</td>\n",
       "      <td>26.32</td>\n",
       "    </tr>\n",
       "    <tr>\n",
       "      <th>9</th>\n",
       "      <td>In Progress</td>\n",
       "      <td>iOS</td>\n",
       "      <td>NaN</td>\n",
       "    </tr>\n",
       "  </tbody>\n",
       "</table>\n",
       "</div>"
      ],
      "text/plain": [
       "        Status Platform  Percentage\n",
       "0       Passed  Android       38.89\n",
       "1          N/A  Android       22.22\n",
       "2       Failed  Android       16.67\n",
       "3  Not Started  Android       16.67\n",
       "4  In Progress  Android        5.56\n",
       "5       Passed      iOS       52.63\n",
       "6          N/A      iOS        5.26\n",
       "7       Failed      iOS       15.79\n",
       "8  Not Started      iOS       26.32\n",
       "9  In Progress      iOS         NaN"
      ]
     },
     "execution_count": 109,
     "metadata": {},
     "output_type": "execute_result"
    }
   ],
   "source": [
    "df_plot = progress_status(df=df, version=version_chosen)\n",
    "df_plot"
   ]
  },
  {
   "cell_type": "code",
   "execution_count": 114,
   "metadata": {},
   "outputs": [
    {
     "data": {
      "text/plain": [
       "[38.89, 22.22, 16.67, 16.67, 5.56]"
      ]
     },
     "execution_count": 114,
     "metadata": {},
     "output_type": "execute_result"
    }
   ],
   "source": [
    "df_plot[df_plot['Platform'] == 'Android']['Percentage'].tolist()"
   ]
  },
  {
   "cell_type": "code",
   "execution_count": 120,
   "metadata": {},
   "outputs": [
    {
     "data": {
      "text/html": [
       "<div>\n",
       "<style scoped>\n",
       "    .dataframe tbody tr th:only-of-type {\n",
       "        vertical-align: middle;\n",
       "    }\n",
       "\n",
       "    .dataframe tbody tr th {\n",
       "        vertical-align: top;\n",
       "    }\n",
       "\n",
       "    .dataframe thead th {\n",
       "        text-align: right;\n",
       "    }\n",
       "</style>\n",
       "<table border=\"1\" class=\"dataframe\">\n",
       "  <thead>\n",
       "    <tr style=\"text-align: right;\">\n",
       "      <th>Status</th>\n",
       "      <th>Failed</th>\n",
       "      <th>In Progress</th>\n",
       "      <th>N/A</th>\n",
       "      <th>Not Started</th>\n",
       "      <th>Passed</th>\n",
       "    </tr>\n",
       "    <tr>\n",
       "      <th>Platform</th>\n",
       "      <th></th>\n",
       "      <th></th>\n",
       "      <th></th>\n",
       "      <th></th>\n",
       "      <th></th>\n",
       "    </tr>\n",
       "  </thead>\n",
       "  <tbody>\n",
       "    <tr>\n",
       "      <th>Android</th>\n",
       "      <td>16.67</td>\n",
       "      <td>5.56</td>\n",
       "      <td>22.22</td>\n",
       "      <td>16.67</td>\n",
       "      <td>38.89</td>\n",
       "    </tr>\n",
       "    <tr>\n",
       "      <th>iOS</th>\n",
       "      <td>15.79</td>\n",
       "      <td>0.00</td>\n",
       "      <td>5.26</td>\n",
       "      <td>26.32</td>\n",
       "      <td>52.63</td>\n",
       "    </tr>\n",
       "  </tbody>\n",
       "</table>\n",
       "</div>"
      ],
      "text/plain": [
       "Status    Failed  In Progress    N/A  Not Started  Passed\n",
       "Platform                                                 \n",
       "Android    16.67         5.56  22.22        16.67   38.89\n",
       "iOS        15.79         0.00   5.26        26.32   52.63"
      ]
     },
     "execution_count": 120,
     "metadata": {},
     "output_type": "execute_result"
    }
   ],
   "source": [
    "z"
   ]
  },
  {
   "cell_type": "code",
   "execution_count": 127,
   "metadata": {},
   "outputs": [
    {
     "data": {
      "text/html": [
       "<div>\n",
       "<style scoped>\n",
       "    .dataframe tbody tr th:only-of-type {\n",
       "        vertical-align: middle;\n",
       "    }\n",
       "\n",
       "    .dataframe tbody tr th {\n",
       "        vertical-align: top;\n",
       "    }\n",
       "\n",
       "    .dataframe thead th {\n",
       "        text-align: right;\n",
       "    }\n",
       "</style>\n",
       "<table border=\"1\" class=\"dataframe\">\n",
       "  <thead>\n",
       "    <tr style=\"text-align: right;\">\n",
       "      <th></th>\n",
       "      <th>Status</th>\n",
       "      <th>Platform</th>\n",
       "      <th>Percentage</th>\n",
       "    </tr>\n",
       "  </thead>\n",
       "  <tbody>\n",
       "    <tr>\n",
       "      <th>0</th>\n",
       "      <td>Passed</td>\n",
       "      <td>Android</td>\n",
       "      <td>38.89</td>\n",
       "    </tr>\n",
       "    <tr>\n",
       "      <th>1</th>\n",
       "      <td>N/A</td>\n",
       "      <td>Android</td>\n",
       "      <td>22.22</td>\n",
       "    </tr>\n",
       "    <tr>\n",
       "      <th>2</th>\n",
       "      <td>Failed</td>\n",
       "      <td>Android</td>\n",
       "      <td>16.67</td>\n",
       "    </tr>\n",
       "    <tr>\n",
       "      <th>3</th>\n",
       "      <td>Not Started</td>\n",
       "      <td>Android</td>\n",
       "      <td>16.67</td>\n",
       "    </tr>\n",
       "    <tr>\n",
       "      <th>4</th>\n",
       "      <td>In Progress</td>\n",
       "      <td>Android</td>\n",
       "      <td>5.56</td>\n",
       "    </tr>\n",
       "  </tbody>\n",
       "</table>\n",
       "</div>"
      ],
      "text/plain": [
       "        Status Platform  Percentage\n",
       "0       Passed  Android       38.89\n",
       "1          N/A  Android       22.22\n",
       "2       Failed  Android       16.67\n",
       "3  Not Started  Android       16.67\n",
       "4  In Progress  Android        5.56"
      ]
     },
     "execution_count": 127,
     "metadata": {},
     "output_type": "execute_result"
    }
   ],
   "source": [
    "df_plot[df_plot['Platform'] == 'Android']"
   ]
  },
  {
   "cell_type": "code",
   "execution_count": 134,
   "metadata": {},
   "outputs": [
    {
     "data": {
      "text/html": [
       "<div>\n",
       "<style scoped>\n",
       "    .dataframe tbody tr th:only-of-type {\n",
       "        vertical-align: middle;\n",
       "    }\n",
       "\n",
       "    .dataframe tbody tr th {\n",
       "        vertical-align: top;\n",
       "    }\n",
       "\n",
       "    .dataframe thead th {\n",
       "        text-align: right;\n",
       "    }\n",
       "</style>\n",
       "<table border=\"1\" class=\"dataframe\">\n",
       "  <thead>\n",
       "    <tr style=\"text-align: right;\">\n",
       "      <th></th>\n",
       "      <th>Status</th>\n",
       "      <th>Platform</th>\n",
       "      <th>Percentage</th>\n",
       "    </tr>\n",
       "  </thead>\n",
       "  <tbody>\n",
       "    <tr>\n",
       "      <th>0</th>\n",
       "      <td>Passed</td>\n",
       "      <td>Android</td>\n",
       "      <td>38.89</td>\n",
       "    </tr>\n",
       "    <tr>\n",
       "      <th>1</th>\n",
       "      <td>N/A</td>\n",
       "      <td>Android</td>\n",
       "      <td>22.22</td>\n",
       "    </tr>\n",
       "    <tr>\n",
       "      <th>2</th>\n",
       "      <td>Failed</td>\n",
       "      <td>Android</td>\n",
       "      <td>16.67</td>\n",
       "    </tr>\n",
       "    <tr>\n",
       "      <th>3</th>\n",
       "      <td>Not Started</td>\n",
       "      <td>Android</td>\n",
       "      <td>16.67</td>\n",
       "    </tr>\n",
       "    <tr>\n",
       "      <th>4</th>\n",
       "      <td>In Progress</td>\n",
       "      <td>Android</td>\n",
       "      <td>5.56</td>\n",
       "    </tr>\n",
       "  </tbody>\n",
       "</table>\n",
       "</div>"
      ],
      "text/plain": [
       "        Status Platform  Percentage\n",
       "0       Passed  Android       38.89\n",
       "1          N/A  Android       22.22\n",
       "2       Failed  Android       16.67\n",
       "3  Not Started  Android       16.67\n",
       "4  In Progress  Android        5.56"
      ]
     },
     "execution_count": 134,
     "metadata": {},
     "output_type": "execute_result"
    }
   ],
   "source": [
    "android_data"
   ]
  },
  {
   "cell_type": "code",
   "execution_count": 135,
   "metadata": {},
   "outputs": [
    {
     "data": {
      "text/html": [
       "<div>\n",
       "<style scoped>\n",
       "    .dataframe tbody tr th:only-of-type {\n",
       "        vertical-align: middle;\n",
       "    }\n",
       "\n",
       "    .dataframe tbody tr th {\n",
       "        vertical-align: top;\n",
       "    }\n",
       "\n",
       "    .dataframe thead th {\n",
       "        text-align: right;\n",
       "    }\n",
       "</style>\n",
       "<table border=\"1\" class=\"dataframe\">\n",
       "  <thead>\n",
       "    <tr style=\"text-align: right;\">\n",
       "      <th>Status</th>\n",
       "      <th>Passed</th>\n",
       "      <th>Failed</th>\n",
       "      <th>Not Started</th>\n",
       "      <th>N/A</th>\n",
       "      <th>In Progress</th>\n",
       "      <th>Blocked</th>\n",
       "      <th>Pass with Noted</th>\n",
       "    </tr>\n",
       "    <tr>\n",
       "      <th>Sheet Name</th>\n",
       "      <th></th>\n",
       "      <th></th>\n",
       "      <th></th>\n",
       "      <th></th>\n",
       "      <th></th>\n",
       "      <th></th>\n",
       "      <th></th>\n",
       "    </tr>\n",
       "  </thead>\n",
       "  <tbody>\n",
       "    <tr>\n",
       "      <th>Prototype - Tiket Prod Issue PO</th>\n",
       "      <td>38.89</td>\n",
       "      <td>0</td>\n",
       "      <td>0</td>\n",
       "      <td>0</td>\n",
       "      <td>0</td>\n",
       "      <td>0</td>\n",
       "      <td>0</td>\n",
       "    </tr>\n",
       "  </tbody>\n",
       "</table>\n",
       "</div>"
      ],
      "text/plain": [
       "Status                           Passed  Failed  Not Started  N/A  \\\n",
       "Sheet Name                                                          \n",
       "Prototype - Tiket Prod Issue PO   38.89       0            0    0   \n",
       "\n",
       "Status                           In Progress  Blocked  Pass with Noted  \n",
       "Sheet Name                                                              \n",
       "Prototype - Tiket Prod Issue PO            0        0                0  "
      ]
     },
     "execution_count": 135,
     "metadata": {},
     "output_type": "execute_result"
    }
   ],
   "source": [
    "z_df"
   ]
  },
  {
   "cell_type": "code",
   "execution_count": 147,
   "metadata": {},
   "outputs": [
    {
     "data": {
      "text/plain": [
       "['Passed', 'N/A', 'Failed', 'Not Started', 'In Progress']\n",
       "Categories (7, object): ['Passed' < 'Failed' < 'Not Started' < 'N/A' < 'In Progress' < 'Blocked' < 'Pass with Noted']"
      ]
     },
     "execution_count": 147,
     "metadata": {},
     "output_type": "execute_result"
    }
   ],
   "source": [
    "pd.Categorical(android_data['Status'], categories=status_fixed, ordered=True)"
   ]
  },
  {
   "cell_type": "code",
   "execution_count": 151,
   "metadata": {},
   "outputs": [
    {
     "name": "stdout",
     "output_type": "stream",
     "text": [
      "0         Passed\n",
      "1            N/A\n",
      "2         Failed\n",
      "3    Not Started\n",
      "4    In Progress\n",
      "Name: Status, dtype: category\n",
      "Categories (7, object): ['Passed' < 'Failed' < 'Not Started' < 'N/A' < 'In Progress' < 'Blocked' < 'Pass with Noted']\n"
     ]
    }
   ],
   "source": [
    "android_data = df_plot[df_plot['Platform'] == 'Android'].copy()  # Ensure this is a proper copy\n",
    "\n",
    "# Apply pd.Categorical to permanently update the column\n",
    "android_data['Status'] = pd.Categorical(android_data['Status'], categories=status_fixed, ordered=True)\n",
    "\n",
    "# Verify the change\n",
    "print(android_data['Status'])\n"
   ]
  },
  {
   "cell_type": "code",
   "execution_count": 154,
   "metadata": {},
   "outputs": [
    {
     "name": "stdout",
     "output_type": "stream",
     "text": [
      "category\n"
     ]
    }
   ],
   "source": [
    "print(android_data['Status'].dtype)\n"
   ]
  },
  {
   "cell_type": "code",
   "execution_count": 155,
   "metadata": {},
   "outputs": [
    {
     "data": {
      "application/vnd.plotly.v1+json": {
       "config": {
        "plotlyServerURL": "https://plot.ly"
       },
       "data": [
        {
         "colorscale": [
          [
           0,
           "#440154"
          ],
          [
           0.1111111111111111,
           "#482878"
          ],
          [
           0.2222222222222222,
           "#3e4989"
          ],
          [
           0.3333333333333333,
           "#31688e"
          ],
          [
           0.4444444444444444,
           "#26828e"
          ],
          [
           0.5555555555555556,
           "#1f9e89"
          ],
          [
           0.6666666666666666,
           "#35b779"
          ],
          [
           0.7777777777777778,
           "#6ece58"
          ],
          [
           0.8888888888888888,
           "#b5de2b"
          ],
          [
           1,
           "#fde725"
          ]
         ],
         "hoverinfo": "text",
         "showscale": false,
         "textfont": {
          "size": 14
         },
         "texttemplate": "%{z:.2f}%",
         "type": "heatmap",
         "x": [
          "Passed",
          "Failed",
          "Not Started",
          "N/A",
          "In Progress",
          "Blocked",
          "Pass with Noted"
         ],
         "xgap": 5,
         "y": [
          "Prototype - Tiket Prod Issue PO"
         ],
         "ygap": 5,
         "z": [
          [
           38.89,
           0,
           0,
           0,
           0,
           0,
           0
          ]
         ]
        }
       ],
       "layout": {
        "height": 420,
        "margin": {
         "b": 50,
         "l": 50,
         "r": 50,
         "t": 50
        },
        "paper_bgcolor": "white",
        "plot_bgcolor": "white",
        "template": {
         "data": {
          "candlestick": [
           {
            "decreasing": {
             "line": {
              "color": "#000033"
             }
            },
            "increasing": {
             "line": {
              "color": "#000032"
             }
            },
            "type": "candlestick"
           }
          ],
          "contour": [
           {
            "colorscale": [
             [
              0,
              "#000011"
             ],
             [
              0.1111111111111111,
              "#000012"
             ],
             [
              0.2222222222222222,
              "#000013"
             ],
             [
              0.3333333333333333,
              "#000014"
             ],
             [
              0.4444444444444444,
              "#000015"
             ],
             [
              0.5555555555555556,
              "#000016"
             ],
             [
              0.6666666666666666,
              "#000017"
             ],
             [
              0.7777777777777778,
              "#000018"
             ],
             [
              0.8888888888888888,
              "#000019"
             ],
             [
              1,
              "#000020"
             ]
            ],
            "type": "contour"
           }
          ],
          "contourcarpet": [
           {
            "colorscale": [
             [
              0,
              "#000011"
             ],
             [
              0.1111111111111111,
              "#000012"
             ],
             [
              0.2222222222222222,
              "#000013"
             ],
             [
              0.3333333333333333,
              "#000014"
             ],
             [
              0.4444444444444444,
              "#000015"
             ],
             [
              0.5555555555555556,
              "#000016"
             ],
             [
              0.6666666666666666,
              "#000017"
             ],
             [
              0.7777777777777778,
              "#000018"
             ],
             [
              0.8888888888888888,
              "#000019"
             ],
             [
              1,
              "#000020"
             ]
            ],
            "type": "contourcarpet"
           }
          ],
          "heatmap": [
           {
            "colorscale": [
             [
              0,
              "#000011"
             ],
             [
              0.1111111111111111,
              "#000012"
             ],
             [
              0.2222222222222222,
              "#000013"
             ],
             [
              0.3333333333333333,
              "#000014"
             ],
             [
              0.4444444444444444,
              "#000015"
             ],
             [
              0.5555555555555556,
              "#000016"
             ],
             [
              0.6666666666666666,
              "#000017"
             ],
             [
              0.7777777777777778,
              "#000018"
             ],
             [
              0.8888888888888888,
              "#000019"
             ],
             [
              1,
              "#000020"
             ]
            ],
            "type": "heatmap"
           }
          ],
          "histogram2d": [
           {
            "colorscale": [
             [
              0,
              "#000011"
             ],
             [
              0.1111111111111111,
              "#000012"
             ],
             [
              0.2222222222222222,
              "#000013"
             ],
             [
              0.3333333333333333,
              "#000014"
             ],
             [
              0.4444444444444444,
              "#000015"
             ],
             [
              0.5555555555555556,
              "#000016"
             ],
             [
              0.6666666666666666,
              "#000017"
             ],
             [
              0.7777777777777778,
              "#000018"
             ],
             [
              0.8888888888888888,
              "#000019"
             ],
             [
              1,
              "#000020"
             ]
            ],
            "type": "histogram2d"
           }
          ],
          "icicle": [
           {
            "textfont": {
             "color": "white"
            },
            "type": "icicle"
           }
          ],
          "sankey": [
           {
            "textfont": {
             "color": "#000036"
            },
            "type": "sankey"
           }
          ],
          "scatter": [
           {
            "marker": {
             "line": {
              "width": 0
             }
            },
            "type": "scatter"
           }
          ],
          "table": [
           {
            "cells": {
             "fill": {
              "color": "#000038"
             },
             "font": {
              "color": "#000037"
             },
             "line": {
              "color": "#000039"
             }
            },
            "header": {
             "fill": {
              "color": "#000040"
             },
             "font": {
              "color": "#000036"
             },
             "line": {
              "color": "#000039"
             }
            },
            "type": "table"
           }
          ],
          "waterfall": [
           {
            "connector": {
             "line": {
              "color": "#000036",
              "width": 2
             }
            },
            "decreasing": {
             "marker": {
              "color": "#000033"
             }
            },
            "increasing": {
             "marker": {
              "color": "#000032"
             }
            },
            "totals": {
             "marker": {
              "color": "#000034"
             }
            },
            "type": "waterfall"
           }
          ]
         },
         "layout": {
          "coloraxis": {
           "colorscale": [
            [
             0,
             "#000011"
            ],
            [
             0.1111111111111111,
             "#000012"
            ],
            [
             0.2222222222222222,
             "#000013"
            ],
            [
             0.3333333333333333,
             "#000014"
            ],
            [
             0.4444444444444444,
             "#000015"
            ],
            [
             0.5555555555555556,
             "#000016"
            ],
            [
             0.6666666666666666,
             "#000017"
            ],
            [
             0.7777777777777778,
             "#000018"
            ],
            [
             0.8888888888888888,
             "#000019"
            ],
            [
             1,
             "#000020"
            ]
           ]
          },
          "colorscale": {
           "diverging": [
            [
             0,
             "#000021"
            ],
            [
             0.1,
             "#000022"
            ],
            [
             0.2,
             "#000023"
            ],
            [
             0.3,
             "#000024"
            ],
            [
             0.4,
             "#000025"
            ],
            [
             0.5,
             "#000026"
            ],
            [
             0.6,
             "#000027"
            ],
            [
             0.7,
             "#000028"
            ],
            [
             0.8,
             "#000029"
            ],
            [
             0.9,
             "#000030"
            ],
            [
             1,
             "#000031"
            ]
           ],
           "sequential": [
            [
             0,
             "#000011"
            ],
            [
             0.1111111111111111,
             "#000012"
            ],
            [
             0.2222222222222222,
             "#000013"
            ],
            [
             0.3333333333333333,
             "#000014"
            ],
            [
             0.4444444444444444,
             "#000015"
            ],
            [
             0.5555555555555556,
             "#000016"
            ],
            [
             0.6666666666666666,
             "#000017"
            ],
            [
             0.7777777777777778,
             "#000018"
            ],
            [
             0.8888888888888888,
             "#000019"
            ],
            [
             1,
             "#000020"
            ]
           ],
           "sequentialminus": [
            [
             0,
             "#000011"
            ],
            [
             0.1111111111111111,
             "#000012"
            ],
            [
             0.2222222222222222,
             "#000013"
            ],
            [
             0.3333333333333333,
             "#000014"
            ],
            [
             0.4444444444444444,
             "#000015"
            ],
            [
             0.5555555555555556,
             "#000016"
            ],
            [
             0.6666666666666666,
             "#000017"
            ],
            [
             0.7777777777777778,
             "#000018"
            ],
            [
             0.8888888888888888,
             "#000019"
            ],
            [
             1,
             "#000020"
            ]
           ]
          },
          "colorway": [
           "#000001",
           "#000002",
           "#000003",
           "#000004",
           "#000005",
           "#000006",
           "#000007",
           "#000008",
           "#000009",
           "#000010"
          ]
         }
        },
        "title": {
         "font": {
          "size": 20
         },
         "text": "Android Platform Status Table"
        },
        "xaxis": {
         "showgrid": true,
         "tickfont": {
          "size": 14
         },
         "title": {
          "text": "Status"
         },
         "zeroline": false
        },
        "yaxis": {
         "showgrid": true,
         "tickfont": {
          "size": 14
         },
         "title": {
          "text": "Sheet Name"
         },
         "zeroline": false
        }
       }
      }
     },
     "metadata": {},
     "output_type": "display_data"
    }
   ],
   "source": [
    "import pandas as pd\n",
    "import plotly.graph_objects as go\n",
    "\n",
    "# Fixed list of statuses\n",
    "status_fixed = ['Passed', 'Failed', 'Not Started', 'N/A', 'In Progress', 'Blocked', 'Pass with Noted']\n",
    "\n",
    "# Define the external `sheetname` variable for y-axis\n",
    "sheetname = ['Prototype - Tiket Prod Issue PO']  # Add more sheet names as needed\n",
    "\n",
    "android_data = df_plot[df_plot['Platform'] == 'Android'].copy()  # Ensure this is a proper copy\n",
    "\n",
    "# Apply pd.Categorical to permanently update the column\n",
    "android_data['Status'] = pd.Categorical(android_data['Status'], categories=status_fixed, ordered=True)\n",
    "\n",
    "\n",
    "# Prepare the heatmap data\n",
    "z_df = android_data.pivot_table(\n",
    "    index=pd.Series(sheetname, name='Sheet Name'),\n",
    "    columns='Status',\n",
    "    values='Percentage',\n",
    "    aggfunc='mean',\n",
    "    observed=False  # Explicitly specify the behavior for categorical grouping\n",
    ").reindex(columns=status_fixed, fill_value=0)      # Reindex to include all statuses, fill missing values with 0\n",
    "\n",
    "# Create the heatmap\n",
    "fig = go.Figure(data=go.Heatmap(\n",
    "    z=z_df.values,        # Heatmap values\n",
    "    x=z_df.columns,       # Fixed statuses for x-axis\n",
    "    y=z_df.index,         # Sheet names for y-axis\n",
    "    colorscale='Viridis', # Color scale\n",
    "    showscale=False,      # Hide color scale to make it table-like\n",
    "    texttemplate=\"%{z:.2f}%\",  # Display values with 2 decimal points\n",
    "    textfont={\"size\": 14},     # Adjust font size for readability\n",
    "))\n",
    "\n",
    "# Update layout for table styling\n",
    "fig.update_layout(\n",
    "    title=dict(text='Android Platform Status Table', font=dict(size=20)),\n",
    "    xaxis=dict(\n",
    "        title='Status',\n",
    "        tickfont=dict(size=14),\n",
    "        showgrid=True,       # Show grid lines to mimic table borders\n",
    "        zeroline=False,\n",
    "    ),\n",
    "    yaxis=dict(\n",
    "        title='Sheet Name',\n",
    "        tickfont=dict(size=14),\n",
    "        showgrid=True,\n",
    "        zeroline=False,\n",
    "    ),\n",
    "    margin=dict(l=50, r=50, t=50, b=50),\n",
    "    height=400 + 20 * len(sheetname),  # Dynamically adjust height for multiple sheetnames\n",
    "    plot_bgcolor=\"white\",              # White background for table look\n",
    "    paper_bgcolor=\"white\",\n",
    ")\n",
    "\n",
    "# Add gridline style to make the plot look like a table\n",
    "fig.update_traces(\n",
    "    hoverinfo=\"text\",   # Display only text on hover\n",
    "    xgap=5,             # Space between x-axis cells\n",
    "    ygap=5,             # Space between y-axis cells\n",
    "    showscale=False     # Hide the color scale\n",
    ")\n",
    "\n",
    "fig.show()\n"
   ]
  },
  {
   "cell_type": "code",
   "execution_count": 20,
   "metadata": {},
   "outputs": [
    {
     "data": {
      "application/vnd.plotly.v1+json": {
       "config": {
        "plotlyServerURL": "https://plot.ly"
       },
       "data": [
        {
         "alignmentgroup": "True",
         "hovertemplate": "Platform=Android<br>Status=%{x}<br>Percentage=%{text}<extra></extra>",
         "legendgroup": "Android",
         "marker": {
          "color": "#FFA500",
          "line": {
           "color": "black",
           "width": 1.5
          },
          "pattern": {
           "shape": ""
          }
         },
         "name": "Android",
         "offsetgroup": "Android",
         "orientation": "v",
         "showlegend": true,
         "text": [
          38.89,
          22.22,
          16.67,
          16.67,
          5.56
         ],
         "textposition": "outside",
         "texttemplate": "%{text:.2f}%",
         "type": "bar",
         "x": [
          "Passed",
          "N/A",
          "Failed",
          "Not Started",
          "In Progress"
         ],
         "xaxis": "x",
         "y": [
          38.89,
          22.22,
          16.67,
          16.67,
          5.56
         ],
         "yaxis": "y"
        },
        {
         "alignmentgroup": "True",
         "hovertemplate": "Platform=iOS<br>Status=%{x}<br>Percentage=%{text}<extra></extra>",
         "legendgroup": "iOS",
         "marker": {
          "color": "#1E90FF",
          "line": {
           "color": "black",
           "width": 1.5
          },
          "pattern": {
           "shape": ""
          }
         },
         "name": "iOS",
         "offsetgroup": "iOS",
         "orientation": "v",
         "showlegend": true,
         "text": [
          52.63,
          5.26,
          15.79,
          26.32,
          null
         ],
         "textposition": "outside",
         "texttemplate": "%{text:.2f}%",
         "type": "bar",
         "x": [
          "Passed",
          "N/A",
          "Failed",
          "Not Started",
          "In Progress"
         ],
         "xaxis": "x",
         "y": [
          52.63,
          5.26,
          15.79,
          26.32,
          null
         ],
         "yaxis": "y"
        }
       ],
       "layout": {
        "barmode": "group",
        "height": 600,
        "legend": {
         "bgcolor": "#1E1E1E",
         "bordercolor": "black",
         "borderwidth": 1,
         "font": {
          "family": "Arial, sans-serif",
          "size": 12
         },
         "title": {
          "text": "<b>Platform</b>"
         },
         "tracegroupgap": 0
        },
        "margin": {
         "b": 50,
         "l": 50,
         "r": 50,
         "t": 80
        },
        "paper_bgcolor": "#1E1E1E",
        "plot_bgcolor": "#1E1E1E",
        "template": {
         "data": {
          "candlestick": [
           {
            "decreasing": {
             "line": {
              "color": "#000033"
             }
            },
            "increasing": {
             "line": {
              "color": "#000032"
             }
            },
            "type": "candlestick"
           }
          ],
          "contour": [
           {
            "colorscale": [
             [
              0,
              "#000011"
             ],
             [
              0.1111111111111111,
              "#000012"
             ],
             [
              0.2222222222222222,
              "#000013"
             ],
             [
              0.3333333333333333,
              "#000014"
             ],
             [
              0.4444444444444444,
              "#000015"
             ],
             [
              0.5555555555555556,
              "#000016"
             ],
             [
              0.6666666666666666,
              "#000017"
             ],
             [
              0.7777777777777778,
              "#000018"
             ],
             [
              0.8888888888888888,
              "#000019"
             ],
             [
              1,
              "#000020"
             ]
            ],
            "type": "contour"
           }
          ],
          "contourcarpet": [
           {
            "colorscale": [
             [
              0,
              "#000011"
             ],
             [
              0.1111111111111111,
              "#000012"
             ],
             [
              0.2222222222222222,
              "#000013"
             ],
             [
              0.3333333333333333,
              "#000014"
             ],
             [
              0.4444444444444444,
              "#000015"
             ],
             [
              0.5555555555555556,
              "#000016"
             ],
             [
              0.6666666666666666,
              "#000017"
             ],
             [
              0.7777777777777778,
              "#000018"
             ],
             [
              0.8888888888888888,
              "#000019"
             ],
             [
              1,
              "#000020"
             ]
            ],
            "type": "contourcarpet"
           }
          ],
          "heatmap": [
           {
            "colorscale": [
             [
              0,
              "#000011"
             ],
             [
              0.1111111111111111,
              "#000012"
             ],
             [
              0.2222222222222222,
              "#000013"
             ],
             [
              0.3333333333333333,
              "#000014"
             ],
             [
              0.4444444444444444,
              "#000015"
             ],
             [
              0.5555555555555556,
              "#000016"
             ],
             [
              0.6666666666666666,
              "#000017"
             ],
             [
              0.7777777777777778,
              "#000018"
             ],
             [
              0.8888888888888888,
              "#000019"
             ],
             [
              1,
              "#000020"
             ]
            ],
            "type": "heatmap"
           }
          ],
          "histogram2d": [
           {
            "colorscale": [
             [
              0,
              "#000011"
             ],
             [
              0.1111111111111111,
              "#000012"
             ],
             [
              0.2222222222222222,
              "#000013"
             ],
             [
              0.3333333333333333,
              "#000014"
             ],
             [
              0.4444444444444444,
              "#000015"
             ],
             [
              0.5555555555555556,
              "#000016"
             ],
             [
              0.6666666666666666,
              "#000017"
             ],
             [
              0.7777777777777778,
              "#000018"
             ],
             [
              0.8888888888888888,
              "#000019"
             ],
             [
              1,
              "#000020"
             ]
            ],
            "type": "histogram2d"
           }
          ],
          "icicle": [
           {
            "textfont": {
             "color": "white"
            },
            "type": "icicle"
           }
          ],
          "sankey": [
           {
            "textfont": {
             "color": "#000036"
            },
            "type": "sankey"
           }
          ],
          "scatter": [
           {
            "marker": {
             "line": {
              "width": 0
             }
            },
            "type": "scatter"
           }
          ],
          "table": [
           {
            "cells": {
             "fill": {
              "color": "#000038"
             },
             "font": {
              "color": "#000037"
             },
             "line": {
              "color": "#000039"
             }
            },
            "header": {
             "fill": {
              "color": "#000040"
             },
             "font": {
              "color": "#000036"
             },
             "line": {
              "color": "#000039"
             }
            },
            "type": "table"
           }
          ],
          "waterfall": [
           {
            "connector": {
             "line": {
              "color": "#000036",
              "width": 2
             }
            },
            "decreasing": {
             "marker": {
              "color": "#000033"
             }
            },
            "increasing": {
             "marker": {
              "color": "#000032"
             }
            },
            "totals": {
             "marker": {
              "color": "#000034"
             }
            },
            "type": "waterfall"
           }
          ]
         },
         "layout": {
          "coloraxis": {
           "colorscale": [
            [
             0,
             "#000011"
            ],
            [
             0.1111111111111111,
             "#000012"
            ],
            [
             0.2222222222222222,
             "#000013"
            ],
            [
             0.3333333333333333,
             "#000014"
            ],
            [
             0.4444444444444444,
             "#000015"
            ],
            [
             0.5555555555555556,
             "#000016"
            ],
            [
             0.6666666666666666,
             "#000017"
            ],
            [
             0.7777777777777778,
             "#000018"
            ],
            [
             0.8888888888888888,
             "#000019"
            ],
            [
             1,
             "#000020"
            ]
           ]
          },
          "colorscale": {
           "diverging": [
            [
             0,
             "#000021"
            ],
            [
             0.1,
             "#000022"
            ],
            [
             0.2,
             "#000023"
            ],
            [
             0.3,
             "#000024"
            ],
            [
             0.4,
             "#000025"
            ],
            [
             0.5,
             "#000026"
            ],
            [
             0.6,
             "#000027"
            ],
            [
             0.7,
             "#000028"
            ],
            [
             0.8,
             "#000029"
            ],
            [
             0.9,
             "#000030"
            ],
            [
             1,
             "#000031"
            ]
           ],
           "sequential": [
            [
             0,
             "#000011"
            ],
            [
             0.1111111111111111,
             "#000012"
            ],
            [
             0.2222222222222222,
             "#000013"
            ],
            [
             0.3333333333333333,
             "#000014"
            ],
            [
             0.4444444444444444,
             "#000015"
            ],
            [
             0.5555555555555556,
             "#000016"
            ],
            [
             0.6666666666666666,
             "#000017"
            ],
            [
             0.7777777777777778,
             "#000018"
            ],
            [
             0.8888888888888888,
             "#000019"
            ],
            [
             1,
             "#000020"
            ]
           ],
           "sequentialminus": [
            [
             0,
             "#000011"
            ],
            [
             0.1111111111111111,
             "#000012"
            ],
            [
             0.2222222222222222,
             "#000013"
            ],
            [
             0.3333333333333333,
             "#000014"
            ],
            [
             0.4444444444444444,
             "#000015"
            ],
            [
             0.5555555555555556,
             "#000016"
            ],
            [
             0.6666666666666666,
             "#000017"
            ],
            [
             0.7777777777777778,
             "#000018"
            ],
            [
             0.8888888888888888,
             "#000019"
            ],
            [
             1,
             "#000020"
            ]
           ]
          },
          "colorway": [
           "#000001",
           "#000002",
           "#000003",
           "#000004",
           "#000005",
           "#000006",
           "#000007",
           "#000008",
           "#000009",
           "#000010"
          ]
         }
        },
        "title": {
         "font": {
          "family": "Arial, sans-serif",
          "size": 20
         },
         "text": "<b>Status Distribution by Platform (Version PTR Ver Android 1.0.3 (272) iOS 1.0.3 (266))</b>",
         "x": 0.5
        },
        "width": 1000,
        "xaxis": {
         "anchor": "y",
         "domain": [
          0,
          1
         ],
         "tickangle": -45,
         "tickfont": {
          "family": "Arial, sans-serif",
          "size": 12
         },
         "title": {
          "text": "<b>Status</b>"
         }
        },
        "yaxis": {
         "anchor": "x",
         "domain": [
          0,
          1
         ],
         "tickfont": {
          "family": "Arial, sans-serif",
          "size": 12
         },
         "title": {
          "text": "<b>Percentage (%)</b>"
         }
        }
       }
      }
     },
     "metadata": {},
     "output_type": "display_data"
    }
   ],
   "source": [
    "progress_plot(df_plot=df_plot, version=version_chosen)"
   ]
  },
  {
   "cell_type": "code",
   "execution_count": 48,
   "metadata": {},
   "outputs": [],
   "source": [
    "def truncate_and_wrap(text, max_words=5):\n",
    "    words = text.split()\n",
    "    if len(words) > max_words:\n",
    "        first_line = \" \".join(words[:max_words])\n",
    "        second_line = \" \".join(words[max_words:max_words*2])\n",
    "        truncated_text = f\"{first_line}\\n{second_line}\"\n",
    "    else:\n",
    "        truncated_text = \" \".join(words)\n",
    "    return truncated_text\n",
    "\n",
    "def normalize_text(text):\n",
    "    if isinstance(text, str):\n",
    "        return text.strip().lower()\n",
    "    else:\n",
    "        return str(text).lower()  # Convert to string if it's not already, then normalize"
   ]
  },
  {
   "cell_type": "code",
   "execution_count": 53,
   "metadata": {},
   "outputs": [],
   "source": [
    "import textwrap\n",
    "\n",
    "def wrap_text(text, width=50):\n",
    "    return '\\n'.join(textwrap.wrap(text, width))"
   ]
  },
  {
   "cell_type": "code",
   "execution_count": null,
   "metadata": {},
   "outputs": [
    {
     "ename": "KeyError",
     "evalue": "2",
     "output_type": "error",
     "traceback": [
      "\u001b[1;31m---------------------------------------------------------------------------\u001b[0m",
      "\u001b[1;31mKeyError\u001b[0m                                  Traceback (most recent call last)",
      "Cell \u001b[1;32mIn[108], line 1\u001b[0m\n\u001b[1;32m----> 1\u001b[0m \u001b[43mnode_indices\u001b[49m\u001b[43m[\u001b[49m\u001b[38;5;241;43m2\u001b[39;49m\u001b[43m]\u001b[49m\n",
      "\u001b[1;31mKeyError\u001b[0m: 2"
     ]
    }
   ],
   "source": [
    "node_indices[]"
   ]
  },
  {
   "cell_type": "code",
   "execution_count": 133,
   "metadata": {},
   "outputs": [
    {
     "data": {
      "application/vnd.plotly.v1+json": {
       "config": {
        "plotlyServerURL": "https://plot.ly"
       },
       "data": [
        {
         "link": {
          "color": [
           "rgba(253, 50, 22, 0.3)",
           "rgba(144, 238, 144, 0.3)",
           "rgba(0, 254, 53, 0.3)",
           "rgba(144, 238, 144, 0.3)",
           "rgba(0, 254, 53, 0.3)",
           "rgba(144, 238, 144, 0.3)",
           "rgba(106, 118, 252, 0.3)",
           "rgba(214, 38, 255, 0.3)",
           "rgba(205, 92, 92, 0.3)",
           "rgba(106, 118, 252, 0.3)",
           "rgba(214, 38, 255, 0.3)",
           "rgba(205, 92, 92, 0.3)",
           "rgba(254, 212, 196, 0.3)",
           "rgba(144, 238, 144, 0.3)",
           "rgba(254, 212, 196, 0.3)",
           "rgba(144, 238, 144, 0.3)",
           "rgba(254, 0, 206, 0.3)",
           "rgba(254, 0, 206, 0.3)",
           "rgba(205, 92, 92, 0.3)",
           "rgba(254, 0, 206, 0.3)",
           "rgba(254, 0, 206, 0.3)",
           "rgba(205, 92, 92, 0.3)",
           "rgba(13, 249, 255, 0.3)",
           "rgba(144, 238, 144, 0.3)",
           "rgba(13, 249, 255, 0.3)",
           "rgba(144, 238, 144, 0.3)",
           "rgba(246, 249, 38, 0.3)",
           "rgba(255, 150, 22, 0.3)",
           "rgba(192, 192, 192, 0.3)",
           "rgba(255, 150, 22, 0.3)",
           "rgba(144, 238, 144, 0.3)",
           "rgba(71, 155, 85, 0.3)",
           "rgba(144, 238, 144, 0.3)",
           "rgba(71, 155, 85, 0.3)",
           "rgba(144, 238, 144, 0.3)",
           "rgba(238, 166, 251, 0.3)",
           "rgba(214, 38, 255, 0.3)",
           "rgba(205, 92, 92, 0.3)",
           "rgba(238, 166, 251, 0.3)",
           "rgba(214, 38, 255, 0.3)",
           "rgba(205, 92, 92, 0.3)",
           "rgba(220, 88, 125, 0.3)",
           "rgba(144, 238, 144, 0.3)",
           "rgba(214, 38, 255, 0.3)",
           "rgba(214, 38, 255, 0.3)",
           "rgba(192, 192, 192, 0.3)",
           "rgba(214, 38, 255, 0.3)",
           "rgba(214, 38, 255, 0.3)",
           "rgba(192, 192, 192, 0.3)",
           "rgba(110, 137, 156, 0.3)",
           "rgba(144, 238, 144, 0.3)",
           "rgba(110, 137, 156, 0.3)",
           "rgba(144, 238, 144, 0.3)",
           "rgba(0, 181, 247, 0.3)",
           "rgba(144, 238, 144, 0.3)",
           "rgba(0, 181, 247, 0.3)",
           "rgba(144, 238, 144, 0.3)",
           "rgba(182, 142, 0, 0.3)",
           "rgba(144, 238, 144, 0.3)",
           "rgba(182, 142, 0, 0.3)",
           "rgba(144, 238, 144, 0.3)",
           "rgba(201, 251, 229, 0.3)",
           "rgba(227, 238, 158, 0.3)",
           "rgba(192, 192, 192, 0.3)",
           "rgba(255, 0, 146, 0.3)",
           "rgba(227, 238, 158, 0.3)",
           "rgba(192, 192, 192, 0.3)",
           "rgba(34, 255, 167, 0.3)",
           "rgba(227, 238, 158, 0.3)",
           "rgba(192, 192, 192, 0.3)",
           "rgba(34, 255, 167, 0.3)",
           "rgba(227, 238, 158, 0.3)",
           "rgba(192, 192, 192, 0.3)",
           "rgba(227, 238, 158, 0.3)",
           "rgba(227, 238, 158, 0.3)",
           "rgba(192, 192, 192, 0.3)",
           "rgba(227, 238, 158, 0.3)",
           "rgba(227, 238, 158, 0.3)",
           "rgba(192, 192, 192, 0.3)"
          ],
          "source": [
           25,
           50,
           40,
           50,
           40,
           50,
           9,
           5,
           12,
           9,
           5,
           12,
           19,
           50,
           19,
           50,
           36,
           44,
           12,
           36,
           44,
           12,
           2,
           50,
           2,
           50,
           15,
           52,
           6,
           53,
           50,
           45,
           50,
           45,
           50,
           4,
           5,
           12,
           4,
           5,
           12,
           22,
           50,
           37,
           5,
           10,
           37,
           5,
           10,
           17,
           50,
           17,
           50,
           56,
           50,
           56,
           50,
           35,
           50,
           35,
           50,
           32,
           49,
           10,
           47,
           49,
           10,
           43,
           49,
           10,
           43,
           49,
           10,
           3,
           49,
           10,
           3,
           49,
           10
          ],
          "target": [
           50,
           41,
           50,
           24,
           50,
           41,
           5,
           12,
           24,
           5,
           12,
           41,
           50,
           24,
           50,
           41,
           44,
           12,
           24,
           44,
           12,
           41,
           50,
           24,
           50,
           41,
           52,
           6,
           24,
           50,
           41,
           50,
           24,
           50,
           41,
           5,
           12,
           24,
           5,
           12,
           41,
           50,
           41,
           5,
           10,
           24,
           5,
           10,
           41,
           50,
           24,
           50,
           41,
           50,
           24,
           50,
           41,
           50,
           24,
           50,
           41,
           49,
           10,
           41,
           49,
           10,
           41,
           49,
           10,
           24,
           49,
           10,
           41,
           49,
           10,
           24,
           49,
           10,
           41
          ],
          "value": [
           1,
           1,
           1,
           1,
           1,
           1,
           1,
           1,
           1,
           1,
           1,
           1,
           1,
           1,
           1,
           1,
           1,
           1,
           1,
           1,
           1,
           1,
           1,
           1,
           1,
           1,
           1,
           1,
           1,
           1,
           1,
           1,
           1,
           1,
           1,
           1,
           1,
           1,
           1,
           1,
           1,
           1,
           1,
           1,
           1,
           1,
           1,
           1,
           1,
           1,
           1,
           1,
           1,
           1,
           1,
           1,
           1,
           1,
           1,
           1,
           1,
           1,
           1,
           1,
           1,
           1,
           1,
           1,
           1,
           1,
           1,
           1,
           1,
           1,
           1,
           1,
           1,
           1,
           1
          ]
         },
         "node": {
          "color": [
           "rgba(200, 200, 200, 0.8)",
           "rgba(200, 200, 200, 0.8)",
           "rgba(13, 249, 255, 1)",
           "rgba(227, 238, 158, 1)",
           "rgba(238, 166, 251, 1)",
           "rgba(214, 38, 255, 1)",
           "rgba(200, 200, 200, 0.8)",
           "rgba(200, 200, 200, 0.8)",
           "rgba(200, 200, 200, 0.8)",
           "rgba(106, 118, 252, 1)",
           "rgba(200, 200, 200, 0.8)",
           "rgba(200, 200, 200, 0.8)",
           "rgba(205, 92, 92, 0.8)",
           "rgba(200, 200, 200, 0.8)",
           "rgba(200, 200, 200, 0.8)",
           "rgba(246, 249, 38, 1)",
           "rgba(200, 200, 200, 0.8)",
           "rgba(110, 137, 156, 1)",
           "rgba(200, 200, 200, 0.8)",
           "rgba(254, 212, 196, 1)",
           "rgba(200, 200, 200, 0.8)",
           "rgba(200, 200, 200, 0.8)",
           "rgba(220, 88, 125, 1)",
           "rgba(200, 200, 200, 0.8)",
           "rgba(64, 224, 208, 0.8)",
           "rgba(253, 50, 22, 1)",
           "rgba(200, 200, 200, 0.8)",
           "rgba(200, 200, 200, 0.8)",
           "rgba(200, 200, 200, 0.8)",
           "rgba(200, 200, 200, 0.8)",
           "rgba(200, 200, 200, 0.8)",
           "rgba(200, 200, 200, 0.8)",
           "rgba(201, 251, 229, 1)",
           "rgba(200, 200, 200, 0.8)",
           "rgba(200, 200, 200, 0.8)",
           "rgba(182, 142, 0, 1)",
           "rgba(254, 0, 206, 1)",
           "rgba(214, 38, 255, 1)",
           "rgba(200, 200, 200, 0.8)",
           "rgba(200, 200, 200, 0.8)",
           "rgba(0, 254, 53, 1)",
           "rgba(70, 130, 180, 0.8)",
           "rgba(200, 200, 200, 0.8)",
           "rgba(34, 255, 167, 1)",
           "rgba(254, 0, 206, 1)",
           "rgba(71, 155, 85, 1)",
           "rgba(200, 200, 200, 0.8)",
           "rgba(255, 0, 146, 1)",
           "rgba(200, 200, 200, 0.8)",
           "rgba(227, 238, 158, 1)",
           "rgba(144, 238, 144, 0.8)",
           "rgba(200, 200, 200, 0.8)",
           "rgba(255, 150, 22, 1)",
           "rgba(255, 150, 22, 1)",
           "rgba(200, 200, 200, 0.8)",
           "rgba(200, 200, 200, 0.8)",
           "rgba(0, 181, 247, 1)"
          ],
          "customdata": [
           "12 <br>Incoming: 0 <br>Outgoing: 0",
           "18.01 <br>Incoming: 0 <br>Outgoing: 0",
           "PS-837 : RELEASE-B-IOS-KONTEN DISCLOSURE TIDAK<br>SESUAI-FIDYA-ASSET <br>Incoming: 0 <br>Outgoing: 2",
           "PB-708 : Pengecekan transaksi Topup eWallet DANA<br>dengan spek SNAP, telah masuk pada sistem rekon<br>dengan partnerReferenceNo dan<br>transactionCode yang benar <br>Incoming: 0 <br>Outgoing: 2",
           "PS-832 : Release B - Android - List Banner BYOND<br>LYFE hanya bisa 10 banner - Engagement <br>Incoming: 0 <br>Outgoing: 2",
           "Donasi <br>Incoming: 6 <br>Outgoing: 6",
           "In Progress <br>Incoming: 1 <br>Outgoing: 1",
           "iPhone XS <br>Incoming: 0 <br>Outgoing: 0",
           "Galaxy A13 <br>Incoming: 0 <br>Outgoing: 0",
           "PS-817: RELEASE B- iOS & Android - Push Notif dari<br>Banner ketika di klik masuk ke halaman kosong atau<br>kendala <br>Incoming: 0 <br>Outgoing: 2",
           "Not Started <br>Incoming: 8 <br>Outgoing: 8",
           "Iphone 15 Pro max <br>Incoming: 0 <br>Outgoing: 0",
           "Failed <br>Incoming: 6 <br>Outgoing: 6",
           "Samsung A52 <br>Incoming: 0 <br>Outgoing: 0",
           "iPhone 15 Pro max <br>Incoming: 0 <br>Outgoing: 0",
           "PB-669 : Release B - Android - Push Notif Jadwal<br>Sholat tidak sesui - Engagement <br>Incoming: 0 <br>Outgoing: 1",
           "14 <br>Incoming: 0 <br>Outgoing: 0",
           "PS-844  : RELEASE-8-ANDROID-DETAIL FIELD PADA<br>PORTFOLIO BAHASA INGGRIS-FIDYA-ASSET <br>Incoming: 0 <br>Outgoing: 2",
           "nan <br>Incoming: 0 <br>Outgoing: 0",
           "PS-826 : RELEASE-B-IOS & ANDROID-BAR PORTFOLIO<br>CICIL EMAS TIDAK SESUAI-FIDYA-ASSET <br>Incoming: 0 <br>Outgoing: 2",
           "Iphone 15 Pro <br>Incoming: 0 <br>Outgoing: 0",
           "13 <br>Incoming: 0 <br>Outgoing: 0",
           "PS-839 : Manajemen Kartu Debit (nama pada cetak<br>kartu) IOS-INDAH <br>Incoming: 0 <br>Outgoing: 1",
           "Galaxy S20+ <br>Incoming: 0 <br>Outgoing: 0",
           "Android <br>Incoming: 14 <br>Outgoing: 0",
           "PS-495 : RELEASE A - IOS - Tidak bisa klik banner<br>donasi - IIN <br>Incoming: 0 <br>Outgoing: 1",
           "Realme 8 <br>Incoming: 0 <br>Outgoing: 0",
           "Samsung Galaxy S22 <br>Incoming: 0 <br>Outgoing: 0",
           "Samsung Note 10 <br>Incoming: 0 <br>Outgoing: 0",
           "iPhone 12 <br>Incoming: 0 <br>Outgoing: 0",
           "17.6.1 <br>Incoming: 0 <br>Outgoing: 0",
           "16.3 <br>Incoming: 0 <br>Outgoing: 0",
           "PB-682 : Prod 1.08(29) - Pilih Asuransi - Hansel -<br>DCX - IOS <br>Incoming: 0 <br>Outgoing: 1",
           "18.0.1 <br>Incoming: 0 <br>Outgoing: 0",
           "iPhone 14 <br>Incoming: 0 <br>Outgoing: 0",
           "PB-661 : Semoke test Andorid & iOS - Mitraguna<br>Force Closed ketika pilih object refinancing -<br>Rosalyn <br>Incoming: 0 <br>Outgoing: 2",
           "PS-836  : RELEASE B - Android & IOS - PEMBIAYAAN -<br>Issue Perpanjangan Gadai Emas (Perhitungan Biaya<br>Perpanjangan Gadai Emas Tanda Minus nya Tidak<br>Sesuai) - FIDYA - ASSET <br>Incoming: 0 <br>Outgoing: 2",
           "RS1-2650 : Perbaikan PartnerReferenceNo di Top Up<br>Direct OVO <br>Incoming: 0 <br>Outgoing: 2",
           "Ipad Mini 5 <br>Incoming: 0 <br>Outgoing: 0",
           "16.1 <br>Incoming: 0 <br>Outgoing: 0",
           "PS-833 : IOS - TRF TERJADWAL SEKALI GAGAL <br>Incoming: 0 <br>Outgoing: 2",
           "iOS <br>Incoming: 18 <br>Outgoing: 0",
           "nan <br>Incoming: 0 <br>Outgoing: 0",
           "PB-707 : Pengecekan transaksi MPN untuk biller<br>DJBC, DJP dan DJA, telah diterima sistem TFE untuk<br>keperluan reporting dan rekonsiliasi ke Kemenkeu <br>Incoming: 0 <br>Outgoing: 2",
           "Gadai Emas <br>Incoming: 2 <br>Outgoing: 2",
           "PS-834  : Android - Berbagi - double click banner <br>Incoming: 0 <br>Outgoing: 2",
           "17.7.1 <br>Incoming: 0 <br>Outgoing: 0",
           "PB-689 : Prod 1.08(29) - properti bayar beli <br>Incoming: 0 <br>Outgoing: 1",
           "Samsung A51 <br>Incoming: 0 <br>Outgoing: 0",
           "All feature <br>Incoming: 6 <br>Outgoing: 6",
           "Passed <br>Incoming: 17 <br>Outgoing: 17",
           "iPhone 15 <br>Incoming: 0 <br>Outgoing: 0",
           "Cicil Emas <br>Incoming: 1 <br>Outgoing: 1",
           "PB-670 : Manajemen kartu (muncul tabungan jajan<br>untuk IOS) <br>Incoming: 0 <br>Outgoing: 1",
           "iPhone 11 <br>Incoming: 0 <br>Outgoing: 0",
           "18.1 <br>Incoming: 0 <br>Outgoing: 0",
           "PB-666 : Gagal QRIS MPM DINAMIS - ver 1.0.8 (260) <br>Incoming: 0 <br>Outgoing: 2"
          ],
          "hovertemplate": "%{customdata}<extra></extra>",
          "label": [
           "12",
           "18.01",
           "PS-837 : RELEASE-B-I...",
           "PB-708 : Pengecekan ...",
           "PS-832 : Release B -...",
           "Donasi",
           "In Progress",
           "iPhone XS",
           "Galaxy A13",
           "PS-817: RELEASE B- i...",
           "Not Started",
           "Iphone 15 Pro max",
           "Failed",
           "Samsung A52",
           "iPhone 15 Pro max",
           "PB-669 : Release B -...",
           "14",
           "PS-844\t: RELEASE-8-A...",
           "nan",
           "PS-826 : RELEASE-B-I...",
           "Iphone 15 Pro",
           "13",
           "PS-839 : Manajemen K...",
           "Galaxy S20+",
           "Android",
           "PS-495 : RELEASE A -...",
           "Realme 8",
           "Samsung Galaxy S22",
           "Samsung Note 10",
           "iPhone 12",
           "17.6.1",
           "16.3",
           "PB-682 : Prod 1.08(2...",
           "18.0.1",
           "iPhone 14",
           "PB-661 : Semoke test...",
           "PS-836\t: RELEASE B -...",
           "RS1-2650 : Perbaikan...",
           "Ipad Mini 5",
           "16.1",
           "PS-833 : IOS - TRF T...",
           "iOS",
           "nan",
           "PB-707 : Pengecekan ...",
           "Gadai Emas",
           "PS-834\t: Android - B...",
           "17.7.1",
           "PB-689 : Prod 1.08(2...",
           "Samsung A51",
           "All feature",
           "Passed",
           "iPhone 15",
           "Cicil Emas",
           "PB-670 : Manajemen k...",
           "iPhone 11",
           "18.1",
           "PB-666 : Gagal QRIS ..."
          ],
          "line": {
           "color": "black",
           "width": 0.5
          },
          "pad": 15,
          "thickness": 20
         },
         "type": "sankey"
        }
       ],
       "layout": {
        "font": {
         "color": "white",
         "size": 14
        },
        "height": 700,
        "margin": {
         "b": 20,
         "l": 20,
         "r": 20,
         "t": 20
        },
        "paper_bgcolor": "#1E1E1E",
        "plot_bgcolor": "#1E1E1E",
        "template": {
         "data": {
          "candlestick": [
           {
            "decreasing": {
             "line": {
              "color": "#000033"
             }
            },
            "increasing": {
             "line": {
              "color": "#000032"
             }
            },
            "type": "candlestick"
           }
          ],
          "contour": [
           {
            "colorscale": [
             [
              0,
              "#000011"
             ],
             [
              0.1111111111111111,
              "#000012"
             ],
             [
              0.2222222222222222,
              "#000013"
             ],
             [
              0.3333333333333333,
              "#000014"
             ],
             [
              0.4444444444444444,
              "#000015"
             ],
             [
              0.5555555555555556,
              "#000016"
             ],
             [
              0.6666666666666666,
              "#000017"
             ],
             [
              0.7777777777777778,
              "#000018"
             ],
             [
              0.8888888888888888,
              "#000019"
             ],
             [
              1,
              "#000020"
             ]
            ],
            "type": "contour"
           }
          ],
          "contourcarpet": [
           {
            "colorscale": [
             [
              0,
              "#000011"
             ],
             [
              0.1111111111111111,
              "#000012"
             ],
             [
              0.2222222222222222,
              "#000013"
             ],
             [
              0.3333333333333333,
              "#000014"
             ],
             [
              0.4444444444444444,
              "#000015"
             ],
             [
              0.5555555555555556,
              "#000016"
             ],
             [
              0.6666666666666666,
              "#000017"
             ],
             [
              0.7777777777777778,
              "#000018"
             ],
             [
              0.8888888888888888,
              "#000019"
             ],
             [
              1,
              "#000020"
             ]
            ],
            "type": "contourcarpet"
           }
          ],
          "heatmap": [
           {
            "colorscale": [
             [
              0,
              "#000011"
             ],
             [
              0.1111111111111111,
              "#000012"
             ],
             [
              0.2222222222222222,
              "#000013"
             ],
             [
              0.3333333333333333,
              "#000014"
             ],
             [
              0.4444444444444444,
              "#000015"
             ],
             [
              0.5555555555555556,
              "#000016"
             ],
             [
              0.6666666666666666,
              "#000017"
             ],
             [
              0.7777777777777778,
              "#000018"
             ],
             [
              0.8888888888888888,
              "#000019"
             ],
             [
              1,
              "#000020"
             ]
            ],
            "type": "heatmap"
           }
          ],
          "histogram2d": [
           {
            "colorscale": [
             [
              0,
              "#000011"
             ],
             [
              0.1111111111111111,
              "#000012"
             ],
             [
              0.2222222222222222,
              "#000013"
             ],
             [
              0.3333333333333333,
              "#000014"
             ],
             [
              0.4444444444444444,
              "#000015"
             ],
             [
              0.5555555555555556,
              "#000016"
             ],
             [
              0.6666666666666666,
              "#000017"
             ],
             [
              0.7777777777777778,
              "#000018"
             ],
             [
              0.8888888888888888,
              "#000019"
             ],
             [
              1,
              "#000020"
             ]
            ],
            "type": "histogram2d"
           }
          ],
          "icicle": [
           {
            "textfont": {
             "color": "white"
            },
            "type": "icicle"
           }
          ],
          "sankey": [
           {
            "textfont": {
             "color": "#000036"
            },
            "type": "sankey"
           }
          ],
          "scatter": [
           {
            "marker": {
             "line": {
              "width": 0
             }
            },
            "type": "scatter"
           }
          ],
          "table": [
           {
            "cells": {
             "fill": {
              "color": "#000038"
             },
             "font": {
              "color": "#000037"
             },
             "line": {
              "color": "#000039"
             }
            },
            "header": {
             "fill": {
              "color": "#000040"
             },
             "font": {
              "color": "#000036"
             },
             "line": {
              "color": "#000039"
             }
            },
            "type": "table"
           }
          ],
          "waterfall": [
           {
            "connector": {
             "line": {
              "color": "#000036",
              "width": 2
             }
            },
            "decreasing": {
             "marker": {
              "color": "#000033"
             }
            },
            "increasing": {
             "marker": {
              "color": "#000032"
             }
            },
            "totals": {
             "marker": {
              "color": "#000034"
             }
            },
            "type": "waterfall"
           }
          ]
         },
         "layout": {
          "coloraxis": {
           "colorscale": [
            [
             0,
             "#000011"
            ],
            [
             0.1111111111111111,
             "#000012"
            ],
            [
             0.2222222222222222,
             "#000013"
            ],
            [
             0.3333333333333333,
             "#000014"
            ],
            [
             0.4444444444444444,
             "#000015"
            ],
            [
             0.5555555555555556,
             "#000016"
            ],
            [
             0.6666666666666666,
             "#000017"
            ],
            [
             0.7777777777777778,
             "#000018"
            ],
            [
             0.8888888888888888,
             "#000019"
            ],
            [
             1,
             "#000020"
            ]
           ]
          },
          "colorscale": {
           "diverging": [
            [
             0,
             "#000021"
            ],
            [
             0.1,
             "#000022"
            ],
            [
             0.2,
             "#000023"
            ],
            [
             0.3,
             "#000024"
            ],
            [
             0.4,
             "#000025"
            ],
            [
             0.5,
             "#000026"
            ],
            [
             0.6,
             "#000027"
            ],
            [
             0.7,
             "#000028"
            ],
            [
             0.8,
             "#000029"
            ],
            [
             0.9,
             "#000030"
            ],
            [
             1,
             "#000031"
            ]
           ],
           "sequential": [
            [
             0,
             "#000011"
            ],
            [
             0.1111111111111111,
             "#000012"
            ],
            [
             0.2222222222222222,
             "#000013"
            ],
            [
             0.3333333333333333,
             "#000014"
            ],
            [
             0.4444444444444444,
             "#000015"
            ],
            [
             0.5555555555555556,
             "#000016"
            ],
            [
             0.6666666666666666,
             "#000017"
            ],
            [
             0.7777777777777778,
             "#000018"
            ],
            [
             0.8888888888888888,
             "#000019"
            ],
            [
             1,
             "#000020"
            ]
           ],
           "sequentialminus": [
            [
             0,
             "#000011"
            ],
            [
             0.1111111111111111,
             "#000012"
            ],
            [
             0.2222222222222222,
             "#000013"
            ],
            [
             0.3333333333333333,
             "#000014"
            ],
            [
             0.4444444444444444,
             "#000015"
            ],
            [
             0.5555555555555556,
             "#000016"
            ],
            [
             0.6666666666666666,
             "#000017"
            ],
            [
             0.7777777777777778,
             "#000018"
            ],
            [
             0.8888888888888888,
             "#000019"
            ],
            [
             1,
             "#000020"
            ]
           ]
          },
          "colorway": [
           "#000001",
           "#000002",
           "#000003",
           "#000004",
           "#000005",
           "#000006",
           "#000007",
           "#000008",
           "#000009",
           "#000010"
          ]
         }
        },
        "width": 1000
       }
      }
     },
     "metadata": {},
     "output_type": "display_data"
    }
   ],
   "source": [
    "nodes = list(set(\n",
    "    df['Features'].tolist() +\n",
    "    df['Sub-features'].tolist() +\n",
    "    df['OS'].tolist() +\n",
    "    df['OS Version'].tolist() +\n",
    "    df['Tipe Device HP'].tolist() +\n",
    "    df[\"Status \"+ version_chosen].tolist()\n",
    "))\n",
    "\n",
    "def wrap_long_name(name, width=50):\n",
    "    return '<br>'.join(textwrap.wrap(str(name), width))\n",
    "\n",
    "# Create short labels for Sankey plot without modifying the original df\n",
    "node_indices = {\n",
    "    node: (str(node)[:20] + \"...\") if isinstance(node, str) and len(str(node)) > 20 else str(node)\n",
    "    for node in nodes\n",
    "}\n",
    "\n",
    "# Create a list of shortened node labels for the Sankey plot\n",
    "short_nodes = [node_indices[node] for node in nodes]\n",
    "\n",
    "long_nodes = [wrap_long_name(node) for node in nodes]\n",
    "\n",
    "# Create flows (source → target)\n",
    "sources = []\n",
    "targets = []\n",
    "values = []\n",
    "\n",
    "# Generate sources and targets for the Sankey diagram\n",
    "for _, row in df.iterrows():\n",
    "    feature = row[\"Features\"]\n",
    "    sub_feature = row[\"Sub-features\"]\n",
    "    status = row[\"Status \"+ version_chosen]\n",
    "    os_type = row[\"OS\"]\n",
    "\n",
    "    # Feature -> Status -> OS if Status is \"Passed\"\n",
    "    if status == \"Passed\":\n",
    "        sources.append(nodes.index(feature))  # Feature -> Status\n",
    "        targets.append(nodes.index(status))\n",
    "        values.append(1)\n",
    "\n",
    "        sources.append(nodes.index(status))  # Status -> OS\n",
    "        targets.append(nodes.index(os_type))\n",
    "        values.append(1)\n",
    "\n",
    "    # Feature -> Sub-feature -> Status -> OS if Status is \"Failed\"\n",
    "    elif status == \"Failed\" or status == \"N/A\" or status == \"In Progress\" or status == \"Not Started\":\n",
    "        sources.append(nodes.index(feature))  # Feature -> Sub-feature\n",
    "        targets.append(nodes.index(sub_feature))\n",
    "        values.append(1)\n",
    "\n",
    "        sources.append(nodes.index(sub_feature))  # Sub-feature -> Status\n",
    "        targets.append(nodes.index(status))\n",
    "        values.append(1)\n",
    "\n",
    "        sources.append(nodes.index(status))  # Status -> OS\n",
    "        targets.append(nodes.index(os_type))\n",
    "        values.append(1)\n",
    "        \n",
    "    # Calculate incoming and outgoing flows\n",
    "    incoming_flows = {node: 0 for node in nodes}\n",
    "    outgoing_flows = {node: 0 for node in nodes}\n",
    "\n",
    "    for source, target in zip(sources, targets):\n",
    "        outgoing_flows[nodes[source]] += 1  # Increase the outgoing flow count for the source node\n",
    "        incoming_flows[nodes[target]] += 1  # Increase the incoming flow count for the target node\n",
    "\n",
    "    # Prepare customdata with both incoming and outgoing flows\n",
    "    customdata = [\n",
    "        f\"{long_name} <br>Incoming: {incoming_flows[node]} <br>Outgoing: {outgoing_flows[node]}\"\n",
    "        for node, long_name in zip(nodes, long_nodes)\n",
    "    ]\n",
    "        \n",
    "    # Assign a default value of 1 for each connection\n",
    "    values = [1] * len(sources)\n",
    "\n",
    "    # Use a qualitative color scale for high contrast (e.g., Plotly's 'Dark24')\n",
    "    color_palette = px.colors.qualitative.Light24 # Replace with another palette if needed\n",
    "    num_colors = len(color_palette)\n",
    "\n",
    "    opacity = 1  # Example opacity value (0.0 - 1.0)\n",
    "    node_colors = {}\n",
    "    for i, feature in enumerate(df[\"Features\"].unique()):\n",
    "        hex_color = color_palette[i % num_colors]  # Get the hex color\n",
    "        rgba_color = to_rgba(hex_color, alpha=opacity)  # Convert to RGBA\n",
    "        node_colors[feature] = f\"rgba({int(rgba_color[0]*255)}, {int(rgba_color[1]*255)}, {int(rgba_color[2]*255)}, {rgba_color[3]})\"\n",
    "\n",
    "    # Propagate feature colors to sub-features\n",
    "    for feature in df[\"Features\"].unique():\n",
    "        feature_color = node_colors[feature]\n",
    "        for sub_feature in df[df[\"Features\"] == feature][\"Sub-features\"].unique():\n",
    "            node_colors[sub_feature] = feature_color\n",
    "\n",
    "    # Overwrite colors for 'Passed' and 'Failed'\n",
    "    node_colors[\"Passed\"] = \"rgba(144, 238, 144, 0.8)\"  # Soft green\n",
    "    node_colors[\"Failed\"] = \"rgba(205, 92, 92, 0.8)\"    # Soft red brick\n",
    "\n",
    "    node_colors[\"Android\"] = \"rgba(64, 224, 208, 0.8)\"  # Green turquoise\n",
    "    node_colors[\"iOS\"] = \"rgba(70, 130, 180, 0.8)\"      # Steel blue\n",
    "\n",
    "    # Set default color for unassigned nodes\n",
    "    default_color = \"rgba(200, 200, 200, 0.8)\"\n",
    "    node_color_list = [node_colors.get(node, default_color) for node in nodes]\n",
    "\n",
    "    # Assign link colors based on source node color with transparency\n",
    "    link_colors = []\n",
    "    for source, target in zip(sources, targets):\n",
    "        source_color = node_colors.get(nodes[source], \"rgba(192, 192, 192, 0.3)\")  # Default gray if missing\n",
    "        rgba_values = source_color.strip(\"rgba()\").split(\",\")\n",
    "        if len(rgba_values) == 4:\n",
    "            r, g, b, _ = map(float, rgba_values[:4])\n",
    "            link_colors.append(f\"rgba({int(r)}, {int(g)}, {int(b)}, 0.3)\")  # Reduce opacity for the links\n",
    "        else:\n",
    "            link_colors.append(\"rgba(192, 192, 192, 0.3)\")  # Default gray\n",
    "\n",
    "\n",
    "# Plot Sankey Diagram\n",
    "fig = go.Figure(data=[go.Sankey(\n",
    "    node=dict(\n",
    "        pad=15,\n",
    "        thickness=20,\n",
    "        line=dict(color=\"black\", width=0.5),\n",
    "        label=short_nodes,  # Use short labels here\n",
    "        color=node_color_list,  # Optionally set a default color\n",
    "        customdata=customdata,\n",
    "        hovertemplate=\"%{customdata}<extra></extra>\"\n",
    "    ),\n",
    "    link=dict(\n",
    "        source=sources,\n",
    "        target=targets,\n",
    "        value=values,\n",
    "        color=link_colors\n",
    "    )\n",
    ")])\n",
    "\n",
    "# Update layout and show\n",
    "fig.update_layout(\n",
    "    font_size=12,\n",
    "    width=1000,  # Increase width for a wider graph\n",
    "    height=700,   # Increase height for a taller graph\n",
    "    font=dict(size=14, color='white'),\n",
    "    plot_bgcolor='#1E1E1E',\n",
    "    paper_bgcolor='#1E1E1E',\n",
    "    margin=dict(l=20, r=20, t=20, b=20)\n",
    ")\n",
    "\n",
    "fig.show()\n"
   ]
  },
  {
   "cell_type": "code",
   "execution_count": 134,
   "metadata": {},
   "outputs": [
    {
     "data": {
      "text/plain": [
       "['rgba(253, 50, 22, 0.3)',\n",
       " 'rgba(144, 238, 144, 0.3)',\n",
       " 'rgba(0, 254, 53, 0.3)',\n",
       " 'rgba(144, 238, 144, 0.3)',\n",
       " 'rgba(0, 254, 53, 0.3)',\n",
       " 'rgba(144, 238, 144, 0.3)',\n",
       " 'rgba(106, 118, 252, 0.3)',\n",
       " 'rgba(214, 38, 255, 0.3)',\n",
       " 'rgba(205, 92, 92, 0.3)',\n",
       " 'rgba(106, 118, 252, 0.3)',\n",
       " 'rgba(214, 38, 255, 0.3)',\n",
       " 'rgba(205, 92, 92, 0.3)',\n",
       " 'rgba(254, 212, 196, 0.3)',\n",
       " 'rgba(144, 238, 144, 0.3)',\n",
       " 'rgba(254, 212, 196, 0.3)',\n",
       " 'rgba(144, 238, 144, 0.3)',\n",
       " 'rgba(254, 0, 206, 0.3)',\n",
       " 'rgba(254, 0, 206, 0.3)',\n",
       " 'rgba(205, 92, 92, 0.3)',\n",
       " 'rgba(254, 0, 206, 0.3)',\n",
       " 'rgba(254, 0, 206, 0.3)',\n",
       " 'rgba(205, 92, 92, 0.3)',\n",
       " 'rgba(13, 249, 255, 0.3)',\n",
       " 'rgba(144, 238, 144, 0.3)',\n",
       " 'rgba(13, 249, 255, 0.3)',\n",
       " 'rgba(144, 238, 144, 0.3)',\n",
       " 'rgba(246, 249, 38, 0.3)',\n",
       " 'rgba(255, 150, 22, 0.3)',\n",
       " 'rgba(192, 192, 192, 0.3)',\n",
       " 'rgba(255, 150, 22, 0.3)',\n",
       " 'rgba(144, 238, 144, 0.3)',\n",
       " 'rgba(71, 155, 85, 0.3)',\n",
       " 'rgba(144, 238, 144, 0.3)',\n",
       " 'rgba(71, 155, 85, 0.3)',\n",
       " 'rgba(144, 238, 144, 0.3)',\n",
       " 'rgba(238, 166, 251, 0.3)',\n",
       " 'rgba(214, 38, 255, 0.3)',\n",
       " 'rgba(205, 92, 92, 0.3)',\n",
       " 'rgba(238, 166, 251, 0.3)',\n",
       " 'rgba(214, 38, 255, 0.3)',\n",
       " 'rgba(205, 92, 92, 0.3)',\n",
       " 'rgba(220, 88, 125, 0.3)',\n",
       " 'rgba(144, 238, 144, 0.3)',\n",
       " 'rgba(214, 38, 255, 0.3)',\n",
       " 'rgba(214, 38, 255, 0.3)',\n",
       " 'rgba(192, 192, 192, 0.3)',\n",
       " 'rgba(214, 38, 255, 0.3)',\n",
       " 'rgba(214, 38, 255, 0.3)',\n",
       " 'rgba(192, 192, 192, 0.3)',\n",
       " 'rgba(110, 137, 156, 0.3)',\n",
       " 'rgba(144, 238, 144, 0.3)',\n",
       " 'rgba(110, 137, 156, 0.3)',\n",
       " 'rgba(144, 238, 144, 0.3)',\n",
       " 'rgba(0, 181, 247, 0.3)',\n",
       " 'rgba(144, 238, 144, 0.3)',\n",
       " 'rgba(0, 181, 247, 0.3)',\n",
       " 'rgba(144, 238, 144, 0.3)',\n",
       " 'rgba(182, 142, 0, 0.3)',\n",
       " 'rgba(144, 238, 144, 0.3)',\n",
       " 'rgba(182, 142, 0, 0.3)',\n",
       " 'rgba(144, 238, 144, 0.3)',\n",
       " 'rgba(201, 251, 229, 0.3)',\n",
       " 'rgba(227, 238, 158, 0.3)',\n",
       " 'rgba(192, 192, 192, 0.3)',\n",
       " 'rgba(255, 0, 146, 0.3)',\n",
       " 'rgba(227, 238, 158, 0.3)',\n",
       " 'rgba(192, 192, 192, 0.3)',\n",
       " 'rgba(34, 255, 167, 0.3)',\n",
       " 'rgba(227, 238, 158, 0.3)',\n",
       " 'rgba(192, 192, 192, 0.3)',\n",
       " 'rgba(34, 255, 167, 0.3)',\n",
       " 'rgba(227, 238, 158, 0.3)',\n",
       " 'rgba(192, 192, 192, 0.3)',\n",
       " 'rgba(227, 238, 158, 0.3)',\n",
       " 'rgba(227, 238, 158, 0.3)',\n",
       " 'rgba(192, 192, 192, 0.3)',\n",
       " 'rgba(227, 238, 158, 0.3)',\n",
       " 'rgba(227, 238, 158, 0.3)',\n",
       " 'rgba(192, 192, 192, 0.3)']"
      ]
     },
     "execution_count": 134,
     "metadata": {},
     "output_type": "execute_result"
    }
   ],
   "source": [
    "link_colors"
   ]
  },
  {
   "cell_type": "code",
   "execution_count": 125,
   "metadata": {},
   "outputs": [
    {
     "data": {
      "text/plain": [
       "'18.01'"
      ]
     },
     "execution_count": 125,
     "metadata": {},
     "output_type": "execute_result"
    }
   ],
   "source": [
    "long_nodes[1]"
   ]
  },
  {
   "cell_type": "code",
   "execution_count": 117,
   "metadata": {},
   "outputs": [
    {
     "data": {
      "text/plain": [
       "'PS-495 : RELEASE A - IOS - Tidak bisa klik banner donasi - IIN'"
      ]
     },
     "execution_count": 117,
     "metadata": {},
     "output_type": "execute_result"
    }
   ],
   "source": [
    "df.Features[0]"
   ]
  }
 ],
 "metadata": {
  "kernelspec": {
   "display_name": "data_science",
   "language": "python",
   "name": "python3"
  },
  "language_info": {
   "codemirror_mode": {
    "name": "ipython",
    "version": 3
   },
   "file_extension": ".py",
   "mimetype": "text/x-python",
   "name": "python",
   "nbconvert_exporter": "python",
   "pygments_lexer": "ipython3",
   "version": "3.11.9"
  }
 },
 "nbformat": 4,
 "nbformat_minor": 2
}
